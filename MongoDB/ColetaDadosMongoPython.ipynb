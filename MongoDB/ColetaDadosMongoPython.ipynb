{
 "cells": [
  {
   "cell_type": "markdown",
   "metadata": {},
   "source": [
    "# Aula 3.6. Coleta de dados NoSQL: Exemplo utilizando a linguagem Python"
   ]
  },
  {
   "cell_type": "markdown",
   "metadata": {},
   "source": [
    "## Instalar o pacote MongoDB"
   ]
  },
  {
   "cell_type": "code",
   "execution_count": 1,
   "metadata": {},
   "outputs": [],
   "source": [
    "\n"
   ]
  },
  {
   "cell_type": "code",
   "execution_count": 4,
   "metadata": {},
   "outputs": [
    {
     "name": "stdout",
     "output_type": "stream",
     "text": [
      "Collecting package metadata (repodata.json): ...working... done\n",
      "Solving environment: ...working... done\n",
      "\n",
      "## Package Plan ##\n",
      "\n",
      "  environment location: C:\\ProgramData\\Anaconda3\n",
      "\n",
      "  added / updated specs:\n",
      "    - pymongo\n",
      "\n",
      "\n",
      "The following packages will be downloaded:\n",
      "\n",
      "    package                    |            build\n",
      "    ---------------------------|-----------------\n",
      "    ca-certificates-2020.6.24  |                0         165 KB  anaconda\n",
      "    certifi-2020.6.20          |           py37_0         160 KB  anaconda\n",
      "    conda-4.8.3                |           py37_0         3.0 MB  anaconda\n",
      "    openssl-1.1.1c             |       he774522_1         5.7 MB  anaconda\n",
      "    pymongo-3.8.0              |   py37ha925a31_1         1.1 MB  anaconda\n",
      "    ------------------------------------------------------------\n",
      "                                           Total:        10.2 MB\n",
      "\n",
      "The following NEW packages will be INSTALLED:\n",
      "\n",
      "  pymongo            anaconda/win-64::pymongo-3.8.0-py37ha925a31_1\n",
      "\n",
      "The following packages will be SUPERSEDED by a higher-priority channel:\n",
      "\n",
      "  ca-certificates                                 pkgs/main --> anaconda\n",
      "  certifi                                         pkgs/main --> anaconda\n",
      "  conda                                           pkgs/main --> anaconda\n",
      "  openssl                                         pkgs/main --> anaconda\n",
      "\n",
      "\n",
      "\n",
      "Downloading and Extracting Packages\n",
      "\n",
      "conda-4.8.3          | 3.0 MB    |            |   0% \n",
      "conda-4.8.3          | 3.0 MB    |            |   1% \n",
      "conda-4.8.3          | 3.0 MB    | 7          |   8% \n",
      "conda-4.8.3          | 3.0 MB    | #5         |  16% \n",
      "conda-4.8.3          | 3.0 MB    | ###2       |  32% \n",
      "conda-4.8.3          | 3.0 MB    | #####6     |  57% \n",
      "conda-4.8.3          | 3.0 MB    | ########9  |  89% \n",
      "conda-4.8.3          | 3.0 MB    | ########## | 100% \n",
      "\n",
      "pymongo-3.8.0        | 1.1 MB    |            |   0% \n",
      "pymongo-3.8.0        | 1.1 MB    | 1          |   1% \n",
      "pymongo-3.8.0        | 1.1 MB    | ########## | 100% \n",
      "\n",
      "certifi-2020.6.20    | 160 KB    |            |   0% \n",
      "certifi-2020.6.20    | 160 KB    | #          |  10% \n",
      "certifi-2020.6.20    | 160 KB    | ########## | 100% \n",
      "\n",
      "openssl-1.1.1c       | 5.7 MB    |            |   0% \n",
      "openssl-1.1.1c       | 5.7 MB    |            |   0% \n",
      "openssl-1.1.1c       | 5.7 MB    | #####      |  51% \n",
      "openssl-1.1.1c       | 5.7 MB    | ########8  |  88% \n",
      "openssl-1.1.1c       | 5.7 MB    | ########## | 100% \n",
      "\n",
      "ca-certificates-2020 | 165 KB    |            |   0% \n",
      "ca-certificates-2020 | 165 KB    | 9          |  10% \n",
      "ca-certificates-2020 | 165 KB    | ########## | 100% \n",
      "Preparing transaction: ...working... done\n",
      "Verifying transaction: ...working... done\n",
      "Executing transaction: ...working... done\n",
      "\n",
      "Note: you may need to restart the kernel to use updated packages.\n"
     ]
    }
   ],
   "source": [
    "# Instalando o pacote Mongo\n",
    "\n",
    "# conda install -c anaconda pymongo ...> professora... não funcionou\n",
    "conda install -c anaconda pymongo"
   ]
  },
  {
   "cell_type": "code",
   "execution_count": 2,
   "metadata": {},
   "outputs": [
    {
     "name": "stdout",
     "output_type": "stream",
     "text": [
      "Importado!\n"
     ]
    }
   ],
   "source": [
    "# Importando o pymongo\n",
    "\n",
    "import pymongo\n",
    "print('Importado!')"
   ]
  },
  {
   "cell_type": "code",
   "execution_count": 4,
   "metadata": {},
   "outputs": [
    {
     "name": "stdout",
     "output_type": "stream",
     "text": [
      "Conectado!\n"
     ]
    }
   ],
   "source": [
    "# conexão ao bd\n",
    "\n",
    "con = pymongo.MongoClient('localhost',27017)\n",
    "print('Conectado!')"
   ]
  },
  {
   "cell_type": "code",
   "execution_count": 5,
   "metadata": {},
   "outputs": [
    {
     "data": {
      "text/plain": [
       "['IGTI', 'admin', 'config', 'local']"
      ]
     },
     "execution_count": 5,
     "metadata": {},
     "output_type": "execute_result"
    }
   ],
   "source": [
    "# Listar os BDs do Mongo\n",
    "con.list_database_names()"
   ]
  },
  {
   "cell_type": "code",
   "execution_count": 6,
   "metadata": {},
   "outputs": [
    {
     "name": "stdout",
     "output_type": "stream",
     "text": [
      "IGTI selecionado!\n"
     ]
    }
   ],
   "source": [
    "# Seleciona o BD\n",
    "\n",
    "db = con.IGTI\n",
    "print('IGTI selecionado!')"
   ]
  },
  {
   "cell_type": "code",
   "execution_count": 14,
   "metadata": {},
   "outputs": [
    {
     "data": {
      "text/plain": [
       "Database(MongoClient(host=['localhost:27017'], document_class=dict, tz_aware=False, connect=True), 'IGTI')"
      ]
     },
     "execution_count": 14,
     "metadata": {},
     "output_type": "execute_result"
    }
   ],
   "source": [
    "# Confirmando...\n",
    "\n",
    "db"
   ]
  },
  {
   "cell_type": "code",
   "execution_count": 7,
   "metadata": {},
   "outputs": [
    {
     "data": {
      "text/plain": [
       "['Iriscsv',\n",
       " 'IrisNum',\n",
       " 'IrisDump',\n",
       " 'CaracteristicasGerais',\n",
       " 'Pessoas',\n",
       " 'Estados',\n",
       " 'Cidades']"
      ]
     },
     "execution_count": 7,
     "metadata": {},
     "output_type": "execute_result"
    }
   ],
   "source": [
    "# Listar as coleções\n",
    "db.list_collection_names()"
   ]
  },
  {
   "cell_type": "code",
   "execution_count": 9,
   "metadata": {},
   "outputs": [
    {
     "name": "stdout",
     "output_type": "stream",
     "text": [
      "Coleção selecionada!\n"
     ]
    }
   ],
   "source": [
    "# Seleciona a coleção\n",
    "\n",
    "collection = db.Pessoas\n",
    "print('Coleção selecionada!')"
   ]
  },
  {
   "cell_type": "code",
   "execution_count": 10,
   "metadata": {},
   "outputs": [
    {
     "data": {
      "text/plain": [
       "{'_id': ObjectId('5f234ff99f5e00007100642c'), 'nome': 'Maria'}"
      ]
     },
     "execution_count": 10,
     "metadata": {},
     "output_type": "execute_result"
    }
   ],
   "source": [
    "# Seleciona a primeiro elemento da coleção\n",
    "\n",
    "collection.find_one()"
   ]
  },
  {
   "cell_type": "code",
   "execution_count": 21,
   "metadata": {},
   "outputs": [
    {
     "name": "stdout",
     "output_type": "stream",
     "text": [
      "{'_id': ObjectId('5f2355199f5e000071006433'), 'nome': 'Eduardo', 'idade': 55, 'sexo': 'mas', 'armas': 9}\n"
     ]
    }
   ],
   "source": [
    "# Seleciona o primeiro elemento que atenda a condição\n",
    "\n",
    "print(collection.find_one({\"nome\":\"Eduardo\"}))"
   ]
  },
  {
   "cell_type": "code",
   "execution_count": 23,
   "metadata": {},
   "outputs": [
    {
     "name": "stdout",
     "output_type": "stream",
     "text": [
      "{'_id': ObjectId('5f2355199f5e000071006433'), 'nome': 'Eduardo', 'idade': 55, 'sexo': 'mas', 'armas': 9}\n"
     ]
    }
   ],
   "source": [
    "# edu...... Interessante\n",
    "\n",
    "for valor in (collection.find({\"nome\":\"Eduardo\"})):\n",
    "    print(valor)\n"
   ]
  },
  {
   "cell_type": "code",
   "execution_count": 24,
   "metadata": {},
   "outputs": [
    {
     "name": "stdout",
     "output_type": "stream",
     "text": [
      "{'_id': ObjectId('5f2354ce9f5e000071006431'), 'nome': 'Iolanda', 'sexo': 'mas'}\n",
      "{'_id': ObjectId('5f2355199f5e000071006433'), 'nome': 'Eduardo', 'idade': 55, 'sexo': 'mas', 'armas': 9}\n",
      "{'_id': ObjectId('5f2355199f5e000071006434'), 'nome': 'Fernanda', 'sexo': 'mas', 'filhos': 2, 'saude': 'Covid'}\n"
     ]
    }
   ],
   "source": [
    "# edu...... Interessante\n",
    "\n",
    "for valor in (collection.find({\"sexo\":\"mas\"})):\n",
    "    print(valor)"
   ]
  },
  {
   "cell_type": "code",
   "execution_count": null,
   "metadata": {},
   "outputs": [],
   "source": []
  },
  {
   "cell_type": "markdown",
   "metadata": {},
   "source": [
    "### Importação de outro pacote para impressão"
   ]
  },
  {
   "cell_type": "code",
   "execution_count": 25,
   "metadata": {},
   "outputs": [
    {
     "name": "stdout",
     "output_type": "stream",
     "text": [
      "pprint importado!\n"
     ]
    }
   ],
   "source": [
    "# Importação do pprint\n",
    "\n",
    "import pprint\n",
    "print('pprint importado!')"
   ]
  },
  {
   "cell_type": "code",
   "execution_count": 26,
   "metadata": {},
   "outputs": [
    {
     "name": "stdout",
     "output_type": "stream",
     "text": [
      "{'_id': ObjectId('5f2355199f5e000071006433'),\n",
      " 'armas': 9,\n",
      " 'idade': 55,\n",
      " 'nome': 'Eduardo',\n",
      " 'sexo': 'mas'}\n"
     ]
    }
   ],
   "source": [
    "# usando o pprint\n",
    "pprint.pprint(collection.find_one({\"nome\":\"Eduardo\"}))"
   ]
  },
  {
   "cell_type": "code",
   "execution_count": 32,
   "metadata": {},
   "outputs": [
    {
     "name": "stdout",
     "output_type": "stream",
     "text": [
      "{'_id': ObjectId('5f2354ce9f5e000071006431'), 'nome': 'Iolanda', 'sexo': 'mas'}\n"
     ]
    }
   ],
   "source": [
    "# usando o pprint para pegar o PRIMEIRO documento que atenda a CONDIÇÃO\n",
    "pprint.pprint(collection.find_one({\"sexo\":\"mas\"}))"
   ]
  },
  {
   "cell_type": "code",
   "execution_count": 31,
   "metadata": {},
   "outputs": [
    {
     "name": "stdout",
     "output_type": "stream",
     "text": [
      "{'_id': ObjectId('5f2355199f5e000071006434'),\n",
      " 'filhos': 2,\n",
      " 'nome': 'Fernanda',\n",
      " 'saude': 'Covid',\n",
      " 'sexo': 'mas'}\n"
     ]
    }
   ],
   "source": [
    "# usando o pprint para pegar o PRIMEIRO documento que atenda a CONDIÇÃO\n",
    "pprint.pprint(collection.find_one({\"nome\":\"Fernanda\"}))"
   ]
  },
  {
   "cell_type": "code",
   "execution_count": null,
   "metadata": {},
   "outputs": [],
   "source": []
  },
  {
   "cell_type": "code",
   "execution_count": 35,
   "metadata": {},
   "outputs": [
    {
     "name": "stdout",
     "output_type": "stream",
     "text": [
      "{'_id': ObjectId('5f2354ce9f5e000071006431'), 'nome': 'Iolanda', 'sexo': 'mas'}\n",
      "{'_id': ObjectId('5f2355199f5e000071006433'),\n",
      " 'armas': 9,\n",
      " 'idade': 55,\n",
      " 'nome': 'Eduardo',\n",
      " 'sexo': 'mas'}\n",
      "{'_id': ObjectId('5f2355199f5e000071006434'),\n",
      " 'filhos': 2,\n",
      " 'nome': 'Fernanda',\n",
      " 'saude': 'Covid',\n",
      " 'sexo': 'mas'}\n"
     ]
    }
   ],
   "source": [
    "# professora, usando o PPRINT\n",
    "\n",
    "for valor in (collection.find({\"sexo\":\"mas\"})):\n",
    "    pprint.pprint(valor)\n"
   ]
  },
  {
   "cell_type": "code",
   "execution_count": 39,
   "metadata": {},
   "outputs": [
    {
     "name": "stdout",
     "output_type": "stream",
     "text": [
      "{'_id': ObjectId('5f2354ce9f5e000071006431'), 'nome': 'Iolanda', 'sexo': 'mas'}\n",
      "{'_id': ObjectId('5f2355199f5e000071006433'), 'nome': 'Eduardo', 'idade': 55, 'sexo': 'mas', 'armas': 9}\n",
      "{'_id': ObjectId('5f2355199f5e000071006434'), 'nome': 'Fernanda', 'sexo': 'mas', 'filhos': 2, 'saude': 'Covid'}\n"
     ]
    }
   ],
   "source": [
    "# edu...... usando PRINT comum\n",
    "\n",
    "for valor in (collection.find({\"sexo\":\"mas\"})):\n",
    "    print(valor)"
   ]
  },
  {
   "cell_type": "code",
   "execution_count": 41,
   "metadata": {},
   "outputs": [
    {
     "data": {
      "text/plain": [
       "['Iriscsv',\n",
       " 'IrisNum',\n",
       " 'IrisDump',\n",
       " 'CaracteristicasGerais',\n",
       " 'Pessoas',\n",
       " 'Estados',\n",
       " 'Cidades']"
      ]
     },
     "execution_count": 41,
     "metadata": {},
     "output_type": "execute_result"
    }
   ],
   "source": [
    "# Listar as coleções\n",
    "\n",
    "db.list_collection_names()"
   ]
  },
  {
   "cell_type": "markdown",
   "metadata": {},
   "source": [
    "### CRIAR BANDO DE DADOS"
   ]
  },
  {
   "cell_type": "code",
   "execution_count": 77,
   "metadata": {},
   "outputs": [
    {
     "name": "stdout",
     "output_type": "stream",
     "text": [
      "Conectado!\n"
     ]
    }
   ],
   "source": [
    "# Criando a conexão\n",
    "\n",
    "#con = pymongo.MongoClient('localhost',27017)\n",
    "con = pymongo.MongoClient(\"mongodb://localhost:27017\")\n",
    "\n",
    "print('Conectado!')"
   ]
  },
  {
   "cell_type": "code",
   "execution_count": 78,
   "metadata": {},
   "outputs": [],
   "source": [
    "# CRIA A BASE VENDAS DENTRO DO MONGODB - ATENÇÃO: O MONGODB SÓ CRIARÁ A BASE APÓS O PRIMEIRO DOCUMENTO\n",
    "\n",
    "db = con['Vendas']"
   ]
  },
  {
   "cell_type": "code",
   "execution_count": 79,
   "metadata": {},
   "outputs": [
    {
     "data": {
      "text/plain": [
       "['IGTI', 'admin', 'config', 'local']"
      ]
     },
     "execution_count": 79,
     "metadata": {},
     "output_type": "execute_result"
    }
   ],
   "source": [
    "# lISTA TODAS AS BASES - ATENÇÃO: O MONGODB SÓ CRIARÁ A BASE APÓS O PRIMEIRO DOCUMENTO\n",
    "con.list_database_names() "
   ]
  },
  {
   "cell_type": "code",
   "execution_count": 80,
   "metadata": {},
   "outputs": [],
   "source": [
    "# CRIA A COLEÇÃO CLIENTES, DENTRO DA BASE VENDAS - ATENÇÃO: O MONGODB SÓ CRIARÁ A COLEÇÃO APÓS O PRIMEIRO DOCUMENTO\n",
    "colecao = db['clientes']"
   ]
  },
  {
   "cell_type": "code",
   "execution_count": 81,
   "metadata": {},
   "outputs": [
    {
     "data": {
      "text/plain": [
       "[]"
      ]
     },
     "execution_count": 81,
     "metadata": {},
     "output_type": "execute_result"
    }
   ],
   "source": [
    "# VERIFICANDO SE ELE CRIOU A COLEÇÃO - ATENÇÃO: O MONGODB SÓ CRIARÁ A COLEÇÃO APÓS O PRIMEIRO DOCUMENTO\n",
    "db.list_collection_names()"
   ]
  },
  {
   "cell_type": "code",
   "execution_count": 82,
   "metadata": {},
   "outputs": [],
   "source": [
    "# CRIANDO O PRIMEIRO DOCUMENTO\n",
    "\n",
    "documento = {\"nome\":\"Paloma\",\"idade\":27}\n",
    "resultado = colecao.insert_one(documento)"
   ]
  },
  {
   "cell_type": "code",
   "execution_count": 83,
   "metadata": {},
   "outputs": [
    {
     "name": "stdout",
     "output_type": "stream",
     "text": [
      "<pymongo.results.InsertOneResult object at 0x000001C40B8EA7C8>\n"
     ]
    }
   ],
   "source": [
    "# IMPRIMINDO O RESULTADO DO INSERT\n",
    "\n",
    "print(resultado)"
   ]
  },
  {
   "cell_type": "code",
   "execution_count": 84,
   "metadata": {},
   "outputs": [
    {
     "data": {
      "text/plain": [
       "['IGTI', 'Vendas', 'admin', 'config', 'local']"
      ]
     },
     "execution_count": 84,
     "metadata": {},
     "output_type": "execute_result"
    }
   ],
   "source": [
    "# VERIFICANDO SE A BASE FOI FINALMENTE CRIADA\n",
    "\n",
    "con.list_database_names()"
   ]
  },
  {
   "cell_type": "code",
   "execution_count": 85,
   "metadata": {},
   "outputs": [
    {
     "data": {
      "text/plain": [
       "['clientes']"
      ]
     },
     "execution_count": 85,
     "metadata": {},
     "output_type": "execute_result"
    }
   ],
   "source": [
    "# VERIFICANDO SE A COLEÇÃO FOI FINALMENTE CRIADA\n",
    "\n",
    "db.list_collection_names()"
   ]
  },
  {
   "cell_type": "code",
   "execution_count": 86,
   "metadata": {},
   "outputs": [
    {
     "name": "stdout",
     "output_type": "stream",
     "text": [
      "{'_id': ObjectId('5f248ba255fd0c33d0b81599'), 'nome': 'Paloma', 'idade': 27}\n"
     ]
    }
   ],
   "source": [
    " # IMPRIMINDO O PRIMEIRO DOCUMENTO DA COLEÇÃO\n",
    "\n",
    "print(colecao.find_one())"
   ]
  },
  {
   "cell_type": "code",
   "execution_count": 87,
   "metadata": {},
   "outputs": [],
   "source": [
    "# Preparando mais dados para serem incluidos em CLIENTES\n",
    "documento = [\n",
    "    {\"nome\":\"Matheus\",\"idade\":20, \"bairro\":'Vila Kosmos',\"sexo\":\"mas\"},\n",
    "    {\"nome\":\"Vitor\",\"idade\":25,\"time\":\"Flamengo\"},\n",
    "    {\"nome\":\"Teo\",\"sexo\":\"mas\"},\n",
    "    {\"nome\":\"Ines\",\"idade\":127,\"bairro\":\"Vila Kosmos\"},\n",
    "    {\"nome\":\"Jessica\",\"idade\":32,\"time\":\"Flamengo\"},\n",
    "    {\"nome\":\"Mary\",\"time\":\"Vasco\"}\n",
    "]"
   ]
  },
  {
   "cell_type": "code",
   "execution_count": 89,
   "metadata": {},
   "outputs": [
    {
     "name": "stdout",
     "output_type": "stream",
     "text": [
      "[{'bairro': 'Vila Kosmos', 'idade': 20, 'nome': 'Matheus', 'sexo': 'mas'},\n",
      " {'idade': 25, 'nome': 'Vitor', 'time': 'Flamengo'},\n",
      " {'nome': 'Teo', 'sexo': 'mas'},\n",
      " {'bairro': 'Vila Kosmos', 'idade': 127, 'nome': 'Ines'},\n",
      " {'idade': 32, 'nome': 'Jessica', 'time': 'Flamengo'},\n",
      " {'nome': 'Mary', 'time': 'Vasco'}]\n"
     ]
    }
   ],
   "source": [
    "pprint.pprint(documento)"
   ]
  },
  {
   "cell_type": "code",
   "execution_count": 90,
   "metadata": {},
   "outputs": [
    {
     "name": "stdout",
     "output_type": "stream",
     "text": [
      "<pymongo.results.InsertManyResult object at 0x000001C40B7F8848>\n"
     ]
    }
   ],
   "source": [
    "# Inserir documento na coleção CLIENTES\n",
    "\n",
    "resultado = colecao.insert_many(documento)\n",
    "print(resultado)"
   ]
  },
  {
   "cell_type": "code",
   "execution_count": 91,
   "metadata": {},
   "outputs": [
    {
     "name": "stdout",
     "output_type": "stream",
     "text": [
      "{'_id': ObjectId('5f248ba255fd0c33d0b81599'), 'idade': 27, 'nome': 'Paloma'}\n",
      "{'_id': ObjectId('5f248d9f55fd0c33d0b8159a'),\n",
      " 'bairro': 'Vila Kosmos',\n",
      " 'idade': 20,\n",
      " 'nome': 'Matheus',\n",
      " 'sexo': 'mas'}\n",
      "{'_id': ObjectId('5f248d9f55fd0c33d0b8159b'),\n",
      " 'idade': 25,\n",
      " 'nome': 'Vitor',\n",
      " 'time': 'Flamengo'}\n",
      "{'_id': ObjectId('5f248d9f55fd0c33d0b8159c'), 'nome': 'Teo', 'sexo': 'mas'}\n",
      "{'_id': ObjectId('5f248d9f55fd0c33d0b8159d'),\n",
      " 'bairro': 'Vila Kosmos',\n",
      " 'idade': 127,\n",
      " 'nome': 'Ines'}\n",
      "{'_id': ObjectId('5f248d9f55fd0c33d0b8159e'),\n",
      " 'idade': 32,\n",
      " 'nome': 'Jessica',\n",
      " 'time': 'Flamengo'}\n",
      "{'_id': ObjectId('5f248d9f55fd0c33d0b8159f'), 'nome': 'Mary', 'time': 'Vasco'}\n"
     ]
    }
   ],
   "source": [
    "# selecionar os documentos que atendam a condição\n",
    "\n",
    "for resultado in colecao.find():\n",
    "    pprint.pprint(resultado)"
   ]
  },
  {
   "cell_type": "code",
   "execution_count": 95,
   "metadata": {},
   "outputs": [
    {
     "name": "stdout",
     "output_type": "stream",
     "text": [
      "{'_id': ObjectId('5f248ba255fd0c33d0b81599'), 'idade': 27, 'nome': 'Paloma'}\n",
      "{'_id': ObjectId('5f248d9f55fd0c33d0b8159a'),\n",
      " 'bairro': 'Vila Kosmos',\n",
      " 'idade': 20,\n",
      " 'nome': 'Matheus',\n",
      " 'sexo': 'mas'}\n",
      "{'_id': ObjectId('5f248d9f55fd0c33d0b8159b'),\n",
      " 'idade': 25,\n",
      " 'nome': 'Vitor',\n",
      " 'time': 'Flamengo'}\n",
      "{'_id': ObjectId('5f248d9f55fd0c33d0b8159c'),\n",
      " 'bairro': 'Vila Kosmos',\n",
      " 'nome': 'Teo',\n",
      " 'sexo': 'fem'}\n",
      "{'_id': ObjectId('5f248d9f55fd0c33d0b8159d'),\n",
      " 'bairro': 'Vila Kosmos',\n",
      " 'idade': 127,\n",
      " 'nome': 'Ines'}\n",
      "{'_id': ObjectId('5f248d9f55fd0c33d0b8159e'),\n",
      " 'idade': 32,\n",
      " 'nome': 'Jessica',\n",
      " 'time': 'Flamengo'}\n",
      "{'_id': ObjectId('5f248d9f55fd0c33d0b8159f'), 'nome': 'Mary', 'time': 'Vasco'}\n"
     ]
    }
   ],
   "source": [
    "# FAZENDO UM UPDATE...\n",
    "\n",
    "condicao = {\"nome\":\"Teo\"}\n",
    "valor = {\"$set\":{\"sexo\": \"fem\", \"bairro\": \"Vila Kosmos\"}}\n",
    "\n",
    "colecao.update_one(condicao,valor)\n",
    "\n",
    "for resultado in colecao.find():\n",
    "    pprint.pprint(resultado)"
   ]
  },
  {
   "cell_type": "code",
   "execution_count": 94,
   "metadata": {},
   "outputs": [
    {
     "name": "stdout",
     "output_type": "stream",
     "text": [
      "{'_id': ObjectId('5f248d9f55fd0c33d0b8159c'),\n",
      " 'bairro': 'Vila Kosmos',\n",
      " 'nome': 'Teo',\n",
      " 'sexo': 'fem'}\n"
     ]
    }
   ],
   "source": [
    "# IMPRIMINDO APENAS UM NOME\n",
    "\n",
    "for resultado in colecao.find({\"nome\":\"Teo\"}):\n",
    "    pprint.pprint(resultado)"
   ]
  },
  {
   "cell_type": "code",
   "execution_count": 96,
   "metadata": {},
   "outputs": [
    {
     "name": "stdout",
     "output_type": "stream",
     "text": [
      "{'_id': ObjectId('5f248d9f55fd0c33d0b8159a'),\n",
      " 'bairro': 'Vila Kosmos',\n",
      " 'idade': 20,\n",
      " 'nome': 'Matheus',\n",
      " 'sexo': 'mas'}\n",
      "{'_id': ObjectId('5f248d9f55fd0c33d0b8159c'),\n",
      " 'bairro': 'Vila Kosmos',\n",
      " 'nome': 'Teo',\n",
      " 'sexo': 'fem'}\n",
      "{'_id': ObjectId('5f248d9f55fd0c33d0b8159d'),\n",
      " 'bairro': 'Vila Kosmos',\n",
      " 'idade': 127,\n",
      " 'nome': 'Ines'}\n"
     ]
    }
   ],
   "source": [
    "# edu... IMPRIMINDO APENAS O BAIRRO VILA KOSMOS\n",
    "\n",
    "for resultado in colecao.find({\"bairro\":\"Vila Kosmos\"}):\n",
    "    pprint.pprint(resultado)"
   ]
  },
  {
   "cell_type": "code",
   "execution_count": 101,
   "metadata": {},
   "outputs": [
    {
     "name": "stdout",
     "output_type": "stream",
     "text": [
      "{'_id': ObjectId('5f248d9f55fd0c33d0b8159a'),\n",
      " 'bairro': 'Vila Kosmos',\n",
      " 'distrito': 'Vila da Penha',\n",
      " 'idade': 20,\n",
      " 'nome': 'Matheus',\n",
      " 'sexo': 'mas'}\n",
      "{'_id': ObjectId('5f248d9f55fd0c33d0b8159c'),\n",
      " 'bairro': 'Vila Kosmos',\n",
      " 'distrito': 'Vila da Penha',\n",
      " 'nome': 'Teo',\n",
      " 'sexo': 'fem'}\n",
      "{'_id': ObjectId('5f248d9f55fd0c33d0b8159d'),\n",
      " 'bairro': 'Vila Kosmos',\n",
      " 'distrito': 'Vila da Penha',\n",
      " 'idade': 127,\n",
      " 'nome': 'Ines'}\n"
     ]
    }
   ],
   "source": [
    "# FAZENDO UM UPDATE PARA MUITOS\n",
    "\n",
    "condicao = {\"bairro\":\"Vila Kosmos\"}\n",
    "valor = {\"$set\":{\"distrito\": \"Vila da Penha\"}}\n",
    "\n",
    "colecao.update_many(condicao,valor)\n",
    "\n",
    "for resultado in colecao.find({\"bairro\":\"Vila Kosmos\"}):\n",
    "    pprint.pprint(resultado)"
   ]
  },
  {
   "cell_type": "code",
   "execution_count": 102,
   "metadata": {},
   "outputs": [
    {
     "name": "stdout",
     "output_type": "stream",
     "text": [
      "{'_id': ObjectId('5f248d9f55fd0c33d0b8159c'),\n",
      " 'bairro': 'Vila Kosmos',\n",
      " 'distrito': 'Vila da Penha',\n",
      " 'nome': 'Teo',\n",
      " 'sexo': 'fem'}\n",
      "{'_id': ObjectId('5f248d9f55fd0c33d0b8159d'),\n",
      " 'bairro': 'Vila Kosmos',\n",
      " 'distrito': 'Vila da Penha',\n",
      " 'idade': 127,\n",
      " 'nome': 'Ines'}\n"
     ]
    }
   ],
   "source": [
    "# DELETAR UM ELEMENTO - primeiro VILA KOSMOS que aparece no arquivo...\n",
    "\n",
    "# FAZENDO UM UPDATE PARA MUITOS\n",
    "\n",
    "condicao = {\"bairro\":\"Vila Kosmos\"}\n",
    "colecao.delete_one(condicao)\n",
    "\n",
    "for resultado in colecao.find({\"bairro\":\"Vila Kosmos\"}):  # verificando após update\n",
    "    pprint.pprint(resultado)"
   ]
  },
  {
   "cell_type": "code",
   "execution_count": 105,
   "metadata": {},
   "outputs": [
    {
     "name": "stdout",
     "output_type": "stream",
     "text": [
      "{'_id': ObjectId('5f248ba255fd0c33d0b81599'), 'idade': 27, 'nome': 'Paloma'}\n",
      "{'_id': ObjectId('5f248d9f55fd0c33d0b8159b'),\n",
      " 'idade': 25,\n",
      " 'nome': 'Vitor',\n",
      " 'time': 'Flamengo'}\n",
      "{'_id': ObjectId('5f248d9f55fd0c33d0b8159e'),\n",
      " 'idade': 32,\n",
      " 'nome': 'Jessica',\n",
      " 'time': 'Flamengo'}\n",
      "{'_id': ObjectId('5f248d9f55fd0c33d0b8159f'), 'nome': 'Mary', 'time': 'Vasco'}\n"
     ]
    }
   ],
   "source": [
    "# DELETAR TODOS OS ELEMENTOS BAIRRO: VILA KOSMOS \n",
    "\n",
    "# FAZENDO UM UPDATE PARA MUITOS\n",
    "\n",
    "condicao = {\"bairro\":\"Vila Kosmos\"}\n",
    "colecao.delete_many(condicao)\n",
    "\n",
    "for resultado in colecao.find(): #verificando após deletar\n",
    "    pprint.pprint(resultado)"
   ]
  },
  {
   "cell_type": "code",
   "execution_count": null,
   "metadata": {},
   "outputs": [],
   "source": []
  },
  {
   "cell_type": "code",
   "execution_count": null,
   "metadata": {},
   "outputs": [],
   "source": []
  },
  {
   "cell_type": "code",
   "execution_count": null,
   "metadata": {},
   "outputs": [],
   "source": []
  },
  {
   "cell_type": "code",
   "execution_count": null,
   "metadata": {},
   "outputs": [],
   "source": []
  }
 ],
 "metadata": {
  "kernelspec": {
   "display_name": "Python 3",
   "language": "python",
   "name": "python3"
  },
  "language_info": {
   "codemirror_mode": {
    "name": "ipython",
    "version": 3
   },
   "file_extension": ".py",
   "mimetype": "text/x-python",
   "name": "python",
   "nbconvert_exporter": "python",
   "pygments_lexer": "ipython3",
   "version": "3.8.5"
  }
 },
 "nbformat": 4,
 "nbformat_minor": 4
}
