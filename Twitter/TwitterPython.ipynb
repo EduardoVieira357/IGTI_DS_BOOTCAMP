{
 "cells": [
  {
   "cell_type": "markdown",
   "metadata": {},
   "source": [
    "# Aula 4.4. Coleta de dados no Twitter: Exemplo utilizando a linguagem Python"
   ]
  },
  {
   "cell_type": "markdown",
   "metadata": {},
   "source": [
    "## INSTALANDO O TWEEPY"
   ]
  },
  {
   "cell_type": "code",
   "execution_count": 4,
   "metadata": {},
   "outputs": [
    {
     "name": "stdout",
     "output_type": "stream",
     "text": [
      "Collecting package metadata (repodata.json): ...working... done\n",
      "Solving environment: ...working... done\n",
      "\n",
      "## Package Plan ##\n",
      "\n",
      "  environment location: C:\\ProgramData\\Anaconda3\n",
      "\n",
      "  added / updated specs:\n",
      "    - tweepy\n",
      "\n",
      "\n",
      "The following packages will be downloaded:\n",
      "\n",
      "    package                    |            build\n",
      "    ---------------------------|-----------------\n",
      "    blinker-1.4                |             py_1          13 KB  conda-forge\n",
      "    ca-certificates-2020.6.20  |       hecda079_0         184 KB  conda-forge\n",
      "    certifi-2020.6.20          |   py37hc8dfbb8_0         151 KB  conda-forge\n",
      "    oauthlib-3.0.1             |             py_0          82 KB  conda-forge\n",
      "    openssl-1.1.1f             |       hfa6e2cd_0         4.7 MB  conda-forge\n",
      "    pyjwt-1.7.1                |             py_0          17 KB  conda-forge\n",
      "    requests-oauthlib-1.3.0    |     pyh9f0ad1d_0          21 KB  conda-forge\n",
      "    tweepy-3.9.0               |     pyh9f0ad1d_0          28 KB  conda-forge\n",
      "    ------------------------------------------------------------\n",
      "                                           Total:         5.2 MB\n",
      "\n",
      "The following NEW packages will be INSTALLED:\n",
      "\n",
      "  blinker            conda-forge/noarch::blinker-1.4-py_1\n",
      "  oauthlib           conda-forge/noarch::oauthlib-3.0.1-py_0\n",
      "  pyjwt              conda-forge/noarch::pyjwt-1.7.1-py_0\n",
      "  python_abi         conda-forge/win-64::python_abi-3.7-1_cp37m\n",
      "  requests-oauthlib  conda-forge/noarch::requests-oauthlib-1.3.0-pyh9f0ad1d_0\n",
      "  tweepy             conda-forge/noarch::tweepy-3.9.0-pyh9f0ad1d_0\n",
      "\n",
      "The following packages will be UPDATED:\n",
      "\n",
      "  conda                        anaconda::conda-4.8.3-py37_0 --> conda-forge::conda-4.8.3-py37hc8dfbb8_1\n",
      "  openssl               anaconda::openssl-1.1.1c-he774522_1 --> conda-forge::openssl-1.1.1f-hfa6e2cd_0\n",
      "\n",
      "The following packages will be SUPERSEDED by a higher-priority channel:\n",
      "\n",
      "  ca-certificates     anaconda::ca-certificates-2020.6.24-0 --> conda-forge::ca-certificates-2020.6.20-hecda079_0\n",
      "  certifi                anaconda::certifi-2020.6.20-py37_0 --> conda-forge::certifi-2020.6.20-py37hc8dfbb8_0\n",
      "\n",
      "\n",
      "\n",
      "Downloading and Extracting Packages\n",
      "\n",
      "tweepy-3.9.0         | 28 KB     |            |   0% \n",
      "tweepy-3.9.0         | 28 KB     | #####7     |  58% \n",
      "tweepy-3.9.0         | 28 KB     | ########## | 100% \n",
      "\n",
      "ca-certificates-2020 | 184 KB    |            |   0% \n",
      "ca-certificates-2020 | 184 KB    | 8          |   9% \n",
      "ca-certificates-2020 | 184 KB    | ########## | 100% \n",
      "\n",
      "blinker-1.4          | 13 KB     |            |   0% \n",
      "blinker-1.4          | 13 KB     | ########## | 100% \n",
      "\n",
      "oauthlib-3.0.1       | 82 KB     |            |   0% \n",
      "oauthlib-3.0.1       | 82 KB     | #9         |  19% \n",
      "oauthlib-3.0.1       | 82 KB     | ########## | 100% \n",
      "\n",
      "pyjwt-1.7.1          | 17 KB     |            |   0% \n",
      "pyjwt-1.7.1          | 17 KB     | #########1 |  92% \n",
      "pyjwt-1.7.1          | 17 KB     | ########## | 100% \n",
      "\n",
      "requests-oauthlib-1. | 21 KB     |            |   0% \n",
      "requests-oauthlib-1. | 21 KB     | #######6   |  77% \n",
      "requests-oauthlib-1. | 21 KB     | ########## | 100% \n",
      "\n",
      "certifi-2020.6.20    | 151 KB    |            |   0% \n",
      "certifi-2020.6.20    | 151 KB    | #          |  11% \n",
      "certifi-2020.6.20    | 151 KB    | ########## | 100% \n",
      "\n",
      "openssl-1.1.1f       | 4.7 MB    |            |   0% \n",
      "openssl-1.1.1f       | 4.7 MB    |            |   0% \n",
      "openssl-1.1.1f       | 4.7 MB    | 4          |   5% \n",
      "openssl-1.1.1f       | 4.7 MB    | #          |  10% \n",
      "openssl-1.1.1f       | 4.7 MB    | ##1        |  21% \n",
      "openssl-1.1.1f       | 4.7 MB    | ###4       |  34% \n",
      "openssl-1.1.1f       | 4.7 MB    | #####1     |  51% \n",
      "openssl-1.1.1f       | 4.7 MB    | #######7   |  78% \n",
      "openssl-1.1.1f       | 4.7 MB    | ########## | 100% \n",
      "Preparing transaction: ...working... done\n",
      "Verifying transaction: ...working... done\n",
      "Executing transaction: ...working... done\n",
      "\n",
      "Note: you may need to restart the kernel to use updated packages.\n"
     ]
    }
   ],
   "source": [
    "# Install Tweepy\n",
    "\n",
    "#conda install -c conda-forge tweepy"
   ]
  },
  {
   "cell_type": "markdown",
   "metadata": {},
   "source": [
    "## INSTALANDO O TEXTBLOB"
   ]
  },
  {
   "cell_type": "code",
   "execution_count": 12,
   "metadata": {},
   "outputs": [
    {
     "name": "stdout",
     "output_type": "stream",
     "text": [
      "Collecting package metadata (repodata.json): ...working... done\n",
      "Solving environment: ...working... done\n",
      "\n",
      "## Package Plan ##\n",
      "\n",
      "  environment location: C:\\ProgramData\\Anaconda3\n",
      "\n",
      "  added / updated specs:\n",
      "    - textblob\n",
      "\n",
      "\n",
      "The following packages will be downloaded:\n",
      "\n",
      "    package                    |            build\n",
      "    ---------------------------|-----------------\n",
      "    textblob-0.15.3            |             py_0         595 KB  conda-forge\n",
      "    ------------------------------------------------------------\n",
      "                                           Total:         595 KB\n",
      "\n",
      "The following NEW packages will be INSTALLED:\n",
      "\n",
      "  textblob           conda-forge/noarch::textblob-0.15.3-py_0\n",
      "\n",
      "\n",
      "\n",
      "Downloading and Extracting Packages\n",
      "\n",
      "textblob-0.15.3      | 595 KB    |            |   0% \n",
      "textblob-0.15.3      | 595 KB    | 2          |   3% \n",
      "textblob-0.15.3      | 595 KB    | ####       |  40% \n",
      "textblob-0.15.3      | 595 KB    | ########3  |  83% \n",
      "textblob-0.15.3      | 595 KB    | ########## | 100% \n",
      "Preparing transaction: ...working... done\n",
      "Verifying transaction: ...working... done\n",
      "Executing transaction: ...working... done\n",
      "\n",
      "Note: you may need to restart the kernel to use updated packages.\n"
     ]
    }
   ],
   "source": [
    "# INSTALL TEXTBLOB\n",
    "\n",
    "#conda install -c conda-forge textblob"
   ]
  },
  {
   "cell_type": "markdown",
   "metadata": {},
   "source": [
    "## IMPORTANDO AS BIBLIOTECAS "
   ]
  },
  {
   "cell_type": "code",
   "execution_count": 32,
   "metadata": {},
   "outputs": [
    {
     "name": "stdout",
     "output_type": "stream",
     "text": [
      "Bibliotecas importadas!\n"
     ]
    }
   ],
   "source": [
    "# import\n",
    "\n",
    "import tweepy\n",
    "import io ############################## para gravar o arquivo txt\n",
    "\n",
    "print('Bibliotecas importadas!')"
   ]
  },
  {
   "cell_type": "code",
   "execution_count": null,
   "metadata": {},
   "outputs": [],
   "source": []
  },
  {
   "cell_type": "markdown",
   "metadata": {},
   "source": [
    "## USANDO API "
   ]
  },
  {
   "cell_type": "code",
   "execution_count": 5,
   "metadata": {},
   "outputs": [],
   "source": [
    "# testando api de terceiros\n",
    "\n",
    "# initialize TwitterAPI and necessary keys and tokens\n",
    "CONSUMER_KEY = 'fzrSWX4oRD0OEOFnKQYDGfPSD' \n",
    "CONSUMER_SECRET = 'vV9gU8RT8cLNnufsg36CVYl7Qy40WlcHOgtbza3Chlxd48yTZp'\n",
    "ACCESS_TOKEN_KEY = '891155597344813056-11oAOCuIQxNDhR7sWhb42th35h30XHr'\n",
    "ACCESS_TOKEN_SECRET = 'u3SH0UvczuBxgPas5P1ghWivJm7hVsq2eZV5hhKnCwpCu'"
   ]
  },
  {
   "cell_type": "code",
   "execution_count": 7,
   "metadata": {},
   "outputs": [],
   "source": [
    "auth = tweepy.OAuthHandler(CONSUMER_KEY, CONSUMER_SECRET)\n",
    "auth.set_access_token(ACCESS_TOKEN_KEY, ACCESS_TOKEN_SECRET)"
   ]
  },
  {
   "cell_type": "code",
   "execution_count": 8,
   "metadata": {},
   "outputs": [],
   "source": [
    "api = tweepy.API(auth) "
   ]
  },
  {
   "cell_type": "code",
   "execution_count": 9,
   "metadata": {},
   "outputs": [],
   "source": [
    "public_tweets = api.home_timeline()"
   ]
  },
  {
   "cell_type": "code",
   "execution_count": 10,
   "metadata": {},
   "outputs": [
    {
     "name": "stdout",
     "output_type": "stream",
     "text": [
      "Trump is confident he’ll win the election because of boats and bikers 🤔 https://t.co/gjO0Xs1TbY\n",
      "Washington’s attorney general started prepping in March to sue if Trump tried to delay the election. \n",
      "\n",
      "Trump’s camp… https://t.co/Ybv0q62o77\n",
      "Lipetsk Residence by Geometrium\n",
      "\n",
      "https://t.co/YEI2aJ3qPw\n",
      "\n",
      "#interiordesign #decor #home #architecture https://t.co/j75UyLj3pJ\n",
      "RT @joshvickerson: “The refusal to wear a mask has become an insistence on personal liberty with all the moral conviction of a seven-year-o…\n",
      "Watch Trump completely dodge this question about Russia reportedly setting bounties on American soldiers https://t.co/0f0tIEZr9J\n",
      "Bellary House by Gaurav Roy Choudhury Architects\n",
      "\n",
      "https://t.co/76pWTdKKnZ\n",
      "\n",
      "#decor #interiordesign #home… https://t.co/4xy0t3swXe\n",
      "Have you ever seen a seahorse this close? Photographer Ceresi Claudio captured this incredible image in Bali, Indon… https://t.co/7GsNCj4eYM\n",
      "It's August 1st, and President Trump still doesn’t have an adequate national testing strategy.\n",
      "If you hate Washington gridlock, read this and rejoice | Analysis https://t.co/NSXrx13TaI https://t.co/qS3eqMr6IT\n",
      "Collector’s Retreat by Heliotrope Architects\n",
      "https://t.co/AZghpLEKSX\n",
      "\n",
      "#interior #interiors #interiordesign #decor, https://t.co/fttP2IX50G\n",
      "Watch Pres. Obama surprise attendees of this virtual workshop led by disability rights activists https://t.co/RAIJ8186dB\n",
      "Algarve Villa by Staffan Tollgard Design Group\n",
      "\n",
      "https://t.co/xmp97KWuh5\n",
      "\n",
      "#architecture #interiordesign #home… https://t.co/B2waYktsHw\n",
      "Dozens of former employees of The Ellen DeGeneres Show say sexual misconduct and harassment runs rampant behind the… https://t.co/DIjZGOXvn8\n",
      "Trump Republicans attacked and destroyed the military career of a Jewish refugee from the Soviet Union whose parent… https://t.co/dBd2RpTKYO\n",
      "“I joined the military to serve the country that sheltered my family’s escape from authoritarianism, and yet the pr… https://t.co/TICbkjdcKN\n",
      "Hundreds of anti-racism demonstrators marched across the Brooklyn Bridge this week as protests for racial justice c… https://t.co/98sHVdl0JJ\n",
      "Architectural Drawing by Carlo Enzo https://t.co/DUf2pGDwYZ\n",
      "Trump campaign fighting to make it harder for Democrats to vote by mail https://t.co/fs6tNTTL1d https://t.co/xOcDXNRUF9\n",
      "Not sure who needs to hear this, but pet alligators are a bad idea. https://t.co/MOkfRacE7E\n",
      "Alarming footage shows smoke from the Hog Fire filling the sky in Susanville, CA. The blaze has burned more than 9,… https://t.co/KSHAacfGWE\n"
     ]
    }
   ],
   "source": [
    "# TESTANDO PARA VER SE FUNCIONA!\n",
    "\n",
    "for tweet in public_tweets:\n",
    "    print(tweet.text)"
   ]
  },
  {
   "cell_type": "code",
   "execution_count": 46,
   "metadata": {},
   "outputs": [],
   "source": [
    "# SALVAR O CONTEÚDO EM UM ARQUIVO\n",
    "\n",
    "arquivo = open(\"tweet.txt\", \"a\", encoding='utf-8')\n",
    "\n",
    "for tweet in public_tweets:\n",
    "    arquivo.write(tweet.text)\n",
    "arquivo.close()"
   ]
  },
  {
   "cell_type": "code",
   "execution_count": 47,
   "metadata": {},
   "outputs": [],
   "source": [
    "# PROFESSORA CHAMOU O api DE token\n",
    "\n",
    "token = tweepy.API(auth)  ############################ COLOCANDO COMO NO EXEMPLO (TOKEN)"
   ]
  },
  {
   "cell_type": "markdown",
   "metadata": {},
   "source": [
    "## FAZENDO BUSCA POR PALAVRA CHAVE"
   ]
  },
  {
   "cell_type": "code",
   "execution_count": 48,
   "metadata": {},
   "outputs": [],
   "source": [
    "# definindo as palavras chaves\n",
    "\n",
    "keyword = (\"covid OR 'covid-19' OR corona OR coronavirus\")\n"
   ]
  },
  {
   "cell_type": "code",
   "execution_count": 49,
   "metadata": {},
   "outputs": [],
   "source": [
    "tweets = token.search(q=keyword,count=10, result_type='mixed')\n",
    "\n",
    "# tweets = token.search(q=keyword,count=10, result_type='mixed', tweet_mode='extended', lang='pt')\n",
    "# result_type='mixed' ou recent ou popular\n",
    "# tweet_mode='extended' (o default é o truncado)\n"
   ]
  },
  {
   "cell_type": "code",
   "execution_count": 50,
   "metadata": {},
   "outputs": [
    {
     "name": "stdout",
     "output_type": "stream",
     "text": [
      "It’s been over six months since the first confirmed case of COVID-19 in the United States, and President Trump stil… https://t.co/wrHASwT92A\n",
      "My sister works at a daycare. One of her coworkers was diagnosed with COVID 19, and the school ONLY notified the pe… https://t.co/EBtDwPzAgZ\n",
      "I am taking #Hydroxychloroquine to treat my coronavirus diagnosis. It is what was decided as the best course of act… https://t.co/bm5yXZHMjg\n",
      "RT @ForeverRiques: @SyHawkes @jean_mcghie I have noticed this as well. It seems COVID is all a thing of the past to some...for now.\n",
      "RT @Karl_Lauterbach: Wer jemals einen Menschen am Beatmungsgerät um sein Leben kämpfen gesehen hat kann eine solche uninformierte, rücksich…\n",
      "RT @gmaemejota: Si por el coronavirus arrasamos supermercados, nos confinamos en casa y se cierran ciudades y hasta países, ¿qué no haríamo…\n",
      "@goairlinesindia \n",
      "I am not able to rebook my flight using my previous PNR X2NZWB\n",
      "For which I do not fly due to covid\n",
      "Please help\n",
      "RT @1Dbl_Cheese: Has the CDC response to the #coronavirus caused you to rethink your position on any of their other recommendations?\n",
      "\n",
      "If yo…\n",
      "@hughhewitt @POTUS China is to the US what a bad neighbor is to your neighborhood.\n",
      "\n",
      "Yes, China is culpable for lyin… https://t.co/yDu8JnNciI\n",
      "RT @ABUmathematicia: That's What Corona is Thinking\n"
     ]
    }
   ],
   "source": [
    "# eduardo...\n",
    "\n",
    "for tweet in tweets:\n",
    "    print(tweet.text)"
   ]
  },
  {
   "cell_type": "code",
   "execution_count": 62,
   "metadata": {},
   "outputs": [
    {
     "name": "stdout",
     "output_type": "stream",
     "text": [
      "O total tweets coletados foi 10\n"
     ]
    }
   ],
   "source": [
    "# Verificar a quantidade de tweets\n",
    "\n",
    "print(\"O total tweets coletados foi %s\" % (len(tweets)))"
   ]
  },
  {
   "cell_type": "code",
   "execution_count": 69,
   "metadata": {},
   "outputs": [
    {
     "name": "stdout",
     "output_type": "stream",
     "text": [
      "Usuário: JoeBiden\n",
      "Usuário: {'JoeBiden'}\n",
      "   Tweet: {'It’s been over six months since the first confirmed case of COVID-19 in the United States, and President Trump stil… https://t.co/wrHASwT92A'}\n",
      "----------------------------------\n",
      "\n",
      "Usuário: iSmashFizzle\n",
      "Usuário: {'iSmashFizzle'}\n",
      "   Tweet: {'My sister works at a daycare. One of her coworkers was diagnosed with COVID 19, and the school ONLY notified the pe… https://t.co/EBtDwPzAgZ'}\n",
      "----------------------------------\n",
      "\n",
      "Usuário: replouiegohmert\n",
      "Usuário: {'replouiegohmert'}\n",
      "   Tweet: {'I am taking #Hydroxychloroquine to treat my coronavirus diagnosis. It is what was decided as the best course of act… https://t.co/bm5yXZHMjg'}\n",
      "----------------------------------\n",
      "\n",
      "Usuário: SocialistHeart\n",
      "Usuário: {'SocialistHeart'}\n",
      "   Tweet: {'RT @ForeverRiques: @SyHawkes @jean_mcghie I have noticed this as well. It seems COVID is all a thing of the past to some...for now.'}\n",
      "----------------------------------\n",
      "\n",
      "Usuário: AndyOstsee\n",
      "Usuário: {'AndyOstsee'}\n",
      "   Tweet: {'RT @Karl_Lauterbach: Wer jemals einen Menschen am Beatmungsgerät um sein Leben kämpfen gesehen hat kann eine solche uninformierte, rücksich…'}\n",
      "----------------------------------\n",
      "\n",
      "Usuário: frandelgado651\n",
      "Usuário: {'frandelgado651'}\n",
      "   Tweet: {'RT @gmaemejota: Si por el coronavirus arrasamos supermercados, nos confinamos en casa y se cierran ciudades y hasta países, ¿qué no haríamo…'}\n",
      "----------------------------------\n",
      "\n",
      "Usuário: rajatkaushal1\n",
      "Usuário: {'rajatkaushal1'}\n",
      "   Tweet: {'@goairlinesindia \\nI am not able to rebook my flight using my previous PNR X2NZWB\\nFor which I do not fly due to covid\\nPlease help'}\n",
      "----------------------------------\n",
      "\n",
      "Usuário: DavidLowski\n",
      "Usuário: {'DavidLowski'}\n",
      "   Tweet: {'RT @1Dbl_Cheese: Has the CDC response to the #coronavirus caused you to rethink your position on any of their other recommendations?\\n\\nIf yo…'}\n",
      "----------------------------------\n",
      "\n",
      "Usuário: MarshallLocke\n",
      "Usuário: {'MarshallLocke'}\n",
      "   Tweet: {'@hughhewitt @POTUS China is to the US what a bad neighbor is to your neighborhood.\\n\\nYes, China is culpable for lyin… https://t.co/yDu8JnNciI'}\n",
      "----------------------------------\n",
      "\n",
      "Usuário: iam_chyderah\n",
      "Usuário: {'iam_chyderah'}\n",
      "   Tweet: {\"RT @ABUmathematicia: That's What Corona is Thinking\"}\n",
      "----------------------------------\n",
      "\n"
     ]
    }
   ],
   "source": [
    "# PRINTAR USUÁRIO E TEXTO DO TWEET\n",
    "\n",
    "for tweet in tweets:\n",
    "    print('Usuário: %s' % (tweet.user.screen_name)) ######## COM PARENTESES\n",
    "    print('Usuário: %s' % {tweet.user.screen_name}) ################ CHAVES\n",
    "    print('   Tweet: %s' % {tweet.text})\n",
    "    # print('   Tweet: %s' % (tweet.full_text)) #### No caso da busca em tweet_mode=\"extended\"\n",
    "    print('----------------------------------\\n')"
   ]
  },
  {
   "cell_type": "markdown",
   "metadata": {},
   "source": [
    "## ANÁLISE DE POLARIDADE, COM O PACOTE TEXTBLOB"
   ]
  },
  {
   "cell_type": "markdown",
   "metadata": {},
   "source": [
    "A função <b><i>sentiment.polarity</i></b> retornará um número entre -1 e 1, onde quanto maior esse número, menos\n",
    "chateada está a pessoa que postou. Ou seja, quanto maior mais positivo. 0 é neutro. \n"
   ]
  },
  {
   "cell_type": "markdown",
   "metadata": {},
   "source": [
    "### IMPORTANDO AS BIBLIOTECAS"
   ]
  },
  {
   "cell_type": "code",
   "execution_count": 75,
   "metadata": {},
   "outputs": [
    {
     "name": "stdout",
     "output_type": "stream",
     "text": [
      "Bibliotecas importadas!\n"
     ]
    }
   ],
   "source": [
    "# IMPORTANDO\n",
    "\n",
    "from textblob import TextBlob as tb\n",
    "import numpy as np\n",
    "\n",
    "print('Bibliotecas importadas!')"
   ]
  },
  {
   "cell_type": "code",
   "execution_count": 99,
   "metadata": {},
   "outputs": [],
   "source": [
    "# Variavel  que irá armazenas a polaridade\n",
    "\n",
    "analysis = None"
   ]
  },
  {
   "cell_type": "code",
   "execution_count": 100,
   "metadata": {},
   "outputs": [],
   "source": [
    "# Lista vazia para armazenar os scores\n",
    "\n",
    "tweets_score = []"
   ]
  },
  {
   "cell_type": "code",
   "execution_count": 101,
   "metadata": {},
   "outputs": [
    {
     "name": "stdout",
     "output_type": "stream",
     "text": [
      "\n",
      "Usuário: JoeBiden\n",
      "Sentimento: 0.325\n",
      "It’s been over six months since the first confirmed case of COVID-19 in the United States, and President Trump stil… https://t.co/wrHASwT92A\n",
      "-----------------------------------------------------------------\n",
      "\n",
      "Usuário: iSmashFizzle\n",
      "Sentimento: 0.0\n",
      "My sister works at a daycare. One of her coworkers was diagnosed with COVID 19, and the school ONLY notified the pe… https://t.co/EBtDwPzAgZ\n",
      "-----------------------------------------------------------------\n",
      "\n",
      "Usuário: replouiegohmert\n",
      "Sentimento: 1.0\n",
      "I am taking #Hydroxychloroquine to treat my coronavirus diagnosis. It is what was decided as the best course of act… https://t.co/bm5yXZHMjg\n",
      "-----------------------------------------------------------------\n",
      "\n",
      "Usuário: SocialistHeart\n",
      "Sentimento: -0.25\n",
      "RT @ForeverRiques: @SyHawkes @jean_mcghie I have noticed this as well. It seems COVID is all a thing of the past to some...for now.\n",
      "-----------------------------------------------------------------\n",
      "\n",
      "Usuário: AndyOstsee\n",
      "Sentimento: 0.0\n",
      "RT @Karl_Lauterbach: Wer jemals einen Menschen am Beatmungsgerät um sein Leben kämpfen gesehen hat kann eine solche uninformierte, rücksich…\n",
      "-----------------------------------------------------------------\n",
      "\n",
      "Usuário: frandelgado651\n",
      "Sentimento: 0.0\n",
      "RT @gmaemejota: Si por el coronavirus arrasamos supermercados, nos confinamos en casa y se cierran ciudades y hasta países, ¿qué no haríamo…\n",
      "-----------------------------------------------------------------\n",
      "\n",
      "Usuário: rajatkaushal1\n",
      "Sentimento: -0.23541666666666666\n",
      "@goairlinesindia \n",
      "I am not able to rebook my flight using my previous PNR X2NZWB\n",
      "For which I do not fly due to covid\n",
      "Please help\n",
      "-----------------------------------------------------------------\n",
      "\n",
      "Usuário: DavidLowski\n",
      "Sentimento: -0.125\n",
      "RT @1Dbl_Cheese: Has the CDC response to the #coronavirus caused you to rethink your position on any of their other recommendations?\n",
      "\n",
      "If yo…\n",
      "-----------------------------------------------------------------\n",
      "\n",
      "Usuário: MarshallLocke\n",
      "Sentimento: -0.6999999999999998\n",
      "@hughhewitt @POTUS China is to the US what a bad neighbor is to your neighborhood.\n",
      "\n",
      "Yes, China is culpable for lyin… https://t.co/yDu8JnNciI\n",
      "-----------------------------------------------------------------\n",
      "\n",
      "Usuário: iam_chyderah\n",
      "Sentimento: 0.0\n",
      "RT @ABUmathematicia: That's What Corona is Thinking\n",
      "-----------------------------------------------------------------\n"
     ]
    }
   ],
   "source": [
    "# ANALISANDO O TWEET E VERIFICANDO as polaridades e sentimentos\n",
    "\n",
    "for tweet in tweets:\n",
    "    analysis = tb(tweet.text) ############# instancia do textblob\n",
    "    polarity = analysis.sentiment.polarity ############# analise de polaridade\n",
    "    \n",
    "    print('\\nUsuário: %s' % (tweet.user.screen_name))\n",
    "    print('Sentimento:',str(polarity))\n",
    "    \n",
    "    print(tweet.text)\n",
    "    print('-----------------------------------------------------------------')\n",
    "    \n",
    "    tweets_score.append(polarity) ######### adicionar na lista via append"
   ]
  },
  {
   "cell_type": "code",
   "execution_count": 102,
   "metadata": {},
   "outputs": [
    {
     "name": "stdout",
     "output_type": "stream",
     "text": [
      "Vetor de polaridade: [0.325, 0.0, 1.0, -0.25, 0.0, 0.0, -0.23541666666666666, -0.125, -0.6999999999999998, 0.0]\n"
     ]
    }
   ],
   "source": [
    "# PRINTAR O VETOR DE POLARIDADE\n",
    "\n",
    "print('Vetor de polaridade:', tweets_score)"
   ]
  },
  {
   "cell_type": "code",
   "execution_count": 104,
   "metadata": {},
   "outputs": [
    {
     "name": "stdout",
     "output_type": "stream",
     "text": [
      "Média de sentimento: 0.0014583333333333503\n"
     ]
    }
   ],
   "source": [
    "# PRINTAR MÉDIA DOS SENTIMENTOS\n",
    "\n",
    "print('Média de sentimento:', str(np.mean(tweets_score)))"
   ]
  },
  {
   "cell_type": "markdown",
   "metadata": {},
   "source": [
    "### AQUI MOTIFICO O EXEMPLO E IMPRIMO O TEXTO ORIGINAL E SUA TRADUÇÃO, CASO O MESMO NÃO ESTEJA EM INGLES, ALÉM DO NOME DO USUÁRIO E O RESULTADO DA ANÁLISE DE SENTIMENTO E SE É POSITIVO, NEGATIVO OU NEUTRO"
   ]
  },
  {
   "cell_type": "code",
   "execution_count": 113,
   "metadata": {},
   "outputs": [
    {
     "name": "stdout",
     "output_type": "stream",
     "text": [
      "\n",
      "\n",
      "Usuário: JoeBiden\n",
      "Sentimento: 0.325\n",
      "Status do sentimento: Positivo\n",
      "-----------------------------------------------------------------\n",
      "Texto original: \n",
      "It’s been over six months since the first confirmed case of COVID-19 in the United States, and President Trump stil… https://t.co/wrHASwT92A\n",
      "-----------------------------------------------------------------\n",
      "\n",
      "\n",
      "Usuário: iSmashFizzle\n",
      "Sentimento: 0.0\n",
      "Status do sentimento: Neutro\n",
      "-----------------------------------------------------------------\n",
      "Texto original: \n",
      "My sister works at a daycare. One of her coworkers was diagnosed with COVID 19, and the school ONLY notified the pe… https://t.co/EBtDwPzAgZ\n",
      "-----------------------------------------------------------------\n",
      "\n",
      "\n",
      "Usuário: replouiegohmert\n",
      "Sentimento: 1.0\n",
      "Status do sentimento: Positivo\n",
      "-----------------------------------------------------------------\n",
      "Texto original: \n",
      "I am taking #Hydroxychloroquine to treat my coronavirus diagnosis. It is what was decided as the best course of act… https://t.co/bm5yXZHMjg\n",
      "-----------------------------------------------------------------\n",
      "\n",
      "\n",
      "Usuário: SocialistHeart\n",
      "Sentimento: -0.25\n",
      "Status do sentimento: Negativo\n",
      "-----------------------------------------------------------------\n",
      "Texto original: \n",
      "RT @ForeverRiques: @SyHawkes @jean_mcghie I have noticed this as well. It seems COVID is all a thing of the past to some...for now.\n",
      "-----------------------------------------------------------------\n",
      "\n",
      "\n",
      "Usuário: AndyOstsee\n",
      "Sentimento: 0.0\n",
      "Status do sentimento: Neutro\n",
      "-----------------------------------------------------------------\n",
      "Texto original: \n",
      "RT @Karl_Lauterbach: Wer jemals einen Menschen am Beatmungsgerät um sein Leben kämpfen gesehen hat kann eine solche uninformierte, rücksich…\n",
      "-----------------------------------------------------------------\n",
      "Texto traduzido:\n",
      "RT @Karl_Lauterbach: Anyone who has ever seen a man fighting for his life on a ventilator can look back on such an uninformed…\n",
      "-----------------------------------------------------------------\n",
      "\n",
      "\n",
      "Usuário: frandelgado651\n",
      "Sentimento: -0.1125\n",
      "Status do sentimento: Negativo\n",
      "-----------------------------------------------------------------\n",
      "Texto original: \n",
      "RT @gmaemejota: Si por el coronavirus arrasamos supermercados, nos confinamos en casa y se cierran ciudades y hasta países, ¿qué no haríamo…\n",
      "-----------------------------------------------------------------\n",
      "Texto traduzido:\n",
      "RT @gmaemejota: If we devastate supermarkets due to the coronavirus, we confine ourselves at home and cities and even countries are closed, what would we not do…\n",
      "-----------------------------------------------------------------\n",
      "\n",
      "\n",
      "Usuário: rajatkaushal1\n",
      "Sentimento: -0.23541666666666666\n",
      "Status do sentimento: Negativo\n",
      "-----------------------------------------------------------------\n",
      "Texto original: \n",
      "@goairlinesindia \n",
      "I am not able to rebook my flight using my previous PNR X2NZWB\n",
      "For which I do not fly due to covid\n",
      "Please help\n",
      "-----------------------------------------------------------------\n",
      "\n",
      "\n",
      "Usuário: DavidLowski\n",
      "Sentimento: -0.125\n",
      "Status do sentimento: Negativo\n",
      "-----------------------------------------------------------------\n",
      "Texto original: \n",
      "RT @1Dbl_Cheese: Has the CDC response to the #coronavirus caused you to rethink your position on any of their other recommendations?\n",
      "\n",
      "If yo…\n",
      "-----------------------------------------------------------------\n",
      "\n",
      "\n",
      "Usuário: MarshallLocke\n",
      "Sentimento: -0.6999999999999998\n",
      "Status do sentimento: Negativo\n",
      "-----------------------------------------------------------------\n",
      "Texto original: \n",
      "@hughhewitt @POTUS China is to the US what a bad neighbor is to your neighborhood.\n",
      "\n",
      "Yes, China is culpable for lyin… https://t.co/yDu8JnNciI\n",
      "-----------------------------------------------------------------\n",
      "\n",
      "\n",
      "Usuário: iam_chyderah\n",
      "Sentimento: 0.0\n",
      "Status do sentimento: Neutro\n",
      "-----------------------------------------------------------------\n",
      "Texto original: \n",
      "RT @ABUmathematicia: That's What Corona is Thinking\n",
      "-----------------------------------------------------------------\n"
     ]
    }
   ],
   "source": [
    "# ANALISANDO O TWEET E VERIFICANDO POLARIDADES E TRADUZINDO O QUE NÃO ESTÁ EM INGLES PARA INGLES\n",
    "\n",
    "analysis = None\n",
    "tweets_score_eng = []\n",
    "traducao = '' ############################## Para imprimir corretamente a traducao\n",
    "\n",
    "for tweet in tweets:\n",
    "    analysis = tb(tweet.text) ############# instancia do textblob, tweet.full_text para extended\n",
    "    \n",
    "    \n",
    "    if analysis.detect_language() != 'en':  ######## verifica se NÃO está em ingles\n",
    "       \n",
    "        traducao = tb(str(analysis.translate(to='en')))  # traduz para o ingles\n",
    "        polarity = traducao.sentiment.polarity  ########## análise de sentimento\n",
    "                \n",
    "    else:\n",
    "        polarity = analysis.sentiment.polarity  ########## análise de sentimento\n",
    "        traducao = ''\n",
    "        \n",
    "    \n",
    "    \n",
    "    print('\\n\\nUsuário: %s' % (tweet.user.screen_name))\n",
    "    print('Sentimento:',str(polarity))\n",
    "    \n",
    "    if polarity == 0: sentimento = 'Neutro' ############# STATUS DO SENTIMENTO\n",
    "    if polarity < 0 : sentimento = 'Negativo'\n",
    "    if polarity > 0 : sentimento = 'Positivo'\n",
    "    \n",
    "    print('Status do sentimento:', sentimento)\n",
    "    print('-----------------------------------------------------------------')\n",
    "    print('Texto original: ')\n",
    "    print(tweet.text)\n",
    "    \n",
    "    if traducao != '':\n",
    "        print('-----------------------------------------------------------------')\n",
    "        print('Texto traduzido:')\n",
    "        \n",
    "        print(traducao)\n",
    "    print('-----------------------------------------------------------------')\n",
    "    \n",
    "    \n",
    "    tweets_score_eng.append(polarity) ######### adicionar na lista via append"
   ]
  },
  {
   "cell_type": "code",
   "execution_count": null,
   "metadata": {},
   "outputs": [],
   "source": []
  },
  {
   "cell_type": "code",
   "execution_count": 114,
   "metadata": {},
   "outputs": [
    {
     "name": "stdout",
     "output_type": "stream",
     "text": [
      "Vetor de polaridade geral:\n",
      " [0.325, 0.0, 1.0, -0.25, 0.0, 0.0, -0.23541666666666666, -0.125, -0.6999999999999998, 0.0]\n",
      "-----------------------------------------------\n",
      "Vetor de polaridade com tradução para o ingles: [0.325, 0.0, 1.0, -0.25, 0.0, -0.1125, -0.23541666666666666, -0.125, -0.6999999999999998, 0.0]\n"
     ]
    }
   ],
   "source": [
    "# PRINTAR O VETOR DE POLARIDADE\n",
    "print('Vetor de polaridade geral:\\n', tweets_score)  ############ observe os valores 0.0\n",
    "print('-----------------------------------------------')\n",
    "print('Vetor de polaridade com tradução para o ingles:', tweets_score_eng)"
   ]
  },
  {
   "cell_type": "code",
   "execution_count": null,
   "metadata": {},
   "outputs": [],
   "source": []
  },
  {
   "cell_type": "code",
   "execution_count": 115,
   "metadata": {},
   "outputs": [
    {
     "name": "stdout",
     "output_type": "stream",
     "text": [
      "Média de sentimento geral: 0.0014583333333333503\n",
      "Média de sentimento com tradução para o ingles: -0.009791666666666653\n"
     ]
    }
   ],
   "source": [
    "# PRINTAR MÉDIA DOS SENTIMENTOS\n",
    "\n",
    "print('Média de sentimento geral:', str(np.mean(tweets_score)))\n",
    "print('Média de sentimento com tradução para o ingles:', str(np.mean(tweets_score_eng)))"
   ]
  },
  {
   "cell_type": "code",
   "execution_count": null,
   "metadata": {},
   "outputs": [],
   "source": []
  },
  {
   "cell_type": "markdown",
   "metadata": {},
   "source": [
    "### ARMAZENAR OS TWEETS COLETADOS"
   ]
  },
  {
   "cell_type": "code",
   "execution_count": 118,
   "metadata": {},
   "outputs": [
    {
     "name": "stdout",
     "output_type": "stream",
     "text": [
      "Biblioteca importada\"\n"
     ]
    }
   ],
   "source": [
    "# importar json\n",
    "\n",
    "import json\n",
    "print('Biblioteca importada\"')"
   ]
  },
  {
   "cell_type": "markdown",
   "metadata": {},
   "source": [
    "### Nas linhas abaixo, é feita uma sequencia de conversões cujo propósito é duvidoso:\n",
    "### O tipo(type) do \"status\" é tweepy.models.Status\n",
    "### O tipo do \"status._json\" é dict <--------------\n",
    "### O tipo do \"json_str\" é string\n",
    "### E o tipo do \"parsed\" é dict <---------\n",
    "### Então, PARA QUE CONVERTER?"
   ]
  },
  {
   "cell_type": "code",
   "execution_count": 139,
   "metadata": {},
   "outputs": [],
   "source": [
    "status = tweets[0]\n",
    "\n",
    "# converte para string\n",
    "json_str = json.dumps(status._json)  #####._json converte para json, que é convertido para string\n",
    "\n",
    "# deserialise string para um objeto python\n",
    "parsed = json.loads(json_str) "
   ]
  },
  {
   "cell_type": "code",
   "execution_count": 140,
   "metadata": {},
   "outputs": [],
   "source": [
    "# type(status._json) -> DICT\n",
    "# type(json_str) -> STR\n",
    "# type(parsed) -> DICT"
   ]
  },
  {
   "cell_type": "markdown",
   "metadata": {},
   "source": [
    "### GRAVAR ARQUIVO JSON"
   ]
  },
  {
   "cell_type": "code",
   "execution_count": 154,
   "metadata": {},
   "outputs": [],
   "source": [
    "path = 'E:\\\\MEUS DOCUMENTOS\\\\001 Estudo\\\\IGTI - BOOTCAMP\\\\desafio2\\\\arquivos\\\\'"
   ]
  },
  {
   "cell_type": "code",
   "execution_count": 155,
   "metadata": {},
   "outputs": [],
   "source": [
    "# JEITO DA PROFESSORA ###################################################\n",
    "\n",
    "with open(path+'tweets_keywords.json',\"a\", encoding='utf-8') as filename:  ######### append\n",
    "    \n",
    "    for tweet in tweets: ##### percorre o vetor tweets\n",
    "        \n",
    "        status = tweet\n",
    "        \n",
    "        # converte para string\n",
    "        json_str = json.dumps(status._json)\n",
    "        \n",
    "        # deserializa a string para um objetoi do tipo python do tipo dict\n",
    "        parsed = json.loads(json_str)\n",
    "        \n",
    "        # grava p tweet deserializado no arquivo\n",
    "        json.dump(parsed, filename, ensure_ascii=False, sort_keys=True, indent=4, separators=(',',':'))\n",
    "\n",
    "filename.close()"
   ]
  },
  {
   "cell_type": "code",
   "execution_count": 161,
   "metadata": {},
   "outputs": [],
   "source": [
    "# JEITO DO EDUARDO ################################################### USEI W, PARA PODER CLICAR X VEZES\n",
    "# SEM AQUELA CONVERSÃO QUE COMEÇA COM DICT E VOLTA AO DICT\n",
    "\n",
    "with open(path+'tweets_keywords_edu.json',\"w\", encoding='utf-8') as filename:  ######### append\n",
    "    \n",
    "    for tweet in tweets: ##### percorre o vetor tweets\n",
    "        \n",
    "        status = tweet\n",
    "        \n",
    "        # converte para string\n",
    "        #json_str = json.dumps(status._json)\n",
    "        \n",
    "        # deserializa a string para um objetoi do tipo python do tipo dict\n",
    "        #parsed = json.loads(json_str)\n",
    "        \n",
    "        # grava p tweet deserializado no arquivo\n",
    "        json.dump(status._json, filename, ensure_ascii=False, sort_keys=True, indent=4, separators=(',',':'))\n",
    "\n",
    "\n",
    "filename.close()"
   ]
  },
  {
   "cell_type": "markdown",
   "metadata": {},
   "source": [
    "### VAMOS DE MONGO DB"
   ]
  },
  {
   "cell_type": "code",
   "execution_count": 163,
   "metadata": {},
   "outputs": [
    {
     "name": "stdout",
     "output_type": "stream",
     "text": [
      "Biblioteca importada!\n"
     ]
    }
   ],
   "source": [
    "# IMPORT MONGO\n",
    "\n",
    "import pymongo\n",
    "print('Biblioteca importada!')"
   ]
  },
  {
   "cell_type": "code",
   "execution_count": 164,
   "metadata": {},
   "outputs": [
    {
     "name": "stdout",
     "output_type": "stream",
     "text": [
      "Conectado!\n"
     ]
    }
   ],
   "source": [
    "# conexão ao bd\n",
    "\n",
    "con = pymongo.MongoClient('localhost',27017)\n",
    "print('Conectado!')"
   ]
  },
  {
   "cell_type": "code",
   "execution_count": 165,
   "metadata": {},
   "outputs": [
    {
     "data": {
      "text/plain": [
       "['IGTI', 'Vendas', 'admin', 'config', 'local']"
      ]
     },
     "execution_count": 165,
     "metadata": {},
     "output_type": "execute_result"
    }
   ],
   "source": [
    "# Listar os BDs do Mongo\n",
    "\n",
    "con.list_database_names()"
   ]
  },
  {
   "cell_type": "code",
   "execution_count": 167,
   "metadata": {},
   "outputs": [],
   "source": [
    "# seleciona/cria o BD\n",
    "db = con.TwitterDB"
   ]
  },
  {
   "cell_type": "code",
   "execution_count": 168,
   "metadata": {},
   "outputs": [
    {
     "data": {
      "text/plain": [
       "[]"
      ]
     },
     "execution_count": 168,
     "metadata": {},
     "output_type": "execute_result"
    }
   ],
   "source": [
    "# Listar as coleções\n",
    "\n",
    "db.list_collection_names()"
   ]
  },
  {
   "cell_type": "code",
   "execution_count": 171,
   "metadata": {},
   "outputs": [],
   "source": [
    "# seleciona/cria a coleção\n",
    "\n",
    "collection = db.twitters_keywords"
   ]
  },
  {
   "cell_type": "code",
   "execution_count": 172,
   "metadata": {},
   "outputs": [
    {
     "name": "stderr",
     "output_type": "stream",
     "text": [
      "C:\\ProgramData\\Anaconda3\\lib\\site-packages\\ipykernel_launcher.py:3: DeprecationWarning: count is deprecated. Use estimated_document_count or count_documents instead. Please note that $where must be replaced by $expr, $near must be replaced by $geoWithin with $center, and $nearSphere must be replaced by $geoWithin with $centerSphere\n",
      "  This is separate from the ipykernel package so we can avoid doing imports until\n"
     ]
    },
    {
     "data": {
      "text/plain": [
       "0"
      ]
     },
     "execution_count": 172,
     "metadata": {},
     "output_type": "execute_result"
    }
   ],
   "source": [
    "# Listar quantidade da coleção\n",
    "\n",
    "db.twitters_keywords.count()"
   ]
  },
  {
   "cell_type": "code",
   "execution_count": 174,
   "metadata": {},
   "outputs": [
    {
     "data": {
      "text/plain": [
       "0"
      ]
     },
     "execution_count": 174,
     "metadata": {},
     "output_type": "execute_result"
    }
   ],
   "source": [
    "# Listar quantidade da coleção\n",
    "\n",
    "db.twitters_keywords.count_documents({})"
   ]
  },
  {
   "cell_type": "code",
   "execution_count": 175,
   "metadata": {},
   "outputs": [
    {
     "name": "stdout",
     "output_type": "stream",
     "text": [
      "Quantidade de tweets inseridos: 10\n"
     ]
    }
   ],
   "source": [
    "i = 0\n",
    "\n",
    "# para cada tweet no vetor de resultados tweets\n",
    "\n",
    "for tweet in tweets:\n",
    "    db.twitters_keywords.insert_one(tweet._json)\n",
    "    i = i+1\n",
    "\n",
    "# imprime a quantidade de tweets inseridos\n",
    "print('Quantidade de tweets inseridos: %s' % i)"
   ]
  },
  {
   "cell_type": "code",
   "execution_count": 176,
   "metadata": {},
   "outputs": [
    {
     "name": "stderr",
     "output_type": "stream",
     "text": [
      "C:\\ProgramData\\Anaconda3\\lib\\site-packages\\ipykernel_launcher.py:3: DeprecationWarning: count is deprecated. Use estimated_document_count or count_documents instead. Please note that $where must be replaced by $expr, $near must be replaced by $geoWithin with $center, and $nearSphere must be replaced by $geoWithin with $centerSphere\n",
      "  This is separate from the ipykernel package so we can avoid doing imports until\n"
     ]
    },
    {
     "data": {
      "text/plain": [
       "10"
      ]
     },
     "execution_count": 176,
     "metadata": {},
     "output_type": "execute_result"
    }
   ],
   "source": [
    "# Listar quantidade da coleção\n",
    "\n",
    "db.twitters_keywords.count()"
   ]
  },
  {
   "cell_type": "code",
   "execution_count": 177,
   "metadata": {},
   "outputs": [
    {
     "data": {
      "text/plain": [
       "10"
      ]
     },
     "execution_count": 177,
     "metadata": {},
     "output_type": "execute_result"
    }
   ],
   "source": [
    "# Listar quantidade da coleção\n",
    "\n",
    "db.twitters_keywords.count_documents({})"
   ]
  },
  {
   "cell_type": "code",
   "execution_count": null,
   "metadata": {},
   "outputs": [],
   "source": []
  }
 ],
 "metadata": {
  "kernelspec": {
   "display_name": "Python 3",
   "language": "python",
   "name": "python3"
  },
  "language_info": {
   "codemirror_mode": {
    "name": "ipython",
    "version": 3
   },
   "file_extension": ".py",
   "mimetype": "text/x-python",
   "name": "python",
   "nbconvert_exporter": "python",
   "pygments_lexer": "ipython3",
   "version": "3.8.5"
  }
 },
 "nbformat": 4,
 "nbformat_minor": 4
}
