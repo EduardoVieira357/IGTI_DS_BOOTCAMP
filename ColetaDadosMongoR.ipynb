{
 "cells": [
  {
   "cell_type": "markdown",
   "metadata": {},
   "source": [
    "# MONGO DB com R - AULAS"
   ]
  },
  {
   "cell_type": "markdown",
   "metadata": {},
   "source": [
    "## Aula 3.4. Manipulação de dados NoSQL: Exemplo utilizando a linguagem R"
   ]
  },
  {
   "cell_type": "code",
   "execution_count": 1,
   "metadata": {},
   "outputs": [
    {
     "name": "stdout",
     "output_type": "stream",
     "text": [
      "package 'mongolite' successfully unpacked and MD5 sums checked\n",
      "\n",
      "The downloaded binary packages are in\n",
      "\tC:\\Users\\USER\\AppData\\Local\\Temp\\RtmpI3F8ez\\downloaded_packages\n",
      "[1] \"Instalação concluída!\"\n"
     ]
    }
   ],
   "source": [
    "# eu\n",
    "install.packages(\"mongolite\")\n",
    "print('Instalação concluída!')"
   ]
  },
  {
   "cell_type": "code",
   "execution_count": 2,
   "metadata": {},
   "outputs": [],
   "source": [
    "# eu\n",
    "library(mongolite)"
   ]
  },
  {
   "cell_type": "code",
   "execution_count": 3,
   "metadata": {},
   "outputs": [],
   "source": [
    "# professora\n",
    "require(mongolite)"
   ]
  },
  {
   "cell_type": "code",
   "execution_count": 4,
   "metadata": {},
   "outputs": [],
   "source": [
    "# igti - conecta ao mongo\n",
    "\n",
    "connection <- mongo(collection = \"Cidades\", db='IGTI', url = 'mongodb://localhost:27017/')"
   ]
  },
  {
   "cell_type": "code",
   "execution_count": 5,
   "metadata": {},
   "outputs": [
    {
     "data": {
      "text/html": [
       "<table>\n",
       "<caption>A data.frame: 10 × 5</caption>\n",
       "<thead>\n",
       "\t<tr><th></th><th scope=col>NomeCidade</th><th scope=col>CodEstadoIBGE</th><th scope=col>NomeEstado</th><th scope=col>Regiao</th><th scope=col>key</th></tr>\n",
       "\t<tr><th></th><th scope=col>&lt;chr&gt;</th><th scope=col>&lt;int&gt;</th><th scope=col>&lt;chr&gt;</th><th scope=col>&lt;chr&gt;</th><th scope=col>&lt;chr&gt;</th></tr>\n",
       "</thead>\n",
       "<tbody>\n",
       "\t<tr><th scope=row>1</th><td>Alta Floresta D'Oeste</td><td>11</td><td>Rondónia</td><td>Norte</td><td>Row0</td></tr>\n",
       "\t<tr><th scope=row>2</th><td>Ariquemes            </td><td>11</td><td>Rondónia</td><td>Norte</td><td>Row1</td></tr>\n",
       "\t<tr><th scope=row>3</th><td>Cabixi               </td><td>11</td><td>Rondónia</td><td>Norte</td><td>Row2</td></tr>\n",
       "\t<tr><th scope=row>4</th><td>Cacoal               </td><td>11</td><td>Rondónia</td><td>Norte</td><td>Row3</td></tr>\n",
       "\t<tr><th scope=row>5</th><td>Cerejeiras           </td><td>11</td><td>Rondónia</td><td>Norte</td><td>Row4</td></tr>\n",
       "\t<tr><th scope=row>6</th><td>Colorado do Oeste    </td><td>11</td><td>Rondónia</td><td>Norte</td><td>Row5</td></tr>\n",
       "\t<tr><th scope=row>7</th><td>Corumbiara           </td><td>11</td><td>Rondónia</td><td>Norte</td><td>Row6</td></tr>\n",
       "\t<tr><th scope=row>8</th><td>Costa Marques        </td><td>11</td><td>Rondónia</td><td>Norte</td><td>Row7</td></tr>\n",
       "\t<tr><th scope=row>9</th><td>Espigão D'Oeste      </td><td>11</td><td>Rondónia</td><td>Norte</td><td>Row8</td></tr>\n",
       "\t<tr><th scope=row>10</th><td>Guajará-Mirim        </td><td>11</td><td>Rondónia</td><td>Norte</td><td>Row9</td></tr>\n",
       "</tbody>\n",
       "</table>\n"
      ],
      "text/latex": [
       "A data.frame: 10 × 5\n",
       "\\begin{tabular}{r|lllll}\n",
       "  & NomeCidade & CodEstadoIBGE & NomeEstado & Regiao & key\\\\\n",
       "  & <chr> & <int> & <chr> & <chr> & <chr>\\\\\n",
       "\\hline\n",
       "\t1 & Alta Floresta D'Oeste & 11 & Rondónia & Norte & Row0\\\\\n",
       "\t2 & Ariquemes             & 11 & Rondónia & Norte & Row1\\\\\n",
       "\t3 & Cabixi                & 11 & Rondónia & Norte & Row2\\\\\n",
       "\t4 & Cacoal                & 11 & Rondónia & Norte & Row3\\\\\n",
       "\t5 & Cerejeiras            & 11 & Rondónia & Norte & Row4\\\\\n",
       "\t6 & Colorado do Oeste     & 11 & Rondónia & Norte & Row5\\\\\n",
       "\t7 & Corumbiara            & 11 & Rondónia & Norte & Row6\\\\\n",
       "\t8 & Costa Marques         & 11 & Rondónia & Norte & Row7\\\\\n",
       "\t9 & Espigão D'Oeste       & 11 & Rondónia & Norte & Row8\\\\\n",
       "\t10 & Guajará-Mirim         & 11 & Rondónia & Norte & Row9\\\\\n",
       "\\end{tabular}\n"
      ],
      "text/markdown": [
       "\n",
       "A data.frame: 10 × 5\n",
       "\n",
       "| <!--/--> | NomeCidade &lt;chr&gt; | CodEstadoIBGE &lt;int&gt; | NomeEstado &lt;chr&gt; | Regiao &lt;chr&gt; | key &lt;chr&gt; |\n",
       "|---|---|---|---|---|---|\n",
       "| 1 | Alta Floresta D'Oeste | 11 | Rondónia | Norte | Row0 |\n",
       "| 2 | Ariquemes             | 11 | Rondónia | Norte | Row1 |\n",
       "| 3 | Cabixi                | 11 | Rondónia | Norte | Row2 |\n",
       "| 4 | Cacoal                | 11 | Rondónia | Norte | Row3 |\n",
       "| 5 | Cerejeiras            | 11 | Rondónia | Norte | Row4 |\n",
       "| 6 | Colorado do Oeste     | 11 | Rondónia | Norte | Row5 |\n",
       "| 7 | Corumbiara            | 11 | Rondónia | Norte | Row6 |\n",
       "| 8 | Costa Marques         | 11 | Rondónia | Norte | Row7 |\n",
       "| 9 | Espigão D'Oeste       | 11 | Rondónia | Norte | Row8 |\n",
       "| 10 | Guajará-Mirim         | 11 | Rondónia | Norte | Row9 |\n",
       "\n"
      ],
      "text/plain": [
       "   NomeCidade            CodEstadoIBGE NomeEstado Regiao key \n",
       "1  Alta Floresta D'Oeste 11            Rondónia   Norte  Row0\n",
       "2  Ariquemes             11            Rondónia   Norte  Row1\n",
       "3  Cabixi                11            Rondónia   Norte  Row2\n",
       "4  Cacoal                11            Rondónia   Norte  Row3\n",
       "5  Cerejeiras            11            Rondónia   Norte  Row4\n",
       "6  Colorado do Oeste     11            Rondónia   Norte  Row5\n",
       "7  Corumbiara            11            Rondónia   Norte  Row6\n",
       "8  Costa Marques         11            Rondónia   Norte  Row7\n",
       "9  Espigão D'Oeste       11            Rondónia   Norte  Row8\n",
       "10 Guajará-Mirim         11            Rondónia   Norte  Row9"
      ]
     },
     "metadata": {},
     "output_type": "display_data"
    }
   ],
   "source": [
    "connection$find(limit=10)"
   ]
  },
  {
   "cell_type": "code",
   "execution_count": 6,
   "metadata": {},
   "outputs": [
    {
     "data": {
      "text/html": [
       "5570"
      ],
      "text/latex": [
       "5570"
      ],
      "text/markdown": [
       "5570"
      ],
      "text/plain": [
       "[1] 5570"
      ]
     },
     "metadata": {},
     "output_type": "display_data"
    }
   ],
   "source": [
    "connection$count()"
   ]
  },
  {
   "cell_type": "code",
   "execution_count": null,
   "metadata": {},
   "outputs": [],
   "source": []
  },
  {
   "cell_type": "code",
   "execution_count": 7,
   "metadata": {},
   "outputs": [],
   "source": [
    "query <- connection$find('{\"CodEstadoIBGE\":13}')"
   ]
  },
  {
   "cell_type": "code",
   "execution_count": 10,
   "metadata": {},
   "outputs": [
    {
     "data": {
      "text/html": [
       "<table>\n",
       "<caption>A data.frame: 62 × 3</caption>\n",
       "<thead>\n",
       "\t<tr><th></th><th scope=col>NomeCidade</th><th scope=col>NomeEstado</th><th scope=col>Regiao</th></tr>\n",
       "\t<tr><th></th><th scope=col>&lt;chr&gt;</th><th scope=col>&lt;chr&gt;</th><th scope=col>&lt;chr&gt;</th></tr>\n",
       "</thead>\n",
       "<tbody>\n",
       "\t<tr><th scope=row>1</th><td>Alvarães          </td><td>Amazonas</td><td>Norte</td></tr>\n",
       "\t<tr><th scope=row>2</th><td>Amaturá           </td><td>Amazonas</td><td>Norte</td></tr>\n",
       "\t<tr><th scope=row>3</th><td>Anamã             </td><td>Amazonas</td><td>Norte</td></tr>\n",
       "\t<tr><th scope=row>4</th><td>Anori             </td><td>Amazonas</td><td>Norte</td></tr>\n",
       "\t<tr><th scope=row>5</th><td>Apuí              </td><td>Amazonas</td><td>Norte</td></tr>\n",
       "\t<tr><th scope=row>6</th><td>Atalaia do Norte  </td><td>Amazonas</td><td>Norte</td></tr>\n",
       "\t<tr><th scope=row>7</th><td>Autazes           </td><td>Amazonas</td><td>Norte</td></tr>\n",
       "\t<tr><th scope=row>8</th><td>Barcelos          </td><td>Amazonas</td><td>Norte</td></tr>\n",
       "\t<tr><th scope=row>9</th><td>Barreirinha       </td><td>Amazonas</td><td>Norte</td></tr>\n",
       "\t<tr><th scope=row>10</th><td>Benjamin Constant </td><td>Amazonas</td><td>Norte</td></tr>\n",
       "\t<tr><th scope=row>11</th><td>Beruri            </td><td>Amazonas</td><td>Norte</td></tr>\n",
       "\t<tr><th scope=row>12</th><td>Boa Vista do Ramos</td><td>Amazonas</td><td>Norte</td></tr>\n",
       "\t<tr><th scope=row>13</th><td>Boca do Acre      </td><td>Amazonas</td><td>Norte</td></tr>\n",
       "\t<tr><th scope=row>14</th><td>Borba             </td><td>Amazonas</td><td>Norte</td></tr>\n",
       "\t<tr><th scope=row>15</th><td>Caapiranga        </td><td>Amazonas</td><td>Norte</td></tr>\n",
       "\t<tr><th scope=row>16</th><td>Canutama          </td><td>Amazonas</td><td>Norte</td></tr>\n",
       "\t<tr><th scope=row>17</th><td>Carauari          </td><td>Amazonas</td><td>Norte</td></tr>\n",
       "\t<tr><th scope=row>18</th><td>Careiro           </td><td>Amazonas</td><td>Norte</td></tr>\n",
       "\t<tr><th scope=row>19</th><td>Careiro da Várzea </td><td>Amazonas</td><td>Norte</td></tr>\n",
       "\t<tr><th scope=row>20</th><td>Coari             </td><td>Amazonas</td><td>Norte</td></tr>\n",
       "\t<tr><th scope=row>21</th><td>Codajás           </td><td>Amazonas</td><td>Norte</td></tr>\n",
       "\t<tr><th scope=row>22</th><td>Eirunepé          </td><td>Amazonas</td><td>Norte</td></tr>\n",
       "\t<tr><th scope=row>23</th><td>Envira            </td><td>Amazonas</td><td>Norte</td></tr>\n",
       "\t<tr><th scope=row>24</th><td>Fonte Boa         </td><td>Amazonas</td><td>Norte</td></tr>\n",
       "\t<tr><th scope=row>25</th><td>Guajará           </td><td>Amazonas</td><td>Norte</td></tr>\n",
       "\t<tr><th scope=row>26</th><td>Humaitá           </td><td>Amazonas</td><td>Norte</td></tr>\n",
       "\t<tr><th scope=row>27</th><td>Ipixuna           </td><td>Amazonas</td><td>Norte</td></tr>\n",
       "\t<tr><th scope=row>28</th><td>Iranduba          </td><td>Amazonas</td><td>Norte</td></tr>\n",
       "\t<tr><th scope=row>29</th><td>Itacoatiara       </td><td>Amazonas</td><td>Norte</td></tr>\n",
       "\t<tr><th scope=row>30</th><td>Itamarati         </td><td>Amazonas</td><td>Norte</td></tr>\n",
       "\t<tr><th scope=row>⋮</th><td>⋮</td><td>⋮</td><td>⋮</td></tr>\n",
       "\t<tr><th scope=row>33</th><td>Juruá                    </td><td>Amazonas</td><td>Norte</td></tr>\n",
       "\t<tr><th scope=row>34</th><td>Jutaí                    </td><td>Amazonas</td><td>Norte</td></tr>\n",
       "\t<tr><th scope=row>35</th><td>Lábrea                   </td><td>Amazonas</td><td>Norte</td></tr>\n",
       "\t<tr><th scope=row>36</th><td>Manacapuru               </td><td>Amazonas</td><td>Norte</td></tr>\n",
       "\t<tr><th scope=row>37</th><td>Manaquiri                </td><td>Amazonas</td><td>Norte</td></tr>\n",
       "\t<tr><th scope=row>38</th><td>Manaus                   </td><td>Amazonas</td><td>Norte</td></tr>\n",
       "\t<tr><th scope=row>39</th><td>Manicoré                 </td><td>Amazonas</td><td>Norte</td></tr>\n",
       "\t<tr><th scope=row>40</th><td>Maraã                    </td><td>Amazonas</td><td>Norte</td></tr>\n",
       "\t<tr><th scope=row>41</th><td>Maués                    </td><td>Amazonas</td><td>Norte</td></tr>\n",
       "\t<tr><th scope=row>42</th><td>Nhamundá                 </td><td>Amazonas</td><td>Norte</td></tr>\n",
       "\t<tr><th scope=row>43</th><td>Nova Olinda do Norte     </td><td>Amazonas</td><td>Norte</td></tr>\n",
       "\t<tr><th scope=row>44</th><td>Novo Airão               </td><td>Amazonas</td><td>Norte</td></tr>\n",
       "\t<tr><th scope=row>45</th><td>Novo Aripuanã            </td><td>Amazonas</td><td>Norte</td></tr>\n",
       "\t<tr><th scope=row>46</th><td>Parintins                </td><td>Amazonas</td><td>Norte</td></tr>\n",
       "\t<tr><th scope=row>47</th><td>Pauini                   </td><td>Amazonas</td><td>Norte</td></tr>\n",
       "\t<tr><th scope=row>48</th><td>Presidente Figueiredo    </td><td>Amazonas</td><td>Norte</td></tr>\n",
       "\t<tr><th scope=row>49</th><td>Rio Preto da Eva         </td><td>Amazonas</td><td>Norte</td></tr>\n",
       "\t<tr><th scope=row>50</th><td>Santa Isabel do Rio Negro</td><td>Amazonas</td><td>Norte</td></tr>\n",
       "\t<tr><th scope=row>51</th><td>Santo Antônio do Içá     </td><td>Amazonas</td><td>Norte</td></tr>\n",
       "\t<tr><th scope=row>52</th><td>São Gabriel da Cachoeira </td><td>Amazonas</td><td>Norte</td></tr>\n",
       "\t<tr><th scope=row>53</th><td>São Paulo de Olivença    </td><td>Amazonas</td><td>Norte</td></tr>\n",
       "\t<tr><th scope=row>54</th><td>São Sebastião do Uatumã  </td><td>Amazonas</td><td>Norte</td></tr>\n",
       "\t<tr><th scope=row>55</th><td>Silves                   </td><td>Amazonas</td><td>Norte</td></tr>\n",
       "\t<tr><th scope=row>56</th><td>Tabatinga                </td><td>Amazonas</td><td>Norte</td></tr>\n",
       "\t<tr><th scope=row>57</th><td>Tapauá                   </td><td>Amazonas</td><td>Norte</td></tr>\n",
       "\t<tr><th scope=row>58</th><td>Tefé                     </td><td>Amazonas</td><td>Norte</td></tr>\n",
       "\t<tr><th scope=row>59</th><td>Tonantins                </td><td>Amazonas</td><td>Norte</td></tr>\n",
       "\t<tr><th scope=row>60</th><td>Uarini                   </td><td>Amazonas</td><td>Norte</td></tr>\n",
       "\t<tr><th scope=row>61</th><td>Urucará                  </td><td>Amazonas</td><td>Norte</td></tr>\n",
       "\t<tr><th scope=row>62</th><td>Urucurituba              </td><td>Amazonas</td><td>Norte</td></tr>\n",
       "</tbody>\n",
       "</table>\n"
      ],
      "text/latex": [
       "A data.frame: 62 × 3\n",
       "\\begin{tabular}{r|lll}\n",
       "  & NomeCidade & NomeEstado & Regiao\\\\\n",
       "  & <chr> & <chr> & <chr>\\\\\n",
       "\\hline\n",
       "\t1 & Alvarães           & Amazonas & Norte\\\\\n",
       "\t2 & Amaturá            & Amazonas & Norte\\\\\n",
       "\t3 & Anamã              & Amazonas & Norte\\\\\n",
       "\t4 & Anori              & Amazonas & Norte\\\\\n",
       "\t5 & Apuí               & Amazonas & Norte\\\\\n",
       "\t6 & Atalaia do Norte   & Amazonas & Norte\\\\\n",
       "\t7 & Autazes            & Amazonas & Norte\\\\\n",
       "\t8 & Barcelos           & Amazonas & Norte\\\\\n",
       "\t9 & Barreirinha        & Amazonas & Norte\\\\\n",
       "\t10 & Benjamin Constant  & Amazonas & Norte\\\\\n",
       "\t11 & Beruri             & Amazonas & Norte\\\\\n",
       "\t12 & Boa Vista do Ramos & Amazonas & Norte\\\\\n",
       "\t13 & Boca do Acre       & Amazonas & Norte\\\\\n",
       "\t14 & Borba              & Amazonas & Norte\\\\\n",
       "\t15 & Caapiranga         & Amazonas & Norte\\\\\n",
       "\t16 & Canutama           & Amazonas & Norte\\\\\n",
       "\t17 & Carauari           & Amazonas & Norte\\\\\n",
       "\t18 & Careiro            & Amazonas & Norte\\\\\n",
       "\t19 & Careiro da Várzea  & Amazonas & Norte\\\\\n",
       "\t20 & Coari              & Amazonas & Norte\\\\\n",
       "\t21 & Codajás            & Amazonas & Norte\\\\\n",
       "\t22 & Eirunepé           & Amazonas & Norte\\\\\n",
       "\t23 & Envira             & Amazonas & Norte\\\\\n",
       "\t24 & Fonte Boa          & Amazonas & Norte\\\\\n",
       "\t25 & Guajará            & Amazonas & Norte\\\\\n",
       "\t26 & Humaitá            & Amazonas & Norte\\\\\n",
       "\t27 & Ipixuna            & Amazonas & Norte\\\\\n",
       "\t28 & Iranduba           & Amazonas & Norte\\\\\n",
       "\t29 & Itacoatiara        & Amazonas & Norte\\\\\n",
       "\t30 & Itamarati          & Amazonas & Norte\\\\\n",
       "\t⋮ & ⋮ & ⋮ & ⋮\\\\\n",
       "\t33 & Juruá                     & Amazonas & Norte\\\\\n",
       "\t34 & Jutaí                     & Amazonas & Norte\\\\\n",
       "\t35 & Lábrea                    & Amazonas & Norte\\\\\n",
       "\t36 & Manacapuru                & Amazonas & Norte\\\\\n",
       "\t37 & Manaquiri                 & Amazonas & Norte\\\\\n",
       "\t38 & Manaus                    & Amazonas & Norte\\\\\n",
       "\t39 & Manicoré                  & Amazonas & Norte\\\\\n",
       "\t40 & Maraã                     & Amazonas & Norte\\\\\n",
       "\t41 & Maués                     & Amazonas & Norte\\\\\n",
       "\t42 & Nhamundá                  & Amazonas & Norte\\\\\n",
       "\t43 & Nova Olinda do Norte      & Amazonas & Norte\\\\\n",
       "\t44 & Novo Airão                & Amazonas & Norte\\\\\n",
       "\t45 & Novo Aripuanã             & Amazonas & Norte\\\\\n",
       "\t46 & Parintins                 & Amazonas & Norte\\\\\n",
       "\t47 & Pauini                    & Amazonas & Norte\\\\\n",
       "\t48 & Presidente Figueiredo     & Amazonas & Norte\\\\\n",
       "\t49 & Rio Preto da Eva          & Amazonas & Norte\\\\\n",
       "\t50 & Santa Isabel do Rio Negro & Amazonas & Norte\\\\\n",
       "\t51 & Santo Antônio do Içá      & Amazonas & Norte\\\\\n",
       "\t52 & São Gabriel da Cachoeira  & Amazonas & Norte\\\\\n",
       "\t53 & São Paulo de Olivença     & Amazonas & Norte\\\\\n",
       "\t54 & São Sebastião do Uatumã   & Amazonas & Norte\\\\\n",
       "\t55 & Silves                    & Amazonas & Norte\\\\\n",
       "\t56 & Tabatinga                 & Amazonas & Norte\\\\\n",
       "\t57 & Tapauá                    & Amazonas & Norte\\\\\n",
       "\t58 & Tefé                      & Amazonas & Norte\\\\\n",
       "\t59 & Tonantins                 & Amazonas & Norte\\\\\n",
       "\t60 & Uarini                    & Amazonas & Norte\\\\\n",
       "\t61 & Urucará                   & Amazonas & Norte\\\\\n",
       "\t62 & Urucurituba               & Amazonas & Norte\\\\\n",
       "\\end{tabular}\n"
      ],
      "text/markdown": [
       "\n",
       "A data.frame: 62 × 3\n",
       "\n",
       "| <!--/--> | NomeCidade &lt;chr&gt; | NomeEstado &lt;chr&gt; | Regiao &lt;chr&gt; |\n",
       "|---|---|---|---|\n",
       "| 1 | Alvarães           | Amazonas | Norte |\n",
       "| 2 | Amaturá            | Amazonas | Norte |\n",
       "| 3 | Anamã              | Amazonas | Norte |\n",
       "| 4 | Anori              | Amazonas | Norte |\n",
       "| 5 | Apuí               | Amazonas | Norte |\n",
       "| 6 | Atalaia do Norte   | Amazonas | Norte |\n",
       "| 7 | Autazes            | Amazonas | Norte |\n",
       "| 8 | Barcelos           | Amazonas | Norte |\n",
       "| 9 | Barreirinha        | Amazonas | Norte |\n",
       "| 10 | Benjamin Constant  | Amazonas | Norte |\n",
       "| 11 | Beruri             | Amazonas | Norte |\n",
       "| 12 | Boa Vista do Ramos | Amazonas | Norte |\n",
       "| 13 | Boca do Acre       | Amazonas | Norte |\n",
       "| 14 | Borba              | Amazonas | Norte |\n",
       "| 15 | Caapiranga         | Amazonas | Norte |\n",
       "| 16 | Canutama           | Amazonas | Norte |\n",
       "| 17 | Carauari           | Amazonas | Norte |\n",
       "| 18 | Careiro            | Amazonas | Norte |\n",
       "| 19 | Careiro da Várzea  | Amazonas | Norte |\n",
       "| 20 | Coari              | Amazonas | Norte |\n",
       "| 21 | Codajás            | Amazonas | Norte |\n",
       "| 22 | Eirunepé           | Amazonas | Norte |\n",
       "| 23 | Envira             | Amazonas | Norte |\n",
       "| 24 | Fonte Boa          | Amazonas | Norte |\n",
       "| 25 | Guajará            | Amazonas | Norte |\n",
       "| 26 | Humaitá            | Amazonas | Norte |\n",
       "| 27 | Ipixuna            | Amazonas | Norte |\n",
       "| 28 | Iranduba           | Amazonas | Norte |\n",
       "| 29 | Itacoatiara        | Amazonas | Norte |\n",
       "| 30 | Itamarati          | Amazonas | Norte |\n",
       "| ⋮ | ⋮ | ⋮ | ⋮ |\n",
       "| 33 | Juruá                     | Amazonas | Norte |\n",
       "| 34 | Jutaí                     | Amazonas | Norte |\n",
       "| 35 | Lábrea                    | Amazonas | Norte |\n",
       "| 36 | Manacapuru                | Amazonas | Norte |\n",
       "| 37 | Manaquiri                 | Amazonas | Norte |\n",
       "| 38 | Manaus                    | Amazonas | Norte |\n",
       "| 39 | Manicoré                  | Amazonas | Norte |\n",
       "| 40 | Maraã                     | Amazonas | Norte |\n",
       "| 41 | Maués                     | Amazonas | Norte |\n",
       "| 42 | Nhamundá                  | Amazonas | Norte |\n",
       "| 43 | Nova Olinda do Norte      | Amazonas | Norte |\n",
       "| 44 | Novo Airão                | Amazonas | Norte |\n",
       "| 45 | Novo Aripuanã             | Amazonas | Norte |\n",
       "| 46 | Parintins                 | Amazonas | Norte |\n",
       "| 47 | Pauini                    | Amazonas | Norte |\n",
       "| 48 | Presidente Figueiredo     | Amazonas | Norte |\n",
       "| 49 | Rio Preto da Eva          | Amazonas | Norte |\n",
       "| 50 | Santa Isabel do Rio Negro | Amazonas | Norte |\n",
       "| 51 | Santo Antônio do Içá      | Amazonas | Norte |\n",
       "| 52 | São Gabriel da Cachoeira  | Amazonas | Norte |\n",
       "| 53 | São Paulo de Olivença     | Amazonas | Norte |\n",
       "| 54 | São Sebastião do Uatumã   | Amazonas | Norte |\n",
       "| 55 | Silves                    | Amazonas | Norte |\n",
       "| 56 | Tabatinga                 | Amazonas | Norte |\n",
       "| 57 | Tapauá                    | Amazonas | Norte |\n",
       "| 58 | Tefé                      | Amazonas | Norte |\n",
       "| 59 | Tonantins                 | Amazonas | Norte |\n",
       "| 60 | Uarini                    | Amazonas | Norte |\n",
       "| 61 | Urucará                   | Amazonas | Norte |\n",
       "| 62 | Urucurituba               | Amazonas | Norte |\n",
       "\n"
      ],
      "text/plain": [
       "   NomeCidade                NomeEstado Regiao\n",
       "1  Alvarães                  Amazonas   Norte \n",
       "2  Amaturá                   Amazonas   Norte \n",
       "3  Anamã                     Amazonas   Norte \n",
       "4  Anori                     Amazonas   Norte \n",
       "5  Apuí                      Amazonas   Norte \n",
       "6  Atalaia do Norte          Amazonas   Norte \n",
       "7  Autazes                   Amazonas   Norte \n",
       "8  Barcelos                  Amazonas   Norte \n",
       "9  Barreirinha               Amazonas   Norte \n",
       "10 Benjamin Constant         Amazonas   Norte \n",
       "11 Beruri                    Amazonas   Norte \n",
       "12 Boa Vista do Ramos        Amazonas   Norte \n",
       "13 Boca do Acre              Amazonas   Norte \n",
       "14 Borba                     Amazonas   Norte \n",
       "15 Caapiranga                Amazonas   Norte \n",
       "16 Canutama                  Amazonas   Norte \n",
       "17 Carauari                  Amazonas   Norte \n",
       "18 Careiro                   Amazonas   Norte \n",
       "19 Careiro da Várzea         Amazonas   Norte \n",
       "20 Coari                     Amazonas   Norte \n",
       "21 Codajás                   Amazonas   Norte \n",
       "22 Eirunepé                  Amazonas   Norte \n",
       "23 Envira                    Amazonas   Norte \n",
       "24 Fonte Boa                 Amazonas   Norte \n",
       "25 Guajará                   Amazonas   Norte \n",
       "26 Humaitá                   Amazonas   Norte \n",
       "27 Ipixuna                   Amazonas   Norte \n",
       "28 Iranduba                  Amazonas   Norte \n",
       "29 Itacoatiara               Amazonas   Norte \n",
       "30 Itamarati                 Amazonas   Norte \n",
       "<U+22EE>  <U+22EE>                  <U+22EE>   <U+22EE>\n",
       "33 Juruá                     Amazonas   Norte \n",
       "34 Jutaí                     Amazonas   Norte \n",
       "35 Lábrea                    Amazonas   Norte \n",
       "36 Manacapuru                Amazonas   Norte \n",
       "37 Manaquiri                 Amazonas   Norte \n",
       "38 Manaus                    Amazonas   Norte \n",
       "39 Manicoré                  Amazonas   Norte \n",
       "40 Maraã                     Amazonas   Norte \n",
       "41 Maués                     Amazonas   Norte \n",
       "42 Nhamundá                  Amazonas   Norte \n",
       "43 Nova Olinda do Norte      Amazonas   Norte \n",
       "44 Novo Airão                Amazonas   Norte \n",
       "45 Novo Aripuanã             Amazonas   Norte \n",
       "46 Parintins                 Amazonas   Norte \n",
       "47 Pauini                    Amazonas   Norte \n",
       "48 Presidente Figueiredo     Amazonas   Norte \n",
       "49 Rio Preto da Eva          Amazonas   Norte \n",
       "50 Santa Isabel do Rio Negro Amazonas   Norte \n",
       "51 Santo Antônio do Içá      Amazonas   Norte \n",
       "52 São Gabriel da Cachoeira  Amazonas   Norte \n",
       "53 São Paulo de Olivença     Amazonas   Norte \n",
       "54 São Sebastião do Uatumã   Amazonas   Norte \n",
       "55 Silves                    Amazonas   Norte \n",
       "56 Tabatinga                 Amazonas   Norte \n",
       "57 Tapauá                    Amazonas   Norte \n",
       "58 Tefé                      Amazonas   Norte \n",
       "59 Tonantins                 Amazonas   Norte \n",
       "60 Uarini                    Amazonas   Norte \n",
       "61 Urucará                   Amazonas   Norte \n",
       "62 Urucurituba               Amazonas   Norte "
      ]
     },
     "metadata": {},
     "output_type": "display_data"
    }
   ],
   "source": [
    "result <- query[c(\"NomeCidade\",\"NomeEstado\",\"Regiao\")]\n",
    "result"
   ]
  },
  {
   "cell_type": "code",
   "execution_count": 8,
   "metadata": {},
   "outputs": [
    {
     "ename": "ERROR",
     "evalue": "Error in summary(result): objeto 'result' não encontrado\n",
     "output_type": "error",
     "traceback": [
      "Error in summary(result): objeto 'result' não encontrado\nTraceback:\n",
      "1. summary(result)"
     ]
    }
   ],
   "source": [
    "summary(result)"
   ]
  },
  {
   "cell_type": "code",
   "execution_count": 9,
   "metadata": {},
   "outputs": [
    {
     "ename": "ERROR",
     "evalue": "Error in eval(expr, envir, enclos): objeto 'result' não encontrado\n",
     "output_type": "error",
     "traceback": [
      "Error in eval(expr, envir, enclos): objeto 'result' não encontrado\nTraceback:\n"
     ]
    }
   ],
   "source": [
    "result$count()"
   ]
  },
  {
   "cell_type": "code",
   "execution_count": 11,
   "metadata": {},
   "outputs": [
    {
     "data": {
      "text/html": [
       "<table>\n",
       "<caption>A data.frame: 10 × 2</caption>\n",
       "<thead>\n",
       "\t<tr><th scope=col>idcaracteristicasGerais</th><th scope=col>dsccaracteristicasGerais</th></tr>\n",
       "\t<tr><th scope=col>&lt;int&gt;</th><th scope=col>&lt;chr&gt;</th></tr>\n",
       "</thead>\n",
       "<tbody>\n",
       "\t<tr><td> 4</td><td>Salão de festas    </td></tr>\n",
       "\t<tr><td> 5</td><td>Área gourmet       </td></tr>\n",
       "\t<tr><td> 6</td><td>Água individual    </td></tr>\n",
       "\t<tr><td> 7</td><td>Gás canalizado     </td></tr>\n",
       "\t<tr><td> 8</td><td>Aquecimento solar  </td></tr>\n",
       "\t<tr><td> 9</td><td>Vaga coberta       </td></tr>\n",
       "\t<tr><td>10</td><td>Vaga livre         </td></tr>\n",
       "\t<tr><td>11</td><td>Armários na cozinha</td></tr>\n",
       "\t<tr><td>12</td><td>Closet             </td></tr>\n",
       "\t<tr><td>13</td><td>Armários no quarto </td></tr>\n",
       "</tbody>\n",
       "</table>\n"
      ],
      "text/latex": [
       "A data.frame: 10 × 2\n",
       "\\begin{tabular}{ll}\n",
       " idcaracteristicasGerais & dsccaracteristicasGerais\\\\\n",
       " <int> & <chr>\\\\\n",
       "\\hline\n",
       "\t  4 & Salão de festas    \\\\\n",
       "\t  5 & Área gourmet       \\\\\n",
       "\t  6 & Água individual    \\\\\n",
       "\t  7 & Gás canalizado     \\\\\n",
       "\t  8 & Aquecimento solar  \\\\\n",
       "\t  9 & Vaga coberta       \\\\\n",
       "\t 10 & Vaga livre         \\\\\n",
       "\t 11 & Armários na cozinha\\\\\n",
       "\t 12 & Closet             \\\\\n",
       "\t 13 & Armários no quarto \\\\\n",
       "\\end{tabular}\n"
      ],
      "text/markdown": [
       "\n",
       "A data.frame: 10 × 2\n",
       "\n",
       "| idcaracteristicasGerais &lt;int&gt; | dsccaracteristicasGerais &lt;chr&gt; |\n",
       "|---|---|\n",
       "|  4 | Salão de festas     |\n",
       "|  5 | Área gourmet        |\n",
       "|  6 | Água individual     |\n",
       "|  7 | Gás canalizado      |\n",
       "|  8 | Aquecimento solar   |\n",
       "|  9 | Vaga coberta        |\n",
       "| 10 | Vaga livre          |\n",
       "| 11 | Armários na cozinha |\n",
       "| 12 | Closet              |\n",
       "| 13 | Armários no quarto  |\n",
       "\n"
      ],
      "text/plain": [
       "   idcaracteristicasGerais dsccaracteristicasGerais\n",
       "1   4                      Salão de festas         \n",
       "2   5                      Área gourmet            \n",
       "3   6                      Água individual         \n",
       "4   7                      Gás canalizado          \n",
       "5   8                      Aquecimento solar       \n",
       "6   9                      Vaga coberta            \n",
       "7  10                      Vaga livre              \n",
       "8  11                      Armários na cozinha     \n",
       "9  12                      Closet                  \n",
       "10 13                      Armários no quarto      "
      ]
     },
     "metadata": {},
     "output_type": "display_data"
    }
   ],
   "source": [
    "# lendo um arquivo csv\n",
    "\n",
    "# eu lendo um arquivo para talvez usar como exemplo\n",
    "#path <- 'E:\\\\MEUS DOCUMENTOS\\\\001 Estudo\\\\IGTI - BOOTCAMP\\\\modulo2\\\\arquivos\\\\estadosDB.csv'\n",
    "\n",
    "path <- 'E:/MEUS DOCUMENTOS/001 Estudo/IGTI - BOOTCAMP/modulo2/arquivos/caracteristicasgerais.csv'\n",
    "arquivo <- read.csv(path)\n",
    "arquivo"
   ]
  },
  {
   "cell_type": "code",
   "execution_count": 106,
   "metadata": {},
   "outputs": [],
   "source": [
    "# Conecta a uma coleção no mongo\n",
    "\n",
    "connection <- mongo(collection = \"CaracteristicasGerais\", db='IGTI', url = 'mongodb://localhost:27017/')\n"
   ]
  },
  {
   "cell_type": "code",
   "execution_count": 57,
   "metadata": {},
   "outputs": [
    {
     "data": {
      "text/plain": [
       "List of 5\n",
       " $ nInserted  : num 10\n",
       " $ nMatched   : num 0\n",
       " $ nRemoved   : num 0\n",
       " $ nUpserted  : num 0\n",
       " $ writeErrors: list()"
      ]
     },
     "metadata": {},
     "output_type": "display_data"
    }
   ],
   "source": [
    "# insere um arquivo csv na coleção\n",
    "connection$insert(arquivo)"
   ]
  },
  {
   "cell_type": "code",
   "execution_count": 58,
   "metadata": {},
   "outputs": [
    {
     "data": {
      "text/html": [
       "<table>\n",
       "<thead><tr><th scope=col>idcaracteristicasGerais</th><th scope=col>dsccaracteristicasGerais</th></tr></thead>\n",
       "<tbody>\n",
       "\t<tr><td> 4                 </td><td>Salão de festas    </td></tr>\n",
       "\t<tr><td> 5                 </td><td>Área gourmet       </td></tr>\n",
       "\t<tr><td> 6                 </td><td>Água individual    </td></tr>\n",
       "\t<tr><td> 7                 </td><td>Gás canalizado     </td></tr>\n",
       "\t<tr><td> 8                 </td><td>Aquecimento solar  </td></tr>\n",
       "\t<tr><td> 9                 </td><td>Vaga coberta       </td></tr>\n",
       "\t<tr><td>10                 </td><td>Vaga livre         </td></tr>\n",
       "\t<tr><td>11                 </td><td>Armários na cozinha</td></tr>\n",
       "\t<tr><td>12                 </td><td>Closet             </td></tr>\n",
       "\t<tr><td>13                 </td><td>Armários no quarto </td></tr>\n",
       "</tbody>\n",
       "</table>\n"
      ],
      "text/latex": [
       "\\begin{tabular}{r|ll}\n",
       " idcaracteristicasGerais & dsccaracteristicasGerais\\\\\n",
       "\\hline\n",
       "\t  4                  & Salão de festas    \\\\\n",
       "\t  5                  & Área gourmet       \\\\\n",
       "\t  6                  & Água individual    \\\\\n",
       "\t  7                  & Gás canalizado     \\\\\n",
       "\t  8                  & Aquecimento solar  \\\\\n",
       "\t  9                  & Vaga coberta       \\\\\n",
       "\t 10                  & Vaga livre         \\\\\n",
       "\t 11                  & Armários na cozinha\\\\\n",
       "\t 12                  & Closet             \\\\\n",
       "\t 13                  & Armários no quarto \\\\\n",
       "\\end{tabular}\n"
      ],
      "text/markdown": [
       "\n",
       "| idcaracteristicasGerais | dsccaracteristicasGerais |\n",
       "|---|---|\n",
       "|  4                  | Salão de festas     |\n",
       "|  5                  | Área gourmet        |\n",
       "|  6                  | Água individual     |\n",
       "|  7                  | Gás canalizado      |\n",
       "|  8                  | Aquecimento solar   |\n",
       "|  9                  | Vaga coberta        |\n",
       "| 10                  | Vaga livre          |\n",
       "| 11                  | Armários na cozinha |\n",
       "| 12                  | Closet              |\n",
       "| 13                  | Armários no quarto  |\n",
       "\n"
      ],
      "text/plain": [
       "   idcaracteristicasGerais dsccaracteristicasGerais\n",
       "1   4                      Salão de festas         \n",
       "2   5                      Área gourmet            \n",
       "3   6                      Água individual         \n",
       "4   7                      Gás canalizado          \n",
       "5   8                      Aquecimento solar       \n",
       "6   9                      Vaga coberta            \n",
       "7  10                      Vaga livre              \n",
       "8  11                      Armários na cozinha     \n",
       "9  12                      Closet                  \n",
       "10 13                      Armários no quarto      "
      ]
     },
     "metadata": {},
     "output_type": "display_data"
    }
   ],
   "source": [
    "# Lé o arquivo da conexão\n",
    "connection$find()"
   ]
  },
  {
   "cell_type": "code",
   "execution_count": 60,
   "metadata": {},
   "outputs": [
    {
     "data": {
      "text/plain": [
       "List of 6\n",
       " $ nInserted  : int 3\n",
       " $ nMatched   : int 0\n",
       " $ nModified  : int 0\n",
       " $ nRemoved   : int 0\n",
       " $ nUpserted  : int 0\n",
       " $ writeErrors: list()"
      ]
     },
     "metadata": {},
     "output_type": "display_data"
    }
   ],
   "source": [
    "# Cria outra coleção e insere dados (sempre tem que inserir!!!)\n",
    "\n",
    "pessoas <- mongo(collection = \"Pessoas\", db='IGTI', url = 'mongodb://localhost:27017/')\n",
    "str <-c('{\"nome\":\"Maria\"}', '{\"nome\":\"Eduardo\",\"idade\":55}','{\"nome\":\"Flavia\",\"sexo\":\"fem\"}')\n",
    "pessoas$insert(str)"
   ]
  },
  {
   "cell_type": "code",
   "execution_count": 73,
   "metadata": {},
   "outputs": [
    {
     "data": {
      "text/html": [
       "<table>\n",
       "<thead><tr><th scope=col>nome</th><th scope=col>idade</th><th scope=col>sexo</th></tr></thead>\n",
       "<tbody>\n",
       "\t<tr><td>Maria  </td><td>NA     </td><td>NA     </td></tr>\n",
       "\t<tr><td>Eduardo</td><td>55     </td><td>NA     </td></tr>\n",
       "\t<tr><td>Flavia </td><td>NA     </td><td>fem    </td></tr>\n",
       "</tbody>\n",
       "</table>\n"
      ],
      "text/latex": [
       "\\begin{tabular}{r|lll}\n",
       " nome & idade & sexo\\\\\n",
       "\\hline\n",
       "\t Maria   & NA      & NA     \\\\\n",
       "\t Eduardo & 55      & NA     \\\\\n",
       "\t Flavia  & NA      & fem    \\\\\n",
       "\\end{tabular}\n"
      ],
      "text/markdown": [
       "\n",
       "| nome | idade | sexo |\n",
       "|---|---|---|\n",
       "| Maria   | NA      | NA      |\n",
       "| Eduardo | 55      | NA      |\n",
       "| Flavia  | NA      | fem     |\n",
       "\n"
      ],
      "text/plain": [
       "  nome    idade sexo\n",
       "1 Maria   NA    NA  \n",
       "2 Eduardo 55    NA  \n",
       "3 Flavia  NA    fem "
      ]
     },
     "metadata": {},
     "output_type": "display_data"
    }
   ],
   "source": [
    "pessoas$find()"
   ]
  },
  {
   "cell_type": "code",
   "execution_count": 74,
   "metadata": {},
   "outputs": [
    {
     "data": {
      "text/html": [
       "3"
      ],
      "text/latex": [
       "3"
      ],
      "text/markdown": [
       "3"
      ],
      "text/plain": [
       "[1] 3"
      ]
     },
     "metadata": {},
     "output_type": "display_data"
    }
   ],
   "source": [
    "pessoas$count()"
   ]
  },
  {
   "cell_type": "code",
   "execution_count": 80,
   "metadata": {},
   "outputs": [
    {
     "data": {
      "text/html": [
       "<table>\n",
       "<thead><tr><th scope=col>nome</th><th scope=col>idade</th></tr></thead>\n",
       "<tbody>\n",
       "\t<tr><td>Eduardo</td><td>55     </td></tr>\n",
       "</tbody>\n",
       "</table>\n"
      ],
      "text/latex": [
       "\\begin{tabular}{r|ll}\n",
       " nome & idade\\\\\n",
       "\\hline\n",
       "\t Eduardo & 55     \\\\\n",
       "\\end{tabular}\n"
      ],
      "text/markdown": [
       "\n",
       "| nome | idade |\n",
       "|---|---|\n",
       "| Eduardo | 55      |\n",
       "\n"
      ],
      "text/plain": [
       "  nome    idade\n",
       "1 Eduardo 55   "
      ]
     },
     "metadata": {},
     "output_type": "display_data"
    }
   ],
   "source": [
    "pessoas$find('{\"nome\":\"Eduardo\"}')"
   ]
  },
  {
   "cell_type": "code",
   "execution_count": 81,
   "metadata": {},
   "outputs": [],
   "source": [
    "pessoas$remove('{\"idade\":55}')"
   ]
  },
  {
   "cell_type": "code",
   "execution_count": 82,
   "metadata": {},
   "outputs": [
    {
     "data": {
      "text/html": [
       "<table>\n",
       "<thead><tr><th scope=col>nome</th><th scope=col>sexo</th></tr></thead>\n",
       "<tbody>\n",
       "\t<tr><td>Maria </td><td>NA    </td></tr>\n",
       "\t<tr><td>Flavia</td><td>fem   </td></tr>\n",
       "</tbody>\n",
       "</table>\n"
      ],
      "text/latex": [
       "\\begin{tabular}{r|ll}\n",
       " nome & sexo\\\\\n",
       "\\hline\n",
       "\t Maria  & NA    \\\\\n",
       "\t Flavia & fem   \\\\\n",
       "\\end{tabular}\n"
      ],
      "text/markdown": [
       "\n",
       "| nome | sexo |\n",
       "|---|---|\n",
       "| Maria  | NA     |\n",
       "| Flavia | fem    |\n",
       "\n"
      ],
      "text/plain": [
       "  nome   sexo\n",
       "1 Maria  NA  \n",
       "2 Flavia fem "
      ]
     },
     "metadata": {},
     "output_type": "display_data"
    }
   ],
   "source": [
    "pessoas$find()"
   ]
  },
  {
   "cell_type": "code",
   "execution_count": 83,
   "metadata": {},
   "outputs": [
    {
     "data": {
      "text/plain": [
       "List of 6\n",
       " $ nInserted  : int 3\n",
       " $ nMatched   : int 0\n",
       " $ nModified  : int 0\n",
       " $ nRemoved   : int 0\n",
       " $ nUpserted  : int 0\n",
       " $ writeErrors: list()"
      ]
     },
     "metadata": {},
     "output_type": "display_data"
    }
   ],
   "source": [
    "pessoas <- mongo(collection = \"Pessoas\", db='IGTI', url = 'mongodb://localhost:27017/')\n",
    "str <-c('{\"nome\":\"Laura\"}', '{\"nome\":\"Vandre\",\"idade\":45}','{\"nome\":\"Iolanda\",\"sexo\":\"mas\"}')\n",
    "pessoas$insert(str)"
   ]
  },
  {
   "cell_type": "code",
   "execution_count": 84,
   "metadata": {},
   "outputs": [
    {
     "data": {
      "text/html": [
       "<table>\n",
       "<thead><tr><th scope=col>nome</th><th scope=col>sexo</th><th scope=col>idade</th></tr></thead>\n",
       "<tbody>\n",
       "\t<tr><td>Maria  </td><td>NA     </td><td>NA     </td></tr>\n",
       "\t<tr><td>Flavia </td><td>fem    </td><td>NA     </td></tr>\n",
       "\t<tr><td>Laura  </td><td>NA     </td><td>NA     </td></tr>\n",
       "\t<tr><td>Vandre </td><td>NA     </td><td>45     </td></tr>\n",
       "\t<tr><td>Iolanda</td><td>mas    </td><td>NA     </td></tr>\n",
       "</tbody>\n",
       "</table>\n"
      ],
      "text/latex": [
       "\\begin{tabular}{r|lll}\n",
       " nome & sexo & idade\\\\\n",
       "\\hline\n",
       "\t Maria   & NA      & NA     \\\\\n",
       "\t Flavia  & fem     & NA     \\\\\n",
       "\t Laura   & NA      & NA     \\\\\n",
       "\t Vandre  & NA      & 45     \\\\\n",
       "\t Iolanda & mas     & NA     \\\\\n",
       "\\end{tabular}\n"
      ],
      "text/markdown": [
       "\n",
       "| nome | sexo | idade |\n",
       "|---|---|---|\n",
       "| Maria   | NA      | NA      |\n",
       "| Flavia  | fem     | NA      |\n",
       "| Laura   | NA      | NA      |\n",
       "| Vandre  | NA      | 45      |\n",
       "| Iolanda | mas     | NA      |\n",
       "\n"
      ],
      "text/plain": [
       "  nome    sexo idade\n",
       "1 Maria   NA   NA   \n",
       "2 Flavia  fem  NA   \n",
       "3 Laura   NA   NA   \n",
       "4 Vandre  NA   45   \n",
       "5 Iolanda mas  NA   "
      ]
     },
     "metadata": {},
     "output_type": "display_data"
    }
   ],
   "source": [
    "pessoas$find()"
   ]
  },
  {
   "cell_type": "code",
   "execution_count": 85,
   "metadata": {},
   "outputs": [
    {
     "data": {
      "text/plain": [
       "List of 6\n",
       " $ nInserted  : int 3\n",
       " $ nMatched   : int 0\n",
       " $ nModified  : int 0\n",
       " $ nRemoved   : int 0\n",
       " $ nUpserted  : int 0\n",
       " $ writeErrors: list()"
      ]
     },
     "metadata": {},
     "output_type": "display_data"
    }
   ],
   "source": [
    "pessoas <- mongo(collection = \"Pessoas\", db='IGTI', url = 'mongodb://localhost:27017/')\n",
    "str <-c('{\"nome\":\"Laura\"}', '{\"nome\":\"Eduardo\",\"idade\":55,\"sexo\":\"mas\",\"armas\":9}','{\"nome\":\"Fernanda\",\"sexo\":\"mas\"}')\n",
    "pessoas$insert(str)"
   ]
  },
  {
   "cell_type": "code",
   "execution_count": 86,
   "metadata": {},
   "outputs": [
    {
     "data": {
      "text/html": [
       "<table>\n",
       "<thead><tr><th scope=col>nome</th><th scope=col>sexo</th><th scope=col>idade</th><th scope=col>armas</th></tr></thead>\n",
       "<tbody>\n",
       "\t<tr><td>Maria   </td><td>NA      </td><td>NA      </td><td>NA      </td></tr>\n",
       "\t<tr><td>Flavia  </td><td>fem     </td><td>NA      </td><td>NA      </td></tr>\n",
       "\t<tr><td>Laura   </td><td>NA      </td><td>NA      </td><td>NA      </td></tr>\n",
       "\t<tr><td>Vandre  </td><td>NA      </td><td>45      </td><td>NA      </td></tr>\n",
       "\t<tr><td>Iolanda </td><td>mas     </td><td>NA      </td><td>NA      </td></tr>\n",
       "\t<tr><td>Laura   </td><td>NA      </td><td>NA      </td><td>NA      </td></tr>\n",
       "\t<tr><td>Eduardo </td><td>mas     </td><td>55      </td><td> 9      </td></tr>\n",
       "\t<tr><td>Fernanda</td><td>mas     </td><td>NA      </td><td>NA      </td></tr>\n",
       "</tbody>\n",
       "</table>\n"
      ],
      "text/latex": [
       "\\begin{tabular}{r|llll}\n",
       " nome & sexo & idade & armas\\\\\n",
       "\\hline\n",
       "\t Maria    & NA       & NA       & NA      \\\\\n",
       "\t Flavia   & fem      & NA       & NA      \\\\\n",
       "\t Laura    & NA       & NA       & NA      \\\\\n",
       "\t Vandre   & NA       & 45       & NA      \\\\\n",
       "\t Iolanda  & mas      & NA       & NA      \\\\\n",
       "\t Laura    & NA       & NA       & NA      \\\\\n",
       "\t Eduardo  & mas      & 55       &  9      \\\\\n",
       "\t Fernanda & mas      & NA       & NA      \\\\\n",
       "\\end{tabular}\n"
      ],
      "text/markdown": [
       "\n",
       "| nome | sexo | idade | armas |\n",
       "|---|---|---|---|\n",
       "| Maria    | NA       | NA       | NA       |\n",
       "| Flavia   | fem      | NA       | NA       |\n",
       "| Laura    | NA       | NA       | NA       |\n",
       "| Vandre   | NA       | 45       | NA       |\n",
       "| Iolanda  | mas      | NA       | NA       |\n",
       "| Laura    | NA       | NA       | NA       |\n",
       "| Eduardo  | mas      | 55       |  9       |\n",
       "| Fernanda | mas      | NA       | NA       |\n",
       "\n"
      ],
      "text/plain": [
       "  nome     sexo idade armas\n",
       "1 Maria    NA   NA    NA   \n",
       "2 Flavia   fem  NA    NA   \n",
       "3 Laura    NA   NA    NA   \n",
       "4 Vandre   NA   45    NA   \n",
       "5 Iolanda  mas  NA    NA   \n",
       "6 Laura    NA   NA    NA   \n",
       "7 Eduardo  mas  55     9   \n",
       "8 Fernanda mas  NA    NA   "
      ]
     },
     "metadata": {},
     "output_type": "display_data"
    }
   ],
   "source": [
    "pessoas$find()"
   ]
  },
  {
   "cell_type": "code",
   "execution_count": 91,
   "metadata": {},
   "outputs": [
    {
     "data": {
      "text/plain": [
       "List of 3\n",
       " $ modifiedCount: int 1\n",
       " $ matchedCount : int 1\n",
       " $ upsertedCount: int 0"
      ]
     },
     "metadata": {},
     "output_type": "display_data"
    }
   ],
   "source": [
    "# uptade em um registro espefífico\n",
    "\n",
    "pessoas$update('{\"nome\":\"Fernanda\"}','{\"$set\":{\"filhos\":2,\"saude\":\"Covid\"}}')"
   ]
  },
  {
   "cell_type": "code",
   "execution_count": 92,
   "metadata": {},
   "outputs": [
    {
     "data": {
      "text/html": [
       "<table>\n",
       "<thead><tr><th scope=col>nome</th><th scope=col>sexo</th><th scope=col>idade</th><th scope=col>profissao</th><th scope=col>armas</th><th scope=col>filhos</th><th scope=col>saude</th></tr></thead>\n",
       "<tbody>\n",
       "\t<tr><td>Maria   </td><td>NA      </td><td>NA      </td><td>NA      </td><td>NA      </td><td>NA      </td><td>NA      </td></tr>\n",
       "\t<tr><td>Flavia  </td><td>fem     </td><td>NA      </td><td>NA      </td><td>NA      </td><td>NA      </td><td>NA      </td></tr>\n",
       "\t<tr><td>Laura   </td><td>NA      </td><td>17      </td><td>Perita  </td><td>NA      </td><td>NA      </td><td>NA      </td></tr>\n",
       "\t<tr><td>Vandre  </td><td>NA      </td><td>45      </td><td>NA      </td><td>NA      </td><td>NA      </td><td>NA      </td></tr>\n",
       "\t<tr><td>Iolanda </td><td>mas     </td><td>NA      </td><td>NA      </td><td>NA      </td><td>NA      </td><td>NA      </td></tr>\n",
       "\t<tr><td>Laura   </td><td>NA      </td><td>NA      </td><td>NA      </td><td>NA      </td><td>NA      </td><td>NA      </td></tr>\n",
       "\t<tr><td>Eduardo </td><td>mas     </td><td>55      </td><td>NA      </td><td> 9      </td><td>NA      </td><td>NA      </td></tr>\n",
       "\t<tr><td>Fernanda</td><td>mas     </td><td>NA      </td><td>NA      </td><td>NA      </td><td> 2      </td><td>Covid   </td></tr>\n",
       "</tbody>\n",
       "</table>\n"
      ],
      "text/latex": [
       "\\begin{tabular}{r|lllllll}\n",
       " nome & sexo & idade & profissao & armas & filhos & saude\\\\\n",
       "\\hline\n",
       "\t Maria    & NA       & NA       & NA       & NA       & NA       & NA      \\\\\n",
       "\t Flavia   & fem      & NA       & NA       & NA       & NA       & NA      \\\\\n",
       "\t Laura    & NA       & 17       & Perita   & NA       & NA       & NA      \\\\\n",
       "\t Vandre   & NA       & 45       & NA       & NA       & NA       & NA      \\\\\n",
       "\t Iolanda  & mas      & NA       & NA       & NA       & NA       & NA      \\\\\n",
       "\t Laura    & NA       & NA       & NA       & NA       & NA       & NA      \\\\\n",
       "\t Eduardo  & mas      & 55       & NA       &  9       & NA       & NA      \\\\\n",
       "\t Fernanda & mas      & NA       & NA       & NA       &  2       & Covid   \\\\\n",
       "\\end{tabular}\n"
      ],
      "text/markdown": [
       "\n",
       "| nome | sexo | idade | profissao | armas | filhos | saude |\n",
       "|---|---|---|---|---|---|---|\n",
       "| Maria    | NA       | NA       | NA       | NA       | NA       | NA       |\n",
       "| Flavia   | fem      | NA       | NA       | NA       | NA       | NA       |\n",
       "| Laura    | NA       | 17       | Perita   | NA       | NA       | NA       |\n",
       "| Vandre   | NA       | 45       | NA       | NA       | NA       | NA       |\n",
       "| Iolanda  | mas      | NA       | NA       | NA       | NA       | NA       |\n",
       "| Laura    | NA       | NA       | NA       | NA       | NA       | NA       |\n",
       "| Eduardo  | mas      | 55       | NA       |  9       | NA       | NA       |\n",
       "| Fernanda | mas      | NA       | NA       | NA       |  2       | Covid    |\n",
       "\n"
      ],
      "text/plain": [
       "  nome     sexo idade profissao armas filhos saude\n",
       "1 Maria    NA   NA    NA        NA    NA     NA   \n",
       "2 Flavia   fem  NA    NA        NA    NA     NA   \n",
       "3 Laura    NA   17    Perita    NA    NA     NA   \n",
       "4 Vandre   NA   45    NA        NA    NA     NA   \n",
       "5 Iolanda  mas  NA    NA        NA    NA     NA   \n",
       "6 Laura    NA   NA    NA        NA    NA     NA   \n",
       "7 Eduardo  mas  55    NA         9    NA     NA   \n",
       "8 Fernanda mas  NA    NA        NA     2     Covid"
      ]
     },
     "metadata": {},
     "output_type": "display_data"
    }
   ],
   "source": [
    "pessoas$find()"
   ]
  },
  {
   "cell_type": "code",
   "execution_count": null,
   "metadata": {},
   "outputs": [],
   "source": []
  },
  {
   "cell_type": "code",
   "execution_count": null,
   "metadata": {},
   "outputs": [],
   "source": [
    "#########################################################################################################"
   ]
  },
  {
   "cell_type": "code",
   "execution_count": null,
   "metadata": {},
   "outputs": [],
   "source": []
  },
  {
   "cell_type": "markdown",
   "metadata": {},
   "source": [
    "## Aula 3.5. Coleta de dados NoSQL: Exemplo utilizando a linguagem R"
   ]
  },
  {
   "cell_type": "markdown",
   "metadata": {},
   "source": [
    "## ATENÇÃO: COMO EU NÃO TINHA O ARQUIVO ORIGINAL, EU PEGUEI NA INTERNET UM ARQUIVO ONDE TODOS OS CAMPOS ERAM STRING. EU DETERMINADO MOMENTO (NA HORA DE VER UMA ESTATÍSTICA E PLOTAR O GRAFICO) EU NECESSITEI CONVERTER OS CAMPOS DE UM  DATAFRAME E DEPOIS OS COLOQUEI NO BANCO DE DADOS, PARA FICAR IGUAL AO DA PROFESSORA."
   ]
  },
  {
   "cell_type": "code",
   "execution_count": 7,
   "metadata": {},
   "outputs": [],
   "source": [
    "# instalar pacote\n",
    "\n",
    "#install.packages('mongolite')"
   ]
  },
  {
   "cell_type": "code",
   "execution_count": 193,
   "metadata": {},
   "outputs": [],
   "source": [
    "# Importação de biblioteca\n",
    "\n",
    "require(mongolite)"
   ]
  },
  {
   "cell_type": "code",
   "execution_count": 226,
   "metadata": {},
   "outputs": [
    {
     "name": "stdout",
     "output_type": "stream",
     "text": [
      "[1] \"Conectado ao DB!\"\n"
     ]
    }
   ],
   "source": [
    "# conexão ao mongo db\n",
    "#connection <- mongo(collection = \"Cidades\", db='IGTI', url = 'mongodb://localhost:27017/')\n",
    "\n",
    "\n",
    "iris <- mongo(collection = 'Iriscsv', db='IGTI', url = 'mongodb://localhost:27017/')\n",
    "print('Conectado ao DB!')"
   ]
  },
  {
   "cell_type": "code",
   "execution_count": 227,
   "metadata": {},
   "outputs": [
    {
     "data": {
      "text/html": [
       "<table>\n",
       "<thead><tr><th scope=col>sepal_length</th><th scope=col>sepal_width</th><th scope=col>petal_length</th><th scope=col>petal_width</th><th scope=col>species</th></tr></thead>\n",
       "<tbody>\n",
       "\t<tr><td>5.1        </td><td>3.5        </td><td>1.4        </td><td>0.2        </td><td>Iris-setosa</td></tr>\n",
       "\t<tr><td>4.9        </td><td>3          </td><td>1.4        </td><td>0.2        </td><td>Iris-setosa</td></tr>\n",
       "\t<tr><td>4.7        </td><td>3.2        </td><td>1.3        </td><td>0.2        </td><td>Iris-setosa</td></tr>\n",
       "\t<tr><td>4.6        </td><td>3.1        </td><td>1.5        </td><td>0.2        </td><td>Iris-setosa</td></tr>\n",
       "\t<tr><td>5          </td><td>3.6        </td><td>1.4        </td><td>0.2        </td><td>Iris-setosa</td></tr>\n",
       "\t<tr><td>5.4        </td><td>3.9        </td><td>1.7        </td><td>0.4        </td><td>Iris-setosa</td></tr>\n",
       "\t<tr><td>4.6        </td><td>3.4        </td><td>1.4        </td><td>0.3        </td><td>Iris-setosa</td></tr>\n",
       "\t<tr><td>5          </td><td>3.4        </td><td>1.5        </td><td>0.2        </td><td>Iris-setosa</td></tr>\n",
       "\t<tr><td>4.4        </td><td>2.9        </td><td>1.4        </td><td>0.2        </td><td>Iris-setosa</td></tr>\n",
       "\t<tr><td>4.9        </td><td>3.1        </td><td>1.5        </td><td>0.1        </td><td>Iris-setosa</td></tr>\n",
       "</tbody>\n",
       "</table>\n"
      ],
      "text/latex": [
       "\\begin{tabular}{r|lllll}\n",
       " sepal\\_length & sepal\\_width & petal\\_length & petal\\_width & species\\\\\n",
       "\\hline\n",
       "\t 5.1         & 3.5         & 1.4         & 0.2         & Iris-setosa\\\\\n",
       "\t 4.9         & 3           & 1.4         & 0.2         & Iris-setosa\\\\\n",
       "\t 4.7         & 3.2         & 1.3         & 0.2         & Iris-setosa\\\\\n",
       "\t 4.6         & 3.1         & 1.5         & 0.2         & Iris-setosa\\\\\n",
       "\t 5           & 3.6         & 1.4         & 0.2         & Iris-setosa\\\\\n",
       "\t 5.4         & 3.9         & 1.7         & 0.4         & Iris-setosa\\\\\n",
       "\t 4.6         & 3.4         & 1.4         & 0.3         & Iris-setosa\\\\\n",
       "\t 5           & 3.4         & 1.5         & 0.2         & Iris-setosa\\\\\n",
       "\t 4.4         & 2.9         & 1.4         & 0.2         & Iris-setosa\\\\\n",
       "\t 4.9         & 3.1         & 1.5         & 0.1         & Iris-setosa\\\\\n",
       "\\end{tabular}\n"
      ],
      "text/markdown": [
       "\n",
       "| sepal_length | sepal_width | petal_length | petal_width | species |\n",
       "|---|---|---|---|---|\n",
       "| 5.1         | 3.5         | 1.4         | 0.2         | Iris-setosa |\n",
       "| 4.9         | 3           | 1.4         | 0.2         | Iris-setosa |\n",
       "| 4.7         | 3.2         | 1.3         | 0.2         | Iris-setosa |\n",
       "| 4.6         | 3.1         | 1.5         | 0.2         | Iris-setosa |\n",
       "| 5           | 3.6         | 1.4         | 0.2         | Iris-setosa |\n",
       "| 5.4         | 3.9         | 1.7         | 0.4         | Iris-setosa |\n",
       "| 4.6         | 3.4         | 1.4         | 0.3         | Iris-setosa |\n",
       "| 5           | 3.4         | 1.5         | 0.2         | Iris-setosa |\n",
       "| 4.4         | 2.9         | 1.4         | 0.2         | Iris-setosa |\n",
       "| 4.9         | 3.1         | 1.5         | 0.1         | Iris-setosa |\n",
       "\n"
      ],
      "text/plain": [
       "   sepal_length sepal_width petal_length petal_width species    \n",
       "1  5.1          3.5         1.4          0.2         Iris-setosa\n",
       "2  4.9          3           1.4          0.2         Iris-setosa\n",
       "3  4.7          3.2         1.3          0.2         Iris-setosa\n",
       "4  4.6          3.1         1.5          0.2         Iris-setosa\n",
       "5  5            3.6         1.4          0.2         Iris-setosa\n",
       "6  5.4          3.9         1.7          0.4         Iris-setosa\n",
       "7  4.6          3.4         1.4          0.3         Iris-setosa\n",
       "8  5            3.4         1.5          0.2         Iris-setosa\n",
       "9  4.4          2.9         1.4          0.2         Iris-setosa\n",
       "10 4.9          3.1         1.5          0.1         Iris-setosa"
      ]
     },
     "metadata": {},
     "output_type": "display_data"
    }
   ],
   "source": [
    "# consultado o BD\n",
    "\n",
    "iris$find(limit=10)"
   ]
  },
  {
   "cell_type": "code",
   "execution_count": 228,
   "metadata": {},
   "outputs": [
    {
     "data": {
      "text/html": [
       "150"
      ],
      "text/latex": [
       "150"
      ],
      "text/markdown": [
       "150"
      ],
      "text/plain": [
       "[1] 150"
      ]
     },
     "metadata": {},
     "output_type": "display_data"
    }
   ],
   "source": [
    "iris$count()"
   ]
  },
  {
   "cell_type": "code",
   "execution_count": 229,
   "metadata": {},
   "outputs": [],
   "source": [
    "# atenção! olhe aqui o dataframe\n",
    "\n",
    "iris.df = iris$find()\n"
   ]
  },
  {
   "cell_type": "code",
   "execution_count": 230,
   "metadata": {},
   "outputs": [
    {
     "name": "stdout",
     "output_type": "stream",
     "text": [
      "[1] \"Numero de colunas:  5\"\n",
      "[1] \"Numero de linhas:  150\"\n",
      "[1] \"Tamanho:  5\"\n"
     ]
    }
   ],
   "source": [
    "print(paste('Numero de colunas: ', ncol(iris.df)))\n",
    "print(paste('Numero de linhas: ', nrow(iris.df)))\n",
    "print(paste('Tamanho: ', length(iris.df)))"
   ]
  },
  {
   "cell_type": "code",
   "execution_count": 231,
   "metadata": {},
   "outputs": [
    {
     "data": {
      "text/html": [
       "<table>\n",
       "<thead><tr><th scope=col>sepal_length</th><th scope=col>sepal_width</th><th scope=col>petal_length</th><th scope=col>petal_width</th><th scope=col>species</th></tr></thead>\n",
       "<tbody>\n",
       "\t<tr><td>5.1        </td><td>3.5        </td><td>1.4        </td><td>0.2        </td><td>Iris-setosa</td></tr>\n",
       "\t<tr><td>4.9        </td><td>3          </td><td>1.4        </td><td>0.2        </td><td>Iris-setosa</td></tr>\n",
       "\t<tr><td>4.7        </td><td>3.2        </td><td>1.3        </td><td>0.2        </td><td>Iris-setosa</td></tr>\n",
       "</tbody>\n",
       "</table>\n"
      ],
      "text/latex": [
       "\\begin{tabular}{r|lllll}\n",
       " sepal\\_length & sepal\\_width & petal\\_length & petal\\_width & species\\\\\n",
       "\\hline\n",
       "\t 5.1         & 3.5         & 1.4         & 0.2         & Iris-setosa\\\\\n",
       "\t 4.9         & 3           & 1.4         & 0.2         & Iris-setosa\\\\\n",
       "\t 4.7         & 3.2         & 1.3         & 0.2         & Iris-setosa\\\\\n",
       "\\end{tabular}\n"
      ],
      "text/markdown": [
       "\n",
       "| sepal_length | sepal_width | petal_length | petal_width | species |\n",
       "|---|---|---|---|---|\n",
       "| 5.1         | 3.5         | 1.4         | 0.2         | Iris-setosa |\n",
       "| 4.9         | 3           | 1.4         | 0.2         | Iris-setosa |\n",
       "| 4.7         | 3.2         | 1.3         | 0.2         | Iris-setosa |\n",
       "\n"
      ],
      "text/plain": [
       "  sepal_length sepal_width petal_length petal_width species    \n",
       "1 5.1          3.5         1.4          0.2         Iris-setosa\n",
       "2 4.9          3           1.4          0.2         Iris-setosa\n",
       "3 4.7          3.2         1.3          0.2         Iris-setosa"
      ]
     },
     "metadata": {},
     "output_type": "display_data"
    }
   ],
   "source": [
    "# imprime as 3 linhas\n",
    "\n",
    "head(iris.df,3)"
   ]
  },
  {
   "cell_type": "code",
   "execution_count": 232,
   "metadata": {},
   "outputs": [],
   "source": [
    "iris.df2 <- iris.df"
   ]
  },
  {
   "cell_type": "code",
   "execution_count": null,
   "metadata": {},
   "outputs": [],
   "source": []
  },
  {
   "cell_type": "code",
   "execution_count": 233,
   "metadata": {},
   "outputs": [],
   "source": [
    "# imprime os nomes das linhas e colunas"
   ]
  },
  {
   "cell_type": "code",
   "execution_count": 234,
   "metadata": {},
   "outputs": [
    {
     "name": "stdout",
     "output_type": "stream",
     "text": [
      "  [1] \"1\"   \"2\"   \"3\"   \"4\"   \"5\"   \"6\"   \"7\"   \"8\"   \"9\"   \"10\"  \"11\"  \"12\" \n",
      " [13] \"13\"  \"14\"  \"15\"  \"16\"  \"17\"  \"18\"  \"19\"  \"20\"  \"21\"  \"22\"  \"23\"  \"24\" \n",
      " [25] \"25\"  \"26\"  \"27\"  \"28\"  \"29\"  \"30\"  \"31\"  \"32\"  \"33\"  \"34\"  \"35\"  \"36\" \n",
      " [37] \"37\"  \"38\"  \"39\"  \"40\"  \"41\"  \"42\"  \"43\"  \"44\"  \"45\"  \"46\"  \"47\"  \"48\" \n",
      " [49] \"49\"  \"50\"  \"51\"  \"52\"  \"53\"  \"54\"  \"55\"  \"56\"  \"57\"  \"58\"  \"59\"  \"60\" \n",
      " [61] \"61\"  \"62\"  \"63\"  \"64\"  \"65\"  \"66\"  \"67\"  \"68\"  \"69\"  \"70\"  \"71\"  \"72\" \n",
      " [73] \"73\"  \"74\"  \"75\"  \"76\"  \"77\"  \"78\"  \"79\"  \"80\"  \"81\"  \"82\"  \"83\"  \"84\" \n",
      " [85] \"85\"  \"86\"  \"87\"  \"88\"  \"89\"  \"90\"  \"91\"  \"92\"  \"93\"  \"94\"  \"95\"  \"96\" \n",
      " [97] \"97\"  \"98\"  \"99\"  \"100\" \"101\" \"102\" \"103\" \"104\" \"105\" \"106\" \"107\" \"108\"\n",
      "[109] \"109\" \"110\" \"111\" \"112\" \"113\" \"114\" \"115\" \"116\" \"117\" \"118\" \"119\" \"120\"\n",
      "[121] \"121\" \"122\" \"123\" \"124\" \"125\" \"126\" \"127\" \"128\" \"129\" \"130\" \"131\" \"132\"\n",
      "[133] \"133\" \"134\" \"135\" \"136\" \"137\" \"138\" \"139\" \"140\" \"141\" \"142\" \"143\" \"144\"\n",
      "[145] \"145\" \"146\" \"147\" \"148\" \"149\" \"150\"\n"
     ]
    }
   ],
   "source": [
    "print(rownames(iris.df))"
   ]
  },
  {
   "cell_type": "code",
   "execution_count": 235,
   "metadata": {},
   "outputs": [
    {
     "name": "stdout",
     "output_type": "stream",
     "text": [
      "[1] \"sepal_length\" \"sepal_width\"  \"petal_length\" \"petal_width\"  \"species\"     \n"
     ]
    }
   ],
   "source": [
    "print(colnames(iris.df))"
   ]
  },
  {
   "cell_type": "code",
   "execution_count": 236,
   "metadata": {},
   "outputs": [],
   "source": [
    "# grava arquivo csv\n",
    "write.csv(iris.df,'E:/MEUS DOCUMENTOS/001 Estudo/IGTI - BOOTCAMP/modulo2/arquivos/irisstring.csv')"
   ]
  },
  {
   "cell_type": "code",
   "execution_count": null,
   "metadata": {},
   "outputs": [],
   "source": []
  },
  {
   "cell_type": "code",
   "execution_count": 237,
   "metadata": {},
   "outputs": [
    {
     "data": {
      "text/html": [
       "<table>\n",
       "<thead><tr><th scope=col>sepal_length</th><th scope=col>sepal_width</th><th scope=col>petal_length</th><th scope=col>petal_width</th><th scope=col>species</th></tr></thead>\n",
       "<tbody>\n",
       "\t<tr><td>5.1        </td><td>3.5        </td><td>1.4        </td><td>0.2        </td><td>Iris-setosa</td></tr>\n",
       "\t<tr><td>4.9        </td><td>3          </td><td>1.4        </td><td>0.2        </td><td>Iris-setosa</td></tr>\n",
       "\t<tr><td>4.7        </td><td>3.2        </td><td>1.3        </td><td>0.2        </td><td>Iris-setosa</td></tr>\n",
       "\t<tr><td>4.6        </td><td>3.1        </td><td>1.5        </td><td>0.2        </td><td>Iris-setosa</td></tr>\n",
       "\t<tr><td>5          </td><td>3.6        </td><td>1.4        </td><td>0.2        </td><td>Iris-setosa</td></tr>\n",
       "\t<tr><td>5.4        </td><td>3.9        </td><td>1.7        </td><td>0.4        </td><td>Iris-setosa</td></tr>\n",
       "</tbody>\n",
       "</table>\n"
      ],
      "text/latex": [
       "\\begin{tabular}{r|lllll}\n",
       " sepal\\_length & sepal\\_width & petal\\_length & petal\\_width & species\\\\\n",
       "\\hline\n",
       "\t 5.1         & 3.5         & 1.4         & 0.2         & Iris-setosa\\\\\n",
       "\t 4.9         & 3           & 1.4         & 0.2         & Iris-setosa\\\\\n",
       "\t 4.7         & 3.2         & 1.3         & 0.2         & Iris-setosa\\\\\n",
       "\t 4.6         & 3.1         & 1.5         & 0.2         & Iris-setosa\\\\\n",
       "\t 5           & 3.6         & 1.4         & 0.2         & Iris-setosa\\\\\n",
       "\t 5.4         & 3.9         & 1.7         & 0.4         & Iris-setosa\\\\\n",
       "\\end{tabular}\n"
      ],
      "text/markdown": [
       "\n",
       "| sepal_length | sepal_width | petal_length | petal_width | species |\n",
       "|---|---|---|---|---|\n",
       "| 5.1         | 3.5         | 1.4         | 0.2         | Iris-setosa |\n",
       "| 4.9         | 3           | 1.4         | 0.2         | Iris-setosa |\n",
       "| 4.7         | 3.2         | 1.3         | 0.2         | Iris-setosa |\n",
       "| 4.6         | 3.1         | 1.5         | 0.2         | Iris-setosa |\n",
       "| 5           | 3.6         | 1.4         | 0.2         | Iris-setosa |\n",
       "| 5.4         | 3.9         | 1.7         | 0.4         | Iris-setosa |\n",
       "\n"
      ],
      "text/plain": [
       "  sepal_length sepal_width petal_length petal_width species    \n",
       "1 5.1          3.5         1.4          0.2         Iris-setosa\n",
       "2 4.9          3           1.4          0.2         Iris-setosa\n",
       "3 4.7          3.2         1.3          0.2         Iris-setosa\n",
       "4 4.6          3.1         1.5          0.2         Iris-setosa\n",
       "5 5            3.6         1.4          0.2         Iris-setosa\n",
       "6 5.4          3.9         1.7          0.4         Iris-setosa"
      ]
     },
     "metadata": {},
     "output_type": "display_data"
    }
   ],
   "source": [
    "# cria outro df idêntico\n",
    "\n",
    "iris.df2 <- iris.df\n",
    "head(iris.df2)"
   ]
  },
  {
   "cell_type": "code",
   "execution_count": 238,
   "metadata": {},
   "outputs": [
    {
     "name": "stdout",
     "output_type": "stream",
     "text": [
      "[1] \"Colunas do dataframe 2: \"\n",
      "[1] \"sepal_length\" \"sepal_width\"  \"petal_length\" \"petal_width\"  \"species\"     \n"
     ]
    }
   ],
   "source": [
    "print('Colunas do dataframe 2: ')\n",
    "print(colnames(iris.df2))\n"
   ]
  },
  {
   "cell_type": "code",
   "execution_count": 239,
   "metadata": {},
   "outputs": [],
   "source": [
    "# remover colunas\n",
    "\n",
    "iris.df2$species <- NULL"
   ]
  },
  {
   "cell_type": "code",
   "execution_count": 246,
   "metadata": {},
   "outputs": [
    {
     "data": {
      "text/html": [
       "<table>\n",
       "<thead><tr><th scope=col>sepal_length</th><th scope=col>sepal_width</th><th scope=col>petal_length</th><th scope=col>petal_width</th></tr></thead>\n",
       "<tbody>\n",
       "\t<tr><td>5.1</td><td>3.5</td><td>1.4</td><td>0.2</td></tr>\n",
       "\t<tr><td>4.9</td><td>3  </td><td>1.4</td><td>0.2</td></tr>\n",
       "\t<tr><td>4.7</td><td>3.2</td><td>1.3</td><td>0.2</td></tr>\n",
       "\t<tr><td>4.6</td><td>3.1</td><td>1.5</td><td>0.2</td></tr>\n",
       "\t<tr><td>5  </td><td>3.6</td><td>1.4</td><td>0.2</td></tr>\n",
       "\t<tr><td>5.4</td><td>3.9</td><td>1.7</td><td>0.4</td></tr>\n",
       "</tbody>\n",
       "</table>\n"
      ],
      "text/latex": [
       "\\begin{tabular}{r|llll}\n",
       " sepal\\_length & sepal\\_width & petal\\_length & petal\\_width\\\\\n",
       "\\hline\n",
       "\t 5.1 & 3.5 & 1.4 & 0.2\\\\\n",
       "\t 4.9 & 3   & 1.4 & 0.2\\\\\n",
       "\t 4.7 & 3.2 & 1.3 & 0.2\\\\\n",
       "\t 4.6 & 3.1 & 1.5 & 0.2\\\\\n",
       "\t 5   & 3.6 & 1.4 & 0.2\\\\\n",
       "\t 5.4 & 3.9 & 1.7 & 0.4\\\\\n",
       "\\end{tabular}\n"
      ],
      "text/markdown": [
       "\n",
       "| sepal_length | sepal_width | petal_length | petal_width |\n",
       "|---|---|---|---|\n",
       "| 5.1 | 3.5 | 1.4 | 0.2 |\n",
       "| 4.9 | 3   | 1.4 | 0.2 |\n",
       "| 4.7 | 3.2 | 1.3 | 0.2 |\n",
       "| 4.6 | 3.1 | 1.5 | 0.2 |\n",
       "| 5   | 3.6 | 1.4 | 0.2 |\n",
       "| 5.4 | 3.9 | 1.7 | 0.4 |\n",
       "\n"
      ],
      "text/plain": [
       "  sepal_length sepal_width petal_length petal_width\n",
       "1 5.1          3.5         1.4          0.2        \n",
       "2 4.9          3           1.4          0.2        \n",
       "3 4.7          3.2         1.3          0.2        \n",
       "4 4.6          3.1         1.5          0.2        \n",
       "5 5            3.6         1.4          0.2        \n",
       "6 5.4          3.9         1.7          0.4        "
      ]
     },
     "metadata": {},
     "output_type": "display_data"
    }
   ],
   "source": [
    "head(iris.df2)"
   ]
  },
  {
   "cell_type": "code",
   "execution_count": 247,
   "metadata": {},
   "outputs": [
    {
     "name": "stdout",
     "output_type": "stream",
     "text": [
      "[1] \"Colunas do dataframe 2 após setar como NULL: \"\n",
      "[1] \"sepal_length\" \"sepal_width\"  \"petal_length\" \"petal_width\" \n"
     ]
    }
   ],
   "source": [
    "print('Colunas do dataframe 2 após setar como NULL: ')\n",
    "print(colnames(iris.df2))"
   ]
  },
  {
   "cell_type": "code",
   "execution_count": 248,
   "metadata": {},
   "outputs": [
    {
     "name": "stdout",
     "output_type": "stream",
     "text": [
      "[1] \"Colunas do dataframe 2 após renomear: \"\n",
      "[1] \"Comprimento_Sepala\" \"Largura_Sepala\"     \"Comprimento_Petala\"\n",
      "[4] \"Largura_Petala\"    \n"
     ]
    }
   ],
   "source": [
    "# renomar colunas do dataframe\n",
    "\n",
    "colnames(iris.df2)[1] <- 'Comprimento_Sepala'\n",
    "colnames(iris.df2)[2] <- 'Largura_Sepala'\n",
    "colnames(iris.df2)[3] <- 'Comprimento_Petala'\n",
    "colnames(iris.df2)[4] <- 'Largura_Petala'\n",
    "\n",
    "print('Colunas do dataframe 2 após renomear: ')\n",
    "print(colnames(iris.df2))"
   ]
  },
  {
   "cell_type": "code",
   "execution_count": 249,
   "metadata": {},
   "outputs": [
    {
     "data": {
      "text/plain": [
       " Comprimento_Sepala Largura_Sepala     Comprimento_Petala Largura_Petala    \n",
       " Length:150         Length:150         Length:150         Length:150        \n",
       " Class :character   Class :character   Class :character   Class :character  \n",
       " Mode  :character   Mode  :character   Mode  :character   Mode  :character  "
      ]
     },
     "metadata": {},
     "output_type": "display_data"
    }
   ],
   "source": [
    "# ESTATÍSTICA SOBRE O DATAFRAME\n",
    "\n",
    "summary(iris.df2)"
   ]
  },
  {
   "cell_type": "code",
   "execution_count": 250,
   "metadata": {},
   "outputs": [
    {
     "ename": "ERROR",
     "evalue": "Error in x[floor(d)] + x[ceiling(d)]: argumento não-numérico para operador binário\n",
     "output_type": "error",
     "traceback": [
      "Error in x[floor(d)] + x[ceiling(d)]: argumento não-numérico para operador binário\nTraceback:\n",
      "1. boxplot(iris.df2, col = 3, ylab = \"Valores(cm)\", xlab = \"Característica\")",
      "2. boxplot.default(iris.df2, col = 3, ylab = \"Valores(cm)\", xlab = \"Característica\")",
      "3. boxplot.stats(unclass(groups[[i]]), range)",
      "4. stats::fivenum(x, na.rm = TRUE)"
     ]
    }
   ],
   "source": [
    "# GRÁFICO\n",
    "\n",
    "boxplot(iris.df2,col=3, ylab=\"Valores(cm)\", xlab=\"Característica\")"
   ]
  },
  {
   "cell_type": "markdown",
   "metadata": {},
   "source": [
    "### DEU ERRO POIS TUDO É STRING E TINHA QUE SER NUMERO....\n",
    "### ENTÃO EM CONVERTI CADA COLUNA PARA NUMÉRICO"
   ]
  },
  {
   "cell_type": "code",
   "execution_count": 251,
   "metadata": {},
   "outputs": [],
   "source": [
    "# CONVERSÃO DE CADA COLUNA PARA NUMÉRICO\n",
    "\n",
    "iris.df3 <- iris.df2\n",
    "iris.df3[1] <- as.numeric(as.character(iris.df3[1]$Comprimento_Sepala))\n",
    "iris.df3[2] <- as.numeric(as.character(iris.df3[2]$Largura_Sepala))\n",
    "iris.df3[3] <- as.numeric(as.character(iris.df3[3]$Comprimento_Petala))\n",
    "iris.df3[4] <- as.numeric(as.character(iris.df3[4]$Largura_Petala))"
   ]
  },
  {
   "cell_type": "code",
   "execution_count": 252,
   "metadata": {},
   "outputs": [
    {
     "data": {
      "text/plain": [
       " Comprimento_Sepala Largura_Sepala  Comprimento_Petala Largura_Petala \n",
       " Min.   :4.300      Min.   :2.000   Min.   :1.000      Min.   :0.100  \n",
       " 1st Qu.:5.100      1st Qu.:2.800   1st Qu.:1.600      1st Qu.:0.300  \n",
       " Median :5.800      Median :3.000   Median :4.350      Median :1.300  \n",
       " Mean   :5.843      Mean   :3.054   Mean   :3.759      Mean   :1.199  \n",
       " 3rd Qu.:6.400      3rd Qu.:3.300   3rd Qu.:5.100      3rd Qu.:1.800  \n",
       " Max.   :7.900      Max.   :4.400   Max.   :6.900      Max.   :2.500  "
      ]
     },
     "metadata": {},
     "output_type": "display_data"
    }
   ],
   "source": [
    "# AGORA FUNCIONA A ESTATÍSTICA\n",
    "\n",
    "summary(iris.df3)"
   ]
  },
  {
   "cell_type": "code",
   "execution_count": 253,
   "metadata": {},
   "outputs": [
    {
     "data": {
      "image/png": "[encoded data removed]",
      "text/plain": [
       "plot without title"
      ]
     },
     "metadata": {},
     "output_type": "display_data"
    }
   ],
   "source": [
    "# GRÁFICO\n",
    "\n",
    "boxplot(iris.df3,col=3, ylab=\"Valores(cm)\", xlab=\"Característica\")"
   ]
  },
  {
   "cell_type": "code",
   "execution_count": 254,
   "metadata": {},
   "outputs": [
    {
     "data": {
      "image/png": "[encoded data removed]",
      "text/plain": [
       "plot without title"
      ]
     },
     "metadata": {},
     "output_type": "display_data"
    }
   ],
   "source": [
    "# GRÁFICO - range=0 não mostra os outliers - col =2 é vermelho\n",
    "\n",
    "\n",
    "boxplot(iris.df3,col=2, range=0, ylab=\"Valores(cm)\", xlab=\"Característica\")"
   ]
  },
  {
   "cell_type": "code",
   "execution_count": 255,
   "metadata": {},
   "outputs": [
    {
     "data": {
      "image/png": "[encoded data removed]",
      "text/plain": [
       "plot without title"
      ]
     },
     "metadata": {},
     "output_type": "display_data"
    }
   ],
   "source": [
    "# GRÁFICO - Mostra todas as observações das amostras A\n",
    "\n",
    "\n",
    "barplot(iris.df3$Comprimento_Sepala,\n",
    "xlab=\"Valores crus\", ylab=\"Valores em cm\",\n",
    "names=as.character(iris.df3$Comprimento_Sepala), cex.names=0.7, ylim=c(0,10),col=4)"
   ]
  },
  {
   "cell_type": "code",
   "execution_count": 256,
   "metadata": {},
   "outputs": [
    {
     "data": {
      "image/png": "[encoded data removed]",
      "text/plain": [
       "Plot with title \"Histograma de amostra A\""
      ]
     },
     "metadata": {},
     "output_type": "display_data"
    }
   ],
   "source": [
    "# GRÁFICO - histograma de frequencia\n",
    "\n",
    "\n",
    "hist(iris.df3$Comprimento_Sepala, col=2, main='Histograma de amostra A',\n",
    "xlab=\"Classe de massa\", ylab=\"Frequencia\")"
   ]
  },
  {
   "cell_type": "code",
   "execution_count": 257,
   "metadata": {},
   "outputs": [
    {
     "data": {
      "text/html": [
       "150"
      ],
      "text/latex": [
       "150"
      ],
      "text/markdown": [
       "150"
      ],
      "text/plain": [
       "[1] 150"
      ]
     },
     "metadata": {},
     "output_type": "display_data"
    }
   ],
   "source": [
    "iris$count()"
   ]
  },
  {
   "cell_type": "markdown",
   "metadata": {},
   "source": [
    "### ANTES DE SEGUIR, VAMOS GRAVAR UMA NOVA BASE DE DADOS IRISNUM COM TODOS OS CAMPOS COMO NUMERICOS, PARA CONSERTAR A BASE"
   ]
  },
  {
   "cell_type": "markdown",
   "metadata": {},
   "source": [
    "###  VAMOS GRAVAR UM NOVO BD IRISNUM ATRAVES DO DATAFRAME IRIS.DF, ALTERANDO OS TIPOS DE STRING PARA NUMÉRICO\n"
   ]
  },
  {
   "cell_type": "code",
   "execution_count": 258,
   "metadata": {},
   "outputs": [
    {
     "data": {
      "text/html": [
       "<table>\n",
       "<thead><tr><th scope=col>Comprimento_Sepala</th><th scope=col>Largura_Sepala</th><th scope=col>Comprimento_Petala</th><th scope=col>Largura_Petala</th><th scope=col>Especie</th></tr></thead>\n",
       "<tbody>\n",
       "\t<tr><td>5.1        </td><td>3.5        </td><td>1.4        </td><td>0.2        </td><td>Iris-setosa</td></tr>\n",
       "\t<tr><td>4.9        </td><td>3.0        </td><td>1.4        </td><td>0.2        </td><td>Iris-setosa</td></tr>\n",
       "\t<tr><td>4.7        </td><td>3.2        </td><td>1.3        </td><td>0.2        </td><td>Iris-setosa</td></tr>\n",
       "\t<tr><td>4.6        </td><td>3.1        </td><td>1.5        </td><td>0.2        </td><td>Iris-setosa</td></tr>\n",
       "\t<tr><td>5.0        </td><td>3.6        </td><td>1.4        </td><td>0.2        </td><td>Iris-setosa</td></tr>\n",
       "\t<tr><td>5.4        </td><td>3.9        </td><td>1.7        </td><td>0.4        </td><td>Iris-setosa</td></tr>\n",
       "</tbody>\n",
       "</table>\n"
      ],
      "text/latex": [
       "\\begin{tabular}{r|lllll}\n",
       " Comprimento\\_Sepala & Largura\\_Sepala & Comprimento\\_Petala & Largura\\_Petala & Especie\\\\\n",
       "\\hline\n",
       "\t 5.1         & 3.5         & 1.4         & 0.2         & Iris-setosa\\\\\n",
       "\t 4.9         & 3.0         & 1.4         & 0.2         & Iris-setosa\\\\\n",
       "\t 4.7         & 3.2         & 1.3         & 0.2         & Iris-setosa\\\\\n",
       "\t 4.6         & 3.1         & 1.5         & 0.2         & Iris-setosa\\\\\n",
       "\t 5.0         & 3.6         & 1.4         & 0.2         & Iris-setosa\\\\\n",
       "\t 5.4         & 3.9         & 1.7         & 0.4         & Iris-setosa\\\\\n",
       "\\end{tabular}\n"
      ],
      "text/markdown": [
       "\n",
       "| Comprimento_Sepala | Largura_Sepala | Comprimento_Petala | Largura_Petala | Especie |\n",
       "|---|---|---|---|---|\n",
       "| 5.1         | 3.5         | 1.4         | 0.2         | Iris-setosa |\n",
       "| 4.9         | 3.0         | 1.4         | 0.2         | Iris-setosa |\n",
       "| 4.7         | 3.2         | 1.3         | 0.2         | Iris-setosa |\n",
       "| 4.6         | 3.1         | 1.5         | 0.2         | Iris-setosa |\n",
       "| 5.0         | 3.6         | 1.4         | 0.2         | Iris-setosa |\n",
       "| 5.4         | 3.9         | 1.7         | 0.4         | Iris-setosa |\n",
       "\n"
      ],
      "text/plain": [
       "  Comprimento_Sepala Largura_Sepala Comprimento_Petala Largura_Petala\n",
       "1 5.1                3.5            1.4                0.2           \n",
       "2 4.9                3.0            1.4                0.2           \n",
       "3 4.7                3.2            1.3                0.2           \n",
       "4 4.6                3.1            1.5                0.2           \n",
       "5 5.0                3.6            1.4                0.2           \n",
       "6 5.4                3.9            1.7                0.4           \n",
       "  Especie    \n",
       "1 Iris-setosa\n",
       "2 Iris-setosa\n",
       "3 Iris-setosa\n",
       "4 Iris-setosa\n",
       "5 Iris-setosa\n",
       "6 Iris-setosa"
      ]
     },
     "metadata": {},
     "output_type": "display_data"
    }
   ],
   "source": [
    "##########################\n",
    "########################## APROVEITANDO PARA CONSERTAR O ARQUIVO IRIS, PARA NUMERICO \n",
    "##########################\n",
    "\n",
    "# Alterar os nomes das colunas do dataframe IRIS.DF\n",
    "colnames(iris.df)[1] <- 'Comprimento_Sepala'\n",
    "colnames(iris.df)[2] <- 'Largura_Sepala'\n",
    "colnames(iris.df)[3] <- 'Comprimento_Petala'\n",
    "colnames(iris.df)[4] <- 'Largura_Petala'\n",
    "colnames(iris.df)[5] <- 'Especie'\n",
    "\n",
    "\n",
    "# Converter os valores do dataframe IRIS.DF para numéricos \n",
    "iris.df[1] <- as.numeric(as.character(iris.df[1]$Comprimento_Sepala))\n",
    "iris.df[2] <- as.numeric(as.character(iris.df[2]$Largura_Sepala))\n",
    "iris.df[3] <- as.numeric(as.character(iris.df[3]$Comprimento_Petala))\n",
    "iris.df[4] <- as.numeric(as.character(iris.df[4]$Largura_Petala))\n",
    "\n",
    "\n",
    "head(iris.df)"
   ]
  },
  {
   "cell_type": "markdown",
   "metadata": {},
   "source": [
    "### AGORA CRIAMOS UM NOVO BD IRISNUM, COM BASE NO DATAFRAME IRIS.DF"
   ]
  },
  {
   "cell_type": "code",
   "execution_count": 261,
   "metadata": {},
   "outputs": [
    {
     "name": "stdout",
     "output_type": "stream",
     "text": [
      "[1] \"Conectado ao DB!\"\n"
     ]
    }
   ],
   "source": [
    "#iris$drop()\n",
    "#iris$insert(iris.df)\n",
    "#iris$count()\n",
    "\n",
    "# CRIAR UMA CONEXÃO COM A NOVA BASE IRISDUMP\n",
    "irisnum <- mongo(collection = 'IrisNum', db='IGTI', url = 'mongodb://localhost:27017/')\n",
    "print('Conectado ao DB!')"
   ]
  },
  {
   "cell_type": "code",
   "execution_count": 262,
   "metadata": {},
   "outputs": [
    {
     "data": {
      "text/plain": [
       "List of 5\n",
       " $ nInserted  : num 150\n",
       " $ nMatched   : num 0\n",
       " $ nRemoved   : num 0\n",
       " $ nUpserted  : num 0\n",
       " $ writeErrors: list()"
      ]
     },
     "metadata": {},
     "output_type": "display_data"
    },
    {
     "data": {
      "text/html": [
       "150"
      ],
      "text/latex": [
       "150"
      ],
      "text/markdown": [
       "150"
      ],
      "text/plain": [
       "[1] 150"
      ]
     },
     "metadata": {},
     "output_type": "display_data"
    }
   ],
   "source": [
    "# INSERIR O DF\n",
    "\n",
    "irisnum$insert(iris.df)\n",
    "irisnum$count()"
   ]
  },
  {
   "cell_type": "code",
   "execution_count": 264,
   "metadata": {},
   "outputs": [
    {
     "data": {
      "text/html": [
       "<table>\n",
       "<thead><tr><th scope=col>Comprimento_Sepala</th><th scope=col>Largura_Sepala</th><th scope=col>Comprimento_Petala</th><th scope=col>Largura_Petala</th><th scope=col>Especie</th></tr></thead>\n",
       "<tbody>\n",
       "\t<tr><td>5.1        </td><td>3.5        </td><td>1.4        </td><td>0.2        </td><td>Iris-setosa</td></tr>\n",
       "\t<tr><td>4.9        </td><td>3.0        </td><td>1.4        </td><td>0.2        </td><td>Iris-setosa</td></tr>\n",
       "\t<tr><td>4.7        </td><td>3.2        </td><td>1.3        </td><td>0.2        </td><td>Iris-setosa</td></tr>\n",
       "\t<tr><td>4.6        </td><td>3.1        </td><td>1.5        </td><td>0.2        </td><td>Iris-setosa</td></tr>\n",
       "\t<tr><td>5.0        </td><td>3.6        </td><td>1.4        </td><td>0.2        </td><td>Iris-setosa</td></tr>\n",
       "\t<tr><td>5.4        </td><td>3.9        </td><td>1.7        </td><td>0.4        </td><td>Iris-setosa</td></tr>\n",
       "\t<tr><td>4.6        </td><td>3.4        </td><td>1.4        </td><td>0.3        </td><td>Iris-setosa</td></tr>\n",
       "\t<tr><td>5.0        </td><td>3.4        </td><td>1.5        </td><td>0.2        </td><td>Iris-setosa</td></tr>\n",
       "\t<tr><td>4.4        </td><td>2.9        </td><td>1.4        </td><td>0.2        </td><td>Iris-setosa</td></tr>\n",
       "\t<tr><td>4.9        </td><td>3.1        </td><td>1.5        </td><td>0.1        </td><td>Iris-setosa</td></tr>\n",
       "</tbody>\n",
       "</table>\n"
      ],
      "text/latex": [
       "\\begin{tabular}{r|lllll}\n",
       " Comprimento\\_Sepala & Largura\\_Sepala & Comprimento\\_Petala & Largura\\_Petala & Especie\\\\\n",
       "\\hline\n",
       "\t 5.1         & 3.5         & 1.4         & 0.2         & Iris-setosa\\\\\n",
       "\t 4.9         & 3.0         & 1.4         & 0.2         & Iris-setosa\\\\\n",
       "\t 4.7         & 3.2         & 1.3         & 0.2         & Iris-setosa\\\\\n",
       "\t 4.6         & 3.1         & 1.5         & 0.2         & Iris-setosa\\\\\n",
       "\t 5.0         & 3.6         & 1.4         & 0.2         & Iris-setosa\\\\\n",
       "\t 5.4         & 3.9         & 1.7         & 0.4         & Iris-setosa\\\\\n",
       "\t 4.6         & 3.4         & 1.4         & 0.3         & Iris-setosa\\\\\n",
       "\t 5.0         & 3.4         & 1.5         & 0.2         & Iris-setosa\\\\\n",
       "\t 4.4         & 2.9         & 1.4         & 0.2         & Iris-setosa\\\\\n",
       "\t 4.9         & 3.1         & 1.5         & 0.1         & Iris-setosa\\\\\n",
       "\\end{tabular}\n"
      ],
      "text/markdown": [
       "\n",
       "| Comprimento_Sepala | Largura_Sepala | Comprimento_Petala | Largura_Petala | Especie |\n",
       "|---|---|---|---|---|\n",
       "| 5.1         | 3.5         | 1.4         | 0.2         | Iris-setosa |\n",
       "| 4.9         | 3.0         | 1.4         | 0.2         | Iris-setosa |\n",
       "| 4.7         | 3.2         | 1.3         | 0.2         | Iris-setosa |\n",
       "| 4.6         | 3.1         | 1.5         | 0.2         | Iris-setosa |\n",
       "| 5.0         | 3.6         | 1.4         | 0.2         | Iris-setosa |\n",
       "| 5.4         | 3.9         | 1.7         | 0.4         | Iris-setosa |\n",
       "| 4.6         | 3.4         | 1.4         | 0.3         | Iris-setosa |\n",
       "| 5.0         | 3.4         | 1.5         | 0.2         | Iris-setosa |\n",
       "| 4.4         | 2.9         | 1.4         | 0.2         | Iris-setosa |\n",
       "| 4.9         | 3.1         | 1.5         | 0.1         | Iris-setosa |\n",
       "\n"
      ],
      "text/plain": [
       "   Comprimento_Sepala Largura_Sepala Comprimento_Petala Largura_Petala\n",
       "1  5.1                3.5            1.4                0.2           \n",
       "2  4.9                3.0            1.4                0.2           \n",
       "3  4.7                3.2            1.3                0.2           \n",
       "4  4.6                3.1            1.5                0.2           \n",
       "5  5.0                3.6            1.4                0.2           \n",
       "6  5.4                3.9            1.7                0.4           \n",
       "7  4.6                3.4            1.4                0.3           \n",
       "8  5.0                3.4            1.5                0.2           \n",
       "9  4.4                2.9            1.4                0.2           \n",
       "10 4.9                3.1            1.5                0.1           \n",
       "   Especie    \n",
       "1  Iris-setosa\n",
       "2  Iris-setosa\n",
       "3  Iris-setosa\n",
       "4  Iris-setosa\n",
       "5  Iris-setosa\n",
       "6  Iris-setosa\n",
       "7  Iris-setosa\n",
       "8  Iris-setosa\n",
       "9  Iris-setosa\n",
       "10 Iris-setosa"
      ]
     },
     "metadata": {},
     "output_type": "display_data"
    }
   ],
   "source": [
    "irisnum$find(limit=10)"
   ]
  },
  {
   "cell_type": "code",
   "execution_count": 265,
   "metadata": {},
   "outputs": [
    {
     "data": {
      "text/plain": [
       " Comprimento_Sepala Largura_Sepala  Comprimento_Petala Largura_Petala \n",
       " Min.   :4.300      Min.   :2.000   Min.   :1.000      Min.   :0.100  \n",
       " 1st Qu.:5.100      1st Qu.:2.800   1st Qu.:1.600      1st Qu.:0.300  \n",
       " Median :5.800      Median :3.000   Median :4.350      Median :1.300  \n",
       " Mean   :5.843      Mean   :3.054   Mean   :3.759      Mean   :1.199  \n",
       " 3rd Qu.:6.400      3rd Qu.:3.300   3rd Qu.:5.100      3rd Qu.:1.800  \n",
       " Max.   :7.900      Max.   :4.400   Max.   :6.900      Max.   :2.500  \n",
       "   Especie         \n",
       " Length:150        \n",
       " Class :character  \n",
       " Mode  :character  \n",
       "                   \n",
       "                   \n",
       "                   "
      ]
     },
     "metadata": {},
     "output_type": "display_data"
    }
   ],
   "source": [
    "summary(irisnum$find())"
   ]
  },
  {
   "cell_type": "markdown",
   "metadata": {},
   "source": [
    "### AGORA QUE O ARQUIVO IRIS ESTÁ IGUAL AO DA PROFESSORA VAMOS EXPORTAR E IMPORTAR "
   ]
  },
  {
   "cell_type": "code",
   "execution_count": 266,
   "metadata": {},
   "outputs": [
    {
     "name": "stdout",
     "output_type": "stream",
     "text": [
      "{ \"_id\" : { \"$oid\" : \"5f239969c0780000e9000314\" }, \"Comprimento_Sepala\" : 5.0999999999999996447, \"Largura_Sepala\" : 3.5, \"Comprimento_Petala\" : 1.3999999999999999112, \"Largura_Petala\" : 0.2000000000000000111, \"Especie\" : \"Iris-setosa\" }\n",
      "{ \"_id\" : { \"$oid\" : \"5f239969c0780000e9000315\" }, \"Comprimento_Sepala\" : 4.9000000000000003553, \"Largura_Sepala\" : 3.0, \"Comprimento_Petala\" : 1.3999999999999999112, \"Largura_Petala\" : 0.2000000000000000111, \"Especie\" : \"Iris-setosa\" }\n",
      "{ \"_id\" : { \"$oid\" : \"5f239969c0780000e9000316\" }, \"Comprimento_Sepala\" : 4.7000000000000001776, \"Largura_Sepala\" : 3.2000000000000001776, \"Comprimento_Petala\" : 1.3000000000000000444, \"Largura_Petala\" : 0.2000000000000000111, \"Especie\" : \"Iris-setosa\" }\n",
      "{ \"_id\" : { \"$oid\" : \"5f239969c0780000e9000317\" }, \"Comprimento_Sepala\" : 4.5999999999999996447, \"Largura_Sepala\" : 3.1000000000000000888, \"Comprimento_Petala\" : 1.5, \"Largura_Petala\" : 0.2000000000000000111, \"Especie\" : \"Iris-setosa\" }\n",
      "{ \"_id\" : { \"$oid\" : \"5f239969c0780000e9000318\" }, \"Comprimento_Sepala\" : 5.0, \"Largura_Sepala\" : 3.6000000000000000888, \"Comprimento_Petala\" : 1.3999999999999999112, \"Largura_Petala\" : 0.2000000000000000111, \"Especie\" : \"Iris-setosa\" }\n",
      "{ \"_id\" : { \"$oid\" : \"5f239969c0780000e9000319\" }, \"Comprimento_Sepala\" : 5.4000000000000003553, \"Largura_Sepala\" : 3.8999999999999999112, \"Comprimento_Petala\" : 1.6999999999999999556, \"Largura_Petala\" : 0.4000000000000000222, \"Especie\" : \"Iris-setosa\" }\n",
      "{ \"_id\" : { \"$oid\" : \"5f239969c0780000e900031a\" }, \"Comprimento_Sepala\" : 4.5999999999999996447, \"Largura_Sepala\" : 3.3999999999999999112, \"Comprimento_Petala\" : 1.3999999999999999112, \"Largura_Petala\" : 0.2999999999999999889, \"Especie\" : \"Iris-setosa\" }\n",
      "{ \"_id\" : { \"$oid\" : \"5f239969c0780000e900031b\" }, \"Comprimento_Sepala\" : 5.0, \"Largura_Sepala\" : 3.3999999999999999112, \"Comprimento_Petala\" : 1.5, \"Largura_Petala\" : 0.2000000000000000111, \"Especie\" : \"Iris-setosa\" }\n",
      "{ \"_id\" : { \"$oid\" : \"5f239969c0780000e900031c\" }, \"Comprimento_Sepala\" : 4.4000000000000003553, \"Largura_Sepala\" : 2.8999999999999999112, \"Comprimento_Petala\" : 1.3999999999999999112, \"Largura_Petala\" : 0.2000000000000000111, \"Especie\" : \"Iris-setosa\" }\n",
      "{ \"_id\" : { \"$oid\" : \"5f239969c0780000e900031d\" }, \"Comprimento_Sepala\" : 4.9000000000000003553, \"Largura_Sepala\" : 3.1000000000000000888, \"Comprimento_Petala\" : 1.5, \"Largura_Petala\" : 0.10000000000000000555, \"Especie\" : \"Iris-setosa\" }\n",
      "{ \"_id\" : { \"$oid\" : \"5f239969c0780000e900031e\" }, \"Comprimento_Sepala\" : 5.4000000000000003553, \"Largura_Sepala\" : 3.7000000000000001776, \"Comprimento_Petala\" : 1.5, \"Largura_Petala\" : 0.2000000000000000111, \"Especie\" : \"Iris-setosa\" }\n",
      "{ \"_id\" : { \"$oid\" : \"5f239969c0780000e900031f\" }, \"Comprimento_Sepala\" : 4.7999999999999998224, \"Largura_Sepala\" : 3.3999999999999999112, \"Comprimento_Petala\" : 1.6000000000000000888, \"Largura_Petala\" : 0.2000000000000000111, \"Especie\" : \"Iris-setosa\" }\n",
      "{ \"_id\" : { \"$oid\" : \"5f239969c0780000e9000320\" }, \"Comprimento_Sepala\" : 4.7999999999999998224, \"Largura_Sepala\" : 3.0, \"Comprimento_Petala\" : 1.3999999999999999112, \"Largura_Petala\" : 0.10000000000000000555, \"Especie\" : \"Iris-setosa\" }\n",
      "{ \"_id\" : { \"$oid\" : \"5f239969c0780000e9000321\" }, \"Comprimento_Sepala\" : 4.2999999999999998224, \"Largura_Sepala\" : 3.0, \"Comprimento_Petala\" : 1.1000000000000000888, \"Largura_Petala\" : 0.10000000000000000555, \"Especie\" : \"Iris-setosa\" }\n",
      "{ \"_id\" : { \"$oid\" : \"5f239969c0780000e9000322\" }, \"Comprimento_Sepala\" : 5.7999999999999998224, \"Largura_Sepala\" : 4.0, \"Comprimento_Petala\" : 1.1999999999999999556, \"Largura_Petala\" : 0.2000000000000000111, \"Especie\" : \"Iris-setosa\" }\n",
      "{ \"_id\" : { \"$oid\" : \"5f239969c0780000e9000323\" }, \"Comprimento_Sepala\" : 5.7000000000000001776, \"Largura_Sepala\" : 4.4000000000000003553, \"Comprimento_Petala\" : 1.5, \"Largura_Petala\" : 0.4000000000000000222, \"Especie\" : \"Iris-setosa\" }\n",
      "{ \"_id\" : { \"$oid\" : \"5f239969c0780000e9000324\" }, \"Comprimento_Sepala\" : 5.4000000000000003553, \"Largura_Sepala\" : 3.8999999999999999112, \"Comprimento_Petala\" : 1.3000000000000000444, \"Largura_Petala\" : 0.4000000000000000222, \"Especie\" : \"Iris-setosa\" }\n",
      "{ \"_id\" : { \"$oid\" : \"5f239969c0780000e9000325\" }, \"Comprimento_Sepala\" : 5.0999999999999996447, \"Largura_Sepala\" : 3.5, \"Comprimento_Petala\" : 1.3999999999999999112, \"Largura_Petala\" : 0.2999999999999999889, \"Especie\" : \"Iris-setosa\" }\n",
      "{ \"_id\" : { \"$oid\" : \"5f239969c0780000e9000326\" }, \"Comprimento_Sepala\" : 5.7000000000000001776, \"Largura_Sepala\" : 3.7999999999999998224, \"Comprimento_Petala\" : 1.6999999999999999556, \"Largura_Petala\" : 0.2999999999999999889, \"Especie\" : \"Iris-setosa\" }\n",
      "{ \"_id\" : { \"$oid\" : \"5f239969c0780000e9000327\" }, \"Comprimento_Sepala\" : 5.0999999999999996447, \"Largura_Sepala\" : 3.7999999999999998224, \"Comprimento_Petala\" : 1.5, \"Largura_Petala\" : 0.2999999999999999889, \"Especie\" : \"Iris-setosa\" }\n",
      "{ \"_id\" : { \"$oid\" : \"5f239969c0780000e9000328\" }, \"Comprimento_Sepala\" : 5.4000000000000003553, \"Largura_Sepala\" : 3.3999999999999999112, \"Comprimento_Petala\" : 1.6999999999999999556, \"Largura_Petala\" : 0.2000000000000000111, \"Especie\" : \"Iris-setosa\" }\n",
      "{ \"_id\" : { \"$oid\" : \"5f239969c0780000e9000329\" }, \"Comprimento_Sepala\" : 5.0999999999999996447, \"Largura_Sepala\" : 3.7000000000000001776, \"Comprimento_Petala\" : 1.5, \"Largura_Petala\" : 0.4000000000000000222, \"Especie\" : \"Iris-setosa\" }\n",
      "{ \"_id\" : { \"$oid\" : \"5f239969c0780000e900032a\" }, \"Comprimento_Sepala\" : 4.5999999999999996447, \"Largura_Sepala\" : 3.6000000000000000888, \"Comprimento_Petala\" : 1.0, \"Largura_Petala\" : 0.2000000000000000111, \"Especie\" : \"Iris-setosa\" }\n",
      "{ \"_id\" : { \"$oid\" : \"5f239969c0780000e900032b\" }, \"Comprimento_Sepala\" : 5.0999999999999996447, \"Largura_Sepala\" : 3.2999999999999998224, \"Comprimento_Petala\" : 1.6999999999999999556, \"Largura_Petala\" : 0.5, \"Especie\" : \"Iris-setosa\" }\n",
      "{ \"_id\" : { \"$oid\" : \"5f239969c0780000e900032c\" }, \"Comprimento_Sepala\" : 4.7999999999999998224, \"Largura_Sepala\" : 3.3999999999999999112, \"Comprimento_Petala\" : 1.8999999999999999112, \"Largura_Petala\" : 0.2000000000000000111, \"Especie\" : \"Iris-setosa\" }\n",
      "{ \"_id\" : { \"$oid\" : \"5f239969c0780000e900032d\" }, \"Comprimento_Sepala\" : 5.0, \"Largura_Sepala\" : 3.0, \"Comprimento_Petala\" : 1.6000000000000000888, \"Largura_Petala\" : 0.2000000000000000111, \"Especie\" : \"Iris-setosa\" }\n",
      "{ \"_id\" : { \"$oid\" : \"5f239969c0780000e900032e\" }, \"Comprimento_Sepala\" : 5.0, \"Largura_Sepala\" : 3.3999999999999999112, \"Comprimento_Petala\" : 1.6000000000000000888, \"Largura_Petala\" : 0.4000000000000000222, \"Especie\" : \"Iris-setosa\" }\n",
      "{ \"_id\" : { \"$oid\" : \"5f239969c0780000e900032f\" }, \"Comprimento_Sepala\" : 5.2000000000000001776, \"Largura_Sepala\" : 3.5, \"Comprimento_Petala\" : 1.5, \"Largura_Petala\" : 0.2000000000000000111, \"Especie\" : \"Iris-setosa\" }\n",
      "{ \"_id\" : { \"$oid\" : \"5f239969c0780000e9000330\" }, \"Comprimento_Sepala\" : 5.2000000000000001776, \"Largura_Sepala\" : 3.3999999999999999112, \"Comprimento_Petala\" : 1.3999999999999999112, \"Largura_Petala\" : 0.2000000000000000111, \"Especie\" : \"Iris-setosa\" }\n",
      "{ \"_id\" : { \"$oid\" : \"5f239969c0780000e9000331\" }, \"Comprimento_Sepala\" : 4.7000000000000001776, \"Largura_Sepala\" : 3.2000000000000001776, \"Comprimento_Petala\" : 1.6000000000000000888, \"Largura_Petala\" : 0.2000000000000000111, \"Especie\" : \"Iris-setosa\" }\n",
      "{ \"_id\" : { \"$oid\" : \"5f239969c0780000e9000332\" }, \"Comprimento_Sepala\" : 4.7999999999999998224, \"Largura_Sepala\" : 3.1000000000000000888, \"Comprimento_Petala\" : 1.6000000000000000888, \"Largura_Petala\" : 0.2000000000000000111, \"Especie\" : \"Iris-setosa\" }\n",
      "{ \"_id\" : { \"$oid\" : \"5f239969c0780000e9000333\" }, \"Comprimento_Sepala\" : 5.4000000000000003553, \"Largura_Sepala\" : 3.3999999999999999112, \"Comprimento_Petala\" : 1.5, \"Largura_Petala\" : 0.4000000000000000222, \"Especie\" : \"Iris-setosa\" }\n",
      "{ \"_id\" : { \"$oid\" : \"5f239969c0780000e9000334\" }, \"Comprimento_Sepala\" : 5.2000000000000001776, \"Largura_Sepala\" : 4.0999999999999996447, \"Comprimento_Petala\" : 1.5, \"Largura_Petala\" : 0.10000000000000000555, \"Especie\" : \"Iris-setosa\" }\n",
      "{ \"_id\" : { \"$oid\" : \"5f239969c0780000e9000335\" }, \"Comprimento_Sepala\" : 5.5, \"Largura_Sepala\" : 4.2000000000000001776, \"Comprimento_Petala\" : 1.3999999999999999112, \"Largura_Petala\" : 0.2000000000000000111, \"Especie\" : \"Iris-setosa\" }\n",
      "{ \"_id\" : { \"$oid\" : \"5f239969c0780000e9000336\" }, \"Comprimento_Sepala\" : 4.9000000000000003553, \"Largura_Sepala\" : 3.1000000000000000888, \"Comprimento_Petala\" : 1.5, \"Largura_Petala\" : 0.10000000000000000555, \"Especie\" : \"Iris-setosa\" }\n",
      "{ \"_id\" : { \"$oid\" : \"5f239969c0780000e9000337\" }, \"Comprimento_Sepala\" : 5.0, \"Largura_Sepala\" : 3.2000000000000001776, \"Comprimento_Petala\" : 1.1999999999999999556, \"Largura_Petala\" : 0.2000000000000000111, \"Especie\" : \"Iris-setosa\" }\n",
      "{ \"_id\" : { \"$oid\" : \"5f239969c0780000e9000338\" }, \"Comprimento_Sepala\" : 5.5, \"Largura_Sepala\" : 3.5, \"Comprimento_Petala\" : 1.3000000000000000444, \"Largura_Petala\" : 0.2000000000000000111, \"Especie\" : \"Iris-setosa\" }\n",
      "{ \"_id\" : { \"$oid\" : \"5f239969c0780000e9000339\" }, \"Comprimento_Sepala\" : 4.9000000000000003553, \"Largura_Sepala\" : 3.1000000000000000888, \"Comprimento_Petala\" : 1.5, \"Largura_Petala\" : 0.10000000000000000555, \"Especie\" : \"Iris-setosa\" }\n",
      "{ \"_id\" : { \"$oid\" : \"5f239969c0780000e900033a\" }, \"Comprimento_Sepala\" : 4.4000000000000003553, \"Largura_Sepala\" : 3.0, \"Comprimento_Petala\" : 1.3000000000000000444, \"Largura_Petala\" : 0.2000000000000000111, \"Especie\" : \"Iris-setosa\" }\n",
      "{ \"_id\" : { \"$oid\" : \"5f239969c0780000e900033b\" }, \"Comprimento_Sepala\" : 5.0999999999999996447, \"Largura_Sepala\" : 3.3999999999999999112, \"Comprimento_Petala\" : 1.5, \"Largura_Petala\" : 0.2000000000000000111, \"Especie\" : \"Iris-setosa\" }\n",
      "{ \"_id\" : { \"$oid\" : \"5f239969c0780000e900033c\" }, \"Comprimento_Sepala\" : 5.0, \"Largura_Sepala\" : 3.5, \"Comprimento_Petala\" : 1.3000000000000000444, \"Largura_Petala\" : 0.2999999999999999889, \"Especie\" : \"Iris-setosa\" }\n",
      "{ \"_id\" : { \"$oid\" : \"5f239969c0780000e900033d\" }, \"Comprimento_Sepala\" : 4.5, \"Largura_Sepala\" : 2.2999999999999998224, \"Comprimento_Petala\" : 1.3000000000000000444, \"Largura_Petala\" : 0.2999999999999999889, \"Especie\" : \"Iris-setosa\" }\n",
      "{ \"_id\" : { \"$oid\" : \"5f239969c0780000e900033e\" }, \"Comprimento_Sepala\" : 4.4000000000000003553, \"Largura_Sepala\" : 3.2000000000000001776, \"Comprimento_Petala\" : 1.3000000000000000444, \"Largura_Petala\" : 0.2000000000000000111, \"Especie\" : \"Iris-setosa\" }\n",
      "{ \"_id\" : { \"$oid\" : \"5f239969c0780000e900033f\" }, \"Comprimento_Sepala\" : 5.0, \"Largura_Sepala\" : 3.5, \"Comprimento_Petala\" : 1.6000000000000000888, \"Largura_Petala\" : 0.5999999999999999778, \"Especie\" : \"Iris-setosa\" }\n",
      "{ \"_id\" : { \"$oid\" : \"5f239969c0780000e9000340\" }, \"Comprimento_Sepala\" : 5.0999999999999996447, \"Largura_Sepala\" : 3.7999999999999998224, \"Comprimento_Petala\" : 1.8999999999999999112, \"Largura_Petala\" : 0.4000000000000000222, \"Especie\" : \"Iris-setosa\" }\n",
      "{ \"_id\" : { \"$oid\" : \"5f239969c0780000e9000341\" }, \"Comprimento_Sepala\" : 4.7999999999999998224, \"Largura_Sepala\" : 3.0, \"Comprimento_Petala\" : 1.3999999999999999112, \"Largura_Petala\" : 0.2999999999999999889, \"Especie\" : \"Iris-setosa\" }\n",
      "{ \"_id\" : { \"$oid\" : \"5f239969c0780000e9000342\" }, \"Comprimento_Sepala\" : 5.0999999999999996447, \"Largura_Sepala\" : 3.7999999999999998224, \"Comprimento_Petala\" : 1.6000000000000000888, \"Largura_Petala\" : 0.2000000000000000111, \"Especie\" : \"Iris-setosa\" }\n",
      "{ \"_id\" : { \"$oid\" : \"5f239969c0780000e9000343\" }, \"Comprimento_Sepala\" : 4.5999999999999996447, \"Largura_Sepala\" : 3.2000000000000001776, \"Comprimento_Petala\" : 1.3999999999999999112, \"Largura_Petala\" : 0.2000000000000000111, \"Especie\" : \"Iris-setosa\" }\n",
      "{ \"_id\" : { \"$oid\" : \"5f239969c0780000e9000344\" }, \"Comprimento_Sepala\" : 5.2999999999999998224, \"Largura_Sepala\" : 3.7000000000000001776, \"Comprimento_Petala\" : 1.5, \"Largura_Petala\" : 0.2000000000000000111, \"Especie\" : \"Iris-setosa\" }\n",
      "{ \"_id\" : { \"$oid\" : \"5f239969c0780000e9000345\" }, \"Comprimento_Sepala\" : 5.0, \"Largura_Sepala\" : 3.2999999999999998224, \"Comprimento_Petala\" : 1.3999999999999999112, \"Largura_Petala\" : 0.2000000000000000111, \"Especie\" : \"Iris-setosa\" }\n",
      "{ \"_id\" : { \"$oid\" : \"5f239969c0780000e9000346\" }, \"Comprimento_Sepala\" : 7.0, \"Largura_Sepala\" : 3.2000000000000001776, \"Comprimento_Petala\" : 4.7000000000000001776, \"Largura_Petala\" : 1.3999999999999999112, \"Especie\" : \"Iris-versicolor\" }\n",
      "{ \"_id\" : { \"$oid\" : \"5f239969c0780000e9000347\" }, \"Comprimento_Sepala\" : 6.4000000000000003553, \"Largura_Sepala\" : 3.2000000000000001776, \"Comprimento_Petala\" : 4.5, \"Largura_Petala\" : 1.5, \"Especie\" : \"Iris-versicolor\" }\n",
      "{ \"_id\" : { \"$oid\" : \"5f239969c0780000e9000348\" }, \"Comprimento_Sepala\" : 6.9000000000000003553, \"Largura_Sepala\" : 3.1000000000000000888, \"Comprimento_Petala\" : 4.9000000000000003553, \"Largura_Petala\" : 1.5, \"Especie\" : \"Iris-versicolor\" }\n",
      "{ \"_id\" : { \"$oid\" : \"5f239969c0780000e9000349\" }, \"Comprimento_Sepala\" : 5.5, \"Largura_Sepala\" : 2.2999999999999998224, \"Comprimento_Petala\" : 4.0, \"Largura_Petala\" : 1.3000000000000000444, \"Especie\" : \"Iris-versicolor\" }\n",
      "{ \"_id\" : { \"$oid\" : \"5f239969c0780000e900034a\" }, \"Comprimento_Sepala\" : 6.5, \"Largura_Sepala\" : 2.7999999999999998224, \"Comprimento_Petala\" : 4.5999999999999996447, \"Largura_Petala\" : 1.5, \"Especie\" : \"Iris-versicolor\" }\n",
      "{ \"_id\" : { \"$oid\" : \"5f239969c0780000e900034b\" }, \"Comprimento_Sepala\" : 5.7000000000000001776, \"Largura_Sepala\" : 2.7999999999999998224, \"Comprimento_Petala\" : 4.5, \"Largura_Petala\" : 1.3000000000000000444, \"Especie\" : \"Iris-versicolor\" }\n",
      "{ \"_id\" : { \"$oid\" : \"5f239969c0780000e900034c\" }, \"Comprimento_Sepala\" : 6.2999999999999998224, \"Largura_Sepala\" : 3.2999999999999998224, \"Comprimento_Petala\" : 4.7000000000000001776, \"Largura_Petala\" : 1.6000000000000000888, \"Especie\" : \"Iris-versicolor\" }\n",
      "{ \"_id\" : { \"$oid\" : \"5f239969c0780000e900034d\" }, \"Comprimento_Sepala\" : 4.9000000000000003553, \"Largura_Sepala\" : 2.3999999999999999112, \"Comprimento_Petala\" : 3.2999999999999998224, \"Largura_Petala\" : 1.0, \"Especie\" : \"Iris-versicolor\" }\n",
      "{ \"_id\" : { \"$oid\" : \"5f239969c0780000e900034e\" }, \"Comprimento_Sepala\" : 6.5999999999999996447, \"Largura_Sepala\" : 2.8999999999999999112, \"Comprimento_Petala\" : 4.5999999999999996447, \"Largura_Petala\" : 1.3000000000000000444, \"Especie\" : \"Iris-versicolor\" }\n",
      "{ \"_id\" : { \"$oid\" : \"5f239969c0780000e900034f\" }, \"Comprimento_Sepala\" : 5.2000000000000001776, \"Largura_Sepala\" : 2.7000000000000001776, \"Comprimento_Petala\" : 3.8999999999999999112, \"Largura_Petala\" : 1.3999999999999999112, \"Especie\" : \"Iris-versicolor\" }\n",
      "{ \"_id\" : { \"$oid\" : \"5f239969c0780000e9000350\" }, \"Comprimento_Sepala\" : 5.0, \"Largura_Sepala\" : 2.0, \"Comprimento_Petala\" : 3.5, \"Largura_Petala\" : 1.0, \"Especie\" : \"Iris-versicolor\" }\n",
      "{ \"_id\" : { \"$oid\" : \"5f239969c0780000e9000351\" }, \"Comprimento_Sepala\" : 5.9000000000000003553, \"Largura_Sepala\" : 3.0, \"Comprimento_Petala\" : 4.2000000000000001776, \"Largura_Petala\" : 1.5, \"Especie\" : \"Iris-versicolor\" }\n",
      "{ \"_id\" : { \"$oid\" : \"5f239969c0780000e9000352\" }, \"Comprimento_Sepala\" : 6.0, \"Largura_Sepala\" : 2.2000000000000001776, \"Comprimento_Petala\" : 4.0, \"Largura_Petala\" : 1.0, \"Especie\" : \"Iris-versicolor\" }\n",
      "{ \"_id\" : { \"$oid\" : \"5f239969c0780000e9000353\" }, \"Comprimento_Sepala\" : 6.0999999999999996447, \"Largura_Sepala\" : 2.8999999999999999112, \"Comprimento_Petala\" : 4.7000000000000001776, \"Largura_Petala\" : 1.3999999999999999112, \"Especie\" : \"Iris-versicolor\" }\n",
      "{ \"_id\" : { \"$oid\" : \"5f239969c0780000e9000354\" }, \"Comprimento_Sepala\" : 5.5999999999999996447, \"Largura_Sepala\" : 2.8999999999999999112, \"Comprimento_Petala\" : 3.6000000000000000888, \"Largura_Petala\" : 1.3000000000000000444, \"Especie\" : \"Iris-versicolor\" }\n",
      "{ \"_id\" : { \"$oid\" : \"5f239969c0780000e9000355\" }, \"Comprimento_Sepala\" : 6.7000000000000001776, \"Largura_Sepala\" : 3.1000000000000000888, \"Comprimento_Petala\" : 4.4000000000000003553, \"Largura_Petala\" : 1.3999999999999999112, \"Especie\" : \"Iris-versicolor\" }\n",
      "{ \"_id\" : { \"$oid\" : \"5f239969c0780000e9000356\" }, \"Comprimento_Sepala\" : 5.5999999999999996447, \"Largura_Sepala\" : 3.0, \"Comprimento_Petala\" : 4.5, \"Largura_Petala\" : 1.5, \"Especie\" : \"Iris-versicolor\" }\n",
      "{ \"_id\" : { \"$oid\" : \"5f239969c0780000e9000357\" }, \"Comprimento_Sepala\" : 5.7999999999999998224, \"Largura_Sepala\" : 2.7000000000000001776, \"Comprimento_Petala\" : 4.0999999999999996447, \"Largura_Petala\" : 1.0, \"Especie\" : \"Iris-versicolor\" }\n",
      "{ \"_id\" : { \"$oid\" : \"5f239969c0780000e9000358\" }, \"Comprimento_Sepala\" : 6.2000000000000001776, \"Largura_Sepala\" : 2.2000000000000001776, \"Comprimento_Petala\" : 4.5, \"Largura_Petala\" : 1.5, \"Especie\" : \"Iris-versicolor\" }\n",
      "{ \"_id\" : { \"$oid\" : \"5f239969c0780000e9000359\" }, \"Comprimento_Sepala\" : 5.5999999999999996447, \"Largura_Sepala\" : 2.5, \"Comprimento_Petala\" : 3.8999999999999999112, \"Largura_Petala\" : 1.1000000000000000888, \"Especie\" : \"Iris-versicolor\" }\n",
      "{ \"_id\" : { \"$oid\" : \"5f239969c0780000e900035a\" }, \"Comprimento_Sepala\" : 5.9000000000000003553, \"Largura_Sepala\" : 3.2000000000000001776, \"Comprimento_Petala\" : 4.7999999999999998224, \"Largura_Petala\" : 1.8000000000000000444, \"Especie\" : \"Iris-versicolor\" }\n",
      "{ \"_id\" : { \"$oid\" : \"5f239969c0780000e900035b\" }, \"Comprimento_Sepala\" : 6.0999999999999996447, \"Largura_Sepala\" : 2.7999999999999998224, \"Comprimento_Petala\" : 4.0, \"Largura_Petala\" : 1.3000000000000000444, \"Especie\" : \"Iris-versicolor\" }\n",
      "{ \"_id\" : { \"$oid\" : \"5f239969c0780000e900035c\" }, \"Comprimento_Sepala\" : 6.2999999999999998224, \"Largura_Sepala\" : 2.5, \"Comprimento_Petala\" : 4.9000000000000003553, \"Largura_Petala\" : 1.5, \"Especie\" : \"Iris-versicolor\" }\n",
      "{ \"_id\" : { \"$oid\" : \"5f239969c0780000e900035d\" }, \"Comprimento_Sepala\" : 6.0999999999999996447, \"Largura_Sepala\" : 2.7999999999999998224, \"Comprimento_Petala\" : 4.7000000000000001776, \"Largura_Petala\" : 1.1999999999999999556, \"Especie\" : \"Iris-versicolor\" }\n",
      "{ \"_id\" : { \"$oid\" : \"5f239969c0780000e900035e\" }, \"Comprimento_Sepala\" : 6.4000000000000003553, \"Largura_Sepala\" : 2.8999999999999999112, \"Comprimento_Petala\" : 4.2999999999999998224, \"Largura_Petala\" : 1.3000000000000000444, \"Especie\" : \"Iris-versicolor\" }\n",
      "{ \"_id\" : { \"$oid\" : \"5f239969c0780000e900035f\" }, \"Comprimento_Sepala\" : 6.5999999999999996447, \"Largura_Sepala\" : 3.0, \"Comprimento_Petala\" : 4.4000000000000003553, \"Largura_Petala\" : 1.3999999999999999112, \"Especie\" : \"Iris-versicolor\" }\n",
      "{ \"_id\" : { \"$oid\" : \"5f239969c0780000e9000360\" }, \"Comprimento_Sepala\" : 6.7999999999999998224, \"Largura_Sepala\" : 2.7999999999999998224, \"Comprimento_Petala\" : 4.7999999999999998224, \"Largura_Petala\" : 1.3999999999999999112, \"Especie\" : \"Iris-versicolor\" }\n",
      "{ \"_id\" : { \"$oid\" : \"5f239969c0780000e9000361\" }, \"Comprimento_Sepala\" : 6.7000000000000001776, \"Largura_Sepala\" : 3.0, \"Comprimento_Petala\" : 5.0, \"Largura_Petala\" : 1.6999999999999999556, \"Especie\" : \"Iris-versicolor\" }\n",
      "{ \"_id\" : { \"$oid\" : \"5f239969c0780000e9000362\" }, \"Comprimento_Sepala\" : 6.0, \"Largura_Sepala\" : 2.8999999999999999112, \"Comprimento_Petala\" : 4.5, \"Largura_Petala\" : 1.5, \"Especie\" : \"Iris-versicolor\" }\n",
      "{ \"_id\" : { \"$oid\" : \"5f239969c0780000e9000363\" }, \"Comprimento_Sepala\" : 5.7000000000000001776, \"Largura_Sepala\" : 2.6000000000000000888, \"Comprimento_Petala\" : 3.5, \"Largura_Petala\" : 1.0, \"Especie\" : \"Iris-versicolor\" }\n",
      "{ \"_id\" : { \"$oid\" : \"5f239969c0780000e9000364\" }, \"Comprimento_Sepala\" : 5.5, \"Largura_Sepala\" : 2.3999999999999999112, \"Comprimento_Petala\" : 3.7999999999999998224, \"Largura_Petala\" : 1.1000000000000000888, \"Especie\" : \"Iris-versicolor\" }\n",
      "{ \"_id\" : { \"$oid\" : \"5f239969c0780000e9000365\" }, \"Comprimento_Sepala\" : 5.5, \"Largura_Sepala\" : 2.3999999999999999112, \"Comprimento_Petala\" : 3.7000000000000001776, \"Largura_Petala\" : 1.0, \"Especie\" : \"Iris-versicolor\" }\n",
      "{ \"_id\" : { \"$oid\" : \"5f239969c0780000e9000366\" }, \"Comprimento_Sepala\" : 5.7999999999999998224, \"Largura_Sepala\" : 2.7000000000000001776, \"Comprimento_Petala\" : 3.8999999999999999112, \"Largura_Petala\" : 1.1999999999999999556, \"Especie\" : \"Iris-versicolor\" }\n",
      "{ \"_id\" : { \"$oid\" : \"5f239969c0780000e9000367\" }, \"Comprimento_Sepala\" : 6.0, \"Largura_Sepala\" : 2.7000000000000001776, \"Comprimento_Petala\" : 5.0999999999999996447, \"Largura_Petala\" : 1.6000000000000000888, \"Especie\" : \"Iris-versicolor\" }\n",
      "{ \"_id\" : { \"$oid\" : \"5f239969c0780000e9000368\" }, \"Comprimento_Sepala\" : 5.4000000000000003553, \"Largura_Sepala\" : 3.0, \"Comprimento_Petala\" : 4.5, \"Largura_Petala\" : 1.5, \"Especie\" : \"Iris-versicolor\" }\n",
      "{ \"_id\" : { \"$oid\" : \"5f239969c0780000e9000369\" }, \"Comprimento_Sepala\" : 6.0, \"Largura_Sepala\" : 3.3999999999999999112, \"Comprimento_Petala\" : 4.5, \"Largura_Petala\" : 1.6000000000000000888, \"Especie\" : \"Iris-versicolor\" }\n",
      "{ \"_id\" : { \"$oid\" : \"5f239969c0780000e900036a\" }, \"Comprimento_Sepala\" : 6.7000000000000001776, \"Largura_Sepala\" : 3.1000000000000000888, \"Comprimento_Petala\" : 4.7000000000000001776, \"Largura_Petala\" : 1.5, \"Especie\" : \"Iris-versicolor\" }\n",
      "{ \"_id\" : { \"$oid\" : \"5f239969c0780000e900036b\" }, \"Comprimento_Sepala\" : 6.2999999999999998224, \"Largura_Sepala\" : 2.2999999999999998224, \"Comprimento_Petala\" : 4.4000000000000003553, \"Largura_Petala\" : 1.3000000000000000444, \"Especie\" : \"Iris-versicolor\" }\n",
      "{ \"_id\" : { \"$oid\" : \"5f239969c0780000e900036c\" }, \"Comprimento_Sepala\" : 5.5999999999999996447, \"Largura_Sepala\" : 3.0, \"Comprimento_Petala\" : 4.0999999999999996447, \"Largura_Petala\" : 1.3000000000000000444, \"Especie\" : \"Iris-versicolor\" }\n",
      "{ \"_id\" : { \"$oid\" : \"5f239969c0780000e900036d\" }, \"Comprimento_Sepala\" : 5.5, \"Largura_Sepala\" : 2.5, \"Comprimento_Petala\" : 4.0, \"Largura_Petala\" : 1.3000000000000000444, \"Especie\" : \"Iris-versicolor\" }\n",
      "{ \"_id\" : { \"$oid\" : \"5f239969c0780000e900036e\" }, \"Comprimento_Sepala\" : 5.5, \"Largura_Sepala\" : 2.6000000000000000888, \"Comprimento_Petala\" : 4.4000000000000003553, \"Largura_Petala\" : 1.1999999999999999556, \"Especie\" : \"Iris-versicolor\" }\n",
      "{ \"_id\" : { \"$oid\" : \"5f239969c0780000e900036f\" }, \"Comprimento_Sepala\" : 6.0999999999999996447, \"Largura_Sepala\" : 3.0, \"Comprimento_Petala\" : 4.5999999999999996447, \"Largura_Petala\" : 1.3999999999999999112, \"Especie\" : \"Iris-versicolor\" }\n",
      "{ \"_id\" : { \"$oid\" : \"5f239969c0780000e9000370\" }, \"Comprimento_Sepala\" : 5.7999999999999998224, \"Largura_Sepala\" : 2.6000000000000000888, \"Comprimento_Petala\" : 4.0, \"Largura_Petala\" : 1.1999999999999999556, \"Especie\" : \"Iris-versicolor\" }\n",
      "{ \"_id\" : { \"$oid\" : \"5f239969c0780000e9000371\" }, \"Comprimento_Sepala\" : 5.0, \"Largura_Sepala\" : 2.2999999999999998224, \"Comprimento_Petala\" : 3.2999999999999998224, \"Largura_Petala\" : 1.0, \"Especie\" : \"Iris-versicolor\" }\n",
      "{ \"_id\" : { \"$oid\" : \"5f239969c0780000e9000372\" }, \"Comprimento_Sepala\" : 5.5999999999999996447, \"Largura_Sepala\" : 2.7000000000000001776, \"Comprimento_Petala\" : 4.2000000000000001776, \"Largura_Petala\" : 1.3000000000000000444, \"Especie\" : \"Iris-versicolor\" }\n",
      "{ \"_id\" : { \"$oid\" : \"5f239969c0780000e9000373\" }, \"Comprimento_Sepala\" : 5.7000000000000001776, \"Largura_Sepala\" : 3.0, \"Comprimento_Petala\" : 4.2000000000000001776, \"Largura_Petala\" : 1.1999999999999999556, \"Especie\" : \"Iris-versicolor\" }\n",
      "{ \"_id\" : { \"$oid\" : \"5f239969c0780000e9000374\" }, \"Comprimento_Sepala\" : 5.7000000000000001776, \"Largura_Sepala\" : 2.8999999999999999112, \"Comprimento_Petala\" : 4.2000000000000001776, \"Largura_Petala\" : 1.3000000000000000444, \"Especie\" : \"Iris-versicolor\" }\n",
      "{ \"_id\" : { \"$oid\" : \"5f239969c0780000e9000375\" }, \"Comprimento_Sepala\" : 6.2000000000000001776, \"Largura_Sepala\" : 2.8999999999999999112, \"Comprimento_Petala\" : 4.2999999999999998224, \"Largura_Petala\" : 1.3000000000000000444, \"Especie\" : \"Iris-versicolor\" }\n",
      "{ \"_id\" : { \"$oid\" : \"5f239969c0780000e9000376\" }, \"Comprimento_Sepala\" : 5.0999999999999996447, \"Largura_Sepala\" : 2.5, \"Comprimento_Petala\" : 3.0, \"Largura_Petala\" : 1.1000000000000000888, \"Especie\" : \"Iris-versicolor\" }\n",
      "{ \"_id\" : { \"$oid\" : \"5f239969c0780000e9000377\" }, \"Comprimento_Sepala\" : 5.7000000000000001776, \"Largura_Sepala\" : 2.7999999999999998224, \"Comprimento_Petala\" : 4.0999999999999996447, \"Largura_Petala\" : 1.3000000000000000444, \"Especie\" : \"Iris-versicolor\" }\n",
      "{ \"_id\" : { \"$oid\" : \"5f239969c0780000e9000378\" }, \"Comprimento_Sepala\" : 6.2999999999999998224, \"Largura_Sepala\" : 3.2999999999999998224, \"Comprimento_Petala\" : 6.0, \"Largura_Petala\" : 2.5, \"Especie\" : \"Iris-virginica\" }\n",
      "{ \"_id\" : { \"$oid\" : \"5f239969c0780000e9000379\" }, \"Comprimento_Sepala\" : 5.7999999999999998224, \"Largura_Sepala\" : 2.7000000000000001776, \"Comprimento_Petala\" : 5.0999999999999996447, \"Largura_Petala\" : 1.8999999999999999112, \"Especie\" : \"Iris-virginica\" }\n",
      "{ \"_id\" : { \"$oid\" : \"5f239969c0780000e900037a\" }, \"Comprimento_Sepala\" : 7.0999999999999996447, \"Largura_Sepala\" : 3.0, \"Comprimento_Petala\" : 5.9000000000000003553, \"Largura_Petala\" : 2.1000000000000000888, \"Especie\" : \"Iris-virginica\" }\n",
      "{ \"_id\" : { \"$oid\" : \"5f239969c0780000e900037b\" }, \"Comprimento_Sepala\" : 6.2999999999999998224, \"Largura_Sepala\" : 2.8999999999999999112, \"Comprimento_Petala\" : 5.5999999999999996447, \"Largura_Petala\" : 1.8000000000000000444, \"Especie\" : \"Iris-virginica\" }\n",
      "{ \"_id\" : { \"$oid\" : \"5f239969c0780000e900037c\" }, \"Comprimento_Sepala\" : 6.5, \"Largura_Sepala\" : 3.0, \"Comprimento_Petala\" : 5.7999999999999998224, \"Largura_Petala\" : 2.2000000000000001776, \"Especie\" : \"Iris-virginica\" }\n",
      "{ \"_id\" : { \"$oid\" : \"5f239969c0780000e900037d\" }, \"Comprimento_Sepala\" : 7.5999999999999996447, \"Largura_Sepala\" : 3.0, \"Comprimento_Petala\" : 6.5999999999999996447, \"Largura_Petala\" : 2.1000000000000000888, \"Especie\" : \"Iris-virginica\" }\n",
      "{ \"_id\" : { \"$oid\" : \"5f239969c0780000e900037e\" }, \"Comprimento_Sepala\" : 4.9000000000000003553, \"Largura_Sepala\" : 2.5, \"Comprimento_Petala\" : 4.5, \"Largura_Petala\" : 1.6999999999999999556, \"Especie\" : \"Iris-virginica\" }\n",
      "{ \"_id\" : { \"$oid\" : \"5f239969c0780000e900037f\" }, \"Comprimento_Sepala\" : 7.2999999999999998224, \"Largura_Sepala\" : 2.8999999999999999112, \"Comprimento_Petala\" : 6.2999999999999998224, \"Largura_Petala\" : 1.8000000000000000444, \"Especie\" : \"Iris-virginica\" }\n",
      "{ \"_id\" : { \"$oid\" : \"5f239969c0780000e9000380\" }, \"Comprimento_Sepala\" : 6.7000000000000001776, \"Largura_Sepala\" : 2.5, \"Comprimento_Petala\" : 5.7999999999999998224, \"Largura_Petala\" : 1.8000000000000000444, \"Especie\" : \"Iris-virginica\" }\n",
      "{ \"_id\" : { \"$oid\" : \"5f239969c0780000e9000381\" }, \"Comprimento_Sepala\" : 7.2000000000000001776, \"Largura_Sepala\" : 3.6000000000000000888, \"Comprimento_Petala\" : 6.0999999999999996447, \"Largura_Petala\" : 2.5, \"Especie\" : \"Iris-virginica\" }\n",
      "{ \"_id\" : { \"$oid\" : \"5f239969c0780000e9000382\" }, \"Comprimento_Sepala\" : 6.5, \"Largura_Sepala\" : 3.2000000000000001776, \"Comprimento_Petala\" : 5.0999999999999996447, \"Largura_Petala\" : 2.0, \"Especie\" : \"Iris-virginica\" }\n",
      "{ \"_id\" : { \"$oid\" : \"5f239969c0780000e9000383\" }, \"Comprimento_Sepala\" : 6.4000000000000003553, \"Largura_Sepala\" : 2.7000000000000001776, \"Comprimento_Petala\" : 5.2999999999999998224, \"Largura_Petala\" : 1.8999999999999999112, \"Especie\" : \"Iris-virginica\" }\n",
      "{ \"_id\" : { \"$oid\" : \"5f239969c0780000e9000384\" }, \"Comprimento_Sepala\" : 6.7999999999999998224, \"Largura_Sepala\" : 3.0, \"Comprimento_Petala\" : 5.5, \"Largura_Petala\" : 2.1000000000000000888, \"Especie\" : \"Iris-virginica\" }\n",
      "{ \"_id\" : { \"$oid\" : \"5f239969c0780000e9000385\" }, \"Comprimento_Sepala\" : 5.7000000000000001776, \"Largura_Sepala\" : 2.5, \"Comprimento_Petala\" : 5.0, \"Largura_Petala\" : 2.0, \"Especie\" : \"Iris-virginica\" }\n",
      "{ \"_id\" : { \"$oid\" : \"5f239969c0780000e9000386\" }, \"Comprimento_Sepala\" : 5.7999999999999998224, \"Largura_Sepala\" : 2.7999999999999998224, \"Comprimento_Petala\" : 5.0999999999999996447, \"Largura_Petala\" : 2.3999999999999999112, \"Especie\" : \"Iris-virginica\" }\n",
      "{ \"_id\" : { \"$oid\" : \"5f239969c0780000e9000387\" }, \"Comprimento_Sepala\" : 6.4000000000000003553, \"Largura_Sepala\" : 3.2000000000000001776, \"Comprimento_Petala\" : 5.2999999999999998224, \"Largura_Petala\" : 2.2999999999999998224, \"Especie\" : \"Iris-virginica\" }\n",
      "{ \"_id\" : { \"$oid\" : \"5f239969c0780000e9000388\" }, \"Comprimento_Sepala\" : 6.5, \"Largura_Sepala\" : 3.0, \"Comprimento_Petala\" : 5.5, \"Largura_Petala\" : 1.8000000000000000444, \"Especie\" : \"Iris-virginica\" }\n",
      "{ \"_id\" : { \"$oid\" : \"5f239969c0780000e9000389\" }, \"Comprimento_Sepala\" : 7.7000000000000001776, \"Largura_Sepala\" : 3.7999999999999998224, \"Comprimento_Petala\" : 6.7000000000000001776, \"Largura_Petala\" : 2.2000000000000001776, \"Especie\" : \"Iris-virginica\" }\n",
      "{ \"_id\" : { \"$oid\" : \"5f239969c0780000e900038a\" }, \"Comprimento_Sepala\" : 7.7000000000000001776, \"Largura_Sepala\" : 2.6000000000000000888, \"Comprimento_Petala\" : 6.9000000000000003553, \"Largura_Petala\" : 2.2999999999999998224, \"Especie\" : \"Iris-virginica\" }\n",
      "{ \"_id\" : { \"$oid\" : \"5f239969c0780000e900038b\" }, \"Comprimento_Sepala\" : 6.0, \"Largura_Sepala\" : 2.2000000000000001776, \"Comprimento_Petala\" : 5.0, \"Largura_Petala\" : 1.5, \"Especie\" : \"Iris-virginica\" }\n",
      "{ \"_id\" : { \"$oid\" : \"5f239969c0780000e900038c\" }, \"Comprimento_Sepala\" : 6.9000000000000003553, \"Largura_Sepala\" : 3.2000000000000001776, \"Comprimento_Petala\" : 5.7000000000000001776, \"Largura_Petala\" : 2.2999999999999998224, \"Especie\" : \"Iris-virginica\" }\n",
      "{ \"_id\" : { \"$oid\" : \"5f239969c0780000e900038d\" }, \"Comprimento_Sepala\" : 5.5999999999999996447, \"Largura_Sepala\" : 2.7999999999999998224, \"Comprimento_Petala\" : 4.9000000000000003553, \"Largura_Petala\" : 2.0, \"Especie\" : \"Iris-virginica\" }\n",
      "{ \"_id\" : { \"$oid\" : \"5f239969c0780000e900038e\" }, \"Comprimento_Sepala\" : 7.7000000000000001776, \"Largura_Sepala\" : 2.7999999999999998224, \"Comprimento_Petala\" : 6.7000000000000001776, \"Largura_Petala\" : 2.0, \"Especie\" : \"Iris-virginica\" }\n",
      "{ \"_id\" : { \"$oid\" : \"5f239969c0780000e900038f\" }, \"Comprimento_Sepala\" : 6.2999999999999998224, \"Largura_Sepala\" : 2.7000000000000001776, \"Comprimento_Petala\" : 4.9000000000000003553, \"Largura_Petala\" : 1.8000000000000000444, \"Especie\" : \"Iris-virginica\" }\n",
      "{ \"_id\" : { \"$oid\" : \"5f239969c0780000e9000390\" }, \"Comprimento_Sepala\" : 6.7000000000000001776, \"Largura_Sepala\" : 3.2999999999999998224, \"Comprimento_Petala\" : 5.7000000000000001776, \"Largura_Petala\" : 2.1000000000000000888, \"Especie\" : \"Iris-virginica\" }\n",
      "{ \"_id\" : { \"$oid\" : \"5f239969c0780000e9000391\" }, \"Comprimento_Sepala\" : 7.2000000000000001776, \"Largura_Sepala\" : 3.2000000000000001776, \"Comprimento_Petala\" : 6.0, \"Largura_Petala\" : 1.8000000000000000444, \"Especie\" : \"Iris-virginica\" }\n",
      "{ \"_id\" : { \"$oid\" : \"5f239969c0780000e9000392\" }, \"Comprimento_Sepala\" : 6.2000000000000001776, \"Largura_Sepala\" : 2.7999999999999998224, \"Comprimento_Petala\" : 4.7999999999999998224, \"Largura_Petala\" : 1.8000000000000000444, \"Especie\" : \"Iris-virginica\" }\n",
      "{ \"_id\" : { \"$oid\" : \"5f239969c0780000e9000393\" }, \"Comprimento_Sepala\" : 6.0999999999999996447, \"Largura_Sepala\" : 3.0, \"Comprimento_Petala\" : 4.9000000000000003553, \"Largura_Petala\" : 1.8000000000000000444, \"Especie\" : \"Iris-virginica\" }\n",
      "{ \"_id\" : { \"$oid\" : \"5f239969c0780000e9000394\" }, \"Comprimento_Sepala\" : 6.4000000000000003553, \"Largura_Sepala\" : 2.7999999999999998224, \"Comprimento_Petala\" : 5.5999999999999996447, \"Largura_Petala\" : 2.1000000000000000888, \"Especie\" : \"Iris-virginica\" }\n",
      "{ \"_id\" : { \"$oid\" : \"5f239969c0780000e9000395\" }, \"Comprimento_Sepala\" : 7.2000000000000001776, \"Largura_Sepala\" : 3.0, \"Comprimento_Petala\" : 5.7999999999999998224, \"Largura_Petala\" : 1.6000000000000000888, \"Especie\" : \"Iris-virginica\" }\n",
      "{ \"_id\" : { \"$oid\" : \"5f239969c0780000e9000396\" }, \"Comprimento_Sepala\" : 7.4000000000000003553, \"Largura_Sepala\" : 2.7999999999999998224, \"Comprimento_Petala\" : 6.0999999999999996447, \"Largura_Petala\" : 1.8999999999999999112, \"Especie\" : \"Iris-virginica\" }\n",
      "{ \"_id\" : { \"$oid\" : \"5f239969c0780000e9000397\" }, \"Comprimento_Sepala\" : 7.9000000000000003553, \"Largura_Sepala\" : 3.7999999999999998224, \"Comprimento_Petala\" : 6.4000000000000003553, \"Largura_Petala\" : 2.0, \"Especie\" : \"Iris-virginica\" }\n",
      "{ \"_id\" : { \"$oid\" : \"5f239969c0780000e9000398\" }, \"Comprimento_Sepala\" : 6.4000000000000003553, \"Largura_Sepala\" : 2.7999999999999998224, \"Comprimento_Petala\" : 5.5999999999999996447, \"Largura_Petala\" : 2.2000000000000001776, \"Especie\" : \"Iris-virginica\" }\n",
      "{ \"_id\" : { \"$oid\" : \"5f239969c0780000e9000399\" }, \"Comprimento_Sepala\" : 6.2999999999999998224, \"Largura_Sepala\" : 2.7999999999999998224, \"Comprimento_Petala\" : 5.0999999999999996447, \"Largura_Petala\" : 1.5, \"Especie\" : \"Iris-virginica\" }\n",
      "{ \"_id\" : { \"$oid\" : \"5f239969c0780000e900039a\" }, \"Comprimento_Sepala\" : 6.0999999999999996447, \"Largura_Sepala\" : 2.6000000000000000888, \"Comprimento_Petala\" : 5.5999999999999996447, \"Largura_Petala\" : 1.3999999999999999112, \"Especie\" : \"Iris-virginica\" }\n",
      "{ \"_id\" : { \"$oid\" : \"5f239969c0780000e900039b\" }, \"Comprimento_Sepala\" : 7.7000000000000001776, \"Largura_Sepala\" : 3.0, \"Comprimento_Petala\" : 6.0999999999999996447, \"Largura_Petala\" : 2.2999999999999998224, \"Especie\" : \"Iris-virginica\" }\n",
      "{ \"_id\" : { \"$oid\" : \"5f239969c0780000e900039c\" }, \"Comprimento_Sepala\" : 6.2999999999999998224, \"Largura_Sepala\" : 3.3999999999999999112, \"Comprimento_Petala\" : 5.5999999999999996447, \"Largura_Petala\" : 2.3999999999999999112, \"Especie\" : \"Iris-virginica\" }\n",
      "{ \"_id\" : { \"$oid\" : \"5f239969c0780000e900039d\" }, \"Comprimento_Sepala\" : 6.4000000000000003553, \"Largura_Sepala\" : 3.1000000000000000888, \"Comprimento_Petala\" : 5.5, \"Largura_Petala\" : 1.8000000000000000444, \"Especie\" : \"Iris-virginica\" }\n",
      "{ \"_id\" : { \"$oid\" : \"5f239969c0780000e900039e\" }, \"Comprimento_Sepala\" : 6.0, \"Largura_Sepala\" : 3.0, \"Comprimento_Petala\" : 4.7999999999999998224, \"Largura_Petala\" : 1.8000000000000000444, \"Especie\" : \"Iris-virginica\" }\n",
      "{ \"_id\" : { \"$oid\" : \"5f239969c0780000e900039f\" }, \"Comprimento_Sepala\" : 6.9000000000000003553, \"Largura_Sepala\" : 3.1000000000000000888, \"Comprimento_Petala\" : 5.4000000000000003553, \"Largura_Petala\" : 2.1000000000000000888, \"Especie\" : \"Iris-virginica\" }\n",
      "{ \"_id\" : { \"$oid\" : \"5f239969c0780000e90003a0\" }, \"Comprimento_Sepala\" : 6.7000000000000001776, \"Largura_Sepala\" : 3.1000000000000000888, \"Comprimento_Petala\" : 5.5999999999999996447, \"Largura_Petala\" : 2.3999999999999999112, \"Especie\" : \"Iris-virginica\" }\n",
      "{ \"_id\" : { \"$oid\" : \"5f239969c0780000e90003a1\" }, \"Comprimento_Sepala\" : 6.9000000000000003553, \"Largura_Sepala\" : 3.1000000000000000888, \"Comprimento_Petala\" : 5.0999999999999996447, \"Largura_Petala\" : 2.2999999999999998224, \"Especie\" : \"Iris-virginica\" }\n",
      "{ \"_id\" : { \"$oid\" : \"5f239969c0780000e90003a2\" }, \"Comprimento_Sepala\" : 5.7999999999999998224, \"Largura_Sepala\" : 2.7000000000000001776, \"Comprimento_Petala\" : 5.0999999999999996447, \"Largura_Petala\" : 1.8999999999999999112, \"Especie\" : \"Iris-virginica\" }\n",
      "{ \"_id\" : { \"$oid\" : \"5f239969c0780000e90003a3\" }, \"Comprimento_Sepala\" : 6.7999999999999998224, \"Largura_Sepala\" : 3.2000000000000001776, \"Comprimento_Petala\" : 5.9000000000000003553, \"Largura_Petala\" : 2.2999999999999998224, \"Especie\" : \"Iris-virginica\" }\n",
      "{ \"_id\" : { \"$oid\" : \"5f239969c0780000e90003a4\" }, \"Comprimento_Sepala\" : 6.7000000000000001776, \"Largura_Sepala\" : 3.2999999999999998224, \"Comprimento_Petala\" : 5.7000000000000001776, \"Largura_Petala\" : 2.5, \"Especie\" : \"Iris-virginica\" }\n",
      "{ \"_id\" : { \"$oid\" : \"5f239969c0780000e90003a5\" }, \"Comprimento_Sepala\" : 6.7000000000000001776, \"Largura_Sepala\" : 3.0, \"Comprimento_Petala\" : 5.2000000000000001776, \"Largura_Petala\" : 2.2999999999999998224, \"Especie\" : \"Iris-virginica\" }\n",
      "{ \"_id\" : { \"$oid\" : \"5f239969c0780000e90003a6\" }, \"Comprimento_Sepala\" : 6.2999999999999998224, \"Largura_Sepala\" : 2.5, \"Comprimento_Petala\" : 5.0, \"Largura_Petala\" : 1.8999999999999999112, \"Especie\" : \"Iris-virginica\" }\n",
      "{ \"_id\" : { \"$oid\" : \"5f239969c0780000e90003a7\" }, \"Comprimento_Sepala\" : 6.5, \"Largura_Sepala\" : 3.0, \"Comprimento_Petala\" : 5.2000000000000001776, \"Largura_Petala\" : 2.0, \"Especie\" : \"Iris-virginica\" }\n",
      "{ \"_id\" : { \"$oid\" : \"5f239969c0780000e90003a8\" }, \"Comprimento_Sepala\" : 6.2000000000000001776, \"Largura_Sepala\" : 3.3999999999999999112, \"Comprimento_Petala\" : 5.4000000000000003553, \"Largura_Petala\" : 2.2999999999999998224, \"Especie\" : \"Iris-virginica\" }\n",
      "{ \"_id\" : { \"$oid\" : \"5f239969c0780000e90003a9\" }, \"Comprimento_Sepala\" : 5.9000000000000003553, \"Largura_Sepala\" : 3.0, \"Comprimento_Petala\" : 5.0999999999999996447, \"Largura_Petala\" : 1.8000000000000000444, \"Especie\" : \"Iris-virginica\" }\n"
     ]
    }
   ],
   "source": [
    "# usar a função export\n",
    "\n",
    "irisnum$export(stdout())"
   ]
  },
  {
   "cell_type": "code",
   "execution_count": 267,
   "metadata": {},
   "outputs": [],
   "source": [
    "# VAMOS EXPORTAR O IRIS DB PARA JSON\n",
    "\n",
    "irisnum$export(file('E:/MEUS DOCUMENTOS/001 Estudo/IGTI - BOOTCAMP/modulo2/arquivos/dumpIris.json'))"
   ]
  },
  {
   "cell_type": "code",
   "execution_count": 271,
   "metadata": {},
   "outputs": [
    {
     "name": "stdout",
     "output_type": "stream",
     "text": [
      "[1] \"Conectado ao DB!\"\n"
     ]
    }
   ],
   "source": [
    "# CRIAR UMA CONEXÃO COM A NOVA BASE IRISDUMP\n",
    "\n",
    "irisdump <- mongo(collection = 'IrisDump', db='IGTI', url = 'mongodb://localhost:27017/')\n",
    "print('Conectado ao DB!')"
   ]
  },
  {
   "cell_type": "code",
   "execution_count": 269,
   "metadata": {},
   "outputs": [
    {
     "data": {
      "text/html": [
       "150"
      ],
      "text/latex": [
       "150"
      ],
      "text/markdown": [
       "150"
      ],
      "text/plain": [
       "[1] 150"
      ]
     },
     "metadata": {},
     "output_type": "display_data"
    }
   ],
   "source": [
    "# VAMOS IMPORTAR O ARQUIVO PARA UMA NOVA BASE DE DADOS\n",
    "\n",
    "# antes deleto tudo pois toda hora eu rodo o programa\n",
    "irisdump$drop()\n",
    "\n",
    "#agora eu importo e conto tudo ao final\n",
    "irisdump$import(file('E:/MEUS DOCUMENTOS/001 Estudo/IGTI - BOOTCAMP/modulo2/arquivos/dumpIris.json'))\n",
    "\n",
    "irisdump$count()"
   ]
  },
  {
   "cell_type": "markdown",
   "metadata": {},
   "source": [
    "### APRENDENDO A DESCONECTAR"
   ]
  },
  {
   "cell_type": "code",
   "execution_count": 272,
   "metadata": {},
   "outputs": [
    {
     "data": {
      "text/html": [
       "150"
      ],
      "text/latex": [
       "150"
      ],
      "text/markdown": [
       "150"
      ],
      "text/plain": [
       "[1] 150"
      ]
     },
     "metadata": {},
     "output_type": "display_data"
    }
   ],
   "source": [
    "irisdump$count()"
   ]
  },
  {
   "cell_type": "code",
   "execution_count": 273,
   "metadata": {},
   "outputs": [],
   "source": [
    "rm(irisdump) # remover a conexção com a coleção IrisDump"
   ]
  },
  {
   "cell_type": "code",
   "execution_count": 274,
   "metadata": {},
   "outputs": [
    {
     "ename": "ERROR",
     "evalue": "Error in eval(expr, envir, enclos): objeto 'irisdump' não encontrado\n",
     "output_type": "error",
     "traceback": [
      "Error in eval(expr, envir, enclos): objeto 'irisdump' não encontrado\nTraceback:\n"
     ]
    }
   ],
   "source": [
    "irisdump$count()  # dá erro pois removi a conexão"
   ]
  },
  {
   "cell_type": "code",
   "execution_count": 280,
   "metadata": {},
   "outputs": [
    {
     "ename": "ERROR",
     "evalue": "Error in eval(expr, envir, enclos): objeto 'irisdump' não encontrado\n",
     "output_type": "error",
     "traceback": [
      "Error in eval(expr, envir, enclos): objeto 'irisdump' não encontrado\nTraceback:\n"
     ]
    }
   ],
   "source": [
    "irisdump$find(limit=10)"
   ]
  },
  {
   "cell_type": "code",
   "execution_count": 275,
   "metadata": {},
   "outputs": [
    {
     "data": {
      "text/html": [
       "150"
      ],
      "text/latex": [
       "150"
      ],
      "text/markdown": [
       "150"
      ],
      "text/plain": [
       "[1] 150"
      ]
     },
     "metadata": {},
     "output_type": "display_data"
    }
   ],
   "source": [
    "iris$count()"
   ]
  },
  {
   "cell_type": "code",
   "execution_count": 283,
   "metadata": {},
   "outputs": [],
   "source": [
    "iris$disconnect()"
   ]
  },
  {
   "cell_type": "code",
   "execution_count": 284,
   "metadata": {},
   "outputs": [
    {
     "name": "stderr",
     "output_type": "stream",
     "text": [
      "Connection lost. Trying to reconnect with mongo...\n"
     ]
    },
    {
     "data": {
      "text/html": [
       "150"
      ],
      "text/latex": [
       "150"
      ],
      "text/markdown": [
       "150"
      ],
      "text/plain": [
       "[1] 150"
      ]
     },
     "metadata": {},
     "output_type": "display_data"
    }
   ],
   "source": [
    "iris$count() # INTERESSANTE... ELE TENTA RECONECTAR, CONSEGUE E PASSA A INFORMAÇÃO. FICA NA MEMÓRIA!!!"
   ]
  },
  {
   "cell_type": "code",
   "execution_count": 285,
   "metadata": {},
   "outputs": [
    {
     "data": {
      "text/html": [
       "<table>\n",
       "<thead><tr><th scope=col>sepal_length</th><th scope=col>sepal_width</th><th scope=col>petal_length</th><th scope=col>petal_width</th><th scope=col>species</th></tr></thead>\n",
       "<tbody>\n",
       "\t<tr><td>5.1        </td><td>3.5        </td><td>1.4        </td><td>0.2        </td><td>Iris-setosa</td></tr>\n",
       "\t<tr><td>4.9        </td><td>3          </td><td>1.4        </td><td>0.2        </td><td>Iris-setosa</td></tr>\n",
       "\t<tr><td>4.7        </td><td>3.2        </td><td>1.3        </td><td>0.2        </td><td>Iris-setosa</td></tr>\n",
       "\t<tr><td>4.6        </td><td>3.1        </td><td>1.5        </td><td>0.2        </td><td>Iris-setosa</td></tr>\n",
       "\t<tr><td>5          </td><td>3.6        </td><td>1.4        </td><td>0.2        </td><td>Iris-setosa</td></tr>\n",
       "\t<tr><td>5.4        </td><td>3.9        </td><td>1.7        </td><td>0.4        </td><td>Iris-setosa</td></tr>\n",
       "\t<tr><td>4.6        </td><td>3.4        </td><td>1.4        </td><td>0.3        </td><td>Iris-setosa</td></tr>\n",
       "\t<tr><td>5          </td><td>3.4        </td><td>1.5        </td><td>0.2        </td><td>Iris-setosa</td></tr>\n",
       "\t<tr><td>4.4        </td><td>2.9        </td><td>1.4        </td><td>0.2        </td><td>Iris-setosa</td></tr>\n",
       "\t<tr><td>4.9        </td><td>3.1        </td><td>1.5        </td><td>0.1        </td><td>Iris-setosa</td></tr>\n",
       "</tbody>\n",
       "</table>\n"
      ],
      "text/latex": [
       "\\begin{tabular}{r|lllll}\n",
       " sepal\\_length & sepal\\_width & petal\\_length & petal\\_width & species\\\\\n",
       "\\hline\n",
       "\t 5.1         & 3.5         & 1.4         & 0.2         & Iris-setosa\\\\\n",
       "\t 4.9         & 3           & 1.4         & 0.2         & Iris-setosa\\\\\n",
       "\t 4.7         & 3.2         & 1.3         & 0.2         & Iris-setosa\\\\\n",
       "\t 4.6         & 3.1         & 1.5         & 0.2         & Iris-setosa\\\\\n",
       "\t 5           & 3.6         & 1.4         & 0.2         & Iris-setosa\\\\\n",
       "\t 5.4         & 3.9         & 1.7         & 0.4         & Iris-setosa\\\\\n",
       "\t 4.6         & 3.4         & 1.4         & 0.3         & Iris-setosa\\\\\n",
       "\t 5           & 3.4         & 1.5         & 0.2         & Iris-setosa\\\\\n",
       "\t 4.4         & 2.9         & 1.4         & 0.2         & Iris-setosa\\\\\n",
       "\t 4.9         & 3.1         & 1.5         & 0.1         & Iris-setosa\\\\\n",
       "\\end{tabular}\n"
      ],
      "text/markdown": [
       "\n",
       "| sepal_length | sepal_width | petal_length | petal_width | species |\n",
       "|---|---|---|---|---|\n",
       "| 5.1         | 3.5         | 1.4         | 0.2         | Iris-setosa |\n",
       "| 4.9         | 3           | 1.4         | 0.2         | Iris-setosa |\n",
       "| 4.7         | 3.2         | 1.3         | 0.2         | Iris-setosa |\n",
       "| 4.6         | 3.1         | 1.5         | 0.2         | Iris-setosa |\n",
       "| 5           | 3.6         | 1.4         | 0.2         | Iris-setosa |\n",
       "| 5.4         | 3.9         | 1.7         | 0.4         | Iris-setosa |\n",
       "| 4.6         | 3.4         | 1.4         | 0.3         | Iris-setosa |\n",
       "| 5           | 3.4         | 1.5         | 0.2         | Iris-setosa |\n",
       "| 4.4         | 2.9         | 1.4         | 0.2         | Iris-setosa |\n",
       "| 4.9         | 3.1         | 1.5         | 0.1         | Iris-setosa |\n",
       "\n"
      ],
      "text/plain": [
       "   sepal_length sepal_width petal_length petal_width species    \n",
       "1  5.1          3.5         1.4          0.2         Iris-setosa\n",
       "2  4.9          3           1.4          0.2         Iris-setosa\n",
       "3  4.7          3.2         1.3          0.2         Iris-setosa\n",
       "4  4.6          3.1         1.5          0.2         Iris-setosa\n",
       "5  5            3.6         1.4          0.2         Iris-setosa\n",
       "6  5.4          3.9         1.7          0.4         Iris-setosa\n",
       "7  4.6          3.4         1.4          0.3         Iris-setosa\n",
       "8  5            3.4         1.5          0.2         Iris-setosa\n",
       "9  4.4          2.9         1.4          0.2         Iris-setosa\n",
       "10 4.9          3.1         1.5          0.1         Iris-setosa"
      ]
     },
     "metadata": {},
     "output_type": "display_data"
    }
   ],
   "source": [
    "iris$find(limit=10) # OS DADOS FICARAM NA MEMÓRIA, POR ISSO RECONECTOU!"
   ]
  },
  {
   "cell_type": "code",
   "execution_count": 286,
   "metadata": {},
   "outputs": [],
   "source": [
    "rm(iris) # removendo de verdade"
   ]
  },
  {
   "cell_type": "code",
   "execution_count": 287,
   "metadata": {},
   "outputs": [
    {
     "ename": "ERROR",
     "evalue": "Error in eval(expr, envir, enclos): tentativa de aplicar uma não-função\n",
     "output_type": "error",
     "traceback": [
      "Error in eval(expr, envir, enclos): tentativa de aplicar uma não-função\nTraceback:\n"
     ]
    }
   ],
   "source": [
    "iris$find(limit=10) # AGORA SIM!  DESCONECTOU DE VERDADE!!!!!!!!!"
   ]
  },
  {
   "cell_type": "code",
   "execution_count": 289,
   "metadata": {},
   "outputs": [
    {
     "name": "stderr",
     "output_type": "stream",
     "text": [
      "Warning message in rm(connection):\n",
      "\"objeto 'connection' não encontrado\""
     ]
    }
   ],
   "source": [
    "rm(connection)"
   ]
  },
  {
   "cell_type": "code",
   "execution_count": 295,
   "metadata": {},
   "outputs": [
    {
     "name": "stderr",
     "output_type": "stream",
     "text": [
      "Warning message in rm(irisnum):\n",
      "\"objeto 'irisnum' não encontrado\"Warning message in rm(pessoas):\n",
      "\"objeto 'pessoas' não encontrado\""
     ]
    }
   ],
   "source": [
    "# desconectando geral\n",
    "\n",
    "rm(irisnum)\n",
    "rm(pessoas)"
   ]
  },
  {
   "cell_type": "code",
   "execution_count": null,
   "metadata": {},
   "outputs": [],
   "source": []
  },
  {
   "cell_type": "code",
   "execution_count": 293,
   "metadata": {},
   "outputs": [],
   "source": []
  },
  {
   "cell_type": "code",
   "execution_count": null,
   "metadata": {},
   "outputs": [],
   "source": []
  }
 ],
 "metadata": {
  "kernelspec": {
   "display_name": "R",
   "language": "R",
   "name": "ir"
  },
  "language_info": {
   "codemirror_mode": "r",
   "file_extension": ".r",
   "mimetype": "text/x-r-source",
   "name": "R",
   "pygments_lexer": "r",
   "version": "4.0.2"
  }
 },
 "nbformat": 4,
 "nbformat_minor": 4
}
