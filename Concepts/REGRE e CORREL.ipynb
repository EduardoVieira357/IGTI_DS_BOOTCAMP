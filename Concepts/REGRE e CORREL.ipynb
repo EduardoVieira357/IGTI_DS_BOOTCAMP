{
 "cells": [
  {
   "cell_type": "markdown",
   "metadata": {},
   "source": [
    "# Regressão e correlação"
   ]
  },
  {
   "cell_type": "markdown",
   "metadata": {},
   "source": [
    "## Aula"
   ]
  },
  {
   "cell_type": "code",
   "execution_count": 130,
   "metadata": {},
   "outputs": [
    {
     "name": "stdout",
     "output_type": "stream",
     "text": [
      "Bibliotecas importadas!\n"
     ]
    }
   ],
   "source": [
    "import numpy as np\n",
    "from sklearn import datasets, linear_model\n",
    "from matplotlib import pyplot as plt\n",
    "from sklearn.metrics import mean_squared_error, r2_score\n",
    "\n",
    "import random\n",
    "from numpy.random import seed\n",
    "from numpy.random import rand\n",
    "print('Bibliotecas importadas!')"
   ]
  },
  {
   "cell_type": "code",
   "execution_count": 164,
   "metadata": {},
   "outputs": [
    {
     "name": "stdout",
     "output_type": "stream",
     "text": [
      "0 1096.186 791.093\n",
      "1 1144.186 701.093\n",
      "2 2476.628 1595.314\n",
      "3 2285.556 1753.778\n",
      "4 1368.81 1062.405\n",
      "5 2580.156 1901.078\n",
      "6 2297.94 1262.97\n",
      "7 2791.404 1781.702\n",
      "8 2095.864 1285.932\n",
      "9 2097.0 1410.5\n",
      "10 2041.666 1124.833\n",
      "11 3204.576 1850.288\n",
      "12 2285.618 1591.809\n",
      "13 1871.24 1280.62\n",
      "14 1259.344 812.672\n",
      "15 2575.45 1574.725\n",
      "16 2195.344 1648.672\n",
      "17 3067.464 1888.732\n",
      "18 3024.726 1532.363\n",
      "19 2493.89 1853.945\n",
      "\n",
      "Fim da geração dos dados\n"
     ]
    }
   ],
   "source": [
    "# Gerando valors aproximados ao da aula\n",
    "\n",
    "seed(1)\n",
    "production = []\n",
    "consumption = []\n",
    "\n",
    "for i in range(20):\n",
    "    chave = False\n",
    "    \n",
    "    while chave == False:\n",
    "        valor_p = round(random.uniform(800,3500),3)\n",
    "        valor_c = round(random.uniform(600,2000),3)\n",
    "        diferenca = valor_p - valor_c\n",
    "        metade = valor_c/2\n",
    "        if valor_c in np.arange(valor_p*0.5, valor_p*0.8): chave = True\n",
    "            \n",
    "    production.append(valor_p)\n",
    "    consumption.append(valor_c)\n",
    "    \n",
    "    print(i, valor_p , valor_c)\n",
    "    \n",
    "\n",
    "\n",
    "\n",
    "print('\\nFim da geração dos dados')"
   ]
  },
  {
   "cell_type": "code",
   "execution_count": 165,
   "metadata": {},
   "outputs": [],
   "source": [
    "production =  np.array(sorted(production))\n",
    "consumption = np.array(sorted(consumption))"
   ]
  },
  {
   "cell_type": "code",
   "execution_count": 166,
   "metadata": {},
   "outputs": [
    {
     "data": {
      "text/plain": [
       "array([1096.186, 1144.186, 1259.344, 1368.81 , 1871.24 , 2041.666,\n",
       "       2095.864, 2097.   , 2195.344, 2285.556, 2285.618, 2297.94 ,\n",
       "       2476.628, 2493.89 , 2575.45 , 2580.156, 2791.404, 3024.726,\n",
       "       3067.464, 3204.576])"
      ]
     },
     "execution_count": 166,
     "metadata": {},
     "output_type": "execute_result"
    }
   ],
   "source": [
    "production"
   ]
  },
  {
   "cell_type": "code",
   "execution_count": 167,
   "metadata": {},
   "outputs": [
    {
     "data": {
      "text/plain": [
       "array([ 701.093,  791.093,  812.672, 1062.405, 1124.833, 1262.97 ,\n",
       "       1280.62 , 1285.932, 1410.5  , 1532.363, 1574.725, 1591.809,\n",
       "       1595.314, 1648.672, 1753.778, 1781.702, 1850.288, 1853.945,\n",
       "       1888.732, 1901.078])"
      ]
     },
     "execution_count": 167,
     "metadata": {},
     "output_type": "execute_result"
    }
   ],
   "source": [
    "consumption"
   ]
  },
  {
   "cell_type": "code",
   "execution_count": 168,
   "metadata": {},
   "outputs": [
    {
     "data": {
      "image/png": "[encoded data removed]",
      "text/plain": [
       "<Figure size 432x288 with 1 Axes>"
      ]
     },
     "metadata": {
      "needs_background": "light"
     },
     "output_type": "display_data"
    }
   ],
   "source": [
    "plt.scatter(production,consumption, color='black')\n",
    "plt.xlabel('Production',color='green')\n",
    "plt.ylabel('Consumotion', color='red')\n",
    "plt.title('AULA BOOTCAMP')\n",
    "plt.grid()\n",
    "\n",
    "plt.show()"
   ]
  },
  {
   "cell_type": "code",
   "execution_count": 169,
   "metadata": {},
   "outputs": [],
   "source": [
    "regr= linear_model.LinearRegression()\n",
    "regr.fit(production.reshape(-1,1),consumption)\n",
    "y = regr.predict(production.reshape(-1,1))"
   ]
  },
  {
   "cell_type": "code",
   "execution_count": 170,
   "metadata": {},
   "outputs": [
    {
     "name": "stdout",
     "output_type": "stream",
     "text": [
      "Coefficients: 0.5997592597932605\n",
      "Internecpt: 108.16743439621882\n"
     ]
    }
   ],
   "source": [
    "print('Coefficients:', regr.coef_[0])\n",
    "print('Internecpt:', regr.intercept_)"
   ]
  },
  {
   "cell_type": "code",
   "execution_count": 172,
   "metadata": {},
   "outputs": [
    {
     "data": {
      "image/png": "[encoded data removed]",
      "text/plain": [
       "<Figure size 432x288 with 1 Axes>"
      ]
     },
     "metadata": {
      "needs_background": "light"
     },
     "output_type": "display_data"
    }
   ],
   "source": [
    "plt.scatter(production,consumption, color='black')\n",
    "plt.xlabel('Production',color='green')\n",
    "plt.ylabel('Consumotion', color='red')\n",
    "plt.title('CONSUMO/PRODUÇÃO SIDERURGIA')\n",
    "\n",
    "plt.plot(production, y, color='blue', linewidth=1)\n",
    "\n",
    "plt.grid()\n",
    "plt.show()"
   ]
  },
  {
   "cell_type": "code",
   "execution_count": null,
   "metadata": {},
   "outputs": [],
   "source": []
  },
  {
   "cell_type": "code",
   "execution_count": null,
   "metadata": {},
   "outputs": [],
   "source": []
  },
  {
   "cell_type": "code",
   "execution_count": null,
   "metadata": {},
   "outputs": [],
   "source": []
  },
  {
   "cell_type": "code",
   "execution_count": null,
   "metadata": {},
   "outputs": [],
   "source": []
  },
  {
   "cell_type": "code",
   "execution_count": null,
   "metadata": {},
   "outputs": [],
   "source": []
  }
 ],
 "metadata": {
  "kernelspec": {
   "display_name": "Python 3",
   "language": "python",
   "name": "python3"
  },
  "language_info": {
   "codemirror_mode": {
    "name": "ipython",
    "version": 3
   },
   "file_extension": ".py",
   "mimetype": "text/x-python",
   "name": "python",
   "nbconvert_exporter": "python",
   "pygments_lexer": "ipython3",
   "version": "3.8.5"
  }
 },
 "nbformat": 4,
 "nbformat_minor": 4
}
