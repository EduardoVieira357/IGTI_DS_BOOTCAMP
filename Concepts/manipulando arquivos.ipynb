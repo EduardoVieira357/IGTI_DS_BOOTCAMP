{
 "cells": [
  {
   "cell_type": "code",
   "execution_count": null,
   "metadata": {},
   "outputs": [],
   "source": []
  },
  {
   "cell_type": "markdown",
   "metadata": {},
   "source": [
    "### Importar Bibliotecas"
   ]
  },
  {
   "cell_type": "code",
   "execution_count": 72,
   "metadata": {},
   "outputs": [
    {
     "name": "stdout",
     "output_type": "stream",
     "text": [
      "Bibliotecas importadas!\n"
     ]
    }
   ],
   "source": [
    "import os\n",
    "from datetime import datetime\n",
    "print('Bibliotecas importadas!')"
   ]
  },
  {
   "cell_type": "markdown",
   "metadata": {},
   "source": [
    "### Cria Classes formatação"
   ]
  },
  {
   "cell_type": "code",
   "execution_count": 73,
   "metadata": {},
   "outputs": [
    {
     "name": "stdout",
     "output_type": "stream",
     "text": [
      "Classe formatação\n"
     ]
    }
   ],
   "source": [
    "# CLASSE PARA FORMATAR A FUNÇÃO PRINT()\n",
    "\n",
    "class color:\n",
    "    PURPLE = '\\033[95m'\n",
    "    CYAN = '\\033[96m'\n",
    "    DARKCYAN = '\\033[36m'\n",
    "    BLUE = '\\033[94m'\n",
    "    GREEN = '\\033[92m'\n",
    "    YELLOW = '\\033[93m'\n",
    "    RED = '\\033[915m'\n",
    "    ORANGE = '\\033[33m'\n",
    "    BOLD = '\\033[1m'\n",
    "    UNDERLINE = '\\033[4m'\n",
    "    END = '\\033[0m'\n",
    "    \n",
    "\n",
    "print('Classe formatação')"
   ]
  },
  {
   "cell_type": "markdown",
   "metadata": {},
   "source": [
    "### Define as funções/Métodos"
   ]
  },
  {
   "cell_type": "code",
   "execution_count": 74,
   "metadata": {},
   "outputs": [
    {
     "name": "stdout",
     "output_type": "stream",
     "text": [
      "setDatasetPath\n"
     ]
    }
   ],
   "source": [
    "# Função que retorna o diretório de Datasets\n",
    "\n",
    "def setDatasetPath():\n",
    "    return 'C:\\Bootcamp\\Datasets\\TXT'\n",
    "# -------------------------------------\n",
    "\n",
    "print('setDatasetPath')    "
   ]
  },
  {
   "cell_type": "code",
   "execution_count": 75,
   "metadata": {},
   "outputs": [
    {
     "name": "stdout",
     "output_type": "stream",
     "text": [
      "readFileContent\n"
     ]
    }
   ],
   "source": [
    "def readFileContent(filename):\n",
    "    try: \n",
    "        fileobject = open(filename,'r') # , enconding='utf-8'\n",
    "        print(color.BOLD+color.BLUE+'\\nO conteúdo do arquivo '+' é:\\n'+color.END)\n",
    "        if fileobject.mode == 'r':\n",
    "            filecontents = fileobject.read()\n",
    "            print(filecontents) # imprime o conteúdo lido\n",
    "        fileobject.close()\n",
    "    except FileNotFoundError:\n",
    "        print(color.BOLD+color.RED+'\\nERRO AO TENTAR LER O ARQUIVO!!\\nO arquivo '+filename+' não existe!'+color.END)\n",
    "        \n",
    "# -----------------------------------------\n",
    "print('readFileContent')"
   ]
  },
  {
   "cell_type": "code",
   "execution_count": 76,
   "metadata": {},
   "outputs": [
    {
     "name": "stdout",
     "output_type": "stream",
     "text": [
      "realFileLines\n"
     ]
    }
   ],
   "source": [
    "# Método para leitura de arquivo (Ler as linhas do arquivo e insere em uma lista)\n",
    "\n",
    "def realFileLines(filename):\n",
    "    # Ler cada linha do arquivo, inserir em uma lista\n",
    "    try:\n",
    "        print(color.BOLD+color.BLUE+'\\nAs linhas do arquivo '+filename+' são:\\n'+color.END)\n",
    "        fileobject = open(filename,'r', encoding='utf-8')\n",
    "        filelines = fileobject.readlines()\n",
    "        \n",
    "        numline = 1 # variável de apoio para controle do número de linha\n",
    "        \n",
    "        # loop --> para cada linha (line) da lista de linhas filelines\n",
    "        for line in filelines:\n",
    "            print('LInha '+str(numline)+': '+line, end=' ')  # imprime o valor da linha, end=' ' exclui quebra linha\n",
    "            numline = numline+1\n",
    "            \n",
    "        #Fecha o objeto de leitura do arquivo\n",
    "        fileobject.close()\n",
    "    except FileNotFoundError:\n",
    "        print(color.BOLD+color.RED+'\\nERRO AO TENTAR LER O ARQUIVO!! \\nO arquivo '+filename+' não existe!'+color.END)\n",
    "        \n",
    "# --------------------------------\n",
    "print('realFileLines')\n",
    "        \n",
    "        "
   ]
  },
  {
   "cell_type": "code",
   "execution_count": 86,
   "metadata": {},
   "outputs": [
    {
     "name": "stdout",
     "output_type": "stream",
     "text": [
      "appendFile\n"
     ]
    }
   ],
   "source": [
    "# método para alteração de arquivo\n",
    "\n",
    "def appendFile(filename):\n",
    "    # abrir o arquivo em modo de alteração (append)\n",
    "    # 'a' - append - inclui conteúdo ao final do arquivo\n",
    "    # criará um arquivo se o arquivo especificado não existir\n",
    "    \n",
    "    fileobject = open(filename,'a') # , encoding='utf-8'\n",
    "    fileobject.write('\\n')  # adiciona uma quebra de linha\n",
    "    \n",
    "    fileobject.write('\\nOlá pessoal!') # adiciona uma linha inforamndo que é o final da arquivo\n",
    "    now = datetime.now() # date e horas locais\n",
    "    date_time = now.strftime('%d/%m/%Y, %H:%M:S') # busca a data e hora atual\n",
    "    fileobject.write('\\n--> Hoje é: '+str(date_time)) #adiciona uma linha informando que dia é hoje\n",
    "    \n",
    "    fileobject.write('\\n\\n') # adiciona duas quebras de linha\n",
    "    fileobject.write('Olá pessoal!') # adiciona uma linha informando que é o final do arquivo\n",
    "    fileobject.write('\\n--> Hoje é: '+str(date_time)) #adiciona uma linha informando que dia é hoje\n",
    "    \n",
    "    fileobject.close()\n",
    "    \n",
    "#-----------------------------------\n",
    "\n",
    "print('appendFile')  \n"
   ]
  },
  {
   "cell_type": "code",
   "execution_count": 87,
   "metadata": {},
   "outputs": [
    {
     "name": "stdout",
     "output_type": "stream",
     "text": [
      "writeFile\n"
     ]
    }
   ],
   "source": [
    "# Método para escrita de arquivo\n",
    "\n",
    "def writeFile(filename):\n",
    "    \n",
    "    # abrir o arquivo em mode de escrita (write)\n",
    "    # 'w' - write - substituirá qualquer conteúdo existente\n",
    "    # criará um arquivo se o arquivo especificado não existir\n",
    "    \n",
    "    fileobject = open(filename,'w', encoding='utf-8')\n",
    "    fileobject.write('Abri o arquivo '+filename+' em modo de escrita(w)')  # adiciona uma quebra de linha\n",
    "    \n",
    "    \n",
    "    now = datetime.now() # date e horas locais\n",
    "    date_time = now.strftime('%d/%m/%Y, %H:%M:S') # busca a data e hora atual\n",
    "    fileobject.write('\\n--> Hoje é: '+str(date_time)) #adiciona uma linha informando que dia é hoje\n",
    "    \n",
    "    fileobject.close()\n",
    "       \n",
    "#------------------------------\n",
    "print('writeFile')\n",
    "    "
   ]
  },
  {
   "cell_type": "code",
   "execution_count": 88,
   "metadata": {},
   "outputs": [
    {
     "name": "stdout",
     "output_type": "stream",
     "text": [
      "createFile\n"
     ]
    }
   ],
   "source": [
    "# Método para criação de arquivo\n",
    "\n",
    "def createFile(filename):\n",
    "    \n",
    "    # cria um novo arquivo usando o metodo open()\n",
    "    # 'x' - criará um arquivo, retornará um erro se o arquivo existir\n",
    "    # filename = setDatasetPath() +'\\esscritorCreate1.txt'\n",
    "    \n",
    "    try:\n",
    "        fileobject = open(filename,'x', encoding='utf-8')\n",
    "        fileobject.write('Este é um novo arquivo criado usando o modo de criação(x))')  # adiciona uma quebra de linha\n",
    "        fileobject.close()\n",
    "    except FileExistsError:\n",
    "        print('\\nERRO AO TENTAR CRIAR O ARQUIVO!!! \\nO arquivo '+filename+' já existe!')\n",
    "        \n",
    "        \n",
    "        \n",
    "# ---------------------\n",
    "print('createFile')\n",
    "        \n",
    "        \n",
    "        \n",
    "        "
   ]
  },
  {
   "cell_type": "markdown",
   "metadata": {},
   "source": [
    "### Executa os métodos criados MAIN"
   ]
  },
  {
   "cell_type": "code",
   "execution_count": 89,
   "metadata": {},
   "outputs": [
    {
     "name": "stdout",
     "output_type": "stream",
     "text": [
      "C:\\Bootcamp\\Datasets\\TXT\n"
     ]
    }
   ],
   "source": [
    "datasetPath = setDatasetPath()\n",
    "print(datasetPath)"
   ]
  },
  {
   "cell_type": "markdown",
   "metadata": {},
   "source": [
    "### Leitura de arquivo TXT"
   ]
  },
  {
   "cell_type": "code",
   "execution_count": 90,
   "metadata": {},
   "outputs": [
    {
     "name": "stdout",
     "output_type": "stream",
     "text": [
      "\u001b[96mSerá lido o seguinte arquivo: \u001b[0mC:\\Bootcamp\\Datasets\\TXT\\arquivoTextoRead.txt\n"
     ]
    }
   ],
   "source": [
    "# Define arquivo para leitura\n",
    "filename = datasetPath + '\\\\arquivoTextoRead.txt'\n",
    "\n",
    "# imprimir texto com alinhamento ao centro\n",
    "print(color.CYAN+'Será lido o seguinte arquivo: '+color.END+filename)\n"
   ]
  },
  {
   "cell_type": "code",
   "execution_count": 91,
   "metadata": {},
   "outputs": [
    {
     "name": "stdout",
     "output_type": "stream",
     "text": [
      "\u001b[1m\u001b[94m\n",
      "O conteúdo do arquivo  é:\n",
      "\u001b[0m\n",
      "Big Data... dados nÃ£o estruturados, normalmente. Alto volume da dados...\n",
      "\n",
      "Machine Learning...\n",
      "\n",
      "Business intelligence...\n",
      "\n",
      "# Aula - Algoritmo K-Means na prÃ¡tica\n",
      "# K-Means... tentar fazer a ClusterizaÃ§Ã£o\n",
      "\n",
      "# para agrupar usuÃ¡rios/clientes... produtos semelhantes... pcientes para identificar riscos...\n",
      "# recomendaÃ§Ã£o de sÃ©ries para usuÃ¡rios...\n",
      "\n",
      "# Passos... inicializar os centroides aleatoriamente... calcular a distÃ¢ncia centroide... calcular a media... definir\n",
      "# outro novo centrÃ³ide...\n",
      "\n",
      "wcss... metodo\n",
      "\n",
      "distÃ¢ncia euclidiana ou manhattan... \n",
      "\n",
      "numero de iteraÃ§Ãµes...\n",
      "\n",
      "\n",
      "\n",
      "\n",
      "\n",
      "\n",
      "\n",
      "\n",
      "\n",
      "\n",
      "\n",
      "\n",
      "\n",
      "\n",
      "\n",
      "\n",
      "\n",
      "\n",
      "\n",
      "\n",
      "OlÃ¡ pessoal!\n",
      "--> Hoje Ã©: 25/07/2020, 15:47:S\n",
      "\n",
      "OlÃ¡ pessoal!\n",
      "--> Hoje Ã©: 25/07/2020, 15:47:S\n"
     ]
    }
   ],
   "source": [
    "# invoca o método readFileContent(filename)\n",
    "readFileContent(filename)"
   ]
  },
  {
   "cell_type": "code",
   "execution_count": 92,
   "metadata": {},
   "outputs": [
    {
     "name": "stdout",
     "output_type": "stream",
     "text": [
      "\u001b[1m\u001b[94m\n",
      "As linhas do arquivo C:\\Bootcamp\\Datasets\\TXT\\arquivoTextoRead.txt são:\n",
      "\u001b[0m\n",
      "LInha 1: Big Data... dados não estruturados, normalmente. Alto volume da dados...\n",
      " LInha 2: \n",
      " LInha 3: Machine Learning...\n",
      " LInha 4: \n",
      " LInha 5: Business intelligence...\n",
      " LInha 6: \n",
      " LInha 7: # Aula - Algoritmo K-Means na prática\n",
      " LInha 8: # K-Means... tentar fazer a Clusterização\n",
      " LInha 9: \n",
      " LInha 10: # para agrupar usuários/clientes... produtos semelhantes... pcientes para identificar riscos...\n",
      " LInha 11: # recomendação de séries para usuários...\n",
      " LInha 12: \n",
      " LInha 13: # Passos... inicializar os centroides aleatoriamente... calcular a distância centroide... calcular a media... definir\n",
      " LInha 14: # outro novo centróide...\n",
      " LInha 15: \n",
      " LInha 16: wcss... metodo\n",
      " LInha 17: \n",
      " LInha 18: distância euclidiana ou manhattan... \n",
      " LInha 19: \n",
      " LInha 20: numero de iterações...\n",
      " LInha 21: \n",
      " LInha 22: \n",
      " LInha 23: \n",
      " LInha 24: \n",
      " LInha 25: \n",
      " LInha 26: \n",
      " LInha 27: \n",
      " LInha 28: \n",
      " LInha 29: \n",
      " LInha 30: \n",
      " LInha 31: \n",
      " LInha 32: \n",
      " LInha 33: \n",
      " LInha 34: \n",
      " LInha 35: \n",
      " LInha 36: \n",
      " LInha 37: \n",
      " LInha 38: \n",
      " LInha 39: \n",
      " LInha 40: \n",
      " LInha 41: Olá pessoal!\n",
      " LInha 42: --> Hoje é: 25/07/2020, 15:47:S\n",
      " LInha 43: \n",
      " LInha 44: Olá pessoal!\n",
      " LInha 45: --> Hoje é: 25/07/2020, 15:47:S "
     ]
    }
   ],
   "source": [
    "# invoca o método realFileLines(filename)\n",
    "realFileLines(filename)"
   ]
  },
  {
   "cell_type": "markdown",
   "metadata": {},
   "source": [
    "### Alteração modo append"
   ]
  },
  {
   "cell_type": "code",
   "execution_count": 93,
   "metadata": {},
   "outputs": [
    {
     "name": "stdout",
     "output_type": "stream",
     "text": [
      "\u001b[1m\u001b[92mAppend em um arquivo que já existe\u001b[0m\n",
      "\u001b[1m\u001b[94m\n",
      "O conteúdo do arquivo  é:\n",
      "\u001b[0m\n",
      "Big Data... dados nÃ£o estruturados, normalmente. Alto volume da dados...\n",
      "\n",
      "Machine Learning...\n",
      "\n",
      "Business intelligence...\n",
      "\n",
      "# Aula - Algoritmo K-Means na prÃ¡tica\n",
      "# K-Means... tentar fazer a ClusterizaÃ§Ã£o\n",
      "\n",
      "# para agrupar usuÃ¡rios/clientes... produtos semelhantes... pcientes para identificar riscos...\n",
      "# recomendaÃ§Ã£o de sÃ©ries para usuÃ¡rios...\n",
      "\n",
      "# Passos... inicializar os centroides aleatoriamente... calcular a distÃ¢ncia centroide... calcular a media... definir\n",
      "# outro novo centrÃ³ide...\n",
      "\n",
      "wcss... metodo\n",
      "\n",
      "distÃ¢ncia euclidiana ou manhattan... \n",
      "\n",
      "numero de iteraÃ§Ãµes...\n",
      "\n",
      "\n",
      "\n",
      "\n",
      "\n",
      "\n",
      "\n",
      "\n",
      "\n",
      "\n",
      "\n",
      "\n",
      "\n",
      "\n",
      "\n",
      "\n",
      "\n",
      "\n",
      "\n",
      "\n",
      "OlÃ¡ pessoal!\n",
      "--> Hoje Ã©: 25/07/2020, 15:47:S\n",
      "\n",
      "OlÃ¡ pessoal!\n",
      "--> Hoje Ã©: 25/07/2020, 15:47:S\n",
      "\u001b[1m\u001b[94m\n",
      "O conteúdo do arquivo  é:\n",
      "\u001b[0m\n",
      "Big Data... dados nÃ£o estruturados, normalmente. Alto volume da dados...\n",
      "\n",
      "Machine Learning...\n",
      "\n",
      "Business intelligence...\n",
      "\n",
      "# Aula - Algoritmo K-Means na prÃ¡tica\n",
      "# K-Means... tentar fazer a ClusterizaÃ§Ã£o\n",
      "\n",
      "# para agrupar usuÃ¡rios/clientes... produtos semelhantes... pcientes para identificar riscos...\n",
      "# recomendaÃ§Ã£o de sÃ©ries para usuÃ¡rios...\n",
      "\n",
      "# Passos... inicializar os centroides aleatoriamente... calcular a distÃ¢ncia centroide... calcular a media... definir\n",
      "# outro novo centrÃ³ide...\n",
      "\n",
      "wcss... metodo\n",
      "\n",
      "distÃ¢ncia euclidiana ou manhattan... \n",
      "\n",
      "numero de iteraÃ§Ãµes...\n",
      "\n",
      "\n",
      "\n",
      "\n",
      "\n",
      "\n",
      "\n",
      "\n",
      "\n",
      "\n",
      "\n",
      "\n",
      "\n",
      "\n",
      "\n",
      "\n",
      "\n",
      "\n",
      "\n",
      "\n",
      "OlÃ¡ pessoal!\n",
      "--> Hoje Ã©: 25/07/2020, 15:47:S\n",
      "\n",
      "OlÃ¡ pessoal!\n",
      "--> Hoje Ã©: 25/07/2020, 15:47:S\n",
      "\n",
      "Olá pessoal!\n",
      "--> Hoje é: 25/07/2020, 15:48:S\n",
      "\n",
      "Olá pessoal!\n",
      "--> Hoje é: 25/07/2020, 15:48:S\n"
     ]
    }
   ],
   "source": [
    "print(color.BOLD+color.GREEN+'Append em um arquivo que já existe'+color.END)\n",
    "filename = datasetPath + '\\\\arquivoTextoRead.txt'\n",
    "\n",
    "# vamos primeiro ler o arquivo para conferir o conteúdo\n",
    "readFileContent(filename)\n",
    "\n",
    "# invoca método appendFIle\n",
    "appendFile(filename)\n",
    "\n",
    "# vamos lero o arquivo agora para conferir o conteúdo após o append\n",
    "readFileContent(filename)"
   ]
  },
  {
   "cell_type": "code",
   "execution_count": 96,
   "metadata": {},
   "outputs": [
    {
     "name": "stdout",
     "output_type": "stream",
     "text": [
      "\u001b[1m\u001b[92mAppend em um arquivo que já existe\u001b[0m\n",
      "\u001b[1m\u001b[915m\n",
      "ERRO AO TENTAR LER O ARQUIVO!!\n",
      "O arquivo C:\\Bootcamp\\Datasets\\TXT\\arquivoTextoRead100.txt não existe!\u001b[0m\n",
      "\u001b[1m\u001b[94m\n",
      "O conteúdo do arquivo  é:\n",
      "\u001b[0m\n",
      "\n",
      "\n",
      "Olá pessoal!\n",
      "--> Hoje é: 25/07/2020, 15:50:S\n",
      "\n",
      "Olá pessoal!\n",
      "--> Hoje é: 25/07/2020, 15:50:S\n"
     ]
    }
   ],
   "source": [
    "print(color.BOLD+color.GREEN+'Append em um arquivo que já existe'+color.END)\n",
    "filename = datasetPath + '\\\\arquivoTextoRead100.txt'\n",
    "\n",
    "# vamos primeiro ler o arquivo para conferir o conteúdo\n",
    "readFileContent(filename)\n",
    "\n",
    "# invoca método appendFIle\n",
    "appendFile(filename)\n",
    "\n",
    "# vamos lero o arquivo agora para conferir o conteúdo após o append\n",
    "readFileContent(filename)"
   ]
  },
  {
   "cell_type": "code",
   "execution_count": null,
   "metadata": {},
   "outputs": [],
   "source": []
  },
  {
   "cell_type": "markdown",
   "metadata": {},
   "source": [
    "### Outras funções legais"
   ]
  },
  {
   "cell_type": "code",
   "execution_count": 97,
   "metadata": {},
   "outputs": [
    {
     "name": "stdout",
     "output_type": "stream",
     "text": [
      "O diretório de trabalho é: C:\\Users\\USER\\01 JLABS\\IGTI-BOOTCAMP\n"
     ]
    }
   ],
   "source": [
    "working_directory = os.getcwd()\n",
    "print('O diretório de trabalho é: '+ working_directory)"
   ]
  },
  {
   "cell_type": "code",
   "execution_count": 98,
   "metadata": {},
   "outputs": [
    {
     "name": "stdout",
     "output_type": "stream",
     "text": [
      "['.ipynb_checkpoints', 'K-means.ipynb', 'prova.ipynb', 'REGRE e CORREL.ipynb', 'Untitled.ipynb']\n"
     ]
    }
   ],
   "source": [
    "filelist = os.listdir(working_directory)\n",
    "print(filelist)"
   ]
  },
  {
   "cell_type": "code",
   "execution_count": 100,
   "metadata": {},
   "outputs": [
    {
     "name": "stdout",
     "output_type": "stream",
     "text": [
      "['arquivoTextoRead - Copia (2).txt', 'arquivoTextoRead - Copia.txt', 'arquivoTextoRead.txt', 'arquivoTextoRead100.txt']\n",
      "C:\\Bootcamp\\Datasets\\TXT\n"
     ]
    }
   ],
   "source": [
    "filelist = os.listdir(datasetPath)\n",
    "print(filelist)\n",
    "print(datasetPath)"
   ]
  },
  {
   "cell_type": "markdown",
   "metadata": {},
   "source": [
    "### Lê o conteúdo de cada arquivo no diretório"
   ]
  },
  {
   "cell_type": "code",
   "execution_count": 112,
   "metadata": {},
   "outputs": [
    {
     "name": "stdout",
     "output_type": "stream",
     "text": [
      "\u001b[1m\n",
      "Lendo conteúdo do arquivo: \u001b[0mC:\\Bootcamp\\Datasets\\TXT\\arquivoTextoRead - Copia (2).txt\n",
      "Big Data... dados nÃ£o estruturados, normalmente. Alto volume da dados...\n",
      "\n",
      "Machine Learning...\n",
      "\n",
      "Business intelligence...\n",
      "\n",
      "# Aula - Algoritmo K-Means na prÃ¡tica\n",
      "# K-Means... tentar fazer a ClusterizaÃ§Ã£o\n",
      "\n",
      "# para agrupar usuÃ¡rios/clientes... produtos semelhantes... pcientes para identificar riscos...\n",
      "# recomendaÃ§Ã£o de sÃ©ries para usuÃ¡rios...\n",
      "\n",
      "# Passos... inicializar os centroides aleatoriamente... calcular a distÃ¢ncia centroide... calcular a media... definir\n",
      "# outro novo centrÃ³ide...\n",
      "\n",
      "wcss... metodo\n",
      "\n",
      "distÃ¢ncia euclidiana ou manhattan... \n",
      "\n",
      "numero de iteraÃ§Ãµes...\n",
      "\n",
      "\n",
      "\n",
      "\n",
      "\n",
      "\n",
      "\n",
      "\n",
      "\n",
      "\n",
      "\n",
      "\n",
      "\n",
      "\n",
      "\n",
      "\n",
      "\n",
      "\n",
      "\n",
      "\n",
      "OlÃ¡ pessoal!\n",
      "--> Hoje Ã©: 25/07/2020, 15:47:S\n",
      "\n",
      "OlÃ¡ pessoal!\n",
      "--> Hoje Ã©: 25/07/2020, 15:47:S\n",
      "\n",
      "Olá pessoal!\n",
      "--> Hoje é: 25/07/2020, 15:48:S\n",
      "\n",
      "Olá pessoal!\n",
      "--> Hoje é: 25/07/2020, 15:48:S\n",
      "1  <=====================================================\n",
      "\u001b[1m\n",
      "Lendo conteúdo do arquivo: \u001b[0mC:\\Bootcamp\\Datasets\\TXT\\arquivoTextoRead - Copia.txt\n",
      "Big Data... dados nÃ£o estruturados, normalmente. Alto volume da dados...\n",
      "\n",
      "Machine Learning...\n",
      "\n",
      "Business intelligence...\n",
      "\n",
      "# Aula - Algoritmo K-Means na prÃ¡tica\n",
      "# K-Means... tentar fazer a ClusterizaÃ§Ã£o\n",
      "\n",
      "# para agrupar usuÃ¡rios/clientes... produtos semelhantes... pcientes para identificar riscos...\n",
      "# recomendaÃ§Ã£o de sÃ©ries para usuÃ¡rios...\n",
      "\n",
      "# Passos... inicializar os centroides aleatoriamente... calcular a distÃ¢ncia centroide... calcular a media... definir\n",
      "# outro novo centrÃ³ide...\n",
      "\n",
      "wcss... metodo\n",
      "\n",
      "distÃ¢ncia euclidiana ou manhattan... \n",
      "\n",
      "numero de iteraÃ§Ãµes...\n",
      "\n",
      "\n",
      "\n",
      "\n",
      "\n",
      "\n",
      "\n",
      "\n",
      "\n",
      "\n",
      "\n",
      "\n",
      "\n",
      "\n",
      "\n",
      "\n",
      "\n",
      "\n",
      "\n",
      "\n",
      "OlÃ¡ pessoal!\n",
      "--> Hoje Ã©: 25/07/2020, 15:47:S\n",
      "\n",
      "OlÃ¡ pessoal!\n",
      "--> Hoje Ã©: 25/07/2020, 15:47:S\n",
      "\n",
      "Olá pessoal!\n",
      "--> Hoje é: 25/07/2020, 15:48:S\n",
      "\n",
      "Olá pessoal!\n",
      "--> Hoje é: 25/07/2020, 15:48:S\n",
      "2  <=====================================================\n",
      "\u001b[1m\n",
      "Lendo conteúdo do arquivo: \u001b[0mC:\\Bootcamp\\Datasets\\TXT\\arquivoTextoRead.txt\n",
      "Big Data... dados nÃ£o estruturados, normalmente. Alto volume da dados...\n",
      "\n",
      "Machine Learning...\n",
      "\n",
      "Business intelligence...\n",
      "\n",
      "# Aula - Algoritmo K-Means na prÃ¡tica\n",
      "# K-Means... tentar fazer a ClusterizaÃ§Ã£o\n",
      "\n",
      "# para agrupar usuÃ¡rios/clientes... produtos semelhantes... pcientes para identificar riscos...\n",
      "# recomendaÃ§Ã£o de sÃ©ries para usuÃ¡rios...\n",
      "\n",
      "# Passos... inicializar os centroides aleatoriamente... calcular a distÃ¢ncia centroide... calcular a media... definir\n",
      "# outro novo centrÃ³ide...\n",
      "\n",
      "wcss... metodo\n",
      "\n",
      "distÃ¢ncia euclidiana ou manhattan... \n",
      "\n",
      "numero de iteraÃ§Ãµes...\n",
      "\n",
      "\n",
      "\n",
      "\n",
      "\n",
      "\n",
      "\n",
      "\n",
      "\n",
      "\n",
      "\n",
      "\n",
      "\n",
      "\n",
      "\n",
      "\n",
      "\n",
      "\n",
      "\n",
      "\n",
      "OlÃ¡ pessoal!\n",
      "--> Hoje Ã©: 25/07/2020, 15:47:S\n",
      "\n",
      "OlÃ¡ pessoal!\n",
      "--> Hoje Ã©: 25/07/2020, 15:47:S\n",
      "\n",
      "Olá pessoal!\n",
      "--> Hoje é: 25/07/2020, 15:48:S\n",
      "\n",
      "Olá pessoal!\n",
      "--> Hoje é: 25/07/2020, 15:48:S\n",
      "3  <=====================================================\n",
      "\u001b[1m\n",
      "Lendo conteúdo do arquivo: \u001b[0mC:\\Bootcamp\\Datasets\\TXT\\arquivoTextoRead100.txt\n",
      "\n",
      "\n",
      "Olá pessoal!\n",
      "--> Hoje é: 25/07/2020, 15:50:S\n",
      "\n",
      "Olá pessoal!\n",
      "--> Hoje é: 25/07/2020, 15:50:S\n",
      "4  <=====================================================\n"
     ]
    }
   ],
   "source": [
    "i=0\n",
    "for filename in os.listdir(datasetPath):\n",
    "    \n",
    "    if os.path.isfile(os.path.join(datasetPath,filename)):\n",
    "        fullfilename = datasetPath+'\\\\'+filename\n",
    "        \n",
    "        try: \n",
    "            print(color.BOLD+'\\nLendo conteúdo do arquivo: '+color.END+fullfilename)\n",
    "            fileobject = open(fullfilename,'r')\n",
    "            if fileobject.mode == 'r':\n",
    "                filecontents = fileobject.read()\n",
    "                print(filecontents)\n",
    "            fileobject.close()\n",
    "        except FileNotFoundError:\n",
    "            print(color.BOLD+color.RED+'\\nERRO: ARQUIVO NÃO EXISTE!!!\\n'+color.END)\n",
    "        \n",
    "    else:\n",
    "        print(color.BOLD+color.BLUE+'\\n'+filename+' não é um arquivo!'+color.END)\n",
    "    \n",
    "    i +=1\n",
    "    print(str(i)+'  <=====================================================')\n",
    "                    "
   ]
  },
  {
   "cell_type": "code",
   "execution_count": null,
   "metadata": {},
   "outputs": [],
   "source": []
  },
  {
   "cell_type": "code",
   "execution_count": 101,
   "metadata": {},
   "outputs": [
    {
     "name": "stdout",
     "output_type": "stream",
     "text": [
      "Lista de arquivos: \n",
      "['arquivoTextoRead - Copia (2).txt', 'arquivoTextoRead - Copia.txt', 'arquivoTextoRead.txt', 'arquivoTextoRead100.txt']\n",
      "arquivoTextoRead - Copia (2).txt\n",
      "arquivoTextoRead - Copia.txt\n",
      "arquivoTextoRead.txt\n",
      "arquivoTextoRead100.txt\n"
     ]
    }
   ],
   "source": [
    "### Lê o conteúdo de cada arquivo do diretorio\n",
    "\n",
    "filelist = os.listdir(datasetPath)\n",
    "print('Lista de arquivos: ', sep='')\n",
    "print(filelist)\n",
    "\n",
    "for filename in filelist:\n",
    "    try:\n",
    "        if os.path.isfile(os.path.join(datasetPath,filename))\n",
    "        \n",
    "        print(dataset+'->'+filename)\n",
    "        \n",
    "    except Exception as e:\n",
    "        print('Flaha ao excluir ')\n"
   ]
  },
  {
   "cell_type": "markdown",
   "metadata": {},
   "source": [
    "### mover arquivos"
   ]
  },
  {
   "cell_type": "code",
   "execution_count": null,
   "metadata": {},
   "outputs": [],
   "source": [
    "import shutil\n",
    "\n",
    "#shutil.copy\n",
    "#shutil.move\n",
    "#os.rename\n"
   ]
  }
 ],
 "metadata": {
  "kernelspec": {
   "display_name": "Python 3",
   "language": "python",
   "name": "python3"
  },
  "language_info": {
   "codemirror_mode": {
    "name": "ipython",
    "version": 3
   },
   "file_extension": ".py",
   "mimetype": "text/x-python",
   "name": "python",
   "nbconvert_exporter": "python",
   "pygments_lexer": "ipython3",
   "version": "3.8.5"
  }
 },
 "nbformat": 4,
 "nbformat_minor": 4
}
