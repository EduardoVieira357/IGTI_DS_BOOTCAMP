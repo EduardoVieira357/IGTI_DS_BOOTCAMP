{
 "cells": [
  {
   "cell_type": "code",
   "execution_count": 1,
   "metadata": {
    "colab": {},
    "colab_type": "code",
    "executionInfo": {
     "elapsed": 889,
     "status": "ok",
     "timestamp": 1594239055178,
     "user": {
      "displayName": "fernandes macedo",
      "photoUrl": "https://lh3.googleusercontent.com/a-/AOh14GhJ9tjvclcdi3RHHRxHgDuwJ2JOnJiNPr2TJokJ=s64",
      "userId": "06599801896491279741"
     },
     "user_tz": 0
    },
    "id": "lMDuEpeJLv0I"
   },
   "outputs": [],
   "source": [
    "import numpy as np  # biblioteca utilizada para tratar com número/vetores/matrizes\n",
    "import matplotlib.pyplot as plt  # utilizada para plotar gráficos ao \"estilo\" matlab\n",
    "import pandas as pd #biblioteca utilizada para realizar operações sobre dataframes"
   ]
  },
  {
   "cell_type": "code",
   "execution_count": 4,
   "metadata": {
    "colab": {
     "base_uri": "https://localhost:8080/",
     "height": 72,
     "resources": {
      "http://localhost:8080/nbextensions/google.colab/files.js": {
       "data": "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",
       "headers": [
        [
         "content-type",
         "application/javascript"
        ]
       ],
       "ok": true,
       "status": 200,
       "status_text": ""
      }
     }
    },
    "colab_type": "code",
    "executionInfo": {
     "elapsed": 32405,
     "status": "ok",
     "timestamp": 1594239166730,
     "user": {
      "displayName": "fernandes macedo",
      "photoUrl": "https://lh3.googleusercontent.com/a-/AOh14GhJ9tjvclcdi3RHHRxHgDuwJ2JOnJiNPr2TJokJ=s64",
      "userId": "06599801896491279741"
     },
     "user_tz": 0
    },
    "id": "uhdhcNVFN-PE",
    "outputId": "9c0ba51e-20ae-4057-c046-066edd087338"
   },
   "outputs": [
    {
     "data": {
      "text/html": [
       "\n",
       "     <input type=\"file\" id=\"files-828a9dc8-ff11-4b57-887a-45e90088f1c8\" name=\"files[]\" multiple disabled\n",
       "        style=\"border:none\" />\n",
       "     <output id=\"result-828a9dc8-ff11-4b57-887a-45e90088f1c8\">\n",
       "      Upload widget is only available when the cell has been executed in the\n",
       "      current browser session. Please rerun this cell to enable.\n",
       "      </output>\n",
       "      <script src=\"/nbextensions/google.colab/files.js\"></script> "
      ],
      "text/plain": [
       "<IPython.core.display.HTML object>"
      ]
     },
     "metadata": {
      "tags": []
     },
     "output_type": "display_data"
    },
    {
     "name": "stdout",
     "output_type": "stream",
     "text": [
      "Saving AAPL.csv to AAPL (1).csv\n"
     ]
    }
   ],
   "source": [
    "from google.colab import files  #biblioteca do google colab utilizada para importar arquivos \n",
    "uploaded=files.upload() #importa os arquivos"
   ]
  },
  {
   "cell_type": "code",
   "execution_count": 5,
   "metadata": {
    "colab": {},
    "colab_type": "code",
    "executionInfo": {
     "elapsed": 821,
     "status": "ok",
     "timestamp": 1594239199486,
     "user": {
      "displayName": "fernandes macedo",
      "photoUrl": "https://lh3.googleusercontent.com/a-/AOh14GhJ9tjvclcdi3RHHRxHgDuwJ2JOnJiNPr2TJokJ=s64",
      "userId": "06599801896491279741"
     },
     "user_tz": 0
    },
    "id": "RrarQm9FPLe-"
   },
   "outputs": [],
   "source": [
    "import io  #biblioteca utilizada para tratar os comandos de entrada e saida\n",
    "data = pd.read_csv(io.BytesIO(uploaded['AAPL.csv'])) # utilizado para importar o arquivo CSV que contém o banco de dados"
   ]
  },
  {
   "cell_type": "code",
   "execution_count": 6,
   "metadata": {
    "colab": {
     "base_uri": "https://localhost:8080/",
     "height": 204
    },
    "colab_type": "code",
    "executionInfo": {
     "elapsed": 929,
     "status": "ok",
     "timestamp": 1594239208230,
     "user": {
      "displayName": "fernandes macedo",
      "photoUrl": "https://lh3.googleusercontent.com/a-/AOh14GhJ9tjvclcdi3RHHRxHgDuwJ2JOnJiNPr2TJokJ=s64",
      "userId": "06599801896491279741"
     },
     "user_tz": 0
    },
    "id": "xksBCxFcPpAX",
    "outputId": "17bc1ba4-cec5-4427-8f35-910dc1afe859"
   },
   "outputs": [
    {
     "data": {
      "text/html": [
       "<div>\n",
       "<style scoped>\n",
       "    .dataframe tbody tr th:only-of-type {\n",
       "        vertical-align: middle;\n",
       "    }\n",
       "\n",
       "    .dataframe tbody tr th {\n",
       "        vertical-align: top;\n",
       "    }\n",
       "\n",
       "    .dataframe thead th {\n",
       "        text-align: right;\n",
       "    }\n",
       "</style>\n",
       "<table border=\"1\" class=\"dataframe\">\n",
       "  <thead>\n",
       "    <tr style=\"text-align: right;\">\n",
       "      <th></th>\n",
       "      <th>Date</th>\n",
       "      <th>Open</th>\n",
       "      <th>High</th>\n",
       "      <th>Low</th>\n",
       "      <th>Close</th>\n",
       "      <th>Adj Close</th>\n",
       "      <th>Volume</th>\n",
       "    </tr>\n",
       "  </thead>\n",
       "  <tbody>\n",
       "    <tr>\n",
       "      <th>0</th>\n",
       "      <td>2013-01-02</td>\n",
       "      <td>79.117142</td>\n",
       "      <td>79.285713</td>\n",
       "      <td>77.375717</td>\n",
       "      <td>78.432854</td>\n",
       "      <td>68.502106</td>\n",
       "      <td>140129500</td>\n",
       "    </tr>\n",
       "    <tr>\n",
       "      <th>1</th>\n",
       "      <td>2013-01-03</td>\n",
       "      <td>78.268570</td>\n",
       "      <td>78.524284</td>\n",
       "      <td>77.285713</td>\n",
       "      <td>77.442856</td>\n",
       "      <td>67.637436</td>\n",
       "      <td>88241300</td>\n",
       "    </tr>\n",
       "    <tr>\n",
       "      <th>2</th>\n",
       "      <td>2013-01-04</td>\n",
       "      <td>76.709999</td>\n",
       "      <td>76.947144</td>\n",
       "      <td>75.118568</td>\n",
       "      <td>75.285713</td>\n",
       "      <td>65.753418</td>\n",
       "      <td>148583400</td>\n",
       "    </tr>\n",
       "    <tr>\n",
       "      <th>3</th>\n",
       "      <td>2013-01-07</td>\n",
       "      <td>74.571426</td>\n",
       "      <td>75.614288</td>\n",
       "      <td>73.599998</td>\n",
       "      <td>74.842857</td>\n",
       "      <td>65.366646</td>\n",
       "      <td>121039100</td>\n",
       "    </tr>\n",
       "    <tr>\n",
       "      <th>4</th>\n",
       "      <td>2013-01-08</td>\n",
       "      <td>75.601425</td>\n",
       "      <td>75.984283</td>\n",
       "      <td>74.464287</td>\n",
       "      <td>75.044289</td>\n",
       "      <td>65.542587</td>\n",
       "      <td>114676800</td>\n",
       "    </tr>\n",
       "  </tbody>\n",
       "</table>\n",
       "</div>"
      ],
      "text/plain": [
       "         Date       Open       High        Low      Close  Adj Close     Volume\n",
       "0  2013-01-02  79.117142  79.285713  77.375717  78.432854  68.502106  140129500\n",
       "1  2013-01-03  78.268570  78.524284  77.285713  77.442856  67.637436   88241300\n",
       "2  2013-01-04  76.709999  76.947144  75.118568  75.285713  65.753418  148583400\n",
       "3  2013-01-07  74.571426  75.614288  73.599998  74.842857  65.366646  121039100\n",
       "4  2013-01-08  75.601425  75.984283  74.464287  75.044289  65.542587  114676800"
      ]
     },
     "execution_count": 6,
     "metadata": {
      "tags": []
     },
     "output_type": "execute_result"
    }
   ],
   "source": [
    "data.head() #comando utilizado para mostrar as 5 primeiras colunas do dataframe"
   ]
  },
  {
   "cell_type": "code",
   "execution_count": 7,
   "metadata": {
    "colab": {
     "base_uri": "https://localhost:8080/",
     "height": 296
    },
    "colab_type": "code",
    "executionInfo": {
     "elapsed": 14041,
     "status": "ok",
     "timestamp": 1594239241396,
     "user": {
      "displayName": "fernandes macedo",
      "photoUrl": "https://lh3.googleusercontent.com/a-/AOh14GhJ9tjvclcdi3RHHRxHgDuwJ2JOnJiNPr2TJokJ=s64",
      "userId": "06599801896491279741"
     },
     "user_tz": 0
    },
    "id": "VLUdIjnWPxRb",
    "outputId": "6e852ffc-8b57-4ea3-f80b-283ac4fe49c5"
   },
   "outputs": [
    {
     "data": {
      "text/plain": [
       "Text(0.5, 0, 'Data')"
      ]
     },
     "execution_count": 7,
     "metadata": {
      "tags": []
     },
     "output_type": "execute_result"
    },
    {
     "data": {
      "image/png": "[encoded data removed]",
      "text/plain": [
       "<Figure size 432x288 with 1 Axes>"
      ]
     },
     "metadata": {
      "needs_background": "light",
      "tags": []
     },
     "output_type": "display_data"
    }
   ],
   "source": [
    "plt.plot(data[\"Date\"],data[\"Open\"])\n",
    "plt.ylabel(\"Preço\")\n",
    "plt.xlabel(\"Data\")"
   ]
  },
  {
   "cell_type": "code",
   "execution_count": 8,
   "metadata": {
    "colab": {
     "base_uri": "https://localhost:8080/",
     "height": 282
    },
    "colab_type": "code",
    "executionInfo": {
     "elapsed": 1149,
     "status": "ok",
     "timestamp": 1594239286662,
     "user": {
      "displayName": "fernandes macedo",
      "photoUrl": "https://lh3.googleusercontent.com/a-/AOh14GhJ9tjvclcdi3RHHRxHgDuwJ2JOnJiNPr2TJokJ=s64",
      "userId": "06599801896491279741"
     },
     "user_tz": 0
    },
    "id": "ZExe9XlurEBH",
    "outputId": "3e806f4f-cc9a-41f4-c597-96a5be20bf6c"
   },
   "outputs": [
    {
     "data": {
      "text/plain": [
       "<matplotlib.axes._subplots.AxesSubplot at 0x7f056a3ffc18>"
      ]
     },
     "execution_count": 8,
     "metadata": {
      "tags": []
     },
     "output_type": "execute_result"
    },
    {
     "data": {
      "image/png": "[encoded data removed]",
      "text/plain": [
       "<Figure size 432x288 with 1 Axes>"
      ]
     },
     "metadata": {
      "needs_background": "light",
      "tags": []
     },
     "output_type": "display_data"
    }
   ],
   "source": [
    "#comando utilizado para gerar o boxplot\n",
    "#boxplot é empregado para ver se existem outlier\n",
    "data.boxplot(column='Open')"
   ]
  },
  {
   "cell_type": "code",
   "execution_count": 9,
   "metadata": {
    "colab": {
     "base_uri": "https://localhost:8080/",
     "height": 255
    },
    "colab_type": "code",
    "executionInfo": {
     "elapsed": 641,
     "status": "ok",
     "timestamp": 1594239298214,
     "user": {
      "displayName": "fernandes macedo",
      "photoUrl": "https://lh3.googleusercontent.com/a-/AOh14GhJ9tjvclcdi3RHHRxHgDuwJ2JOnJiNPr2TJokJ=s64",
      "userId": "06599801896491279741"
     },
     "user_tz": 0
    },
    "id": "2XHKu_zOrmJL",
    "outputId": "816a6cde-bea2-4e27-e68e-5d49a440fb06"
   },
   "outputs": [
    {
     "name": "stdout",
     "output_type": "stream",
     "text": [
      "<class 'pandas.core.frame.DataFrame'>\n",
      "RangeIndex: 1509 entries, 0 to 1508\n",
      "Data columns (total 7 columns):\n",
      " #   Column     Non-Null Count  Dtype  \n",
      "---  ------     --------------  -----  \n",
      " 0   Date       1509 non-null   object \n",
      " 1   Open       1509 non-null   float64\n",
      " 2   High       1509 non-null   float64\n",
      " 3   Low        1509 non-null   float64\n",
      " 4   Close      1509 non-null   float64\n",
      " 5   Adj Close  1509 non-null   float64\n",
      " 6   Volume     1509 non-null   int64  \n",
      "dtypes: float64(5), int64(1), object(1)\n",
      "memory usage: 82.6+ KB\n"
     ]
    }
   ],
   "source": [
    "#comando utilizado para verificar se existem dados nulos, numéricos ou não\n",
    "data.info()"
   ]
  },
  {
   "cell_type": "code",
   "execution_count": 10,
   "metadata": {
    "colab": {
     "base_uri": "https://localhost:8080/",
     "height": 102
    },
    "colab_type": "code",
    "executionInfo": {
     "elapsed": 941,
     "status": "ok",
     "timestamp": 1594239304681,
     "user": {
      "displayName": "fernandes macedo",
      "photoUrl": "https://lh3.googleusercontent.com/a-/AOh14GhJ9tjvclcdi3RHHRxHgDuwJ2JOnJiNPr2TJokJ=s64",
      "userId": "06599801896491279741"
     },
     "user_tz": 0
    },
    "id": "VjdjnXa7QnOB",
    "outputId": "3b0c5982-ad29-4eb6-f259-947b506d158c"
   },
   "outputs": [
    {
     "data": {
      "text/plain": [
       "array([[79.117142],\n",
       "       [78.26857 ],\n",
       "       [76.709999],\n",
       "       [74.571426],\n",
       "       [75.601425]])"
      ]
     },
     "execution_count": 10,
     "metadata": {
      "tags": []
     },
     "output_type": "execute_result"
    }
   ],
   "source": [
    "#preparando os dados para a entrada\n",
    "entradas=data.iloc[:,1:2].values # retira do dataframe apenas a coluna relativa ao preço de abertura das ações\n",
    "entradas[:5] #utilizada para realiar um print apenas das 5 primeiras linhas (pode ser visto que esse é um array, não um dataframe)"
   ]
  },
  {
   "cell_type": "code",
   "execution_count": 11,
   "metadata": {
    "colab": {},
    "colab_type": "code",
    "executionInfo": {
     "elapsed": 954,
     "status": "ok",
     "timestamp": 1594239312414,
     "user": {
      "displayName": "fernandes macedo",
      "photoUrl": "https://lh3.googleusercontent.com/a-/AOh14GhJ9tjvclcdi3RHHRxHgDuwJ2JOnJiNPr2TJokJ=s64",
      "userId": "06599801896491279741"
     },
     "user_tz": 0
    },
    "id": "PsB8un-eafmg"
   },
   "outputs": [],
   "source": [
    "#normalizando os dados (os algoritmos de ML, em geral, não trabalham bem com dados em escalas diferentes)\n",
    "from sklearn.preprocessing import MinMaxScaler  #biblioteca utilizada para realizar o preprocessamento dos dados\n",
    "scaler = MinMaxScaler(feature_range = (0, 1))    #cria o objeto que será utilizado para realizar a normalização dos dados\n",
    "                                                 # feaure_range = define o intervalo de escala dos dados\n",
    "\n",
    "dados_normalizados = scaler.fit_transform(entradas)  # aplica o método de transformação dos dados"
   ]
  },
  {
   "cell_type": "code",
   "execution_count": 12,
   "metadata": {
    "colab": {
     "base_uri": "https://localhost:8080/",
     "height": 102
    },
    "colab_type": "code",
    "executionInfo": {
     "elapsed": 791,
     "status": "ok",
     "timestamp": 1594239317890,
     "user": {
      "displayName": "fernandes macedo",
      "photoUrl": "https://lh3.googleusercontent.com/a-/AOh14GhJ9tjvclcdi3RHHRxHgDuwJ2JOnJiNPr2TJokJ=s64",
      "userId": "06599801896491279741"
     },
     "user_tz": 0
    },
    "id": "q4ZhQIZ3b3Sl",
    "outputId": "b2582a49-47a6-4f8f-99d5-2274930fe248"
   },
   "outputs": [
    {
     "data": {
      "text/plain": [
       "array([[0.13511311],\n",
       "       [0.13027396],\n",
       "       [0.12138591],\n",
       "       [0.10919028],\n",
       "       [0.11506405]])"
      ]
     },
     "execution_count": 12,
     "metadata": {
      "tags": []
     },
     "output_type": "execute_result"
    }
   ],
   "source": [
    "dados_normalizados[:5]"
   ]
  },
  {
   "cell_type": "code",
   "execution_count": 13,
   "metadata": {
    "colab": {},
    "colab_type": "code",
    "executionInfo": {
     "elapsed": 912,
     "status": "ok",
     "timestamp": 1594239330481,
     "user": {
      "displayName": "fernandes macedo",
      "photoUrl": "https://lh3.googleusercontent.com/a-/AOh14GhJ9tjvclcdi3RHHRxHgDuwJ2JOnJiNPr2TJokJ=s64",
      "userId": "06599801896491279741"
     },
     "user_tz": 0
    },
    "id": "ph-s1KcJPSsa"
   },
   "outputs": [],
   "source": [
    "#Como as redes recorrentes utilizam dados no tempo T e valores passados (T-n), a entrada da rede deve conter os \n",
    "#valores presentes e os (T-n). Assim, é necessário realizar uma modificação nos dados\n",
    "features_set = []  \n",
    "labels = []  \n",
    "for i in range(60, 1259):  \n",
    "    features_set.append(dados_normalizados[i-60:i, 0])\n",
    "    labels.append(dados_normalizados[i, 0])"
   ]
  },
  {
   "cell_type": "code",
   "execution_count": 14,
   "metadata": {
    "colab": {},
    "colab_type": "code",
    "executionInfo": {
     "elapsed": 904,
     "status": "ok",
     "timestamp": 1594239335326,
     "user": {
      "displayName": "fernandes macedo",
      "photoUrl": "https://lh3.googleusercontent.com/a-/AOh14GhJ9tjvclcdi3RHHRxHgDuwJ2JOnJiNPr2TJokJ=s64",
      "userId": "06599801896491279741"
     },
     "user_tz": 0
    },
    "id": "IlfLTYKOdhmw"
   },
   "outputs": [],
   "source": [
    "#transformando os dados em um array para serem utilizados como entrada\n",
    "features_set, labels = np.array(features_set), np.array(labels)  "
   ]
  },
  {
   "cell_type": "code",
   "execution_count": 15,
   "metadata": {
    "colab": {
     "base_uri": "https://localhost:8080/",
     "height": 51
    },
    "colab_type": "code",
    "executionInfo": {
     "elapsed": 1203,
     "status": "ok",
     "timestamp": 1594239340106,
     "user": {
      "displayName": "fernandes macedo",
      "photoUrl": "https://lh3.googleusercontent.com/a-/AOh14GhJ9tjvclcdi3RHHRxHgDuwJ2JOnJiNPr2TJokJ=s64",
      "userId": "06599801896491279741"
     },
     "user_tz": 0
    },
    "id": "rt_20I0ojB_C",
    "outputId": "35eafde0-2597-4ae9-bffe-03c6cde37f4a"
   },
   "outputs": [
    {
     "name": "stdout",
     "output_type": "stream",
     "text": [
      "(1199, 60)\n",
      "(1199,)\n"
     ]
    }
   ],
   "source": [
    "#conferindo a dimensão dos dados\n",
    "print(features_set.shape) # método utilizado para retornar a dimensão dos dados\n",
    "print(labels.shape)"
   ]
  },
  {
   "cell_type": "code",
   "execution_count": 16,
   "metadata": {
    "colab": {
     "base_uri": "https://localhost:8080/",
     "height": 34
    },
    "colab_type": "code",
    "executionInfo": {
     "elapsed": 838,
     "status": "ok",
     "timestamp": 1594239344705,
     "user": {
      "displayName": "fernandes macedo",
      "photoUrl": "https://lh3.googleusercontent.com/a-/AOh14GhJ9tjvclcdi3RHHRxHgDuwJ2JOnJiNPr2TJokJ=s64",
      "userId": "06599801896491279741"
     },
     "user_tz": 0
    },
    "id": "D75_NAT7kFT4",
    "outputId": "f33732b6-c3cf-4c4c-b3a7-c4d4291ef461"
   },
   "outputs": [
    {
     "name": "stdout",
     "output_type": "stream",
     "text": [
      "(1199, 60, 1)\n"
     ]
    }
   ],
   "source": [
    "#transformando os dados para o formato aceito pelas redes recorrentes do Keras\n",
    "# 1 - formato em 3D\n",
    "# (a,b,c) -> a = número de linhas do dataset\n",
    "#         -> b = número de steps (entradas) da rede\n",
    "#         -> c = número de saídas (indicators)\n",
    "\n",
    "# método da biblioteca numpy que é utilizado para converter os dados de entrada (1199,60) em (1199,60,1)\n",
    "features_set = np.reshape(features_set, (features_set.shape[0], features_set.shape[1], 1))  # \n",
    "print(features_set.shape)"
   ]
  },
  {
   "cell_type": "code",
   "execution_count": 17,
   "metadata": {
    "colab": {
     "base_uri": "https://localhost:8080/",
     "height": 34
    },
    "colab_type": "code",
    "executionInfo": {
     "elapsed": 2059,
     "status": "ok",
     "timestamp": 1594239351072,
     "user": {
      "displayName": "fernandes macedo",
      "photoUrl": "https://lh3.googleusercontent.com/a-/AOh14GhJ9tjvclcdi3RHHRxHgDuwJ2JOnJiNPr2TJokJ=s64",
      "userId": "06599801896491279741"
     },
     "user_tz": 0
    },
    "id": "mZpDWIatmG7m",
    "outputId": "6b984cfe-dc3c-46c2-d44c-ffcf6f689454"
   },
   "outputs": [
    {
     "name": "stderr",
     "output_type": "stream",
     "text": [
      "Using TensorFlow backend.\n"
     ]
    }
   ],
   "source": [
    "from keras.models import Sequential  #classe utilizada para criar o modelo sequencial utilizando o keras\n",
    "from keras.layers import Dense  # Classe utilizada para criar as camadas que são completamente conectadas\n",
    "from keras.layers import LSTM  # Classe para a rede recorrente utilizando Long Shor Term Memory\n",
    "from keras.layers import Dropout # Classe utilizada para a camada de dropout (utilizada para evitar o overfiting)"
   ]
  },
  {
   "cell_type": "code",
   "execution_count": 18,
   "metadata": {
    "colab": {},
    "colab_type": "code",
    "executionInfo": {
     "elapsed": 9157,
     "status": "ok",
     "timestamp": 1594239364967,
     "user": {
      "displayName": "fernandes macedo",
      "photoUrl": "https://lh3.googleusercontent.com/a-/AOh14GhJ9tjvclcdi3RHHRxHgDuwJ2JOnJiNPr2TJokJ=s64",
      "userId": "06599801896491279741"
     },
     "user_tz": 0
    },
    "id": "u7-XIBlEmurs"
   },
   "outputs": [],
   "source": [
    "model = Sequential()  # objeto para a criação do modelo keras sequencial\n",
    "model.add(LSTM(units=50, return_sequences=True, input_shape=(features_set.shape[1], 1)))  #cria a camada de entrada\n",
    "# como pode ser visto, ela é adicionada como uma pilha, cada nova camada é adicionada com o método add\n",
    "# na camada de entrada, é necessário definir o tamanho do vetor de entrada (input_shape)\n",
    "# units=50 indica que na camada de entrada devem existir 50 neurônios\n",
    "# return_sequences= True indica que devem ser adicionadas novas camadas\n"
   ]
  },
  {
   "cell_type": "code",
   "execution_count": 19,
   "metadata": {
    "colab": {},
    "colab_type": "code",
    "executionInfo": {
     "elapsed": 824,
     "status": "ok",
     "timestamp": 1594239373197,
     "user": {
      "displayName": "fernandes macedo",
      "photoUrl": "https://lh3.googleusercontent.com/a-/AOh14GhJ9tjvclcdi3RHHRxHgDuwJ2JOnJiNPr2TJokJ=s64",
      "userId": "06599801896491279741"
     },
     "user_tz": 0
    },
    "id": "NE8o5SiSn7wH"
   },
   "outputs": [],
   "source": [
    "#adição da camada de dropout\n",
    "model.add(Dropout(0.2))  # o valor de 0.2 indica que 20% dos neurônios dessa camada serão perdidos para cada interação"
   ]
  },
  {
   "cell_type": "code",
   "execution_count": 20,
   "metadata": {
    "colab": {},
    "colab_type": "code",
    "executionInfo": {
     "elapsed": 1265,
     "status": "ok",
     "timestamp": 1594239378917,
     "user": {
      "displayName": "fernandes macedo",
      "photoUrl": "https://lh3.googleusercontent.com/a-/AOh14GhJ9tjvclcdi3RHHRxHgDuwJ2JOnJiNPr2TJokJ=s64",
      "userId": "06599801896491279741"
     },
     "user_tz": 0
    },
    "id": "urnv6b3JoJwd"
   },
   "outputs": [],
   "source": [
    "#Adicionando mais camadas ao modelo \n",
    "model.add(LSTM(units=50, return_sequences=True))  \n",
    "model.add(Dropout(0.2))\n",
    "\n",
    "model.add(LSTM(units=50, return_sequences=True))  \n",
    "model.add(Dropout(0.2))\n",
    "\n",
    "model.add(LSTM(units=50))  # como essa é a última camada LSTM utilizada, a variável return_sequences=False \n",
    "model.add(Dropout(0.2))  "
   ]
  },
  {
   "cell_type": "code",
   "execution_count": 21,
   "metadata": {
    "colab": {},
    "colab_type": "code",
    "executionInfo": {
     "elapsed": 804,
     "status": "ok",
     "timestamp": 1594239387736,
     "user": {
      "displayName": "fernandes macedo",
      "photoUrl": "https://lh3.googleusercontent.com/a-/AOh14GhJ9tjvclcdi3RHHRxHgDuwJ2JOnJiNPr2TJokJ=s64",
      "userId": "06599801896491279741"
     },
     "user_tz": 0
    },
    "id": "8ptBDLdiok70"
   },
   "outputs": [],
   "source": [
    "#adiciona a camada de saída com apenas 1 neurônio, pois vamos realizar a previsão de apenas uma variável (Previsão do valor de abertura)\n",
    "model.add(Dense(units = 1))"
   ]
  },
  {
   "cell_type": "code",
   "execution_count": 23,
   "metadata": {
    "colab": {
     "base_uri": "https://localhost:8080/",
     "height": 459
    },
    "colab_type": "code",
    "executionInfo": {
     "elapsed": 977,
     "status": "ok",
     "timestamp": 1594239409024,
     "user": {
      "displayName": "fernandes macedo",
      "photoUrl": "https://lh3.googleusercontent.com/a-/AOh14GhJ9tjvclcdi3RHHRxHgDuwJ2JOnJiNPr2TJokJ=s64",
      "userId": "06599801896491279741"
     },
     "user_tz": 0
    },
    "id": "Qw3EcoiPoz6d",
    "outputId": "0c0b4e52-d73d-42e7-f3b5-95893d3bcf5a"
   },
   "outputs": [
    {
     "name": "stdout",
     "output_type": "stream",
     "text": [
      "Model: \"sequential_1\"\n",
      "_________________________________________________________________\n",
      "Layer (type)                 Output Shape              Param #   \n",
      "=================================================================\n",
      "lstm_1 (LSTM)                (None, 60, 50)            10400     \n",
      "_________________________________________________________________\n",
      "dropout_1 (Dropout)          (None, 60, 50)            0         \n",
      "_________________________________________________________________\n",
      "lstm_2 (LSTM)                (None, 60, 50)            20200     \n",
      "_________________________________________________________________\n",
      "dropout_2 (Dropout)          (None, 60, 50)            0         \n",
      "_________________________________________________________________\n",
      "lstm_3 (LSTM)                (None, 60, 50)            20200     \n",
      "_________________________________________________________________\n",
      "dropout_3 (Dropout)          (None, 60, 50)            0         \n",
      "_________________________________________________________________\n",
      "lstm_4 (LSTM)                (None, 50)                20200     \n",
      "_________________________________________________________________\n",
      "dropout_4 (Dropout)          (None, 50)                0         \n",
      "_________________________________________________________________\n",
      "dense_1 (Dense)              (None, 1)                 51        \n",
      "=================================================================\n",
      "Total params: 71,051\n",
      "Trainable params: 71,051\n",
      "Non-trainable params: 0\n",
      "_________________________________________________________________\n"
     ]
    }
   ],
   "source": [
    "#comando utilizado para ver a configuração do nosso modelo\n",
    "model.summary()"
   ]
  },
  {
   "cell_type": "code",
   "execution_count": 24,
   "metadata": {
    "colab": {},
    "colab_type": "code",
    "executionInfo": {
     "elapsed": 836,
     "status": "ok",
     "timestamp": 1594239416283,
     "user": {
      "displayName": "fernandes macedo",
      "photoUrl": "https://lh3.googleusercontent.com/a-/AOh14GhJ9tjvclcdi3RHHRxHgDuwJ2JOnJiNPr2TJokJ=s64",
      "userId": "06599801896491279741"
     },
     "user_tz": 0
    },
    "id": "EpQa5EyWpDAl"
   },
   "outputs": [],
   "source": [
    "#definição do tipo de função perda a ser utilizada e do tipo do otimizador \n",
    "# o otimizador é utilizado para minimizar a função perda\n",
    "# a função perda indica como deve ser calculado o erro do modelo (valor real - valor previsto)\n",
    "model.compile(optimizer = 'adam', loss = 'mean_squared_error')"
   ]
  },
  {
   "cell_type": "code",
   "execution_count": 25,
   "metadata": {
    "colab": {
     "base_uri": "https://localhost:8080/",
     "height": 1000
    },
    "colab_type": "code",
    "executionInfo": {
     "elapsed": 1416099,
     "status": "ok",
     "timestamp": 1594240836627,
     "user": {
      "displayName": "fernandes macedo",
      "photoUrl": "https://lh3.googleusercontent.com/a-/AOh14GhJ9tjvclcdi3RHHRxHgDuwJ2JOnJiNPr2TJokJ=s64",
      "userId": "06599801896491279741"
     },
     "user_tz": 0
    },
    "id": "JCcODp-zplRh",
    "outputId": "8644624b-d5d8-40fb-f38c-61ba3b81001c"
   },
   "outputs": [
    {
     "name": "stdout",
     "output_type": "stream",
     "text": [
      "Epoch 1/100\n",
      "1199/1199 [==============================] - 17s 14ms/step - loss: 0.0159\n",
      "Epoch 2/100\n",
      "1199/1199 [==============================] - 14s 12ms/step - loss: 0.0025\n",
      "Epoch 3/100\n",
      "1199/1199 [==============================] - 14s 12ms/step - loss: 0.0022\n",
      "Epoch 4/100\n",
      "1199/1199 [==============================] - 14s 12ms/step - loss: 0.0025\n",
      "Epoch 5/100\n",
      "1199/1199 [==============================] - 14s 12ms/step - loss: 0.0019\n",
      "Epoch 6/100\n",
      "1199/1199 [==============================] - 14s 12ms/step - loss: 0.0021\n",
      "Epoch 7/100\n",
      "1199/1199 [==============================] - 14s 12ms/step - loss: 0.0021\n",
      "Epoch 8/100\n",
      "1199/1199 [==============================] - 14s 12ms/step - loss: 0.0016\n",
      "Epoch 9/100\n",
      "1199/1199 [==============================] - 14s 12ms/step - loss: 0.0016\n",
      "Epoch 10/100\n",
      "1199/1199 [==============================] - 14s 12ms/step - loss: 0.0016\n",
      "Epoch 11/100\n",
      "1199/1199 [==============================] - 14s 12ms/step - loss: 0.0018\n",
      "Epoch 12/100\n",
      "1199/1199 [==============================] - 14s 12ms/step - loss: 0.0014\n",
      "Epoch 13/100\n",
      "1199/1199 [==============================] - 14s 12ms/step - loss: 0.0014\n",
      "Epoch 14/100\n",
      "1199/1199 [==============================] - 14s 12ms/step - loss: 0.0012\n",
      "Epoch 15/100\n",
      "1199/1199 [==============================] - 15s 12ms/step - loss: 0.0015\n",
      "Epoch 16/100\n",
      "1199/1199 [==============================] - 14s 12ms/step - loss: 0.0013\n",
      "Epoch 17/100\n",
      "1199/1199 [==============================] - 14s 12ms/step - loss: 0.0013\n",
      "Epoch 18/100\n",
      "1199/1199 [==============================] - 14s 12ms/step - loss: 0.0014\n",
      "Epoch 19/100\n",
      "1199/1199 [==============================] - 14s 12ms/step - loss: 0.0013\n",
      "Epoch 20/100\n",
      "1199/1199 [==============================] - 14s 12ms/step - loss: 0.0012\n",
      "Epoch 21/100\n",
      "1199/1199 [==============================] - 14s 12ms/step - loss: 0.0013\n",
      "Epoch 22/100\n",
      "1199/1199 [==============================] - 14s 12ms/step - loss: 0.0012\n",
      "Epoch 23/100\n",
      "1199/1199 [==============================] - 14s 12ms/step - loss: 0.0011\n",
      "Epoch 24/100\n",
      "1199/1199 [==============================] - 14s 12ms/step - loss: 0.0010\n",
      "Epoch 25/100\n",
      "1199/1199 [==============================] - 14s 12ms/step - loss: 0.0012\n",
      "Epoch 26/100\n",
      "1199/1199 [==============================] - 14s 12ms/step - loss: 0.0012\n",
      "Epoch 27/100\n",
      "1199/1199 [==============================] - 14s 12ms/step - loss: 0.0011\n",
      "Epoch 28/100\n",
      "1199/1199 [==============================] - 14s 12ms/step - loss: 0.0014\n",
      "Epoch 29/100\n",
      "1199/1199 [==============================] - 14s 12ms/step - loss: 0.0010\n",
      "Epoch 30/100\n",
      "1199/1199 [==============================] - 14s 12ms/step - loss: 9.3308e-04\n",
      "Epoch 31/100\n",
      "1199/1199 [==============================] - 14s 12ms/step - loss: 0.0010\n",
      "Epoch 32/100\n",
      "1199/1199 [==============================] - 14s 12ms/step - loss: 0.0010\n",
      "Epoch 33/100\n",
      "1199/1199 [==============================] - 14s 12ms/step - loss: 0.0010\n",
      "Epoch 34/100\n",
      "1199/1199 [==============================] - 14s 11ms/step - loss: 0.0010\n",
      "Epoch 35/100\n",
      "1199/1199 [==============================] - 14s 12ms/step - loss: 9.1548e-04\n",
      "Epoch 36/100\n",
      "1199/1199 [==============================] - 14s 12ms/step - loss: 8.9787e-04\n",
      "Epoch 37/100\n",
      "1199/1199 [==============================] - 14s 12ms/step - loss: 9.7639e-04\n",
      "Epoch 38/100\n",
      "1199/1199 [==============================] - 14s 12ms/step - loss: 8.7284e-04\n",
      "Epoch 39/100\n",
      "1199/1199 [==============================] - 14s 12ms/step - loss: 8.7162e-04\n",
      "Epoch 40/100\n",
      "1199/1199 [==============================] - 14s 12ms/step - loss: 9.2131e-04\n",
      "Epoch 41/100\n",
      "1199/1199 [==============================] - 14s 12ms/step - loss: 8.3003e-04\n",
      "Epoch 42/100\n",
      "1199/1199 [==============================] - 14s 11ms/step - loss: 8.8495e-04\n",
      "Epoch 43/100\n",
      "1199/1199 [==============================] - 14s 12ms/step - loss: 8.1419e-04\n",
      "Epoch 44/100\n",
      "1199/1199 [==============================] - 14s 12ms/step - loss: 8.1852e-04\n",
      "Epoch 45/100\n",
      "1199/1199 [==============================] - 14s 12ms/step - loss: 8.4890e-04\n",
      "Epoch 46/100\n",
      "1199/1199 [==============================] - 14s 12ms/step - loss: 8.8403e-04\n",
      "Epoch 47/100\n",
      "1199/1199 [==============================] - 14s 12ms/step - loss: 7.7343e-04\n",
      "Epoch 48/100\n",
      "1199/1199 [==============================] - 14s 12ms/step - loss: 7.4005e-04\n",
      "Epoch 49/100\n",
      "1199/1199 [==============================] - 14s 11ms/step - loss: 7.3252e-04\n",
      "Epoch 50/100\n",
      "1199/1199 [==============================] - 14s 12ms/step - loss: 8.0708e-04\n",
      "Epoch 51/100\n",
      "1199/1199 [==============================] - 14s 12ms/step - loss: 8.0553e-04\n",
      "Epoch 52/100\n",
      "1199/1199 [==============================] - 14s 12ms/step - loss: 7.1658e-04\n",
      "Epoch 53/100\n",
      "1199/1199 [==============================] - 14s 12ms/step - loss: 7.5704e-04\n",
      "Epoch 54/100\n",
      "1199/1199 [==============================] - 14s 12ms/step - loss: 7.2642e-04\n",
      "Epoch 55/100\n",
      "1199/1199 [==============================] - 14s 12ms/step - loss: 7.4863e-04\n",
      "Epoch 56/100\n",
      "1199/1199 [==============================] - 14s 12ms/step - loss: 7.8624e-04\n",
      "Epoch 57/100\n",
      "1199/1199 [==============================] - 14s 12ms/step - loss: 8.0889e-04\n",
      "Epoch 58/100\n",
      "1199/1199 [==============================] - 14s 12ms/step - loss: 6.9709e-04\n",
      "Epoch 59/100\n",
      "1199/1199 [==============================] - 14s 12ms/step - loss: 6.7388e-04\n",
      "Epoch 60/100\n",
      "1199/1199 [==============================] - 14s 12ms/step - loss: 6.1505e-04\n",
      "Epoch 61/100\n",
      "1199/1199 [==============================] - 14s 12ms/step - loss: 7.2764e-04\n",
      "Epoch 62/100\n",
      "1199/1199 [==============================] - 14s 12ms/step - loss: 6.9905e-04\n",
      "Epoch 63/100\n",
      "1199/1199 [==============================] - 14s 12ms/step - loss: 6.7117e-04\n",
      "Epoch 64/100\n",
      "1199/1199 [==============================] - 14s 12ms/step - loss: 6.4205e-04\n",
      "Epoch 65/100\n",
      "1199/1199 [==============================] - 14s 12ms/step - loss: 7.0060e-04\n",
      "Epoch 66/100\n",
      "1199/1199 [==============================] - 14s 12ms/step - loss: 6.4465e-04\n",
      "Epoch 67/100\n",
      "1199/1199 [==============================] - 14s 12ms/step - loss: 6.0098e-04\n",
      "Epoch 68/100\n",
      "1199/1199 [==============================] - 14s 12ms/step - loss: 5.8025e-04\n",
      "Epoch 69/100\n",
      "1199/1199 [==============================] - 14s 12ms/step - loss: 5.9066e-04\n",
      "Epoch 70/100\n",
      "1199/1199 [==============================] - 14s 12ms/step - loss: 6.4708e-04\n",
      "Epoch 71/100\n",
      "1199/1199 [==============================] - 14s 12ms/step - loss: 6.7655e-04\n",
      "Epoch 72/100\n",
      "1199/1199 [==============================] - 14s 12ms/step - loss: 6.9769e-04\n",
      "Epoch 73/100\n",
      "1199/1199 [==============================] - 14s 12ms/step - loss: 7.0730e-04\n",
      "Epoch 74/100\n",
      "1199/1199 [==============================] - 14s 12ms/step - loss: 5.6941e-04\n",
      "Epoch 75/100\n",
      "1199/1199 [==============================] - 14s 12ms/step - loss: 5.8837e-04\n",
      "Epoch 76/100\n",
      "1199/1199 [==============================] - 14s 12ms/step - loss: 5.8645e-04\n",
      "Epoch 77/100\n",
      "1199/1199 [==============================] - 14s 12ms/step - loss: 5.9770e-04\n",
      "Epoch 78/100\n",
      "1199/1199 [==============================] - 14s 12ms/step - loss: 5.7844e-04\n",
      "Epoch 79/100\n",
      "1199/1199 [==============================] - 14s 12ms/step - loss: 5.7137e-04\n",
      "Epoch 80/100\n",
      "1199/1199 [==============================] - 14s 12ms/step - loss: 5.6944e-04\n",
      "Epoch 81/100\n",
      "1199/1199 [==============================] - 14s 12ms/step - loss: 5.4357e-04\n",
      "Epoch 82/100\n",
      "1199/1199 [==============================] - 14s 12ms/step - loss: 5.4123e-04\n",
      "Epoch 83/100\n",
      "1199/1199 [==============================] - 14s 12ms/step - loss: 5.0353e-04\n",
      "Epoch 84/100\n",
      "1199/1199 [==============================] - 14s 12ms/step - loss: 5.1690e-04\n",
      "Epoch 85/100\n",
      "1199/1199 [==============================] - 14s 12ms/step - loss: 5.8428e-04\n",
      "Epoch 86/100\n",
      "1199/1199 [==============================] - 14s 12ms/step - loss: 5.6263e-04\n",
      "Epoch 87/100\n",
      "1199/1199 [==============================] - 14s 12ms/step - loss: 5.8222e-04\n",
      "Epoch 88/100\n",
      "1199/1199 [==============================] - 14s 12ms/step - loss: 6.5026e-04\n",
      "Epoch 89/100\n",
      "1199/1199 [==============================] - 14s 12ms/step - loss: 5.0820e-04\n",
      "Epoch 90/100\n",
      "1199/1199 [==============================] - 14s 12ms/step - loss: 5.7940e-04\n",
      "Epoch 91/100\n",
      "1199/1199 [==============================] - 14s 12ms/step - loss: 5.5612e-04\n",
      "Epoch 92/100\n",
      "1199/1199 [==============================] - 14s 12ms/step - loss: 5.8639e-04\n",
      "Epoch 93/100\n",
      "1199/1199 [==============================] - 14s 12ms/step - loss: 5.8016e-04\n",
      "Epoch 94/100\n",
      "1199/1199 [==============================] - 14s 12ms/step - loss: 4.4880e-04\n",
      "Epoch 95/100\n",
      "1199/1199 [==============================] - 14s 12ms/step - loss: 5.3530e-04\n",
      "Epoch 96/100\n",
      "1199/1199 [==============================] - 14s 12ms/step - loss: 5.7142e-04\n",
      "Epoch 97/100\n",
      "1199/1199 [==============================] - 14s 12ms/step - loss: 5.0921e-04\n",
      "Epoch 98/100\n",
      "1199/1199 [==============================] - 14s 12ms/step - loss: 5.1509e-04\n",
      "Epoch 99/100\n",
      "1199/1199 [==============================] - 14s 12ms/step - loss: 4.6412e-04\n",
      "Epoch 100/100\n",
      "1199/1199 [==============================] - 14s 11ms/step - loss: 4.5412e-04\n"
     ]
    },
    {
     "data": {
      "text/plain": [
       "<keras.callbacks.callbacks.History at 0x7f05101e0f28>"
      ]
     },
     "execution_count": 25,
     "metadata": {
      "tags": []
     },
     "output_type": "execute_result"
    }
   ],
   "source": [
    "#treinamento do modelo\n",
    "model.fit(features_set, labels, epochs = 100, batch_size = 32)  \n",
    "# valores de entrada\n",
    "# saída\n",
    "# número épocas para o treinamento (vezes em que vamos realizar interações durante o treinamento)\n",
    "#batch_size = quantidade de dados utilizados por vez para realizar o treinamento"
   ]
  },
  {
   "cell_type": "code",
   "execution_count": 26,
   "metadata": {
    "colab": {
     "base_uri": "https://localhost:8080/",
     "height": 72,
     "resources": {
      "http://localhost:8080/nbextensions/google.colab/files.js": {
       "data": "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",
       "headers": [
        [
         "content-type",
         "application/javascript"
        ]
       ],
       "ok": true,
       "status": 200,
       "status_text": ""
      }
     }
    },
    "colab_type": "code",
    "executionInfo": {
     "elapsed": 17687,
     "status": "ok",
     "timestamp": 1594241035165,
     "user": {
      "displayName": "fernandes macedo",
      "photoUrl": "https://lh3.googleusercontent.com/a-/AOh14GhJ9tjvclcdi3RHHRxHgDuwJ2JOnJiNPr2TJokJ=s64",
      "userId": "06599801896491279741"
     },
     "user_tz": 0
    },
    "id": "oTAkB8e3s9Nv",
    "outputId": "49ba7415-a6c9-408f-e76e-353978f39161"
   },
   "outputs": [
    {
     "data": {
      "text/html": [
       "\n",
       "     <input type=\"file\" id=\"files-2e37dae4-e0b2-467a-94c8-ee1b9d79d83b\" name=\"files[]\" multiple disabled\n",
       "        style=\"border:none\" />\n",
       "     <output id=\"result-2e37dae4-e0b2-467a-94c8-ee1b9d79d83b\">\n",
       "      Upload widget is only available when the cell has been executed in the\n",
       "      current browser session. Please rerun this cell to enable.\n",
       "      </output>\n",
       "      <script src=\"/nbextensions/google.colab/files.js\"></script> "
      ],
      "text/plain": [
       "<IPython.core.display.HTML object>"
      ]
     },
     "metadata": {
      "tags": []
     },
     "output_type": "display_data"
    },
    {
     "name": "stdout",
     "output_type": "stream",
     "text": [
      "Saving AAPL_previsao.csv to AAPL_previsao (1).csv\n"
     ]
    }
   ],
   "source": [
    "uploaded2=files.upload() #importa os arquivos para o teste dos dados "
   ]
  },
  {
   "cell_type": "code",
   "execution_count": 27,
   "metadata": {
    "colab": {},
    "colab_type": "code",
    "executionInfo": {
     "elapsed": 649,
     "status": "ok",
     "timestamp": 1594241041091,
     "user": {
      "displayName": "fernandes macedo",
      "photoUrl": "https://lh3.googleusercontent.com/a-/AOh14GhJ9tjvclcdi3RHHRxHgDuwJ2JOnJiNPr2TJokJ=s64",
      "userId": "06599801896491279741"
     },
     "user_tz": 0
    },
    "id": "A7jZA_JyzwwH"
   },
   "outputs": [],
   "source": [
    "data_test = pd.read_csv(io.BytesIO(uploaded2['AAPL_previsao.csv'])) # utilizado para importar o arquivo CSV que contém o banco de dados para teste"
   ]
  },
  {
   "cell_type": "code",
   "execution_count": 29,
   "metadata": {
    "colab": {
     "base_uri": "https://localhost:8080/",
     "height": 204
    },
    "colab_type": "code",
    "executionInfo": {
     "elapsed": 1135,
     "status": "ok",
     "timestamp": 1594241056095,
     "user": {
      "displayName": "fernandes macedo",
      "photoUrl": "https://lh3.googleusercontent.com/a-/AOh14GhJ9tjvclcdi3RHHRxHgDuwJ2JOnJiNPr2TJokJ=s64",
      "userId": "06599801896491279741"
     },
     "user_tz": 0
    },
    "id": "6RZd0yZwz7S8",
    "outputId": "b8b1234a-415b-4e80-f4db-48834df2d843"
   },
   "outputs": [
    {
     "data": {
      "text/html": [
       "<div>\n",
       "<style scoped>\n",
       "    .dataframe tbody tr th:only-of-type {\n",
       "        vertical-align: middle;\n",
       "    }\n",
       "\n",
       "    .dataframe tbody tr th {\n",
       "        vertical-align: top;\n",
       "    }\n",
       "\n",
       "    .dataframe thead th {\n",
       "        text-align: right;\n",
       "    }\n",
       "</style>\n",
       "<table border=\"1\" class=\"dataframe\">\n",
       "  <thead>\n",
       "    <tr style=\"text-align: right;\">\n",
       "      <th></th>\n",
       "      <th>Date</th>\n",
       "      <th>Open</th>\n",
       "      <th>High</th>\n",
       "      <th>Low</th>\n",
       "      <th>Close</th>\n",
       "      <th>Adj Close</th>\n",
       "      <th>Volume</th>\n",
       "    </tr>\n",
       "  </thead>\n",
       "  <tbody>\n",
       "    <tr>\n",
       "      <th>0</th>\n",
       "      <td>2019-01-02</td>\n",
       "      <td>154.889999</td>\n",
       "      <td>158.850006</td>\n",
       "      <td>154.229996</td>\n",
       "      <td>157.919998</td>\n",
       "      <td>154.794983</td>\n",
       "      <td>37039700</td>\n",
       "    </tr>\n",
       "    <tr>\n",
       "      <th>1</th>\n",
       "      <td>2019-01-03</td>\n",
       "      <td>143.979996</td>\n",
       "      <td>145.720001</td>\n",
       "      <td>142.000000</td>\n",
       "      <td>142.190002</td>\n",
       "      <td>139.376251</td>\n",
       "      <td>91312200</td>\n",
       "    </tr>\n",
       "    <tr>\n",
       "      <th>2</th>\n",
       "      <td>2019-01-04</td>\n",
       "      <td>144.529999</td>\n",
       "      <td>148.550003</td>\n",
       "      <td>143.800003</td>\n",
       "      <td>148.259995</td>\n",
       "      <td>145.326126</td>\n",
       "      <td>58607100</td>\n",
       "    </tr>\n",
       "    <tr>\n",
       "      <th>3</th>\n",
       "      <td>2019-01-07</td>\n",
       "      <td>148.699997</td>\n",
       "      <td>148.830002</td>\n",
       "      <td>145.899994</td>\n",
       "      <td>147.929993</td>\n",
       "      <td>145.002686</td>\n",
       "      <td>54777800</td>\n",
       "    </tr>\n",
       "    <tr>\n",
       "      <th>4</th>\n",
       "      <td>2019-01-08</td>\n",
       "      <td>149.559998</td>\n",
       "      <td>151.820007</td>\n",
       "      <td>148.520004</td>\n",
       "      <td>150.750000</td>\n",
       "      <td>147.766861</td>\n",
       "      <td>41025300</td>\n",
       "    </tr>\n",
       "  </tbody>\n",
       "</table>\n",
       "</div>"
      ],
      "text/plain": [
       "         Date        Open        High  ...       Close   Adj Close    Volume\n",
       "0  2019-01-02  154.889999  158.850006  ...  157.919998  154.794983  37039700\n",
       "1  2019-01-03  143.979996  145.720001  ...  142.190002  139.376251  91312200\n",
       "2  2019-01-04  144.529999  148.550003  ...  148.259995  145.326126  58607100\n",
       "3  2019-01-07  148.699997  148.830002  ...  147.929993  145.002686  54777800\n",
       "4  2019-01-08  149.559998  151.820007  ...  150.750000  147.766861  41025300\n",
       "\n",
       "[5 rows x 7 columns]"
      ]
     },
     "execution_count": 29,
     "metadata": {
      "tags": []
     },
     "output_type": "execute_result"
    }
   ],
   "source": [
    "data_test.head() #verifica as 5 primeiras linhas do dataframe utilizado para teste"
   ]
  },
  {
   "cell_type": "code",
   "execution_count": 30,
   "metadata": {
    "colab": {
     "base_uri": "https://localhost:8080/",
     "height": 282
    },
    "colab_type": "code",
    "executionInfo": {
     "elapsed": 1236,
     "status": "ok",
     "timestamp": 1594241060822,
     "user": {
      "displayName": "fernandes macedo",
      "photoUrl": "https://lh3.googleusercontent.com/a-/AOh14GhJ9tjvclcdi3RHHRxHgDuwJ2JOnJiNPr2TJokJ=s64",
      "userId": "06599801896491279741"
     },
     "user_tz": 0
    },
    "id": "PfwaPDLr0DYY",
    "outputId": "99abe777-d952-4dad-a600-c9af49a85cb8"
   },
   "outputs": [
    {
     "data": {
      "text/plain": [
       "[<matplotlib.lines.Line2D at 0x7f04acca27b8>]"
      ]
     },
     "execution_count": 30,
     "metadata": {
      "tags": []
     },
     "output_type": "execute_result"
    },
    {
     "data": {
      "image/png": "[encoded data removed]",
      "text/plain": [
       "<Figure size 432x288 with 1 Axes>"
      ]
     },
     "metadata": {
      "needs_background": "light",
      "tags": []
     },
     "output_type": "display_data"
    }
   ],
   "source": [
    "plt.plot(data_test.Date,data_test.Open) #plot para os dados a serem utilizados como teste"
   ]
  },
  {
   "cell_type": "code",
   "execution_count": 31,
   "metadata": {
    "colab": {},
    "colab_type": "code",
    "executionInfo": {
     "elapsed": 934,
     "status": "ok",
     "timestamp": 1594241066904,
     "user": {
      "displayName": "fernandes macedo",
      "photoUrl": "https://lh3.googleusercontent.com/a-/AOh14GhJ9tjvclcdi3RHHRxHgDuwJ2JOnJiNPr2TJokJ=s64",
      "userId": "06599801896491279741"
     },
     "user_tz": 0
    },
    "id": "d_Aep4V63P1o"
   },
   "outputs": [],
   "source": [
    "df_data_apple=data_test.iloc[:, 1:2].values"
   ]
  },
  {
   "cell_type": "code",
   "execution_count": 32,
   "metadata": {
    "colab": {},
    "colab_type": "code",
    "executionInfo": {
     "elapsed": 1090,
     "status": "ok",
     "timestamp": 1594241071904,
     "user": {
      "displayName": "fernandes macedo",
      "photoUrl": "https://lh3.googleusercontent.com/a-/AOh14GhJ9tjvclcdi3RHHRxHgDuwJ2JOnJiNPr2TJokJ=s64",
      "userId": "06599801896491279741"
     },
     "user_tz": 0
    },
    "id": "aSRHQY9S0SVl"
   },
   "outputs": [],
   "source": [
    "df_data_apple = pd.concat((data['Open'], data_test['Open']), axis=0)  # concatena os dados utilizados para teste e os utilizados para treinamento, tudo em um mesmo dataframe de 1 coluna\n"
   ]
  },
  {
   "cell_type": "code",
   "execution_count": 33,
   "metadata": {
    "colab": {
     "base_uri": "https://localhost:8080/",
     "height": 119
    },
    "colab_type": "code",
    "executionInfo": {
     "elapsed": 1160,
     "status": "ok",
     "timestamp": 1594241076185,
     "user": {
      "displayName": "fernandes macedo",
      "photoUrl": "https://lh3.googleusercontent.com/a-/AOh14GhJ9tjvclcdi3RHHRxHgDuwJ2JOnJiNPr2TJokJ=s64",
      "userId": "06599801896491279741"
     },
     "user_tz": 0
    },
    "id": "vxl-jhdZ0wN3",
    "outputId": "9abbfe4e-6b55-4b3c-c8fd-eb7b5e0dc232"
   },
   "outputs": [
    {
     "data": {
      "text/plain": [
       "0    79.117142\n",
       "1    78.268570\n",
       "2    76.709999\n",
       "3    74.571426\n",
       "4    75.601425\n",
       "Name: Open, dtype: float64"
      ]
     },
     "execution_count": 33,
     "metadata": {
      "tags": []
     },
     "output_type": "execute_result"
    }
   ],
   "source": [
    "df_data_apple.head()"
   ]
  },
  {
   "cell_type": "code",
   "execution_count": 34,
   "metadata": {
    "colab": {},
    "colab_type": "code",
    "executionInfo": {
     "elapsed": 820,
     "status": "ok",
     "timestamp": 1594241082684,
     "user": {
      "displayName": "fernandes macedo",
      "photoUrl": "https://lh3.googleusercontent.com/a-/AOh14GhJ9tjvclcdi3RHHRxHgDuwJ2JOnJiNPr2TJokJ=s64",
      "userId": "06599801896491279741"
     },
     "user_tz": 0
    },
    "id": "cHguzy2S06t6"
   },
   "outputs": [],
   "source": [
    "test_inputs = df_data_apple[len(df_data_apple) - len(data_test) - 60:].values  \n"
   ]
  },
  {
   "cell_type": "code",
   "execution_count": 35,
   "metadata": {
    "colab": {},
    "colab_type": "code",
    "executionInfo": {
     "elapsed": 1003,
     "status": "ok",
     "timestamp": 1594241086016,
     "user": {
      "displayName": "fernandes macedo",
      "photoUrl": "https://lh3.googleusercontent.com/a-/AOh14GhJ9tjvclcdi3RHHRxHgDuwJ2JOnJiNPr2TJokJ=s64",
      "userId": "06599801896491279741"
     },
     "user_tz": 0
    },
    "id": "ZdyRMTYJ1l0v"
   },
   "outputs": [],
   "source": [
    "#normalização dos dados para teste, como fizemos com os dados de treinamento\n",
    "test_inputs = test_inputs.reshape(-1,1)  \n",
    "test_inputs = scaler.transform(test_inputs)  "
   ]
  },
  {
   "cell_type": "code",
   "execution_count": 36,
   "metadata": {
    "colab": {},
    "colab_type": "code",
    "executionInfo": {
     "elapsed": 1030,
     "status": "ok",
     "timestamp": 1594241090548,
     "user": {
      "displayName": "fernandes macedo",
      "photoUrl": "https://lh3.googleusercontent.com/a-/AOh14GhJ9tjvclcdi3RHHRxHgDuwJ2JOnJiNPr2TJokJ=s64",
      "userId": "06599801896491279741"
     },
     "user_tz": 0
    },
    "id": "W5JCdLpd1tuq"
   },
   "outputs": [],
   "source": [
    "#preparação dos 60 dados a setem utilizado\n",
    "test_features = []  \n",
    "for i in range(60, 80):  \n",
    "    test_features.append(test_inputs[i-60:i, 0])"
   ]
  },
  {
   "cell_type": "code",
   "execution_count": 37,
   "metadata": {
    "colab": {},
    "colab_type": "code",
    "executionInfo": {
     "elapsed": 955,
     "status": "ok",
     "timestamp": 1594241096345,
     "user": {
      "displayName": "fernandes macedo",
      "photoUrl": "https://lh3.googleusercontent.com/a-/AOh14GhJ9tjvclcdi3RHHRxHgDuwJ2JOnJiNPr2TJokJ=s64",
      "userId": "06599801896491279741"
     },
     "user_tz": 0
    },
    "id": "ZS-mnPqk19LM"
   },
   "outputs": [],
   "source": [
    "#preparando os dados como entrada para o modelo de previsão \n",
    "test_features = np.array(test_features)  \n",
    "test_features = np.reshape(test_features, (test_features.shape[0], test_features.shape[1], 1)) "
   ]
  },
  {
   "cell_type": "code",
   "execution_count": 38,
   "metadata": {
    "colab": {},
    "colab_type": "code",
    "executionInfo": {
     "elapsed": 1056,
     "status": "ok",
     "timestamp": 1594241101810,
     "user": {
      "displayName": "fernandes macedo",
      "photoUrl": "https://lh3.googleusercontent.com/a-/AOh14GhJ9tjvclcdi3RHHRxHgDuwJ2JOnJiNPr2TJokJ=s64",
      "userId": "06599801896491279741"
     },
     "user_tz": 0
    },
    "id": "hio5Vu8T2EOS"
   },
   "outputs": [],
   "source": [
    "#previsão utilizando o modelo gerado \n",
    "previsao = model.predict(test_features)  "
   ]
  },
  {
   "cell_type": "code",
   "execution_count": 39,
   "metadata": {
    "colab": {},
    "colab_type": "code",
    "executionInfo": {
     "elapsed": 1156,
     "status": "ok",
     "timestamp": 1594241105499,
     "user": {
      "displayName": "fernandes macedo",
      "photoUrl": "https://lh3.googleusercontent.com/a-/AOh14GhJ9tjvclcdi3RHHRxHgDuwJ2JOnJiNPr2TJokJ=s64",
      "userId": "06599801896491279741"
     },
     "user_tz": 0
    },
    "id": "O2tSI9Uj2NGF"
   },
   "outputs": [],
   "source": [
    "#inverte a transformação (normalização) dos dados de previsão\n",
    "previsao = scaler.inverse_transform(previsao)"
   ]
  },
  {
   "cell_type": "code",
   "execution_count": 41,
   "metadata": {
    "colab": {
     "base_uri": "https://localhost:8080/",
     "height": 404
    },
    "colab_type": "code",
    "executionInfo": {
     "elapsed": 1056,
     "status": "ok",
     "timestamp": 1594241136317,
     "user": {
      "displayName": "fernandes macedo",
      "photoUrl": "https://lh3.googleusercontent.com/a-/AOh14GhJ9tjvclcdi3RHHRxHgDuwJ2JOnJiNPr2TJokJ=s64",
      "userId": "06599801896491279741"
     },
     "user_tz": 0
    },
    "id": "p1hylx6yCxLy",
    "outputId": "cfcaf5d2-0047-487c-9ebf-70b5c23c8a5e"
   },
   "outputs": [
    {
     "data": {
      "image/png": "[encoded data removed]",
      "text/plain": [
       "<Figure size 720x432 with 1 Axes>"
      ]
     },
     "metadata": {
      "needs_background": "light",
      "tags": []
     },
     "output_type": "display_data"
    }
   ],
   "source": [
    "#plot do resultado da previsão e do real\n",
    "plt.figure(figsize=(10,6))  \n",
    "plt.plot(data_test.Open, color='blue', label='Preço Real das Ações da Apple')  \n",
    "plt.plot(previsao , color='red', label='Previsão do Preço das Ações da Apple')  \n",
    "plt.title('Previsão do Preço de Abertura das Ações da Apple')  \n",
    "plt.xlabel('Data')  \n",
    "plt.ylabel('Preço')  \n",
    "plt.legend()  \n",
    "plt.show() "
   ]
  }
 ],
 "metadata": {
  "accelerator": "GPU",
  "colab": {
   "collapsed_sections": [],
   "name": "aula_inaugural.ipynb",
   "provenance": []
  },
  "kernelspec": {
   "display_name": "Python 3",
   "language": "python",
   "name": "python3"
  },
  "language_info": {
   "codemirror_mode": {
    "name": "ipython",
    "version": 3
   },
   "file_extension": ".py",
   "mimetype": "text/x-python",
   "name": "python",
   "nbconvert_exporter": "python",
   "pygments_lexer": "ipython3",
   "version": "3.8.5"
  }
 },
 "nbformat": 4,
 "nbformat_minor": 4
}
