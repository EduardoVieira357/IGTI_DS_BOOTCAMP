{
 "cells": [
  {
   "cell_type": "markdown",
   "metadata": {},
   "source": [
    "# ATENÇÃO: ESTE NOTEBOOK FOI FEITO NO R STUDIO PADRÃO\n"
   ]
  },
  {
   "cell_type": "code",
   "execution_count": null,
   "metadata": {},
   "outputs": [],
   "source": [
    "# Coleta de Dados no MySQL utilizando o R"
   ]
  },
  {
   "cell_type": "markdown",
   "metadata": {},
   "source": [
    "#### Para mais detalhes sobre a biblioteca RMariaDB consulte:\n",
    "* https://cran.r-project.org/web/packages/RMariaDB/RMariaDB.pdf"
   ]
  },
  {
   "cell_type": "markdown",
   "metadata": {},
   "source": [
    "##### Instalar o pacote RMariaDB"
   ]
  },
  {
   "cell_type": "code",
   "execution_count": 1,
   "metadata": {},
   "outputs": [
    {
     "name": "stderr",
     "output_type": "stream",
     "text": [
      "also installing the dependencies 'bit', 'bit64', 'BH', 'plogr'\n",
      "\n",
      "\n"
     ]
    },
    {
     "name": "stdout",
     "output_type": "stream",
     "text": [
      "package 'bit' successfully unpacked and MD5 sums checked\n",
      "package 'bit64' successfully unpacked and MD5 sums checked\n",
      "package 'BH' successfully unpacked and MD5 sums checked\n",
      "package 'plogr' successfully unpacked and MD5 sums checked\n",
      "package 'RMariaDB' successfully unpacked and MD5 sums checked\n",
      "\n",
      "The downloaded binary packages are in\n",
      "\tC:\\Users\\USER\\AppData\\Local\\Temp\\RtmpcfJH9g\\downloaded_packages\n",
      "[1] \"Instalação concluída!\"\n"
     ]
    }
   ],
   "source": [
    "# Instalar o pacote RMariaD se for a primeira vez que for utlizar.\n",
    "\n",
    "install.packages(\"RMariaDB\")\n",
    "print('Instalação concluída!')"
   ]
  },
  {
   "cell_type": "markdown",
   "metadata": {},
   "source": [
    "##### Importar o pacote RMariaDB"
   ]
  },
  {
   "cell_type": "code",
   "execution_count": 2,
   "metadata": {},
   "outputs": [
    {
     "name": "stderr",
     "output_type": "stream",
     "text": [
      "Loading required package: RMariaDB\n",
      "\n"
     ]
    }
   ],
   "source": [
    "#importação do pacote deve ser SEMPRE realizada\n",
    "#library('RMariaDB')\n",
    "\n",
    "#Importa pacote RMariaDB se ele ainda não foi carregado\n",
    "if(!\"RMariaDB\" %in% (.packages())){require(RMariaDB)}"
   ]
  },
  {
   "cell_type": "code",
   "execution_count": 3,
   "metadata": {},
   "outputs": [],
   "source": [
    "library(RMariaDB)"
   ]
  },
  {
   "cell_type": "markdown",
   "metadata": {},
   "source": [
    "**Observação 1:** A mensagem abaixo não indica um erro, é um alerta indicando a versão do R no qual o pacote RMariaDB foi construindo.\n",
    "\n",
    "*Loading required package: RMariaDB\n",
    "Warning message:\n",
    "\"package 'RMariaDB' was built under R version 3.6.3\"*\n",
    "\n",
    "**Observação 2:** A mensagem abaixo indica um erro, alertando que não existe o pacote RMariaDB instalado. Para corrigir, instale o pacote.\n",
    "\n",
    "*Loading required package: RMariaDB\n",
    "Warning message in library(package, lib.loc = lib.loc, character.only = TRUE, logical.return = TRUE, :\n",
    "\"there is no package called 'RMariaDB'\"*\n"
   ]
  },
  {
   "cell_type": "code",
   "execution_count": 4,
   "metadata": {},
   "outputs": [],
   "source": [
    "#Conecta ao SGBD MySQL --> Banco de dados bootcamp\n",
    "con <- dbConnect(MariaDB(), user = \"root\", password = \"753dfx\",\n",
    "                 dbname = \"bootcamp\", host = \"localhost\",serverTimezone='UTC')"
   ]
  },
  {
   "cell_type": "markdown",
   "metadata": {},
   "source": [
    "**OBS:** Caso ocorra o erro abaixo: \n",
    "*Error: Failed to connect: Plugin caching_sha2_password could not be loaded: The specified module could not be found.*\n",
    "\n",
    "Acesse seu SGBD MySQL Server utilizando o MySQL Workbench e execute o comando abaixo no seu esquema de BD\n",
    "\n",
    "    ALTER USER 'root'@'localhost' IDENTIFIED WITH mysql_native_password BY 'igti';\n",
    "\n",
    "Agora execute o comando de conexão novamente."
   ]
  },
  {
   "cell_type": "code",
   "execution_count": 5,
   "metadata": {},
   "outputs": [
    {
     "name": "stdout",
     "output_type": "stream",
     "text": [
      "[1] \"===========\"\n"
     ]
    },
    {
     "data": {
      "text/html": [
       "<style>\n",
       ".list-inline {list-style: none; margin:0; padding: 0}\n",
       ".list-inline>li {display: inline-block}\n",
       ".list-inline>li:not(:last-child)::after {content: \"\\00b7\"; padding: 0 .5ex}\n",
       "</style>\n",
       "<ol class=list-inline><li>'caracteristicageralimovel'</li><li>'caracteristicasgerais'</li><li>'cidade'</li><li>'eduteste'</li><li>'eduteste2'</li><li>'estado'</li><li>'imovel'</li><li>'tipounidade'</li></ol>\n"
      ],
      "text/latex": [
       "\\begin{enumerate*}\n",
       "\\item 'caracteristicageralimovel'\n",
       "\\item 'caracteristicasgerais'\n",
       "\\item 'cidade'\n",
       "\\item 'eduteste'\n",
       "\\item 'eduteste2'\n",
       "\\item 'estado'\n",
       "\\item 'imovel'\n",
       "\\item 'tipounidade'\n",
       "\\end{enumerate*}\n"
      ],
      "text/markdown": [
       "1. 'caracteristicageralimovel'\n",
       "2. 'caracteristicasgerais'\n",
       "3. 'cidade'\n",
       "4. 'eduteste'\n",
       "5. 'eduteste2'\n",
       "6. 'estado'\n",
       "7. 'imovel'\n",
       "8. 'tipounidade'\n",
       "\n",
       "\n"
      ],
      "text/plain": [
       "[1] \"caracteristicageralimovel\" \"caracteristicasgerais\"    \n",
       "[3] \"cidade\"                    \"eduteste\"                 \n",
       "[5] \"eduteste2\"                 \"estado\"                   \n",
       "[7] \"imovel\"                    \"tipounidade\"              "
      ]
     },
     "metadata": {},
     "output_type": "display_data"
    }
   ],
   "source": [
    "#Para listar quais tabela existem no esquema .bootcamp. execute:\n",
    "\n",
    "#Lê a lista de tabelas no BD\n",
    "tables <- dbListTables(con) \n",
    "print('===========')\n",
    "tables"
   ]
  },
  {
   "cell_type": "code",
   "execution_count": 6,
   "metadata": {},
   "outputs": [
    {
     "data": {
      "text/html": [
       "<table>\n",
       "<thead><tr><th scope=col>CodEstadoIBGE</th><th scope=col>NomeEstado</th><th scope=col>SiglaEstado</th><th scope=col>Regiao</th></tr></thead>\n",
       "<tbody>\n",
       "\t<tr><td>11                 </td><td>Rondónia           </td><td>RO                 </td><td>Norte              </td></tr>\n",
       "\t<tr><td>12                 </td><td>Acre               </td><td>AC                 </td><td>Norte              </td></tr>\n",
       "\t<tr><td>13                 </td><td>Amazonas           </td><td>AM                 </td><td>Norte              </td></tr>\n",
       "\t<tr><td>14                 </td><td>Roraima            </td><td>R                  </td><td>Norte              </td></tr>\n",
       "\t<tr><td>15                 </td><td>Pará               </td><td>PA                 </td><td>Norte              </td></tr>\n",
       "\t<tr><td>16                 </td><td>Amapá              </td><td>AP                 </td><td>Norte              </td></tr>\n",
       "\t<tr><td>17                 </td><td>Tocantins          </td><td>TO                 </td><td>Norte              </td></tr>\n",
       "\t<tr><td>21                 </td><td>Maranhão           </td><td>MA                 </td><td>Nordeste           </td></tr>\n",
       "\t<tr><td>22                 </td><td>Piauí              </td><td>PI                 </td><td>Nordeste           </td></tr>\n",
       "\t<tr><td>23                 </td><td>Ceará              </td><td>CE                 </td><td>Nordeste           </td></tr>\n",
       "\t<tr><td>24                 </td><td>Rio Grande do Norte</td><td>RN                 </td><td>Nordeste           </td></tr>\n",
       "\t<tr><td>25                 </td><td>Paraíba            </td><td>PB                 </td><td>Nordeste           </td></tr>\n",
       "\t<tr><td>26                 </td><td>Pernambuco         </td><td>PE                 </td><td>Nordeste           </td></tr>\n",
       "\t<tr><td>27                 </td><td>Alagoas            </td><td>AL                 </td><td>Nordeste           </td></tr>\n",
       "\t<tr><td>28                 </td><td>Sergipe            </td><td>SE                 </td><td>Nordeste           </td></tr>\n",
       "\t<tr><td>29                 </td><td>Bahia              </td><td>BA                 </td><td>Nordeste           </td></tr>\n",
       "\t<tr><td>31                 </td><td>Minas Gerais       </td><td>MG                 </td><td>Sudeste            </td></tr>\n",
       "\t<tr><td>32                 </td><td>Espírito Santo     </td><td>ES                 </td><td>Sudeste            </td></tr>\n",
       "\t<tr><td>33                 </td><td>Rio de Janeiro     </td><td>RJ                 </td><td>Sudeste            </td></tr>\n",
       "\t<tr><td>35                 </td><td>São Paulo          </td><td>SP                 </td><td>Sudeste            </td></tr>\n",
       "\t<tr><td>41                 </td><td>Paraná             </td><td>PR                 </td><td>Sul                </td></tr>\n",
       "\t<tr><td>42                 </td><td>Santa Catarina     </td><td>SC                 </td><td>Sul                </td></tr>\n",
       "\t<tr><td>43                 </td><td>Rio Grande do Sul  </td><td>RS                 </td><td>Sul                </td></tr>\n",
       "\t<tr><td>50                 </td><td>Mato Grosso do Sul </td><td>MS                 </td><td>Centro-Oeste       </td></tr>\n",
       "\t<tr><td>51                 </td><td>Mato Grosso        </td><td>MT                 </td><td>Centro-Oeste       </td></tr>\n",
       "\t<tr><td>52                 </td><td>Goiás              </td><td>GO                 </td><td>Centro-Oeste       </td></tr>\n",
       "\t<tr><td>53                 </td><td>Distrito Federal   </td><td>DF                 </td><td>Centro-Oeste       </td></tr>\n",
       "</tbody>\n",
       "</table>\n"
      ],
      "text/latex": [
       "\\begin{tabular}{r|llll}\n",
       " CodEstadoIBGE & NomeEstado & SiglaEstado & Regiao\\\\\n",
       "\\hline\n",
       "\t 11                  & Rondónia            & RO                  & Norte              \\\\\n",
       "\t 12                  & Acre                & AC                  & Norte              \\\\\n",
       "\t 13                  & Amazonas            & AM                  & Norte              \\\\\n",
       "\t 14                  & Roraima             & R                   & Norte              \\\\\n",
       "\t 15                  & Pará                & PA                  & Norte              \\\\\n",
       "\t 16                  & Amapá               & AP                  & Norte              \\\\\n",
       "\t 17                  & Tocantins           & TO                  & Norte              \\\\\n",
       "\t 21                  & Maranhão            & MA                  & Nordeste           \\\\\n",
       "\t 22                  & Piauí               & PI                  & Nordeste           \\\\\n",
       "\t 23                  & Ceará               & CE                  & Nordeste           \\\\\n",
       "\t 24                  & Rio Grande do Norte & RN                  & Nordeste           \\\\\n",
       "\t 25                  & Paraíba             & PB                  & Nordeste           \\\\\n",
       "\t 26                  & Pernambuco          & PE                  & Nordeste           \\\\\n",
       "\t 27                  & Alagoas             & AL                  & Nordeste           \\\\\n",
       "\t 28                  & Sergipe             & SE                  & Nordeste           \\\\\n",
       "\t 29                  & Bahia               & BA                  & Nordeste           \\\\\n",
       "\t 31                  & Minas Gerais        & MG                  & Sudeste            \\\\\n",
       "\t 32                  & Espírito Santo      & ES                  & Sudeste            \\\\\n",
       "\t 33                  & Rio de Janeiro      & RJ                  & Sudeste            \\\\\n",
       "\t 35                  & São Paulo           & SP                  & Sudeste            \\\\\n",
       "\t 41                  & Paraná              & PR                  & Sul                \\\\\n",
       "\t 42                  & Santa Catarina      & SC                  & Sul                \\\\\n",
       "\t 43                  & Rio Grande do Sul   & RS                  & Sul                \\\\\n",
       "\t 50                  & Mato Grosso do Sul  & MS                  & Centro-Oeste       \\\\\n",
       "\t 51                  & Mato Grosso         & MT                  & Centro-Oeste       \\\\\n",
       "\t 52                  & Goiás               & GO                  & Centro-Oeste       \\\\\n",
       "\t 53                  & Distrito Federal    & DF                  & Centro-Oeste       \\\\\n",
       "\\end{tabular}\n"
      ],
      "text/markdown": [
       "\n",
       "| CodEstadoIBGE | NomeEstado | SiglaEstado | Regiao |\n",
       "|---|---|---|---|\n",
       "| 11                  | Rondónia            | RO                  | Norte               |\n",
       "| 12                  | Acre                | AC                  | Norte               |\n",
       "| 13                  | Amazonas            | AM                  | Norte               |\n",
       "| 14                  | Roraima             | R                   | Norte               |\n",
       "| 15                  | Pará                | PA                  | Norte               |\n",
       "| 16                  | Amapá               | AP                  | Norte               |\n",
       "| 17                  | Tocantins           | TO                  | Norte               |\n",
       "| 21                  | Maranhão            | MA                  | Nordeste            |\n",
       "| 22                  | Piauí               | PI                  | Nordeste            |\n",
       "| 23                  | Ceará               | CE                  | Nordeste            |\n",
       "| 24                  | Rio Grande do Norte | RN                  | Nordeste            |\n",
       "| 25                  | Paraíba             | PB                  | Nordeste            |\n",
       "| 26                  | Pernambuco          | PE                  | Nordeste            |\n",
       "| 27                  | Alagoas             | AL                  | Nordeste            |\n",
       "| 28                  | Sergipe             | SE                  | Nordeste            |\n",
       "| 29                  | Bahia               | BA                  | Nordeste            |\n",
       "| 31                  | Minas Gerais        | MG                  | Sudeste             |\n",
       "| 32                  | Espírito Santo      | ES                  | Sudeste             |\n",
       "| 33                  | Rio de Janeiro      | RJ                  | Sudeste             |\n",
       "| 35                  | São Paulo           | SP                  | Sudeste             |\n",
       "| 41                  | Paraná              | PR                  | Sul                 |\n",
       "| 42                  | Santa Catarina      | SC                  | Sul                 |\n",
       "| 43                  | Rio Grande do Sul   | RS                  | Sul                 |\n",
       "| 50                  | Mato Grosso do Sul  | MS                  | Centro-Oeste        |\n",
       "| 51                  | Mato Grosso         | MT                  | Centro-Oeste        |\n",
       "| 52                  | Goiás               | GO                  | Centro-Oeste        |\n",
       "| 53                  | Distrito Federal    | DF                  | Centro-Oeste        |\n",
       "\n"
      ],
      "text/plain": [
       "   CodEstadoIBGE NomeEstado          SiglaEstado Regiao      \n",
       "1  11            Rondónia            RO          Norte       \n",
       "2  12            Acre                AC          Norte       \n",
       "3  13            Amazonas            AM          Norte       \n",
       "4  14            Roraima             R           Norte       \n",
       "5  15            Pará                PA          Norte       \n",
       "6  16            Amapá               AP          Norte       \n",
       "7  17            Tocantins           TO          Norte       \n",
       "8  21            Maranhão            MA          Nordeste    \n",
       "9  22            Piauí               PI          Nordeste    \n",
       "10 23            Ceará               CE          Nordeste    \n",
       "11 24            Rio Grande do Norte RN          Nordeste    \n",
       "12 25            Paraíba             PB          Nordeste    \n",
       "13 26            Pernambuco          PE          Nordeste    \n",
       "14 27            Alagoas             AL          Nordeste    \n",
       "15 28            Sergipe             SE          Nordeste    \n",
       "16 29            Bahia               BA          Nordeste    \n",
       "17 31            Minas Gerais        MG          Sudeste     \n",
       "18 32            Espírito Santo      ES          Sudeste     \n",
       "19 33            Rio de Janeiro      RJ          Sudeste     \n",
       "20 35            São Paulo           SP          Sudeste     \n",
       "21 41            Paraná              PR          Sul         \n",
       "22 42            Santa Catarina      SC          Sul         \n",
       "23 43            Rio Grande do Sul   RS          Sul         \n",
       "24 50            Mato Grosso do Sul  MS          Centro-Oeste\n",
       "25 51            Mato Grosso         MT          Centro-Oeste\n",
       "26 52            Goiás               GO          Centro-Oeste\n",
       "27 53            Distrito Federal    DF          Centro-Oeste"
      ]
     },
     "metadata": {},
     "output_type": "display_data"
    }
   ],
   "source": [
    "#Para consultar quais os dados de uma tabela execute:\n",
    "# dbReadTable(nome-da-conexao,\"nome-da-tabela\")\n",
    "\n",
    "#Consulta os dados da tabela *estado*\n",
    "tabledata <- dbReadTable(con,\"estado\")\n",
    "tabledata"
   ]
  },
  {
   "cell_type": "markdown",
   "metadata": {},
   "source": [
    "**OBS:** Veja que o resultado do comando acima demonstra que a tabela 'estado' não possue dados."
   ]
  },
  {
   "cell_type": "code",
   "execution_count": 9,
   "metadata": {},
   "outputs": [
    {
     "data": {
      "text/html": [
       "<table>\n",
       "<thead><tr><th scope=col>idTipoUnidade</th><th scope=col>dscTipoUnidade</th></tr></thead>\n",
       "<tbody>\n",
       "\t<tr><td>1                         </td><td>Casa                      </td></tr>\n",
       "\t<tr><td>2                         </td><td>Casa geminada             </td></tr>\n",
       "\t<tr><td>3                         </td><td>Apartamento tipo          </td></tr>\n",
       "\t<tr><td>4                         </td><td>Apartamento cobertura     </td></tr>\n",
       "\t<tr><td>5                         </td><td>Apartamento área privativa</td></tr>\n",
       "\t<tr><td>6                         </td><td>Flat                      </td></tr>\n",
       "\t<tr><td>7                         </td><td>Loft                      </td></tr>\n",
       "\t<tr><td>8                         </td><td>Chácara                   </td></tr>\n",
       "</tbody>\n",
       "</table>\n"
      ],
      "text/latex": [
       "\\begin{tabular}{r|ll}\n",
       " idTipoUnidade & dscTipoUnidade\\\\\n",
       "\\hline\n",
       "\t 1                          & Casa                      \\\\\n",
       "\t 2                          & Casa geminada             \\\\\n",
       "\t 3                          & Apartamento tipo          \\\\\n",
       "\t 4                          & Apartamento cobertura     \\\\\n",
       "\t 5                          & Apartamento área privativa\\\\\n",
       "\t 6                          & Flat                      \\\\\n",
       "\t 7                          & Loft                      \\\\\n",
       "\t 8                          & Chácara                   \\\\\n",
       "\\end{tabular}\n"
      ],
      "text/markdown": [
       "\n",
       "| idTipoUnidade | dscTipoUnidade |\n",
       "|---|---|\n",
       "| 1                          | Casa                       |\n",
       "| 2                          | Casa geminada              |\n",
       "| 3                          | Apartamento tipo           |\n",
       "| 4                          | Apartamento cobertura      |\n",
       "| 5                          | Apartamento área privativa |\n",
       "| 6                          | Flat                       |\n",
       "| 7                          | Loft                       |\n",
       "| 8                          | Chácara                    |\n",
       "\n"
      ],
      "text/plain": [
       "  idTipoUnidade dscTipoUnidade            \n",
       "1 1             Casa                      \n",
       "2 2             Casa geminada             \n",
       "3 3             Apartamento tipo          \n",
       "4 4             Apartamento cobertura     \n",
       "5 5             Apartamento área privativa\n",
       "6 6             Flat                      \n",
       "7 7             Loft                      \n",
       "8 8             Chácara                   "
      ]
     },
     "metadata": {},
     "output_type": "display_data"
    }
   ],
   "source": [
    "#Consulta os dados da tabela *tipounidade*\n",
    "tabledata <- dbReadTable(con,\"tipounidade\")\n",
    "tabledata"
   ]
  },
  {
   "cell_type": "markdown",
   "metadata": {},
   "source": [
    "**OBS:** Veja que o resultado do comando acima demonstra que a tabela 'tipounidade' possue alguns dados."
   ]
  },
  {
   "cell_type": "code",
   "execution_count": 7,
   "metadata": {},
   "outputs": [
    {
     "ename": "ERROR",
     "evalue": "Error in dbSendQuery(con, query): não foi possível encontrar a função \"dbSendQuery\"\n",
     "output_type": "error",
     "traceback": [
      "Error in dbSendQuery(con, query): não foi possível encontrar a função \"dbSendQuery\"\nTraceback:\n"
     ]
    }
   ],
   "source": [
    "#Para executar um comando SQL execute:\n",
    "#dbSendQuery(nome-da-conexao,\"comando\")\n",
    "\n",
    "# Vamos inserir uma nova linha na tabela tipounidade\n",
    "# Cria o comando e salva na variável query\n",
    "query <-  \"INSERT INTO tipounidade(idTipoUnidade,dscTipoUnidade) VALUES(7,'Loft');\"\n",
    "\n",
    "results <- dbSendQuery(con,query)\n",
    "print(results)\n",
    "\n",
    "# Limpa resultados\n",
    "dbClearResult(results)"
   ]
  },
  {
   "cell_type": "markdown",
   "metadata": {},
   "source": [
    "**OBS 1:** Caso ocorra o erro: *Error: Duplicate entry '6' for key 'tipounidade.PRIMARY' [1062]*\n",
    "\n",
    "Isso significa que você violou a chave primária, ou seja, tentou inserir uma chave que já existe. Confira o valor da chave que esta inserindo, altere, e execute novamente.\n",
    "\n",
    "**OBS 2:** Caso ocorra o erro: *Error: Column count doesn't match value count at row 1 [1136]*\n",
    "Isso significa que você esta inserindo dados não compatíveis com a definição da tabela.\n"
   ]
  },
  {
   "cell_type": "code",
   "execution_count": 8,
   "metadata": {},
   "outputs": [
    {
     "ename": "ERROR",
     "evalue": "Error in dbReadTable(con, \"tipounidade\"): não foi possível encontrar a função \"dbReadTable\"\n",
     "output_type": "error",
     "traceback": [
      "Error in dbReadTable(con, \"tipounidade\"): não foi possível encontrar a função \"dbReadTable\"\nTraceback:\n"
     ]
    }
   ],
   "source": [
    "#Consulta os dados da tabela *tipounidade*\n",
    "tabledata <- dbReadTable(con,\"tipounidade\")\n",
    "tabledata"
   ]
  },
  {
   "cell_type": "code",
   "execution_count": 9,
   "metadata": {},
   "outputs": [
    {
     "ename": "ERROR",
     "evalue": "Error in dbSendQuery(con, query): não foi possível encontrar a função \"dbSendQuery\"\n",
     "output_type": "error",
     "traceback": [
      "Error in dbSendQuery(con, query): não foi possível encontrar a função \"dbSendQuery\"\nTraceback:\n"
     ]
    }
   ],
   "source": [
    "id <- 8\n",
    "desc <- 'Chácara'\n",
    "\n",
    "query <-  paste(\"INSERT INTO tipounidade(idTipoUnidade,dscTipoUnidade) VALUES(\",id,\",'\",desc,\"');\",sep='')\n",
    "\n",
    "results <- dbSendQuery(con,query)\n",
    "print(results)\n",
    "\n",
    "# Limpa resultados\n",
    "dbClearResult(results)"
   ]
  },
  {
   "cell_type": "code",
   "execution_count": 10,
   "metadata": {},
   "outputs": [
    {
     "ename": "ERROR",
     "evalue": "Error in dbReadTable(con, \"tipounidade\"): não foi possível encontrar a função \"dbReadTable\"\n",
     "output_type": "error",
     "traceback": [
      "Error in dbReadTable(con, \"tipounidade\"): não foi possível encontrar a função \"dbReadTable\"\nTraceback:\n"
     ]
    }
   ],
   "source": [
    "#Consulta os dados da tabela *tipounidade*\n",
    "tabledata <- dbReadTable(con,\"tipounidade\")\n",
    "tabledata"
   ]
  },
  {
   "cell_type": "markdown",
   "metadata": {},
   "source": [
    "##### Instalar o pacote xlsx"
   ]
  },
  {
   "cell_type": "code",
   "execution_count": 11,
   "metadata": {},
   "outputs": [
    {
     "name": "stderr",
     "output_type": "stream",
     "text": [
      "also installing the dependencies 'rJava', 'xlsxjars'\n",
      "\n"
     ]
    },
    {
     "name": "stdout",
     "output_type": "stream",
     "text": [
      "\n",
      "  There is a binary version available but the source version is later:\n",
      "      binary source needs_compilation\n",
      "rJava 0.9-12 0.9-13              TRUE\n",
      "\n",
      "  Binaries will be installed\n",
      "package 'rJava' successfully unpacked and MD5 sums checked\n",
      "package 'xlsxjars' successfully unpacked and MD5 sums checked\n",
      "package 'xlsx' successfully unpacked and MD5 sums checked\n",
      "\n",
      "The downloaded binary packages are in\n",
      "\tC:\\Users\\USER\\AppData\\Local\\Temp\\RtmpSctiim\\downloaded_packages\n"
     ]
    }
   ],
   "source": [
    "install.packages('xlsx')"
   ]
  },
  {
   "cell_type": "markdown",
   "metadata": {},
   "source": [
    "##### Importar o pacote xlsx"
   ]
  },
  {
   "cell_type": "code",
   "execution_count": 12,
   "metadata": {},
   "outputs": [
    {
     "name": "stderr",
     "output_type": "stream",
     "text": [
      "Loading required package: xlsx\n",
      "Warning message:\n",
      "\"package 'xlsx' was built under R version 3.6.3\"Error: package or namespace load failed for 'xlsx':\n",
      " .onLoad failed in loadNamespace() for 'rJava', details:\n",
      "  call: fun(libname, pkgname)\n",
      "  error: JAVA_HOME cannot be determined from the Registry\n"
     ]
    }
   ],
   "source": [
    "#Importa pacote xlsx se ele ainda não foi carregado\n",
    "if(!\"xlsx\" %in% (.packages())){require(xlsx)}"
   ]
  },
  {
   "cell_type": "code",
   "execution_count": 13,
   "metadata": {},
   "outputs": [
    {
     "name": "stdout",
     "output_type": "stream",
     "text": [
      "[1] \"C:/Bootcamp/Datasets/XLS/estados.xlsx\"\n"
     ]
    },
    {
     "ename": "ERROR",
     "evalue": "Error in read.xlsx(filename, sheetIndex = 1, header = TRUE, encoding = \"UTF-8\"): não foi possível encontrar a função \"read.xlsx\"\n",
     "output_type": "error",
     "traceback": [
      "Error in read.xlsx(filename, sheetIndex = 1, header = TRUE, encoding = \"UTF-8\"): não foi possível encontrar a função \"read.xlsx\"\nTraceback:\n"
     ]
    }
   ],
   "source": [
    "#Antes de excutar esta célula, garanta que o caminho do arquivo estados.xlsx esteja correto.\n",
    "\n",
    "filename <- \"C:/Bootcamp/Datasets/XLS/estados.xlsx\"\n",
    "print(filename)\n",
    "\n",
    "insertdata <- read.xlsx(filename, sheetIndex=1, header=TRUE,encoding=\"UTF-8\")\n",
    "print(\"Lista de estados existentes no arquivo:\")\n",
    "insertdata"
   ]
  },
  {
   "cell_type": "markdown",
   "metadata": {},
   "source": [
    "**OBS:** As colunas da tabela estado são: *CodEstadoIBGE,NomeEstado,SiglaEstado,Regiao*\n"
   ]
  },
  {
   "cell_type": "code",
   "execution_count": null,
   "metadata": {},
   "outputs": [],
   "source": [
    "dbWriteTable(con,'estado',insertdata,append = TRUE)"
   ]
  },
  {
   "cell_type": "code",
   "execution_count": null,
   "metadata": {},
   "outputs": [],
   "source": [
    "#Consulta os dados da tabela *estado*\n",
    "results <- dbReadTable(con,\"estado\")\n",
    "results"
   ]
  },
  {
   "cell_type": "code",
   "execution_count": null,
   "metadata": {},
   "outputs": [],
   "source": [
    "query <- \"SELECT * FROM estado;\"\n",
    "\n",
    "results <- dbSendQuery(con,query)\n",
    "results"
   ]
  },
  {
   "cell_type": "markdown",
   "metadata": {},
   "source": [
    "**Obs:** O retorno do comando *dbSendQuery* indica que se o comando SQL passado para a variável *query* foi executado com sucesso ou não."
   ]
  },
  {
   "cell_type": "code",
   "execution_count": null,
   "metadata": {},
   "outputs": [],
   "source": [
    "# Limpa resultados\n",
    "dbClearResult(results)\n",
    "\n",
    "results <- dbGetQuery(con,query)\n",
    "results"
   ]
  },
  {
   "cell_type": "code",
   "execution_count": null,
   "metadata": {},
   "outputs": [],
   "source": [
    "#"
   ]
  },
  {
   "cell_type": "code",
   "execution_count": null,
   "metadata": {},
   "outputs": [],
   "source": [
    "# Desconectar do banco de dados\n",
    "dbDisconnect(con)"
   ]
  }
 ],
 "metadata": {
  "kernelspec": {
   "display_name": "R",
   "language": "R",
   "name": "ir"
  },
  "language_info": {
   "codemirror_mode": "r",
   "file_extension": ".r",
   "mimetype": "text/x-r-source",
   "name": "R",
   "pygments_lexer": "r",
   "version": "4.0.2"
  }
 },
 "nbformat": 4,
 "nbformat_minor": 4
}
