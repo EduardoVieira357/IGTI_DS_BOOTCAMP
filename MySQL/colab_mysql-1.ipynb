{
 "cells": [
  {
   "cell_type": "markdown",
   "metadata": {
    "colab_type": "text",
    "id": "soMEr9SL3rPB"
   },
   "source": [
    "# Working with MySQL on colab"
   ]
  },
  {
   "cell_type": "markdown",
   "metadata": {
    "colab_type": "text",
    "id": "0GRiwQ6-31fD"
   },
   "source": [
    "## Install and setup MySQL on Colab "
   ]
  },
  {
   "cell_type": "code",
   "execution_count": null,
   "metadata": {
    "colab": {
     "base_uri": "https://localhost:8080/",
     "height": 69
    },
    "colab_type": "code",
    "id": "03nWmMtr0DrH",
    "outputId": "ee685549-d166-42a7-877f-70515aad808c"
   },
   "outputs": [
    {
     "name": "stdout",
     "output_type": "stream",
     "text": [
      " * Starting MySQL database server mysqld\n",
      "No directory, logging in with HOME=/\n",
      "   ...done.\n"
     ]
    }
   ],
   "source": [
    "#Here's how I install and setup MySQL on Colab\n",
    "# install, set connection\n",
    "!apt-get install mysql-server > /dev/null\n",
    "!service mysql start\n",
    "!mysql -e \"ALTER USER 'root'@'localhost' IDENTIFIED WITH mysql_native_password BY 'igti'\""
   ]
  },
  {
   "cell_type": "markdown",
   "metadata": {
    "colab_type": "text",
    "id": "fcWftO0b4Mg1"
   },
   "source": [
    "## Install and import pymsql package"
   ]
  },
  {
   "cell_type": "code",
   "execution_count": null,
   "metadata": {
    "colab": {
     "base_uri": "https://localhost:8080/",
     "height": 35
    },
    "colab_type": "code",
    "id": "7oOkwZ_psOL4",
    "outputId": "946beb13-b299-4b95-88df-7aa0398c8572"
   },
   "outputs": [
    {
     "name": "stdout",
     "output_type": "stream",
     "text": [
      "Requirement already satisfied: pymysql in /usr/local/lib/python3.6/dist-packages (0.9.3)\n"
     ]
    }
   ],
   "source": [
    "!pip install pymysql"
   ]
  },
  {
   "cell_type": "code",
   "execution_count": null,
   "metadata": {
    "colab": {},
    "colab_type": "code",
    "id": "3b8LBMsT4aMb"
   },
   "outputs": [],
   "source": [
    "import pymysql"
   ]
  },
  {
   "cell_type": "markdown",
   "metadata": {
    "colab_type": "text",
    "id": "A4HtMa5m4fbj"
   },
   "source": [
    "## Working on MySQL Server Colab"
   ]
  },
  {
   "cell_type": "code",
   "execution_count": null,
   "metadata": {
    "colab": {},
    "colab_type": "code",
    "id": "jjxYU7mBsxUC"
   },
   "outputs": [],
   "source": [
    "mydb = pymysql.connect(\n",
    "    host='localhost',\n",
    "    port=3306,\n",
    "    user=\"root\",\n",
    "    passwd='igti')\n"
   ]
  },
  {
   "cell_type": "code",
   "execution_count": null,
   "metadata": {
    "colab": {
     "base_uri": "https://localhost:8080/",
     "height": 87
    },
    "colab_type": "code",
    "id": "WFjFz376tN6i",
    "outputId": "46de69b8-b6eb-4092-eba3-3cd45fb1a8e3"
   },
   "outputs": [
    {
     "name": "stdout",
     "output_type": "stream",
     "text": [
      "('information_schema',)\n",
      "('mysql',)\n",
      "('performance_schema',)\n",
      "('sys',)\n"
     ]
    }
   ],
   "source": [
    "mycursor = mydb.cursor()\n",
    "\n",
    "mycursor.execute(\"SHOW DATABASES\")\n",
    "\n",
    "for db in mycursor:\n",
    "    print(db)"
   ]
  },
  {
   "cell_type": "markdown",
   "metadata": {
    "colab_type": "text",
    "id": "G3Spk4Tp4n8M"
   },
   "source": [
    "### Create database"
   ]
  },
  {
   "cell_type": "code",
   "execution_count": null,
   "metadata": {
    "colab": {
     "base_uri": "https://localhost:8080/",
     "height": 35
    },
    "colab_type": "code",
    "id": "gafOC5Awto9L",
    "outputId": "8c932167-4249-4dd1-c423-487c84fadb95"
   },
   "outputs": [
    {
     "data": {
      "text/plain": [
       "1"
      ]
     },
     "execution_count": 19,
     "metadata": {
      "tags": []
     },
     "output_type": "execute_result"
    }
   ],
   "source": [
    "mycursor.execute(\"CREATE DATABASE mydatabase\")"
   ]
  },
  {
   "cell_type": "code",
   "execution_count": null,
   "metadata": {
    "colab": {
     "base_uri": "https://localhost:8080/",
     "height": 104
    },
    "colab_type": "code",
    "id": "5vkxBelptuiG",
    "outputId": "3919cc52-e65f-4106-d970-7fd33af05f12"
   },
   "outputs": [
    {
     "name": "stdout",
     "output_type": "stream",
     "text": [
      "('information_schema',)\n",
      "('mydatabase',)\n",
      "('mysql',)\n",
      "('performance_schema',)\n",
      "('sys',)\n"
     ]
    }
   ],
   "source": [
    "mycursor.execute(\"SHOW DATABASES\")\n",
    "\n",
    "for db in mycursor:\n",
    "    print(db)"
   ]
  },
  {
   "cell_type": "code",
   "execution_count": null,
   "metadata": {
    "colab": {
     "base_uri": "https://localhost:8080/",
     "height": 35
    },
    "colab_type": "code",
    "id": "_2ZR8eGvt3PE",
    "outputId": "87d51eb5-38cb-4b6d-c157-17dcad7b099d"
   },
   "outputs": [
    {
     "name": "stdout",
     "output_type": "stream",
     "text": [
      "<mysql.connector.connection.MySQLConnection object at 0x7f3c55d0e978>\n"
     ]
    }
   ],
   "source": [
    "#connect to your database\n",
    "\n",
    "mydb = mysql.connector.connect(\n",
    "    host='localhost',\n",
    "    user='root',\n",
    "    password='igti',\n",
    "    database='mydatabase'\n",
    ")\n",
    "\n",
    "print(mydb)\n",
    "\n",
    "mycursor = mydb.cursor()"
   ]
  },
  {
   "cell_type": "code",
   "execution_count": null,
   "metadata": {
    "colab": {},
    "colab_type": "code",
    "id": "e_JHLSYyt-zI"
   },
   "outputs": [],
   "source": [
    "mycursor.execute(\"SHOW TABLES\")\n",
    "\n",
    "for db in mycursor:\n",
    "    print(db)"
   ]
  },
  {
   "cell_type": "markdown",
   "metadata": {
    "colab_type": "text",
    "id": "fT7aqdrL41nE"
   },
   "source": [
    "### Create tables"
   ]
  },
  {
   "cell_type": "code",
   "execution_count": null,
   "metadata": {
    "colab": {},
    "colab_type": "code",
    "id": "ZU6VDWpzqGGl"
   },
   "outputs": [],
   "source": [
    "#Criar uma tabela\n",
    "\n",
    "mycursor.execute (\"CREATE TABLE IF NOT EXISTS departamento (\\\n",
    "  `cod_depto` INT(11) NOT NULL AUTO_INCREMENT,\\\n",
    "  `nome_depto` VARCHAR(100) NOT NULL,\\\n",
    "  PRIMARY KEY (`cod_depto`))\")"
   ]
  },
  {
   "cell_type": "code",
   "execution_count": null,
   "metadata": {
    "colab": {
     "base_uri": "https://localhost:8080/",
     "height": 35
    },
    "colab_type": "code",
    "id": "sXvALnd0uag9",
    "outputId": "b5e4411e-5312-4c1c-9eec-e96355b65ef1"
   },
   "outputs": [
    {
     "name": "stdout",
     "output_type": "stream",
     "text": [
      "('departamento',)\n"
     ]
    }
   ],
   "source": [
    "mycursor.execute(\"SHOW TABLES\")\n",
    "\n",
    "for db in mycursor:\n",
    "    print(db)"
   ]
  },
  {
   "cell_type": "code",
   "execution_count": null,
   "metadata": {
    "colab": {},
    "colab_type": "code",
    "id": "-aX8zXykueSn"
   },
   "outputs": [],
   "source": [
    "#Criar uma tabela\n",
    "\n",
    "mycursor.execute (\"CREATE TABLE IF NOT EXISTS `funcionario` (\\\n",
    "  `id_func` INT(11) NOT NULL AUTO_INCREMENT,\\\n",
    "  `nome_func` VARCHAR(255) NOT NULL,\\\n",
    "  `nascimento` DATE NOT NULL,\\\n",
    "  `salario` DECIMAL(10,2) NULL,\\\n",
    "  `depto` INT(11) NULL,\\\n",
    "  PRIMARY KEY (`id_func`),\\\n",
    "  CONSTRAINT `fk_funcionario_departamento`\\\n",
    "    FOREIGN KEY (`depto`)\\\n",
    "    REFERENCES departamento (`cod_depto`))\")"
   ]
  },
  {
   "cell_type": "code",
   "execution_count": null,
   "metadata": {
    "colab": {
     "base_uri": "https://localhost:8080/",
     "height": 52
    },
    "colab_type": "code",
    "id": "vkbx-4Adu6lu",
    "outputId": "9d161ff4-dbf0-4d51-92bc-ea4b8fe977b0"
   },
   "outputs": [
    {
     "name": "stdout",
     "output_type": "stream",
     "text": [
      "('departamento',)\n",
      "('funcionario',)\n"
     ]
    }
   ],
   "source": [
    "mycursor.execute(\"SHOW TABLES\")\n",
    "\n",
    "for db in mycursor:\n",
    "    print(db)"
   ]
  },
  {
   "cell_type": "markdown",
   "metadata": {
    "colab_type": "text",
    "id": "a6YbnWzH48kh"
   },
   "source": [
    "### Insert data on table from a read TXT file "
   ]
  },
  {
   "cell_type": "markdown",
   "metadata": {
    "colab_type": "text",
    "id": "qRDXC-mM5Ocj"
   },
   "source": [
    "\n",
    "This file should be uploaded before"
   ]
  },
  {
   "cell_type": "code",
   "execution_count": null,
   "metadata": {
    "colab": {
     "base_uri": "https://localhost:8080/",
     "height": 208
    },
    "colab_type": "code",
    "id": "8EZlnd7qwtc7",
    "outputId": "b4a20c7d-c8bd-4f82-a662-4a5d7a896089"
   },
   "outputs": [
    {
     "name": "stdout",
     "output_type": "stream",
     "text": [
      "INSERT INTO departamento (cod_depto,nome_depto) VALUES(1,'Recursos humanos');\n",
      "\n",
      "INSERT INTO departamento (cod_depto,nome_depto) VALUES(2,'Informática');\n",
      "\n",
      "INSERT INTO departamento (cod_depto,nome_depto) VALUES(3,'Marketing'),(4,'Infra'),(5,'Jurídico');\n",
      "\n",
      "INSERT INTO departamento (cod_depto,nome_depto) VALUES(6,'Compras');\n",
      "\n",
      "INSERT INTO departamento (cod_depto,nome_depto) VALUES(7,'Estoque');\n",
      "\n",
      "INSERT INTO departamento (cod_depto,nome_depto) VALUES(8,'Financeiro');\n"
     ]
    }
   ],
   "source": [
    "try:\n",
    "  fileobject=open('/content/departamento.txt', \"r\", encoding='utf-8')\n",
    "  filelines =fileobject.readlines()\n",
    "\n",
    "  #Loop -> Para cada linha (line) da lista de linhas filelines\n",
    "  for line in filelines:\n",
    "    #print(line) #imprime o valor da linha, end='' exclui quebra de linha\n",
    "    query = line\n",
    "    mycursor.execute(query)\n",
    "  #Fecha o objeto de leitura do arquivo        \n",
    "  fileobject.close()\n",
    "  mydb.commit()\n",
    "\n",
    "except FileNotFoundError:\n",
    "  print('\\nERRO AO TENTAR LER O ARQUIVO !! \\nO arquivo '+filename+' não existe!')"
   ]
  },
  {
   "cell_type": "markdown",
   "metadata": {
    "colab_type": "text",
    "id": "xwjynUbA5ecp"
   },
   "source": [
    "### Query table"
   ]
  },
  {
   "cell_type": "code",
   "execution_count": null,
   "metadata": {
    "colab": {
     "base_uri": "https://localhost:8080/",
     "height": 156
    },
    "colab_type": "code",
    "id": "M6A7-coMyAtI",
    "outputId": "21cdb2f6-ca25-4590-dbbf-5ec145cb71b2"
   },
   "outputs": [
    {
     "name": "stdout",
     "output_type": "stream",
     "text": [
      "(1, 'Recursos humanos')\n",
      "(2, 'Informática')\n",
      "(3, 'Marketing')\n",
      "(4, 'Infra')\n",
      "(5, 'Jurídico')\n",
      "(6, 'Compras')\n",
      "(7, 'Estoque')\n",
      "(8, 'Financeiro')\n"
     ]
    }
   ],
   "source": [
    "mycursor.execute(\"SELECT * FROM departamento\")\n",
    "\n",
    "myresult = mycursor.fetchall()\n",
    "\n",
    "for mydata in myresult:\n",
    "    print(mydata)"
   ]
  },
  {
   "cell_type": "markdown",
   "metadata": {
    "colab_type": "text",
    "id": "885xK1JY5lym"
   },
   "source": [
    "### Update table"
   ]
  },
  {
   "cell_type": "code",
   "execution_count": null,
   "metadata": {
    "colab": {},
    "colab_type": "code",
    "id": "zHu95eneyTGC"
   },
   "outputs": [],
   "source": [
    "query = \"UPDATE `departamento` SET `nome_depto` = 'Infraestrutura' WHERE `nome_depto` = 'Infra';\"\n",
    "mycursor.execute(query)\n",
    "mydb.commit()"
   ]
  },
  {
   "cell_type": "code",
   "execution_count": null,
   "metadata": {
    "colab": {
     "base_uri": "https://localhost:8080/",
     "height": 35
    },
    "colab_type": "code",
    "id": "pdrU_yB5yThL",
    "outputId": "73e9bb50-b5ef-4923-d4bb-30512aa1db1f"
   },
   "outputs": [
    {
     "name": "stdout",
     "output_type": "stream",
     "text": [
      "(4, 'Infraestrutura')\n"
     ]
    }
   ],
   "source": [
    "mycursor.execute(\"SELECT * FROM departamento where nome_depto Like 'Infra%'\")\n",
    "\n",
    "myresult = mycursor.fetchone()\n",
    "\n",
    "print(myresult)"
   ]
  },
  {
   "cell_type": "code",
   "execution_count": null,
   "metadata": {
    "colab": {},
    "colab_type": "code",
    "id": "pmCEX2agyTuv"
   },
   "outputs": [],
   "source": []
  },
  {
   "cell_type": "code",
   "execution_count": null,
   "metadata": {
    "colab": {},
    "colab_type": "code",
    "id": "nxoP06Bvxh8q"
   },
   "outputs": [],
   "source": []
  },
  {
   "cell_type": "code",
   "execution_count": null,
   "metadata": {
    "colab": {},
    "colab_type": "code",
    "id": "wh345slKuLPe"
   },
   "outputs": [],
   "source": []
  },
  {
   "cell_type": "code",
   "execution_count": null,
   "metadata": {
    "colab": {},
    "colab_type": "code",
    "id": "K1u7oa3n0PS7"
   },
   "outputs": [],
   "source": []
  }
 ],
 "metadata": {
  "colab": {
   "collapsed_sections": [],
   "name": "colab-mysql.ipynb",
   "provenance": [],
   "toc_visible": true
  },
  "kernelspec": {
   "display_name": "Python 3",
   "language": "python",
   "name": "python3"
  },
  "language_info": {
   "codemirror_mode": {
    "name": "ipython",
    "version": 3
   },
   "file_extension": ".py",
   "mimetype": "text/x-python",
   "name": "python",
   "nbconvert_exporter": "python",
   "pygments_lexer": "ipython3",
   "version": "3.8.5"
  }
 },
 "nbformat": 4,
 "nbformat_minor": 4
}
