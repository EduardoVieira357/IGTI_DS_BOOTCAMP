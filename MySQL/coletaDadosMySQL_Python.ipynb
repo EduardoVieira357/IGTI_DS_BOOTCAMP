{
 "cells": [
  {
   "cell_type": "markdown",
   "metadata": {},
   "source": [
    "# Coleta de Dados no MySQL utilizando o Python"
   ]
  },
  {
   "cell_type": "code",
   "execution_count": null,
   "metadata": {},
   "outputs": [],
   "source": [
    "conda install -c anaconda mysql-connector-python"
   ]
  },
  {
   "cell_type": "markdown",
   "metadata": {},
   "source": [
    "#### Para mais detalhes sobre o pacote mysql.connector consulte:\n",
    "* https://www.w3schools.com/python/python_mysql_getstarted.asp"
   ]
  },
  {
   "cell_type": "markdown",
   "metadata": {},
   "source": [
    "### OBSERVAÇÃO\n",
    "\n",
    "#### Antes de executar este notebook pela primeira vez, instale o pacote mysql.connector\n",
    "\n",
    "Para instalar o pacote, utilizando o prompt do Anaconda, execute o comando abaixo:\n",
    "\n",
    "#### *conda install -c anaconda mysql-connector-python*"
   ]
  },
  {
   "cell_type": "code",
   "execution_count": 1,
   "metadata": {},
   "outputs": [],
   "source": [
    "#conda install -c anaconda mysql-connector-python\n",
    "#conda install -c anaconda mysql-connector-python\n",
    "#conda install -c anaconda mysql-connector-python"
   ]
  },
  {
   "cell_type": "code",
   "execution_count": 3,
   "metadata": {},
   "outputs": [
    {
     "name": "stdout",
     "output_type": "stream",
     "text": [
      "mysql imported\n"
     ]
    }
   ],
   "source": [
    "import mysql.connector\n",
    "print('mysql imported')"
   ]
  },
  {
   "cell_type": "markdown",
   "metadata": {},
   "source": [
    "#### Conectar ao MySQL Server sem selecionar um banco de dados"
   ]
  },
  {
   "cell_type": "code",
   "execution_count": 2,
   "metadata": {},
   "outputs": [
    {
     "name": "stdout",
     "output_type": "stream",
     "text": [
      "<mysql.connector.connection.MySQLConnection object at 0x000001C222665908>\n"
     ]
    }
   ],
   "source": [
    "mydb = mysql.connector.connect(\n",
    "    host='localhost',\n",
    "    user='root',\n",
    "    password='753dfx'\n",
    ")\n",
    "\n",
    "print(mydb)\n",
    "\n",
    "mycursor = mydb.cursor()\n",
    "\n",
    "#Para criar um banco de dados use o comando abaixo\n",
    "#mycursor.execute(\"CREATE DATABASE mydatabase\")\n"
   ]
  },
  {
   "cell_type": "code",
   "execution_count": 3,
   "metadata": {},
   "outputs": [
    {
     "name": "stdout",
     "output_type": "stream",
     "text": [
      "('bootcamp',)\n",
      "('information_schema',)\n",
      "('mysql',)\n",
      "('performance_schema',)\n",
      "('sakila',)\n",
      "('sys',)\n",
      "('workflow',)\n",
      "('world',)\n"
     ]
    }
   ],
   "source": [
    "#Retorna todos os esquemas criados no seu servidor de Banco de Dados\n",
    "mycursor.execute(\"SHOW DATABASES\") \n",
    "\n",
    "for db in mycursor:\n",
    "    print(db)\n"
   ]
  },
  {
   "cell_type": "markdown",
   "metadata": {},
   "source": [
    "#### Conectar ao MySQL Server selecionand um banco de dados específico"
   ]
  },
  {
   "cell_type": "code",
   "execution_count": 4,
   "metadata": {},
   "outputs": [
    {
     "name": "stdout",
     "output_type": "stream",
     "text": [
      "<mysql.connector.connection.MySQLConnection object at 0x0000029D6DDDDCF8>\n",
      "conexão ok!\n"
     ]
    }
   ],
   "source": [
    "\n",
    "mydb = mysql.connector.connect(\n",
    "    host='localhost',\n",
    "    user='root',\n",
    "    password='753dfx',\n",
    "    database='bootcamp'\n",
    ")\n",
    "\n",
    "print(mydb)\n",
    "\n",
    "mycursor = mydb.cursor()\n",
    "print('conexão ok!')"
   ]
  },
  {
   "cell_type": "code",
   "execution_count": 5,
   "metadata": {},
   "outputs": [
    {
     "name": "stdout",
     "output_type": "stream",
     "text": [
      "('caracteristicageralimovel',)\n",
      "('caracteristicasgerais',)\n",
      "('cidade',)\n",
      "('eduteste',)\n",
      "('eduteste2',)\n",
      "('estado',)\n",
      "('imovel',)\n",
      "('tipounidade',)\n"
     ]
    }
   ],
   "source": [
    "#Retorna todas as tabelas criados no seu esquema de Banco de Dados \n",
    "mycursor.execute(\"SHOW TABLES\")\n",
    "\n",
    "for db in mycursor:\n",
    "    print(db)"
   ]
  },
  {
   "cell_type": "code",
   "execution_count": 7,
   "metadata": {},
   "outputs": [
    {
     "name": "stdout",
     "output_type": "stream",
     "text": [
      "1 registro(s) inserido(s).\n"
     ]
    }
   ],
   "source": [
    "# Inserir dados em uma tabela\n",
    "\n",
    "query = \"INSERT INTO caracteristicasgerais (idcaracteristicasGerais, dsccaracteristicasGerais) VALUES (%s, %s)\"\n",
    "values = (1, \"Portaria 24 horas\")\n",
    "\n",
    "mycursor.execute(query, values)\n",
    "\n",
    "#Fazer a confirmação da inserção\n",
    "mydb.commit()\n",
    "\n",
    "print(mycursor.rowcount, \"registro(s) inserido(s).\")"
   ]
  },
  {
   "cell_type": "code",
   "execution_count": 8,
   "metadata": {},
   "outputs": [
    {
     "name": "stdout",
     "output_type": "stream",
     "text": [
      "2 registro(s) inserido(s).\n"
     ]
    }
   ],
   "source": [
    "#Inserindo multiplos valores\n",
    "values = [(2, \"Elevador\"),(3,\"Piscina\")]\n",
    "\n",
    "mycursor.executemany(query, values)\n",
    "\n",
    "mydb.commit()\n",
    "\n",
    "print(mycursor.rowcount, \"registro(s) inserido(s).\")"
   ]
  },
  {
   "cell_type": "code",
   "execution_count": 9,
   "metadata": {},
   "outputs": [
    {
     "name": "stdout",
     "output_type": "stream",
     "text": [
      "(1, 'Portaria 24 horas')\n",
      "(2, 'Elevador')\n",
      "(3, 'Piscina')\n",
      "(4, 'Salão de festas')\n",
      "(5, 'Área gourmet')\n",
      "(6, 'Água individual')\n",
      "(7, 'Gás canalizado')\n",
      "(8, 'Aquecimento solar')\n",
      "(9, 'Vaga coberta')\n",
      "(10, 'Vaga livre')\n",
      "(11, 'Armários na cozinha')\n",
      "(12, 'Closet')\n",
      "(13, 'Armários no quarto')\n"
     ]
    }
   ],
   "source": [
    "#Consultar a tabela\n",
    "mycursor.execute(\"SELECT * FROM caracteristicasgerais\")\n",
    "\n",
    "myresult = mycursor.fetchall() #todos os registros\n",
    "\n",
    "for mydata in myresult:\n",
    "    print(mydata)"
   ]
  },
  {
   "cell_type": "code",
   "execution_count": 10,
   "metadata": {},
   "outputs": [
    {
     "name": "stdout",
     "output_type": "stream",
     "text": [
      "(1, 'Portaria 24 horas')\n"
     ]
    }
   ],
   "source": [
    "mycursor.execute(\"SELECT idcaracteristicasGerais, dsccaracteristicasGerais FROM caracteristicasgerais\")\n",
    "\n",
    "myresult = mycursor.fetchone() #apenas primeiro registro\n",
    "\n",
    "print(myresult)\n"
   ]
  },
  {
   "cell_type": "markdown",
   "metadata": {},
   "source": [
    "##### Importar pacote csv"
   ]
  },
  {
   "cell_type": "code",
   "execution_count": 10,
   "metadata": {},
   "outputs": [
    {
     "name": "stdout",
     "output_type": "stream",
     "text": [
      "csv imported!\n"
     ]
    }
   ],
   "source": [
    "import csv\n",
    "print('csv imported!')"
   ]
  },
  {
   "cell_type": "code",
   "execution_count": 11,
   "metadata": {},
   "outputs": [
    {
     "name": "stdout",
     "output_type": "stream",
     "text": [
      "['1100015', '00015', \"Alta Floresta D'Oeste\", '11']\n",
      "['1100379', '00379', 'Alto Alegre dos Parecis', '11']\n",
      "['1100403', '00403', 'Alto Paraíso', '11']\n",
      "['1100346', '00346', \"Alvorada D'Oeste\", '11']\n",
      "['1100023', '00023', 'Ariquemes', '11']\n",
      "['1100452', '00452', 'Buritis', '11']\n",
      "['1100031', '00031', 'Cabixi', '11']\n",
      "['1100601', '00601', 'Cacaulândia', '11']\n",
      "['1100049', '00049', 'Cacoal', '11']\n",
      "['1100700', '00700', 'Campo Novo de Rondônia', '11']\n"
     ]
    }
   ],
   "source": [
    "# Leitura de arquivo sem utilizar biblioteca Pandas e impressão de 10 linhas do arquivo\n",
    "# Conferir se seu arquivo foi salvo no caminho abaixo\n",
    "\n",
    "filename = 'E:\\\\MEUS DOCUMENTOS\\\\001 Estudo\\\\IGTI - BOOTCAMP\\\\modulo2\\\\arquivos\\\\cidades.csv' \n",
    "contador = 0\n",
    "#Abrir arquivo e inserir cada linha do arquivo na tabela cidade\n",
    "\n",
    "with open(filename, 'r') as incsvfile:\n",
    "    reader = csv.reader(incsvfile, delimiter=',')\n",
    "    next(reader, None)  # skip the headers\n",
    "    for line in reader: \n",
    "        print(line)\n",
    "        \n",
    "        contador += 1\n",
    "        if contador == 10: break\n",
    "        \n",
    "\n",
    "incsvfile.close()"
   ]
  },
  {
   "cell_type": "code",
   "execution_count": 20,
   "metadata": {},
   "outputs": [
    {
     "name": "stdout",
     "output_type": "stream",
     "text": [
      "Foram incluídos:  5570  registros na tabela cidade\n"
     ]
    }
   ],
   "source": [
    "#Leitura de arquivo sem utilizar biblioteca Pandas\n",
    "# Conferir se seu arquivo foi salvo no caminho abaixo\n",
    "\n",
    "# filename = 'C:\\Bootcamp\\Datasets\\CSV\\cidades.csv'\n",
    "filename = 'E:\\\\MEUS DOCUMENTOS\\\\001 Estudo\\\\IGTI - BOOTCAMP\\\\modulo2\\\\arquivos\\\\cidades.csv'\n",
    "contador = 0\n",
    "\n",
    "#Abrir arquivo e inserir cada linha do arquivo na tabela cidade\n",
    "\n",
    "with open(filename, 'r') as incsvfile:\n",
    "    reader = csv.reader(incsvfile, delimiter=',')\n",
    "    next(reader, None)  # skip the headers\n",
    "    for line in reader:       \n",
    "        mycursor.execute (\"INSERT INTO cidade (CodigoCompletoIBGE, CodigoCidadeIBGE,NomeCidade, CodEstadoIBGE)\\\n",
    "                  VALUES (%s, %s, %s, %s)\",line)\n",
    "        contador += 1\n",
    "        \n",
    "mydb.commit()\n",
    "\n",
    "print('Foram incluídos: ',str(contador),' registros na tabela cidade')\n",
    "#db.close()\n",
    "incsvfile.close() #Fechar arquivo"
   ]
  },
  {
   "cell_type": "markdown",
   "metadata": {},
   "source": [
    "**OBSERVAÇÃO:**\n",
    "\n",
    " Caso o erro abaixo ocorra, em qualquer momento deste notebook, significa que sua conexão com o banco de dados foi fechada, devido ao tempo de *timeout*. Basta executar a conexão novamente e executar os comando em seguida."
   ]
  },
  {
   "cell_type": "code",
   "execution_count": 21,
   "metadata": {},
   "outputs": [
    {
     "name": "stdout",
     "output_type": "stream",
     "text": [
      "(5570,)\n"
     ]
    }
   ],
   "source": [
    "#Consutar a tabela cidade listando a quantidade de registros existentes nela. Seu resultado deve imprimir 5570.\n",
    "\n",
    "mycursor.execute(\"SELECT count(*) FROM cidade\")\n",
    "\n",
    "myresult = mycursor.fetchone()\n",
    "\n",
    "print(myresult)"
   ]
  },
  {
   "cell_type": "code",
   "execution_count": 22,
   "metadata": {},
   "outputs": [
    {
     "name": "stdout",
     "output_type": "stream",
     "text": [
      "BD fechado!\n"
     ]
    }
   ],
   "source": [
    "mydb.close() #Fechar o banco de dados\n",
    "print('BD fechado!')"
   ]
  },
  {
   "cell_type": "markdown",
   "metadata": {},
   "source": [
    "## A partir daqui você deve alterar seu notebook conforme orientações da atividade 10 do enunciado do trabalho prático."
   ]
  },
  {
   "cell_type": "markdown",
   "metadata": {},
   "source": [
    "Nas células abaixo foram deixadas algumas dicas para você seguir."
   ]
  },
  {
   "cell_type": "markdown",
   "metadata": {},
   "source": [
    "##### 1º) Importar as bibliotecas mysql.connector e csv"
   ]
  },
  {
   "cell_type": "code",
   "execution_count": 25,
   "metadata": {},
   "outputs": [
    {
     "name": "stdout",
     "output_type": "stream",
     "text": [
      "Bibliotecas importadas!\n"
     ]
    }
   ],
   "source": [
    "#Se você já importou anteriormente e não resetou seu kernel, não será necessário importar\n",
    "\n",
    "import mysql.connector\n",
    "import csv\n",
    "print('Bibliotecas importadas!')"
   ]
  },
  {
   "cell_type": "markdown",
   "metadata": {},
   "source": [
    "##### 2º) Fazer a conexão com seu banco de dados"
   ]
  },
  {
   "cell_type": "code",
   "execution_count": 49,
   "metadata": {},
   "outputs": [
    {
     "name": "stdout",
     "output_type": "stream",
     "text": [
      "<mysql.connector.connection_cext.CMySQLConnection object at 0x000001C6491EB108>\n",
      "BD conectado!\n"
     ]
    }
   ],
   "source": [
    "# conexão banco de dados\n",
    "\n",
    "mydb.close() #Fechar o banco de dados\n",
    "\n",
    "\n",
    "mydb = mysql.connector.connect(\n",
    "    host='localhost',\n",
    "    user='root',\n",
    "    password='753dfx',\n",
    "    database='bootcamp'\n",
    ")\n",
    "\n",
    "print(mydb)\n",
    "\n",
    "mycursor = mydb.cursor()\n",
    "print('BD conectado!')"
   ]
  },
  {
   "cell_type": "markdown",
   "metadata": {},
   "source": [
    "##### 3º) Abrir o arquivo 'caracteristicaImovel.txt' e inserir cada linha lida na tabela 'caracteristicageralimovel'"
   ]
  },
  {
   "cell_type": "code",
   "execution_count": 42,
   "metadata": {
    "scrolled": true
   },
   "outputs": [
    {
     "name": "stdout",
     "output_type": "stream",
     "text": [
      "['3', '23', '0']\n",
      "['3', '26', '0']\n",
      "['3', '29', '1']\n",
      "['4', '3', '1']\n",
      "['4', '10', '0']\n",
      "['4', '15', '0']\n",
      "['4', '16', '0']\n",
      "['4', '20', '1']\n",
      "['4', '22', '1']\n",
      "['4', '23', '1']\n",
      "['4', '26', '0']\n",
      "['4', '29', '1']\n",
      "['7', '3', '1']\n",
      "['4', '10', '0']\n",
      "['5', '15', '0']\n",
      "['4', '16', '0']\n",
      "['4', '20', '1']\n",
      "['4', '22', '1']\n",
      "['6', '23', '1']\n",
      "['8', '26', '0']\n",
      "['4', '29', '0']\n",
      "['8', '3', '0']\n",
      "['5', '10', '1']\n",
      "['6', '15', '1']\n",
      "['8', '16', '1']\n",
      "['5', '20', '1']\n",
      "['6', '22', '0']\n",
      "['4', '23', '1']\n",
      "['5', '26', '0']\n",
      "['6', '29', '0']\n",
      "['13', '3', '1']\n",
      "['13', '10', '1']\n",
      "['12', '15', '0']\n",
      "['12', '16', '0']\n",
      "['11', '20', '1']\n",
      "['11', '22', '0']\n",
      "['13', '23', '1']\n",
      "['12', '26', '1']\n",
      "['11', '29', '1']\n",
      "['9', '31', '1']\n",
      "['10', '31', '0']\n",
      "['9', '32', '0']\n",
      "['10', '32', '0']\n",
      "['9', '33', '0']\n",
      "['10', '33', '1']\n",
      "['9', '34', '1']\n",
      "['10', '34', '1']\n",
      "['9', '35', '0']\n",
      "['10', '35', '1']\n",
      "['8', '31', '0']\n",
      "['8', '32', '0']\n",
      "['8', '33', '0']\n",
      "['8', '34', '1']\n",
      "['8', '35', '0']\n",
      "['7', '31', '0']\n",
      "['7', '32', '1']\n",
      "['7', '33', '1']\n",
      "['7', '34', '1']\n",
      "['7', '35', '1']\n",
      "['2', '31', '0']\n",
      "['2', '32', '1']\n",
      "['2', '33', '0']\n",
      "['2', '34', '1']\n",
      "['2', '35', '0']\n",
      "['3', '31', '0']\n",
      "['3', '32', '0']\n",
      "['3', '33', '0']\n",
      "['3', '34', '0']\n",
      "['3', '35', '0']\n",
      "['1', '31', '0']\n",
      "['1', '32', '0']\n",
      "['1', '33', '0']\n",
      "['1', '34', '1']\n",
      "['1', '35', '0']\n",
      "['12', '31', '0']\n",
      "['12', '32', '0']\n",
      "['12', '33', '0']\n",
      "['12', '34', '1']\n",
      "['12', '35', '0']\n",
      "['13', '31', '1']\n",
      "['13', '32', '0']\n",
      "['13', '33', '1']\n",
      "['13', '34', '1']\n",
      "['13', '35', '1']\n",
      "['11', '31', '1']\n",
      "['11', '32', '1']\n",
      "['11', '33', '1']\n",
      "['11', '34', '1']\n",
      "['11', '35', '1']\n",
      "['6', '31', '1']\n",
      "['6', '32', '0']\n",
      "['6', '33', '0']\n",
      "['6', '34', '1']\n",
      "['6', '35', '0']\n",
      "['5', '31', '0']\n",
      "['5', '32', '0']\n",
      "['5', '33', '0']\n",
      "['5', '34', '1']\n",
      "['5', '35', '0']\n",
      "['4', '31', '0']\n",
      "['4', '32', '0']\n",
      "['4', '33', '0']\n",
      "['4', '34', '1']\n",
      "['4', '35', '1']\n",
      "O arquivo tem: 104 linhas!\n"
     ]
    }
   ],
   "source": [
    "# Leitura de arquivo sem utilizar biblioteca Pandas e impressão de 5 linhas do arquivo\n",
    "# Conferir se seu arquivo foi salvo no caminho abaixo\n",
    "\n",
    "filename = 'E:\\\\MEUS DOCUMENTOS\\\\001 Estudo\\\\IGTI - BOOTCAMP\\\\modulo2\\\\arquivos\\\\caracteristicageralimovel.txt' \n",
    "contador = 0\n",
    "\n",
    "#Abrir arquivo e inserir cada linha do arquivo na tabela cidade\n",
    "\n",
    "with open(filename, 'r') as txtfile:\n",
    "    reader = csv.reader(txtfile, delimiter=',')\n",
    "    #next(reader, None)  # skip the headers   \n",
    "\n",
    "    for line in reader: \n",
    "        print(line)        \n",
    "        contador += 1        \n",
    "        #if contador == 5: break\n",
    "        \n",
    "print('O arquivo tem:', str(contador), 'linhas!')\n",
    "txtfile.close()"
   ]
  },
  {
   "cell_type": "code",
   "execution_count": 43,
   "metadata": {},
   "outputs": [
    {
     "name": "stdout",
     "output_type": "stream",
     "text": [
      "Chave desligada!\n"
     ]
    }
   ],
   "source": [
    "### tive que desligar a FOREIGN_KEY\n",
    "setar_chave = 'SET FOREIGN_KEY_CHECKS=0;'\n",
    "mycursor.execute(setar_chave)\n",
    "\n",
    "print('Chave desligada!')"
   ]
  },
  {
   "cell_type": "code",
   "execution_count": 44,
   "metadata": {},
   "outputs": [
    {
     "name": "stdout",
     "output_type": "stream",
     "text": [
      "Foram incluídos:  104  registros na tabela cidade\n"
     ]
    }
   ],
   "source": [
    "# APPEND DO ARQUIVO NA TABELA\n",
    "\n",
    "filename = 'E:\\\\MEUS DOCUMENTOS\\\\001 Estudo\\\\IGTI - BOOTCAMP\\\\modulo2\\\\arquivos\\\\caracteristicageralimovel.txt' \n",
    "query = \"INSERT INTO caracteristicageralimovel (idCaracteristicasImovel, idcaracteristicasGerais, idImovel, temCaracteristica) \\\n",
    "VALUES (default, %s, %s, %s)\"\n",
    "contador = 0\n",
    "#Abrir arquivo e inserir cada linha do arquivo na tabela cidade\n",
    "\n",
    "with open(filename, 'r') as txtfile:\n",
    "    reader = csv.reader(txtfile, delimiter=',')\n",
    "    #next(reader, None)  # skip the headers\n",
    "    for line in reader: \n",
    "        mycursor.execute(query,line)\n",
    "        contador += 1\n",
    "        #if contador == 5: break\n",
    "        \n",
    "#mydb.commit()\n",
    "\n",
    "print('Foram incluídos: ',str(contador),' registros na tabela cidade')\n",
    "#db.close()\n",
    "txtfile.close() #Fechar arquivo"
   ]
  },
  {
   "cell_type": "markdown",
   "metadata": {},
   "source": [
    "##### 4º) Fazer a confirmação da inserção (commit)"
   ]
  },
  {
   "cell_type": "code",
   "execution_count": 45,
   "metadata": {},
   "outputs": [],
   "source": [
    "mydb.commit()"
   ]
  },
  {
   "cell_type": "markdown",
   "metadata": {},
   "source": [
    "##### 5º) Conferir se os dados foram incluídos na tabela "
   ]
  },
  {
   "cell_type": "code",
   "execution_count": 12,
   "metadata": {
    "scrolled": true
   },
   "outputs": [
    {
     "name": "stdout",
     "output_type": "stream",
     "text": [
      "(1, 3, 23, 0)\n",
      "(2, 3, 26, 0)\n",
      "(3, 3, 29, 1)\n",
      "(4, 4, 3, 1)\n",
      "(5, 4, 10, 0)\n",
      "(6, 4, 15, 0)\n",
      "(7, 4, 16, 0)\n",
      "(8, 4, 20, 1)\n",
      "(9, 4, 22, 1)\n",
      "(10, 4, 23, 1)\n",
      "(11, 4, 26, 0)\n",
      "(12, 4, 29, 1)\n",
      "(13, 7, 3, 1)\n",
      "(14, 4, 10, 0)\n",
      "(15, 5, 15, 0)\n",
      "(16, 4, 16, 0)\n",
      "(17, 4, 20, 1)\n",
      "(18, 4, 22, 1)\n",
      "(19, 6, 23, 1)\n",
      "(20, 8, 26, 0)\n",
      "(21, 4, 29, 0)\n",
      "(22, 8, 3, 0)\n",
      "(23, 5, 10, 1)\n",
      "(24, 6, 15, 1)\n",
      "(25, 8, 16, 1)\n",
      "(26, 5, 20, 1)\n",
      "(27, 6, 22, 0)\n",
      "(28, 4, 23, 1)\n",
      "(29, 5, 26, 0)\n",
      "(30, 6, 29, 0)\n",
      "(31, 13, 3, 1)\n",
      "(32, 13, 10, 1)\n",
      "(33, 12, 15, 0)\n",
      "(34, 12, 16, 0)\n",
      "(35, 11, 20, 1)\n",
      "(36, 11, 22, 0)\n",
      "(37, 13, 23, 1)\n",
      "(38, 12, 26, 1)\n",
      "(39, 11, 29, 1)\n",
      "(40, 9, 31, 1)\n",
      "(41, 10, 31, 0)\n",
      "(42, 9, 32, 0)\n",
      "(43, 10, 32, 0)\n",
      "(44, 9, 33, 0)\n",
      "(45, 10, 33, 1)\n",
      "(46, 9, 34, 1)\n",
      "(47, 10, 34, 1)\n",
      "(48, 9, 35, 0)\n",
      "(49, 10, 35, 1)\n",
      "(50, 8, 31, 0)\n",
      "(51, 8, 32, 0)\n",
      "(52, 8, 33, 0)\n",
      "(53, 8, 34, 1)\n",
      "(54, 8, 35, 0)\n",
      "(55, 7, 31, 0)\n",
      "(56, 7, 32, 1)\n",
      "(57, 7, 33, 1)\n",
      "(58, 7, 34, 1)\n",
      "(59, 7, 35, 1)\n",
      "(60, 2, 31, 0)\n",
      "(61, 2, 32, 1)\n",
      "(62, 2, 33, 0)\n",
      "(63, 2, 34, 1)\n",
      "(64, 2, 35, 0)\n",
      "(65, 3, 31, 0)\n",
      "(66, 3, 32, 0)\n",
      "(67, 3, 33, 0)\n",
      "(68, 3, 34, 0)\n",
      "(69, 3, 35, 0)\n",
      "(70, 1, 31, 0)\n",
      "(71, 1, 32, 0)\n",
      "(72, 1, 33, 0)\n",
      "(73, 1, 34, 1)\n",
      "(74, 1, 35, 0)\n",
      "(75, 12, 31, 0)\n",
      "(76, 12, 32, 0)\n",
      "(77, 12, 33, 0)\n",
      "(78, 12, 34, 1)\n",
      "(79, 12, 35, 0)\n",
      "(80, 13, 31, 1)\n",
      "(81, 13, 32, 0)\n",
      "(82, 13, 33, 1)\n",
      "(83, 13, 34, 1)\n",
      "(84, 13, 35, 1)\n",
      "(85, 11, 31, 1)\n",
      "(86, 11, 32, 1)\n",
      "(87, 11, 33, 1)\n",
      "(88, 11, 34, 1)\n",
      "(89, 11, 35, 1)\n",
      "(90, 6, 31, 1)\n",
      "(91, 6, 32, 0)\n",
      "(92, 6, 33, 0)\n",
      "(93, 6, 34, 1)\n",
      "(94, 6, 35, 0)\n",
      "(95, 5, 31, 0)\n",
      "(96, 5, 32, 0)\n",
      "(97, 5, 33, 0)\n",
      "(98, 5, 34, 1)\n",
      "(99, 5, 35, 0)\n",
      "(100, 4, 31, 0)\n",
      "(101, 4, 32, 0)\n",
      "(102, 4, 33, 0)\n",
      "(103, 4, 34, 1)\n",
      "(104, 4, 35, 1)\n",
      "(105, 1, 1, 0)\n",
      "(106, 1, 2, 0)\n",
      "(107, 2, 4, 0)\n",
      "(108, 1, 5, 1)\n",
      "(109, 2, 6, 0)\n",
      "(110, 2, 7, 1)\n",
      "(111, 1, 8, 0)\n",
      "(112, 1, 9, 0)\n",
      "(113, 1, 11, 0)\n",
      "(114, 1, 12, 1)\n",
      "(115, 2, 13, 1)\n",
      "(116, 1, 14, 1)\n",
      "(117, 2, 17, 0)\n",
      "(118, 1, 18, 1)\n",
      "(119, 2, 19, 0)\n",
      "(120, 2, 21, 0)\n",
      "(121, 2, 24, 0)\n",
      "(122, 2, 25, 0)\n",
      "(123, 1, 27, 0)\n",
      "(124, 2, 28, 1)\n",
      "(125, 1, 30, 1)\n",
      "(126, 5, 1, 1)\n",
      "(127, 4, 2, 0)\n",
      "(128, 5, 4, 1)\n",
      "(129, 5, 5, 0)\n",
      "(130, 4, 6, 0)\n",
      "(131, 3, 7, 1)\n",
      "(132, 5, 8, 1)\n",
      "(133, 4, 9, 1)\n",
      "(134, 4, 11, 0)\n",
      "(135, 4, 12, 1)\n",
      "(136, 4, 13, 1)\n",
      "(137, 5, 14, 1)\n",
      "(138, 3, 17, 0)\n",
      "(139, 3, 18, 0)\n",
      "(140, 4, 19, 1)\n",
      "(141, 3, 21, 1)\n",
      "(142, 3, 24, 1)\n",
      "(143, 4, 25, 0)\n",
      "(144, 4, 27, 1)\n",
      "(145, 5, 28, 1)\n",
      "(146, 4, 30, 0)\n",
      "(147, 7, 1, 0)\n",
      "(148, 7, 2, 1)\n",
      "(149, 7, 4, 1)\n",
      "(150, 7, 5, 1)\n",
      "(151, 8, 6, 0)\n",
      "(152, 6, 7, 0)\n",
      "(153, 7, 8, 1)\n",
      "(154, 8, 9, 0)\n",
      "(155, 7, 11, 1)\n",
      "(156, 8, 12, 0)\n",
      "(157, 8, 13, 1)\n",
      "(158, 6, 14, 1)\n",
      "(159, 6, 17, 1)\n",
      "(160, 7, 18, 1)\n",
      "(161, 8, 19, 0)\n",
      "(162, 7, 21, 0)\n",
      "(163, 8, 24, 1)\n",
      "(164, 6, 25, 1)\n",
      "(165, 7, 27, 1)\n",
      "(166, 8, 28, 1)\n",
      "(167, 7, 30, 0)\n",
      "(168, 9, 1, 0)\n",
      "(169, 9, 2, 1)\n",
      "(170, 10, 4, 0)\n",
      "(171, 10, 5, 0)\n",
      "(172, 9, 6, 0)\n",
      "(173, 9, 7, 1)\n",
      "(174, 9, 8, 0)\n",
      "(175, 10, 9, 0)\n",
      "(176, 9, 11, 0)\n",
      "(177, 10, 12, 1)\n",
      "(178, 10, 13, 1)\n",
      "(179, 10, 14, 1)\n",
      "(180, 9, 17, 1)\n",
      "(181, 9, 18, 1)\n",
      "(182, 9, 19, 1)\n",
      "(183, 9, 21, 0)\n",
      "(184, 9, 24, 1)\n",
      "(185, 10, 25, 1)\n",
      "(186, 9, 27, 1)\n",
      "(187, 9, 28, 1)\n",
      "(188, 10, 30, 0)\n",
      "(189, 13, 1, 0)\n",
      "(190, 13, 2, 0)\n",
      "(191, 13, 4, 1)\n",
      "(192, 11, 5, 0)\n",
      "(193, 13, 6, 1)\n",
      "(194, 12, 7, 1)\n",
      "(195, 12, 8, 1)\n",
      "(196, 12, 9, 1)\n",
      "(197, 11, 11, 1)\n",
      "(198, 12, 12, 0)\n",
      "(199, 12, 13, 1)\n",
      "(200, 12, 14, 0)\n",
      "(201, 11, 17, 1)\n",
      "(202, 12, 18, 0)\n",
      "(203, 11, 19, 0)\n",
      "(204, 13, 21, 0)\n",
      "(205, 12, 24, 0)\n",
      "(206, 13, 25, 1)\n",
      "(207, 13, 27, 0)\n",
      "(208, 12, 28, 1)\n",
      "(209, 13, 30, 0)\n",
      "(210, 1, 3, 1)\n",
      "(211, 1, 10, 0)\n",
      "(212, 1, 15, 0)\n",
      "(213, 1, 16, 0)\n",
      "(214, 1, 20, 1)\n",
      "(215, 1, 22, 0)\n",
      "(216, 1, 23, 1)\n",
      "(217, 1, 26, 1)\n",
      "(218, 1, 29, 0)\n",
      "(219, 2, 3, 1)\n",
      "(220, 2, 10, 1)\n",
      "(221, 2, 15, 0)\n",
      "(222, 2, 16, 1)\n",
      "(223, 2, 20, 0)\n",
      "(224, 2, 22, 0)\n",
      "(225, 2, 23, 0)\n",
      "(226, 2, 26, 0)\n",
      "(227, 2, 29, 1)\n",
      "(228, 3, 3, 1)\n",
      "(229, 3, 10, 0)\n",
      "(230, 3, 15, 0)\n",
      "(231, 3, 16, 0)\n",
      "(232, 3, 20, 0)\n",
      "(233, 3, 22, 0)\n",
      "233  registros!\n"
     ]
    }
   ],
   "source": [
    "#Consultar a tabela\n",
    "mycursor.execute(\"SELECT * FROM caracteristicageralimovel\")\n",
    "myresult = mycursor.fetchall() #todos os registros\n",
    "contador = 0\n",
    "\n",
    "for mydata in myresult:\n",
    "    contador +=1\n",
    "    print(mydata)\n",
    "    \n",
    "print(str(contador),' registros!')"
   ]
  },
  {
   "cell_type": "markdown",
   "metadata": {},
   "source": [
    "##### 6º) Fechar arquivo e banco de dados"
   ]
  },
  {
   "cell_type": "code",
   "execution_count": 50,
   "metadata": {},
   "outputs": [
    {
     "name": "stdout",
     "output_type": "stream",
     "text": [
      "Chave ligada novamente!\n",
      "BD fechado!\n"
     ]
    }
   ],
   "source": [
    "### tive que desligar a FOREIGN_KEY\n",
    "setar_chave = 'SET FOREIGN_KEY_CHECKS=1;'\n",
    "mycursor.execute(setar_chave)\n",
    "print('Chave ligada novamente!')\n",
    "\n",
    "mydb.close() #Fechar o banco de dados\n",
    "print('BD fechado!')"
   ]
  },
  {
   "cell_type": "code",
   "execution_count": null,
   "metadata": {},
   "outputs": [],
   "source": []
  },
  {
   "cell_type": "code",
   "execution_count": null,
   "metadata": {},
   "outputs": [],
   "source": [
    "#########################################################################################"
   ]
  },
  {
   "cell_type": "markdown",
   "metadata": {},
   "source": [
    "# PROVA"
   ]
  },
  {
   "cell_type": "code",
   "execution_count": 4,
   "metadata": {},
   "outputs": [
    {
     "name": "stdout",
     "output_type": "stream",
     "text": [
      "mysql imported\n"
     ]
    }
   ],
   "source": [
    "import mysql.connector\n",
    "print('mysql imported')"
   ]
  },
  {
   "cell_type": "code",
   "execution_count": 14,
   "metadata": {},
   "outputs": [
    {
     "name": "stdout",
     "output_type": "stream",
     "text": [
      "<mysql.connector.connection_cext.CMySQLConnection object at 0x0000029850BD6D88>\n",
      "BD conectado!\n"
     ]
    }
   ],
   "source": [
    "# conexão banco de dados\n",
    "\n",
    "#mydb.close() #Fechar o banco de dados\n",
    "\n",
    "\n",
    "mydb = mysql.connector.connect(\n",
    "    host='localhost',\n",
    "    user='root',\n",
    "    password='753dfx',\n",
    "    database='bootcamp'\n",
    ")\n",
    "\n",
    "print(mydb)\n",
    "\n",
    "mycursor = mydb.cursor()\n",
    "print('BD conectado!')"
   ]
  },
  {
   "cell_type": "code",
   "execution_count": 21,
   "metadata": {},
   "outputs": [],
   "source": [
    "# APPEND DO ARQUIVO NA TABELA\n",
    "\n",
    "filename = 'E:\\\\MEUS DOCUMENTOS\\\\001 Estudo\\\\IGTI - BOOTCAMP\\\\modulo2\\\\arquivos\\\\edu2.txt' \n",
    "\n",
    "with open(filename, 'r',encoding='utf-8') as fileobject:\n",
    "    for line in fileobject: \n",
    "        \n",
    "        query = \"INSERT INTO eduteste2 (idEdu) VALUES (%s)\" % line\n",
    "        \n",
    "        mycursor.execute(query)\n",
    "        \n",
    "        \n",
    "        \n",
    "mydb.commit()\n",
    "\n",
    "#db.close()\n",
    "txtfile.close() #Fechar arquivo"
   ]
  },
  {
   "cell_type": "code",
   "execution_count": null,
   "metadata": {},
   "outputs": [],
   "source": []
  },
  {
   "cell_type": "code",
   "execution_count": null,
   "metadata": {},
   "outputs": [],
   "source": []
  }
 ],
 "metadata": {
  "kernelspec": {
   "display_name": "Python 3",
   "language": "python",
   "name": "python3"
  },
  "language_info": {
   "codemirror_mode": {
    "name": "ipython",
    "version": 3
   },
   "file_extension": ".py",
   "mimetype": "text/x-python",
   "name": "python",
   "nbconvert_exporter": "python",
   "pygments_lexer": "ipython3",
   "version": "3.8.5"
  }
 },
 "nbformat": 4,
 "nbformat_minor": 4
}
